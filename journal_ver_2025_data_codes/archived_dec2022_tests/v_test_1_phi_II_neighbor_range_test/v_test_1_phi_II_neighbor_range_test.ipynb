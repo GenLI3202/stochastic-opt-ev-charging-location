{
 "cells": [
  {
   "cell_type": "markdown",
   "metadata": {},
   "source": [
    "# EVCSAP Stochastic Programming\n",
    "*Author: Gen LI; Date: 14.11.22*\n"
   ]
  },
  {
   "cell_type": "code",
   "execution_count": 3,
   "metadata": {
    "slideshow": {
     "slide_type": "skip"
    }
   },
   "outputs": [
    {
     "ename": "ModuleNotFoundError",
     "evalue": "No module named 'csap_packages_sp'",
     "output_type": "error",
     "traceback": [
      "\u001b[1;31m---------------------------------------------------------------------------\u001b[0m",
      "\u001b[1;31mModuleNotFoundError\u001b[0m                       Traceback (most recent call last)",
      "Input \u001b[1;32mIn [3]\u001b[0m, in \u001b[0;36m<cell line: 6>\u001b[1;34m()\u001b[0m\n\u001b[0;32m      4\u001b[0m parentdir \u001b[38;5;241m=\u001b[39m os\u001b[38;5;241m.\u001b[39mpath\u001b[38;5;241m.\u001b[39mdirname(currentdir)\n\u001b[0;32m      5\u001b[0m sys\u001b[38;5;241m.\u001b[39mpath\u001b[38;5;241m.\u001b[39mappend(parentdir)\n\u001b[1;32m----> 6\u001b[0m \u001b[38;5;28;01mfrom\u001b[39;00m \u001b[38;5;21;01mcsap_packages_sp\u001b[39;00m \u001b[38;5;28;01mimport\u001b[39;00m sp_data_process \u001b[38;5;28;01mas\u001b[39;00m Dap\n\u001b[0;32m      7\u001b[0m \u001b[38;5;66;03m# from csap_packages_sp import sp_model_setup as Sup\u001b[39;00m\n\u001b[0;32m      8\u001b[0m \u001b[38;5;28;01mfrom\u001b[39;00m \u001b[38;5;21;01mcsap_packages_sp\u001b[39;00m \u001b[38;5;28;01mimport\u001b[39;00m sp_model_setup_by_fm_data \u001b[38;5;28;01mas\u001b[39;00m SupSP\n",
      "\u001b[1;31mModuleNotFoundError\u001b[0m: No module named 'csap_packages_sp'"
     ]
    }
   ],
   "source": [
    "# Import local scripts\n",
    "import os, sys\n",
    "currentdir = os.path.dirname(os.path.realpath('MPSP_CSAP_29Nov_developing.ipynb'))\n",
    "parentdir = os.path.dirname(currentdir)\n",
    "sys.path.append(parentdir)\n",
    "from csap_packages_sp import sp_data_process as Dap\n",
    "# from csap_packages_sp import sp_model_setup as Sup\n",
    "from csap_packages_sp import sp_model_setup_by_fm_data as SupSP\n",
    "from csap_packages_sp import sp_stat_compu as Stac\n",
    "from csap_packages_sp import sp_sce_generation as Sceg\n",
    "from csap_packages_sp.sp_mpd_frame_model_setup import _build_mpdp_csap_frame\n",
    "\n",
    "\n",
    "# Import external packages\n",
    "import idaes\n",
    "import numpy as np\n",
    "import pandas as pd\n",
    "import geopandas as gpd\n",
    "import pyomo.environ as pyo\n",
    "from pyomo.opt import SolverFactory\n",
    "from pyproj import CRS\n",
    "from shapely.geometry import Point, MultiPoint\n",
    "import matplotlib.pyplot as plt\n",
    "from tqdm import tqdm\n",
    "from cProfile import label\n",
    "import plotly.express as px\n",
    "from pyomo.core.expr.current import evaluate_expression\n",
    "import time\n",
    "import pickle\n",
    "import seaborn\n",
    "from mpisppy.opt.ef import ExtensiveForm\n",
    "\n",
    "# seaborn.set_theme(context = 'notebook', style = 'whitegrid')\n",
    "\n",
    "# np.random.seed(121022)"
   ]
  },
  {
   "cell_type": "code",
   "execution_count": 27,
   "metadata": {},
   "outputs": [],
   "source": [
    "import plotly.express as px\n",
    "# from plotly.subplots import make_subplots\n",
    "import plotly.graph_objects as go\n",
    "\n",
    "def plot_connection(\n",
    "    df: pd.DataFrame,\n",
    "    plot_type: str = 'histo',\n",
    "    plot_name: str = 'Name of Graph',\n",
    "    plot_mode: str = 'relative',\n",
    "    legend_text: str = \"legend_text 2b defined\"\n",
    "    ):\n",
    "    df_copy = df.copy()\n",
    "    columns = df_copy.columns\n",
    "#     df_copy['sum'] = df_copy.sum(axis=1)\n",
    "    # wide_df['phi_II'] = [4/60, 5/60,7/60]\n",
    "    plot_labels = {\n",
    "        'x': r'$\\phi^{II} \\; \\text{[m]} $', \n",
    "        'y': 'Connections'\n",
    "#         **{str(col): f\"CS {col}\" for col in columns}, #'Number of CS-SS Connections',\n",
    "#         \n",
    "    }\n",
    "    \n",
    "    if plot_type == 'histo':\n",
    "        fig = px.histogram(\n",
    "            df_copy, x=df_copy.index.astype(str), \n",
    "            y=columns, \n",
    "#             facet_col = columns,\n",
    "#             title=plot_name, \n",
    "#             text_auto = True,\n",
    "            barmode = plot_mode, #str (default `'relative'`) 'group', 'overlay' or 'relative'\n",
    "            orientation = 'v',\n",
    "            cumulative = False,\n",
    "            labels = plot_labels\n",
    "            # marginal = \"histogram\",\n",
    "            # marginal_y = \"violin\",\n",
    "            # opacity = 0.7,                       \n",
    "        )\n",
    "#     print(plot_labels)\n",
    "\n",
    "#         trace_cols_of_interest = ['sum']\n",
    "#         for col in cols_of_interest:\n",
    "#         fig.add_trace(\n",
    "#              go.Scatter(\n",
    "#         #          wide_df,\n",
    "#                 x=df_copy.index, \n",
    "#                 y=df_copy[columns], \n",
    "#                 mode=\"lines\",\n",
    "#                 line=go.scatter.Line(\n",
    "#         #          color=\"gray\"\n",
    "#              ),\n",
    "#                 showlegend=True,\n",
    "#                  opacity = 0.7,\n",
    "# #                  name = f'sum'\n",
    "#              )\n",
    "#         )\n",
    "\n",
    "\n",
    "    fig.update_layout(legend=dict(\n",
    "        orientation=\"v\",\n",
    "        yanchor=\"top\",\n",
    "        y=1.00,\n",
    "        xanchor=\"center\",\n",
    "        x=1.15\n",
    "    ),\n",
    "        plot_bgcolor = 'rgba(0,0,0,0.05)',\n",
    "      legend_title_text=f'{legend_text}',\n",
    "          title={\n",
    "        'text': plot_name,\n",
    "        'y':0.97,\n",
    "        'x':0.5,\n",
    "        'xanchor': 'center',\n",
    "        'yanchor': 'top'}\n",
    "     )\n",
    "    fig.show()\n"
   ]
  },
  {
   "cell_type": "markdown",
   "metadata": {
    "slideshow": {
     "slide_type": "slide"
    }
   },
   "source": [
    "## Section 1: Pre-process Geo-data to get Setup Dictionary for pyomo model"
   ]
  },
  {
   "cell_type": "code",
   "execution_count": 5,
   "metadata": {
    "slideshow": {
     "slide_type": "fragment"
    }
   },
   "outputs": [
    {
     "name": "stderr",
     "output_type": "stream",
     "text": [
      "Extracting parking info from gdf[\"tag\"]: 100%|█████████████████████████████████████| 195/195 [00:00<00:00, 4291.15it/s]\n",
      "C:\\Users\\z004ffpm\\Anaconda3\\envs\\OptPyomoSP\\lib\\site-packages\\pandas\\core\\construction.py:762: ShapelyDeprecationWarning: The array interface is deprecated and will no longer work in Shapely 2.0. Convert the '.coords' to a numpy array instead.\n",
      "  subarr = construct_1d_object_array_from_listlike(arr)\n",
      "Assigning POI statistics: 100%|██████████████████████████████████████████████████████████| 2/2 [00:00<00:00, 71.19it/s]\n",
      "Assigning SS statistics: 100%|██████████████████████████████████████████████████████████| 2/2 [00:00<00:00, 499.44it/s]\n"
     ]
    }
   ],
   "source": [
    "#########################################################\n",
    "#### Load Data from OSM, Sythetic, OCM, DE Bundesamt #### \n",
    "\n",
    "# --- Load Schutter Wald OSM Data (Resource from hdgb API by Domenico) --- # \n",
    "geojson_folder = r\"C:\\Users\\z004ffpm\\Work_Documents\\MyExtractedData\\hdgb\\77746\\geojson\"\n",
    "geojson_filename = r\"\\evcsap_77746_ss.geojson\"\n",
    "filepath = geojson_folder + geojson_filename\n",
    "SW_gdf = gpd.read_file(filepath)\n",
    "\n",
    "# --- Load Synthetic Substations Data for SW (Resource from Domenico) --- #\n",
    "path_synthetic_ss_SW =  r\"C:\\Users\\z004ffpm\\Work_Documents\\CSallocModel\\model_evcsap\\Data\\SW_transformers.csv\"\n",
    "df = pd.read_csv(path_synthetic_ss_SW)\n",
    "df['element'] = 'substations' # We keep the 'tag' == 'transformers', for later reference that these data are synthetic\n",
    "syn_ss_SW_gdf = gpd.GeoDataFrame(\n",
    "    df, \n",
    "    geometry=gpd.points_from_xy(df.lon, df.lat)\n",
    ")\n",
    "\n",
    "# --- Load existing old CSs from OCM --- #\n",
    "# # There's no CS data for Schutterwald on OCM, thus jump this step. (Resouce from Sisi)\n",
    "# df_ocm = pd.read_csv('./ocm.csv')\n",
    "\n",
    "# --- Load existing old CSs from \"Ladesaeulenregistered\" by DE Bundesamt --- #\n",
    "df_DE_Gov = pd.read_csv(\n",
    "    r'C:\\Users\\z004ffpm\\Work_Documents\\CSallocModel\\model_evcsap\\Ladesaeulenregister_CSV.csv', \n",
    "    encoding = \"ISO-8859-1\", # \"utf-8\", \n",
    "    header = 10, \n",
    "    sep = ';'\n",
    "    )\n",
    "# df_DE_Gov.head(3)\n",
    "oldCS_df_SW = df_DE_Gov[df_DE_Gov.Postleitzahl == 77746] # EDEKA Oberle Getränkemarkt\n",
    "\n",
    "#########################################################################################\n",
    "#### Process loaded data, define single-period and multi-period deterministic data ######\n",
    "\n",
    "# --- concat OSM and Synthetic data for SW --- #\n",
    "SW_concat_gdf = gpd.GeoDataFrame(pd.concat([SW_gdf, syn_ss_SW_gdf], axis=0, ignore_index=True))\n",
    "\n",
    "# --- Pre-process concatted data --- #\n",
    "gdfcopy = SW_concat_gdf.copy()\n",
    "\n",
    "# Calculate centroids by merging data with same id. \n",
    "gdfcopy = Dap._get_centered_gdf(gdfcopy)\n",
    "\n",
    "# # Get parking and charging_station info from `df['tag']` to define candidate locations for new CSs\n",
    "gdfcopy = Dap._detect_parking_CS_SS(gdfcopy)\n",
    "\n",
    "# --- Insert Bundesnetzagentur data to concatted DataFrame --- #\n",
    "lat_sw = float(oldCS_df_SW.loc[4012, 'Breitengrad'].replace(',', '.'))\n",
    "lon_sw = float(oldCS_df_SW.loc[4012, 'Längengrad'].replace(',', '.'))\n",
    "geo_array = np.array([lon_sw, lat_sw])\n",
    "gdfcopy.loc[len(gdfcopy)] = {\n",
    "    'osm_id': 'regisID_4012',\n",
    "    'element': 'charging_station',\n",
    "    'tag': \"{'amenity': 'charging_station', \\\n",
    "            'Source': 'Bundesnetzagentur'}\",\n",
    "    'geometry': Point(lon_sw,lat_sw),\n",
    "    'lat': lat_sw,\n",
    "    'lon': lon_sw,\n",
    "    'id_count': 1,\n",
    "    'parking_capacity': None,\n",
    "    'max_extraCPsToInstall': 2,\n",
    "    'charging_capacity': 2,\n",
    "    } # Useful Reference: https://gis.stackexchange.com/questions/345167/building-geodataframe-row-by-row\n",
    "\n",
    "\n",
    "\n",
    "\n",
    "# # Identify indicies for different nodes\n",
    "# id_candi_locs2update = gdfcopy[gdfcopy['element'] == 'charging_station'].index\n",
    "# id_candi_locs2buildNew = gdfcopy[gdfcopy['element'] == 'parking'].index\n",
    "# id_candi_locs_total = id_candi_locs2update.union(id_candi_locs2buildNew)\n",
    "\n",
    "# id_substations = gdfcopy[gdfcopy['element'] == 'substations'].index\n",
    "\n",
    "# id_cd_centers = gdfcopy.loc[(gdfcopy['element'] != 'parking') \\\n",
    "#         & (gdfcopy['element'] != 'charging_station') \\\n",
    "#             & (gdfcopy['element'] != 'substations')\n",
    "#         , :].index\n",
    "# id_CS_SS = gdfcopy.loc[(gdfcopy['element'] == 'parking') \\\n",
    "#         | (gdfcopy['element'] == 'charging_station') \\\n",
    "#             | (gdfcopy['element'] == 'substations')\n",
    "#         , :].index\n",
    "\n",
    "\n",
    "# --- Build multi-period POI statistics Dataframe  --- # \n",
    "### Define statistics by sampling from Poisson/Beta/Normal distributions. \n",
    "### These data are treated as known info to EVCSAP model \n",
    "dict_POI_Statistics = {\n",
    "    'normal':{\n",
    "        'amenity': {\n",
    "            'NrArrival_poissonDistr_lam': 80, # For poisson distribution, mean = lambda\n",
    "            'Arrival_SOC_betaDistr_(alpha,beta)': (22, 4),  # For beta distribution, mean = alpha/(alpha+beta)\n",
    "            'Visiting_duration_normalDistr_(loc,scale)': (0.45, 0.1)\n",
    "        },\n",
    "        'historic': {\n",
    "            'NrArrival_poissonDistr_lam': 20, # For poisson distribution, mean = lambda\n",
    "            'Arrival_SOC_betaDistr_(alpha,beta)': (25, 3),  # For beta distribution, mean = alpha/(alpha+beta)\n",
    "            'Visiting_duration_normalDistr_(loc,scale)': (0.25, 0.05)\n",
    "        },\n",
    "        'leisure': {\n",
    "            'NrArrival_poissonDistr_lam': 60, # For poisson distribution, mean = lambda\n",
    "            'Arrival_SOC_betaDistr_(alpha,beta)': (21, 4),  # For beta distribution, mean = alpha/(alpha+beta)\n",
    "            'Visiting_duration_normalDistr_(loc,scale)': (0.75, 0.1)\n",
    "        },\n",
    "        'shop': {\n",
    "            'NrArrival_poissonDistr_lam': 130, # For poisson distribution, mean = lambda\n",
    "            'Arrival_SOC_betaDistr_(alpha,beta)': (22, 2),  # For beta distribution, mean = alpha/(alpha+beta)\n",
    "            'Visiting_duration_normalDistr_(loc,scale)': (0.55, 0.1)\n",
    "        },\n",
    "        'sport': {\n",
    "            'NrArrival_poissonDistr_lam': 60, # For poisson distribution, mean = lambda\n",
    "            'Arrival_SOC_betaDistr_(alpha,beta)': (21, 4),  # For beta distribution, mean = alpha/(alpha+beta)\n",
    "            'Visiting_duration_normalDistr_(loc,scale)': (1, 0.15)\n",
    "            }\n",
    "    },\n",
    "    'peak':{\n",
    "        'amenity': {\n",
    "            'NrArrival_poissonDistr_lam': 30, # For poisson distribution, mean = lambda\n",
    "            'Arrival_SOC_betaDistr_(alpha,beta)': (22, 4),  # For beta distribution, mean = alpha/(alpha+beta)\n",
    "            'Visiting_duration_normalDistr_(loc,scale)': (25/60, 6/60)\n",
    "        },\n",
    "        'historic': {\n",
    "            'NrArrival_poissonDistr_lam': 7, # For poisson distribution, mean = lambda\n",
    "            'Arrival_SOC_betaDistr_(alpha,beta)': (25, 3),  # For beta distribution, mean = alpha/(alpha+beta)\n",
    "            'Visiting_duration_normalDistr_(loc,scale)': (15/60, 3/60)\n",
    "        },\n",
    "        'leisure': {\n",
    "            'NrArrival_poissonDistr_lam': 20, # For poisson distribution, mean = lambda\n",
    "            'Arrival_SOC_betaDistr_(alpha,beta)': (21, 4),  # For beta distribution, mean = alpha/(alpha+beta)\n",
    "            'Visiting_duration_normalDistr_(loc,scale)': (45/60, 6/60)\n",
    "        },\n",
    "        'shop': {\n",
    "            'NrArrival_poissonDistr_lam': 40, # For poisson distribution, mean = lambda\n",
    "            'Arrival_SOC_betaDistr_(alpha,beta)': (22, 2),  # For beta distribution, mean = alpha/(alpha+beta)\n",
    "            'Visiting_duration_normalDistr_(loc,scale)': (35/60, 6/60)\n",
    "        },\n",
    "        'sport': {\n",
    "            'NrArrival_poissonDistr_lam': 25, # For poisson distribution, mean = lambda\n",
    "            'Arrival_SOC_betaDistr_(alpha,beta)': (21, 4),  # For beta distribution, mean = alpha/(alpha+beta)\n",
    "            'Visiting_duration_normalDistr_(loc,scale)': (60/60, 9/60)\n",
    "        }\n",
    "    }     \n",
    "}\n",
    "### Build POIs stat df\n",
    "df_SW_POI_stat_mpd = Dap._assign_mp_POI_statistics(\n",
    "    gdf = gdfcopy, dict_POI_Statistics = dict_POI_Statistics\n",
    ")\n",
    "\n",
    "\n",
    "# --- Build multi-period Substations Statistics Dataframe --- # \n",
    "### Define statistics by sampling from normal distributions. \n",
    "### These data are treated as known info to EVCSAP model \n",
    "avg_SS_full_load_cap = 400\n",
    "dict_mpd_SW_SS_Statistics = { # The only substation statistics to define is the available power load (on avg.) during different periods \n",
    "    'normal': (0.2*avg_SS_full_load_cap, 0), # means the available power load follows a normal distribution with (mean = 80, std = 0)\n",
    "    'peak': (0.12*avg_SS_full_load_cap, 0)\n",
    "}\n",
    "### Build SSs stat df\n",
    "df_SW_SS_stat_mpd = Dap._assign_mp_SS_statistics(\n",
    "    gdf = gdfcopy, dict_mpd_SS_Statistics = dict_mpd_SW_SS_Statistics\n",
    ")\n",
    "\n"
   ]
  },
  {
   "cell_type": "code",
   "execution_count": 6,
   "metadata": {
    "scrolled": true
   },
   "outputs": [
    {
     "name": "stdout",
     "output_type": "stream",
     "text": [
      "Created a setup dictionary for pyomo auxi/frame/formal models and a processed regional geodataframe \n",
      "Set up an auxilliary model and calculate distances and distance decay factors between CSs and SSs to either deal with isolated nodes or generate connection scenarios for stochastic EVCSAP\n",
      "Done! Process took 0.33 seconds.\n",
      "Created \n",
      "Created a setup dictionary for pyomo auxi/frame/formal models and a processed regional geodataframe \n"
     ]
    }
   ],
   "source": [
    "#########################################################\n",
    "####      Get Model Setup Strategy dictionary      ######\n",
    "# Define Strategy dictionary for other non-osm/ocm/synthetic... parameters\n",
    "strategy_dict = {\n",
    "    # ----- CS ----- #\n",
    "    'cost_buildNewCS': 3000, # float, annuity of updating an old opened CS\n",
    "    'cost_updateOldCS': 2500, # float, annuity of updating an old opened CS\n",
    "    'cost_installCP': 2250, # float, annuity of installing a CP\n",
    "\n",
    "    'profit_charge_fee': (0.3, 0.00), # set as normal Distrib. (mean, std), charging fee at CS euro/kWh\n",
    "    'budget_max_N_newBuildCS' : 10, # int, max amount of new CSs the investors want to open\n",
    "    'budget_max_N_updateCS' : 1, # int, max amount of old CSs investors want to update\n",
    "    'budget_max_N_totalCSs' : 9, # int, max amount of CSs (old or new) to update or open in total:\n",
    "    'budget_max_N_new_CPs' : 115, # int, max amount of new CPs investors want to install\n",
    "    'rule_Min_dist_Between_CSs' : 2/60, # float in hour, min distance allowed between two CSs\n",
    "    'config_CPpower' : 22, # float, in kW, Power rating of a CP,\n",
    "    \n",
    "    # ----- SS ----- #\n",
    "    'cost_expandSS': 500, # float, annuity of substation powerload expansion per KW.     \n",
    "        # Since domain of grid decision variables can be: [0, 100, 200,...], \n",
    "        # every expansion cost then can be in the unit of €/100kW\n",
    "    'cost_backstopTech': 5, # float, one time cost of using backstop tech per KW to prevent overload blackout\n",
    "        # This is one time cost, and domain of backstop tech usage decision variables is: [0, 100, 200,...], \n",
    "        # which means every usage of backstop tech is in the unit of (365 * €/100kW ) \n",
    "    ## ---- Stochastic scenario generation ---- ##\n",
    "    'max_dist_cs_ss_connection': 6/60, # float in hour, walking distance (5km/hour) -> 6/60 * 5000 = 500 m        \n",
    "    'CS_neighbour_dist_decay_threshold': 4/60, # float in hour, walking distance (5km/hour) \n",
    "        # # used for calculating dist_decay between CSs to adjust \"neighbours' connection reward weights\"\n",
    "        # # 'CS_neighbour_dist_decay_threshold' > 'rule_Min_dist_Between_CSs'\n",
    "    \n",
    "    # ----- CD ----- #    \n",
    "    'rule_dist_decay_threshold' : 5/60, # float in hour, max walking dist EV drivers can tolerate to charge their EVs    \n",
    "    'config_Battery_cap': 44, # float, in kWh, battery capacities of EVs\n",
    "    'config_periods_length': {'normal': 22, 'peak': 2},        \n",
    "}\n",
    "\n",
    "# Get setup dictionary for auxilliary model \n",
    "csap_setup_dict_4_auxi, gdf_4_auxi = Dap._get_ModelSetupDict(\n",
    "    gdf = gdfcopy, \n",
    "    strategy_dict = strategy_dict,    \n",
    "    mpd_poi_stats_df = df_SW_POI_stat_mpd,\n",
    "    mpd_SS_stats_df = df_SW_SS_stat_mpd\n",
    ")\n",
    "\n",
    "# Set up auxilliary model \n",
    "# and get (gdf, substations_stat_df) after droping isolated nodes\n",
    "auxi_model_2_drop_islt_nodes = Sceg.get_auxi_model(\n",
    "    setup_dict = csap_setup_dict_4_auxi\n",
    "    )\n",
    "\n",
    "gdfcopy_dropped_isolated, df_SW_SS_stat_mpd_dropped_isolated = \\\n",
    "    Dap._get_dfs_with_isolated_nodes_dropped(\n",
    "        auxilliary_model = auxi_model_2_drop_islt_nodes, \n",
    "        origin_gdf = gdfcopy, \n",
    "        origin_SS_stat_df = df_SW_SS_stat_mpd\n",
    "    )\n",
    "\n",
    "# Get the formal Set-up dictionary for generating scenarios and set-up model\n",
    "csap_setup_dict, final_gdf = Dap._get_ModelSetupDict(\n",
    "    gdf = gdfcopy_dropped_isolated, \n",
    "    strategy_dict = strategy_dict,    \n",
    "    mpd_poi_stats_df = df_SW_POI_stat_mpd,\n",
    "    mpd_SS_stats_df = df_SW_SS_stat_mpd_dropped_isolated\n",
    ")\n",
    "\n",
    "\n",
    "# import pickle \n",
    "# with open('csap_setup_vali_dict_23Nov.pickle', 'wb') as f:\n",
    "#     pickle.dump(csap_setup_dict, f)\n",
    "# \n",
    "# csap_setup_dict = pd.read_pickle('dict_mpsp_setup_vali_23Nov.pickle')"
   ]
  },
  {
   "cell_type": "markdown",
   "metadata": {},
   "source": [
    "## Validation of Scenario Generation"
   ]
  },
  {
   "cell_type": "code",
   "execution_count": 7,
   "metadata": {},
   "outputs": [],
   "source": [
    "copy_csap_setup_dict = csap_setup_dict.copy() "
   ]
  },
  {
   "cell_type": "code",
   "execution_count": 3,
   "metadata": {},
   "outputs": [],
   "source": [
    "PHI_II_vali_dict = pd.read_pickle(f'dict_7phi_II_vali_sces5kTotalConMatrices.pickle')\n",
    "va_cs_ss_con_sce_auxi_model = Sceg.get_auxi_model(\n",
    "    setup_dict = copy_csap_setup_dict\n",
    ")"
   ]
  },
  {
   "cell_type": "code",
   "execution_count": 10,
   "metadata": {},
   "outputs": [],
   "source": [
    "str_phi_II_IJ_list = [f'{i}/60' for i in range(0,7)]\n",
    "\n",
    "float_phi_II_IJ_list = np.array([(i/60 * 5000) for i in range(0,7)]).round(2) # Distance in meters\n",
    "\n",
    "vali_df_PHI_II_CS_115 = pd.DataFrame(index = float_phi_II_IJ_list, \n",
    "                              columns = list(va_cs_ss_con_sce_auxi_model.K))\n",
    "vali_df_PHI_II_CS_115.index.name = 'Phi_II (meter)'\n",
    "vali_df_PHI_II_CS_115.sort_index(axis=1, inplace = True)\n",
    "\n",
    "\n",
    "vali_df_PHI_II_CS_58 = pd.DataFrame(index = float_phi_II_IJ_list, \n",
    "                              columns = list(va_cs_ss_con_sce_auxi_model.K))\n",
    "vali_df_PHI_II_CS_58.index.name = 'Phi_II (meter)'\n",
    "vali_df_PHI_II_CS_58.sort_index(axis=1, inplace = True)\n",
    "\n",
    "\n",
    "vali_df_PHI_II_SS_10 = pd.DataFrame(index = float_phi_II_IJ_list, \n",
    "                              columns = list(va_cs_ss_con_sce_auxi_model.I))\n",
    "vali_df_PHI_II_SS_10.index.name = 'Phi_II (meter)'\n",
    "vali_df_PHI_II_SS_10.sort_index(axis=1, inplace = True)\n",
    "\n",
    "for idx, phi_II in enumerate(str_phi_II_IJ_list):    \n",
    "    total_conc_matrix_vali = PHI_II_vali_dict[phi_II ]\n",
    "    vali_df_PHI_II_SS_10.iloc[idx, ] = total_conc_matrix_vali[10]\n",
    "    vali_df_PHI_II_CS_58.iloc[idx, :] = total_conc_matrix_vali.loc[58,:]    \n",
    "    vali_df_PHI_II_CS_115.iloc[idx, :] = total_conc_matrix_vali.loc[115,:]"
   ]
  },
  {
   "cell_type": "code",
   "execution_count": 13,
   "metadata": {},
   "outputs": [],
   "source": [
    "droped_zero_vali_df_PHI_II_CS_115 = vali_df_PHI_II_CS_115.loc[:, (vali_df_PHI_II_CS_115>0).any(axis=0)]#.dropna(axis=1)\n",
    "droped_zero_vali_df_PHI_II_CS_58 = vali_df_PHI_II_CS_58.loc[:, (vali_df_PHI_II_CS_58>0).any(axis=0)]#.dropna(axis=1)\n",
    "droped_zero_vali_df_PHI_II_SS_10 = vali_df_PHI_II_SS_10.loc[:, (vali_df_PHI_II_SS_10>0).any(axis=0)]#.dropna(axis=1)\n",
    "\n",
    "droped_zero_vali_df_PHI_II_CS_115.rename(\n",
    "    columns = {col_id: f'SS {col_id}' for col_id in droped_zero_vali_df_PHI_II_CS_115.columns},\n",
    "    inplace = True\n",
    ")\n",
    "droped_zero_vali_df_PHI_II_CS_58.rename(\n",
    "    columns = {col_id: f'SS {col_id}' for col_id in droped_zero_vali_df_PHI_II_CS_58.columns},\n",
    "    inplace = True\n",
    ")\n",
    "\n",
    "droped_zero_vali_df_PHI_II_SS_10.rename(\n",
    "    columns = {col_id: f'CS {col_id}' for col_id in droped_zero_vali_df_PHI_II_SS_10.columns},\n",
    "    inplace = True\n",
    ")"
   ]
  },
  {
   "cell_type": "code",
   "execution_count": 17,
   "metadata": {},
   "outputs": [
    {
     "data": {
      "text/html": [
       "<div>\n",
       "<style scoped>\n",
       "    .dataframe tbody tr th:only-of-type {\n",
       "        vertical-align: middle;\n",
       "    }\n",
       "\n",
       "    .dataframe tbody tr th {\n",
       "        vertical-align: top;\n",
       "    }\n",
       "\n",
       "    .dataframe thead th {\n",
       "        text-align: right;\n",
       "    }\n",
       "</style>\n",
       "<table border=\"1\" class=\"dataframe\">\n",
       "  <thead>\n",
       "    <tr style=\"text-align: right;\">\n",
       "      <th></th>\n",
       "      <th>SS 0</th>\n",
       "      <th>SS 8</th>\n",
       "      <th>SS 10</th>\n",
       "    </tr>\n",
       "    <tr>\n",
       "      <th>Phi_II (meter)</th>\n",
       "      <th></th>\n",
       "      <th></th>\n",
       "      <th></th>\n",
       "    </tr>\n",
       "  </thead>\n",
       "  <tbody>\n",
       "    <tr>\n",
       "      <th>0.00</th>\n",
       "      <td>2279</td>\n",
       "      <td>2033</td>\n",
       "      <td>688</td>\n",
       "    </tr>\n",
       "    <tr>\n",
       "      <th>83.33</th>\n",
       "      <td>2247</td>\n",
       "      <td>2038</td>\n",
       "      <td>715</td>\n",
       "    </tr>\n",
       "    <tr>\n",
       "      <th>166.67</th>\n",
       "      <td>2052</td>\n",
       "      <td>2160</td>\n",
       "      <td>788</td>\n",
       "    </tr>\n",
       "    <tr>\n",
       "      <th>250.00</th>\n",
       "      <td>2169</td>\n",
       "      <td>2172</td>\n",
       "      <td>659</td>\n",
       "    </tr>\n",
       "    <tr>\n",
       "      <th>333.33</th>\n",
       "      <td>2056</td>\n",
       "      <td>2236</td>\n",
       "      <td>708</td>\n",
       "    </tr>\n",
       "    <tr>\n",
       "      <th>416.67</th>\n",
       "      <td>2056</td>\n",
       "      <td>2251</td>\n",
       "      <td>693</td>\n",
       "    </tr>\n",
       "    <tr>\n",
       "      <th>500.00</th>\n",
       "      <td>1997</td>\n",
       "      <td>2349</td>\n",
       "      <td>654</td>\n",
       "    </tr>\n",
       "  </tbody>\n",
       "</table>\n",
       "</div>"
      ],
      "text/plain": [
       "                SS 0  SS 8 SS 10\n",
       "Phi_II (meter)                  \n",
       "0.00            2279  2033   688\n",
       "83.33           2247  2038   715\n",
       "166.67          2052  2160   788\n",
       "250.00          2169  2172   659\n",
       "333.33          2056  2236   708\n",
       "416.67          2056  2251   693\n",
       "500.00          1997  2349   654"
      ]
     },
     "execution_count": 17,
     "metadata": {},
     "output_type": "execute_result"
    }
   ],
   "source": [
    "droped_zero_vali_df_PHI_II_CS_115"
   ]
  },
  {
   "cell_type": "code",
   "execution_count": 18,
   "metadata": {},
   "outputs": [
    {
     "data": {
      "text/html": [
       "<div>\n",
       "<style scoped>\n",
       "    .dataframe tbody tr th:only-of-type {\n",
       "        vertical-align: middle;\n",
       "    }\n",
       "\n",
       "    .dataframe tbody tr th {\n",
       "        vertical-align: top;\n",
       "    }\n",
       "\n",
       "    .dataframe thead th {\n",
       "        text-align: right;\n",
       "    }\n",
       "</style>\n",
       "<table border=\"1\" class=\"dataframe\">\n",
       "  <thead>\n",
       "    <tr style=\"text-align: right;\">\n",
       "      <th></th>\n",
       "      <th>CS 18</th>\n",
       "      <th>CS 48</th>\n",
       "      <th>CS 58</th>\n",
       "      <th>CS 61</th>\n",
       "      <th>CS 96</th>\n",
       "      <th>CS 110</th>\n",
       "      <th>CS 114</th>\n",
       "      <th>CS 115</th>\n",
       "      <th>CS 177</th>\n",
       "      <th>CS 195</th>\n",
       "    </tr>\n",
       "    <tr>\n",
       "      <th>Phi_II (meter)</th>\n",
       "      <th></th>\n",
       "      <th></th>\n",
       "      <th></th>\n",
       "      <th></th>\n",
       "      <th></th>\n",
       "      <th></th>\n",
       "      <th></th>\n",
       "      <th></th>\n",
       "      <th></th>\n",
       "      <th></th>\n",
       "    </tr>\n",
       "  </thead>\n",
       "  <tbody>\n",
       "    <tr>\n",
       "      <th>0.00</th>\n",
       "      <td>1259</td>\n",
       "      <td>0</td>\n",
       "      <td>0</td>\n",
       "      <td>1729</td>\n",
       "      <td>1063</td>\n",
       "      <td>4896</td>\n",
       "      <td>0</td>\n",
       "      <td>688</td>\n",
       "      <td>185</td>\n",
       "      <td>0</td>\n",
       "    </tr>\n",
       "    <tr>\n",
       "      <th>83.33</th>\n",
       "      <td>1121</td>\n",
       "      <td>0</td>\n",
       "      <td>0</td>\n",
       "      <td>1662</td>\n",
       "      <td>1038</td>\n",
       "      <td>4902</td>\n",
       "      <td>0</td>\n",
       "      <td>715</td>\n",
       "      <td>144</td>\n",
       "      <td>26</td>\n",
       "    </tr>\n",
       "    <tr>\n",
       "      <th>166.67</th>\n",
       "      <td>1037</td>\n",
       "      <td>0</td>\n",
       "      <td>0</td>\n",
       "      <td>1651</td>\n",
       "      <td>1031</td>\n",
       "      <td>4915</td>\n",
       "      <td>0</td>\n",
       "      <td>788</td>\n",
       "      <td>289</td>\n",
       "      <td>91</td>\n",
       "    </tr>\n",
       "    <tr>\n",
       "      <th>250.00</th>\n",
       "      <td>970</td>\n",
       "      <td>0</td>\n",
       "      <td>72</td>\n",
       "      <td>1440</td>\n",
       "      <td>1037</td>\n",
       "      <td>4907</td>\n",
       "      <td>0</td>\n",
       "      <td>659</td>\n",
       "      <td>375</td>\n",
       "      <td>266</td>\n",
       "    </tr>\n",
       "    <tr>\n",
       "      <th>333.33</th>\n",
       "      <td>1022</td>\n",
       "      <td>0</td>\n",
       "      <td>114</td>\n",
       "      <td>1328</td>\n",
       "      <td>1050</td>\n",
       "      <td>4900</td>\n",
       "      <td>0</td>\n",
       "      <td>708</td>\n",
       "      <td>422</td>\n",
       "      <td>332</td>\n",
       "    </tr>\n",
       "    <tr>\n",
       "      <th>416.67</th>\n",
       "      <td>909</td>\n",
       "      <td>52</td>\n",
       "      <td>326</td>\n",
       "      <td>1169</td>\n",
       "      <td>982</td>\n",
       "      <td>4908</td>\n",
       "      <td>0</td>\n",
       "      <td>693</td>\n",
       "      <td>417</td>\n",
       "      <td>331</td>\n",
       "    </tr>\n",
       "    <tr>\n",
       "      <th>500.00</th>\n",
       "      <td>912</td>\n",
       "      <td>67</td>\n",
       "      <td>369</td>\n",
       "      <td>1187</td>\n",
       "      <td>908</td>\n",
       "      <td>3957</td>\n",
       "      <td>831</td>\n",
       "      <td>654</td>\n",
       "      <td>456</td>\n",
       "      <td>374</td>\n",
       "    </tr>\n",
       "  </tbody>\n",
       "</table>\n",
       "</div>"
      ],
      "text/plain": [
       "               CS 18 CS 48 CS 58 CS 61 CS 96 CS 110 CS 114 CS 115 CS 177  \\\n",
       "Phi_II (meter)                                                             \n",
       "0.00            1259     0     0  1729  1063   4896      0    688    185   \n",
       "83.33           1121     0     0  1662  1038   4902      0    715    144   \n",
       "166.67          1037     0     0  1651  1031   4915      0    788    289   \n",
       "250.00           970     0    72  1440  1037   4907      0    659    375   \n",
       "333.33          1022     0   114  1328  1050   4900      0    708    422   \n",
       "416.67           909    52   326  1169   982   4908      0    693    417   \n",
       "500.00           912    67   369  1187   908   3957    831    654    456   \n",
       "\n",
       "               CS 195  \n",
       "Phi_II (meter)         \n",
       "0.00                0  \n",
       "83.33              26  \n",
       "166.67             91  \n",
       "250.00            266  \n",
       "333.33            332  \n",
       "416.67            331  \n",
       "500.00            374  "
      ]
     },
     "execution_count": 18,
     "metadata": {},
     "output_type": "execute_result"
    }
   ],
   "source": [
    "droped_zero_vali_df_PHI_II_SS_10"
   ]
  },
  {
   "cell_type": "code",
   "execution_count": 28,
   "metadata": {},
   "outputs": [
    {
     "data": {
      "application/vnd.plotly.v1+json": {
       "config": {
        "plotlyServerURL": "https://plot.ly"
       },
       "data": [
        {
         "alignmentgroup": "True",
         "bingroup": "x",
         "cumulative": {
          "enabled": false
         },
         "histfunc": "sum",
         "hovertemplate": "variable=CS 18<br>$\\phi^{II} \\; \\text{[m]} $=%{x}<br>sum of value=%{y}<extra></extra>",
         "legendgroup": "CS 18",
         "marker": {
          "color": "#636efa",
          "pattern": {
           "shape": ""
          }
         },
         "name": "CS 18",
         "offsetgroup": "CS 18",
         "orientation": "v",
         "showlegend": true,
         "type": "histogram",
         "x": [
          "0.0",
          "83.33",
          "166.67",
          "250.0",
          "333.33",
          "416.67",
          "500.0"
         ],
         "xaxis": "x",
         "y": [
          1259,
          1121,
          1037,
          970,
          1022,
          909,
          912
         ],
         "yaxis": "y"
        },
        {
         "alignmentgroup": "True",
         "bingroup": "x",
         "cumulative": {
          "enabled": false
         },
         "histfunc": "sum",
         "hovertemplate": "variable=CS 48<br>$\\phi^{II} \\; \\text{[m]} $=%{x}<br>sum of value=%{y}<extra></extra>",
         "legendgroup": "CS 48",
         "marker": {
          "color": "#EF553B",
          "pattern": {
           "shape": ""
          }
         },
         "name": "CS 48",
         "offsetgroup": "CS 48",
         "orientation": "v",
         "showlegend": true,
         "type": "histogram",
         "x": [
          "0.0",
          "83.33",
          "166.67",
          "250.0",
          "333.33",
          "416.67",
          "500.0"
         ],
         "xaxis": "x",
         "y": [
          0,
          0,
          0,
          0,
          0,
          52,
          67
         ],
         "yaxis": "y"
        },
        {
         "alignmentgroup": "True",
         "bingroup": "x",
         "cumulative": {
          "enabled": false
         },
         "histfunc": "sum",
         "hovertemplate": "variable=CS 58<br>$\\phi^{II} \\; \\text{[m]} $=%{x}<br>sum of value=%{y}<extra></extra>",
         "legendgroup": "CS 58",
         "marker": {
          "color": "#00cc96",
          "pattern": {
           "shape": ""
          }
         },
         "name": "CS 58",
         "offsetgroup": "CS 58",
         "orientation": "v",
         "showlegend": true,
         "type": "histogram",
         "x": [
          "0.0",
          "83.33",
          "166.67",
          "250.0",
          "333.33",
          "416.67",
          "500.0"
         ],
         "xaxis": "x",
         "y": [
          0,
          0,
          0,
          72,
          114,
          326,
          369
         ],
         "yaxis": "y"
        },
        {
         "alignmentgroup": "True",
         "bingroup": "x",
         "cumulative": {
          "enabled": false
         },
         "histfunc": "sum",
         "hovertemplate": "variable=CS 61<br>$\\phi^{II} \\; \\text{[m]} $=%{x}<br>sum of value=%{y}<extra></extra>",
         "legendgroup": "CS 61",
         "marker": {
          "color": "#ab63fa",
          "pattern": {
           "shape": ""
          }
         },
         "name": "CS 61",
         "offsetgroup": "CS 61",
         "orientation": "v",
         "showlegend": true,
         "type": "histogram",
         "x": [
          "0.0",
          "83.33",
          "166.67",
          "250.0",
          "333.33",
          "416.67",
          "500.0"
         ],
         "xaxis": "x",
         "y": [
          1729,
          1662,
          1651,
          1440,
          1328,
          1169,
          1187
         ],
         "yaxis": "y"
        },
        {
         "alignmentgroup": "True",
         "bingroup": "x",
         "cumulative": {
          "enabled": false
         },
         "histfunc": "sum",
         "hovertemplate": "variable=CS 96<br>$\\phi^{II} \\; \\text{[m]} $=%{x}<br>sum of value=%{y}<extra></extra>",
         "legendgroup": "CS 96",
         "marker": {
          "color": "#FFA15A",
          "pattern": {
           "shape": ""
          }
         },
         "name": "CS 96",
         "offsetgroup": "CS 96",
         "orientation": "v",
         "showlegend": true,
         "type": "histogram",
         "x": [
          "0.0",
          "83.33",
          "166.67",
          "250.0",
          "333.33",
          "416.67",
          "500.0"
         ],
         "xaxis": "x",
         "y": [
          1063,
          1038,
          1031,
          1037,
          1050,
          982,
          908
         ],
         "yaxis": "y"
        },
        {
         "alignmentgroup": "True",
         "bingroup": "x",
         "cumulative": {
          "enabled": false
         },
         "histfunc": "sum",
         "hovertemplate": "variable=CS 110<br>$\\phi^{II} \\; \\text{[m]} $=%{x}<br>sum of value=%{y}<extra></extra>",
         "legendgroup": "CS 110",
         "marker": {
          "color": "#19d3f3",
          "pattern": {
           "shape": ""
          }
         },
         "name": "CS 110",
         "offsetgroup": "CS 110",
         "orientation": "v",
         "showlegend": true,
         "type": "histogram",
         "x": [
          "0.0",
          "83.33",
          "166.67",
          "250.0",
          "333.33",
          "416.67",
          "500.0"
         ],
         "xaxis": "x",
         "y": [
          4896,
          4902,
          4915,
          4907,
          4900,
          4908,
          3957
         ],
         "yaxis": "y"
        },
        {
         "alignmentgroup": "True",
         "bingroup": "x",
         "cumulative": {
          "enabled": false
         },
         "histfunc": "sum",
         "hovertemplate": "variable=CS 114<br>$\\phi^{II} \\; \\text{[m]} $=%{x}<br>sum of value=%{y}<extra></extra>",
         "legendgroup": "CS 114",
         "marker": {
          "color": "#FF6692",
          "pattern": {
           "shape": ""
          }
         },
         "name": "CS 114",
         "offsetgroup": "CS 114",
         "orientation": "v",
         "showlegend": true,
         "type": "histogram",
         "x": [
          "0.0",
          "83.33",
          "166.67",
          "250.0",
          "333.33",
          "416.67",
          "500.0"
         ],
         "xaxis": "x",
         "y": [
          0,
          0,
          0,
          0,
          0,
          0,
          831
         ],
         "yaxis": "y"
        },
        {
         "alignmentgroup": "True",
         "bingroup": "x",
         "cumulative": {
          "enabled": false
         },
         "histfunc": "sum",
         "hovertemplate": "variable=CS 115<br>$\\phi^{II} \\; \\text{[m]} $=%{x}<br>sum of value=%{y}<extra></extra>",
         "legendgroup": "CS 115",
         "marker": {
          "color": "#B6E880",
          "pattern": {
           "shape": ""
          }
         },
         "name": "CS 115",
         "offsetgroup": "CS 115",
         "orientation": "v",
         "showlegend": true,
         "type": "histogram",
         "x": [
          "0.0",
          "83.33",
          "166.67",
          "250.0",
          "333.33",
          "416.67",
          "500.0"
         ],
         "xaxis": "x",
         "y": [
          688,
          715,
          788,
          659,
          708,
          693,
          654
         ],
         "yaxis": "y"
        },
        {
         "alignmentgroup": "True",
         "bingroup": "x",
         "cumulative": {
          "enabled": false
         },
         "histfunc": "sum",
         "hovertemplate": "variable=CS 177<br>$\\phi^{II} \\; \\text{[m]} $=%{x}<br>sum of value=%{y}<extra></extra>",
         "legendgroup": "CS 177",
         "marker": {
          "color": "#FF97FF",
          "pattern": {
           "shape": ""
          }
         },
         "name": "CS 177",
         "offsetgroup": "CS 177",
         "orientation": "v",
         "showlegend": true,
         "type": "histogram",
         "x": [
          "0.0",
          "83.33",
          "166.67",
          "250.0",
          "333.33",
          "416.67",
          "500.0"
         ],
         "xaxis": "x",
         "y": [
          185,
          144,
          289,
          375,
          422,
          417,
          456
         ],
         "yaxis": "y"
        },
        {
         "alignmentgroup": "True",
         "bingroup": "x",
         "cumulative": {
          "enabled": false
         },
         "histfunc": "sum",
         "hovertemplate": "variable=CS 195<br>$\\phi^{II} \\; \\text{[m]} $=%{x}<br>sum of value=%{y}<extra></extra>",
         "legendgroup": "CS 195",
         "marker": {
          "color": "#FECB52",
          "pattern": {
           "shape": ""
          }
         },
         "name": "CS 195",
         "offsetgroup": "CS 195",
         "orientation": "v",
         "showlegend": true,
         "type": "histogram",
         "x": [
          "0.0",
          "83.33",
          "166.67",
          "250.0",
          "333.33",
          "416.67",
          "500.0"
         ],
         "xaxis": "x",
         "y": [
          0,
          26,
          91,
          266,
          332,
          331,
          374
         ],
         "yaxis": "y"
        }
       ],
       "layout": {
        "barmode": "relative",
        "legend": {
         "orientation": "v",
         "title": {
          "text": "CS connected to SS 10"
         },
         "tracegroupgap": 0,
         "x": 1.15,
         "xanchor": "center",
         "y": 1,
         "yanchor": "top"
        },
        "margin": {
         "t": 60
        },
        "plot_bgcolor": "rgba(0,0,0,0.05)",
        "template": {
         "data": {
          "bar": [
           {
            "error_x": {
             "color": "#2a3f5f"
            },
            "error_y": {
             "color": "#2a3f5f"
            },
            "marker": {
             "line": {
              "color": "#E5ECF6",
              "width": 0.5
             },
             "pattern": {
              "fillmode": "overlay",
              "size": 10,
              "solidity": 0.2
             }
            },
            "type": "bar"
           }
          ],
          "barpolar": [
           {
            "marker": {
             "line": {
              "color": "#E5ECF6",
              "width": 0.5
             },
             "pattern": {
              "fillmode": "overlay",
              "size": 10,
              "solidity": 0.2
             }
            },
            "type": "barpolar"
           }
          ],
          "carpet": [
           {
            "aaxis": {
             "endlinecolor": "#2a3f5f",
             "gridcolor": "white",
             "linecolor": "white",
             "minorgridcolor": "white",
             "startlinecolor": "#2a3f5f"
            },
            "baxis": {
             "endlinecolor": "#2a3f5f",
             "gridcolor": "white",
             "linecolor": "white",
             "minorgridcolor": "white",
             "startlinecolor": "#2a3f5f"
            },
            "type": "carpet"
           }
          ],
          "choropleth": [
           {
            "colorbar": {
             "outlinewidth": 0,
             "ticks": ""
            },
            "type": "choropleth"
           }
          ],
          "contour": [
           {
            "colorbar": {
             "outlinewidth": 0,
             "ticks": ""
            },
            "colorscale": [
             [
              0,
              "#0d0887"
             ],
             [
              0.1111111111111111,
              "#46039f"
             ],
             [
              0.2222222222222222,
              "#7201a8"
             ],
             [
              0.3333333333333333,
              "#9c179e"
             ],
             [
              0.4444444444444444,
              "#bd3786"
             ],
             [
              0.5555555555555556,
              "#d8576b"
             ],
             [
              0.6666666666666666,
              "#ed7953"
             ],
             [
              0.7777777777777778,
              "#fb9f3a"
             ],
             [
              0.8888888888888888,
              "#fdca26"
             ],
             [
              1,
              "#f0f921"
             ]
            ],
            "type": "contour"
           }
          ],
          "contourcarpet": [
           {
            "colorbar": {
             "outlinewidth": 0,
             "ticks": ""
            },
            "type": "contourcarpet"
           }
          ],
          "heatmap": [
           {
            "colorbar": {
             "outlinewidth": 0,
             "ticks": ""
            },
            "colorscale": [
             [
              0,
              "#0d0887"
             ],
             [
              0.1111111111111111,
              "#46039f"
             ],
             [
              0.2222222222222222,
              "#7201a8"
             ],
             [
              0.3333333333333333,
              "#9c179e"
             ],
             [
              0.4444444444444444,
              "#bd3786"
             ],
             [
              0.5555555555555556,
              "#d8576b"
             ],
             [
              0.6666666666666666,
              "#ed7953"
             ],
             [
              0.7777777777777778,
              "#fb9f3a"
             ],
             [
              0.8888888888888888,
              "#fdca26"
             ],
             [
              1,
              "#f0f921"
             ]
            ],
            "type": "heatmap"
           }
          ],
          "heatmapgl": [
           {
            "colorbar": {
             "outlinewidth": 0,
             "ticks": ""
            },
            "colorscale": [
             [
              0,
              "#0d0887"
             ],
             [
              0.1111111111111111,
              "#46039f"
             ],
             [
              0.2222222222222222,
              "#7201a8"
             ],
             [
              0.3333333333333333,
              "#9c179e"
             ],
             [
              0.4444444444444444,
              "#bd3786"
             ],
             [
              0.5555555555555556,
              "#d8576b"
             ],
             [
              0.6666666666666666,
              "#ed7953"
             ],
             [
              0.7777777777777778,
              "#fb9f3a"
             ],
             [
              0.8888888888888888,
              "#fdca26"
             ],
             [
              1,
              "#f0f921"
             ]
            ],
            "type": "heatmapgl"
           }
          ],
          "histogram": [
           {
            "marker": {
             "pattern": {
              "fillmode": "overlay",
              "size": 10,
              "solidity": 0.2
             }
            },
            "type": "histogram"
           }
          ],
          "histogram2d": [
           {
            "colorbar": {
             "outlinewidth": 0,
             "ticks": ""
            },
            "colorscale": [
             [
              0,
              "#0d0887"
             ],
             [
              0.1111111111111111,
              "#46039f"
             ],
             [
              0.2222222222222222,
              "#7201a8"
             ],
             [
              0.3333333333333333,
              "#9c179e"
             ],
             [
              0.4444444444444444,
              "#bd3786"
             ],
             [
              0.5555555555555556,
              "#d8576b"
             ],
             [
              0.6666666666666666,
              "#ed7953"
             ],
             [
              0.7777777777777778,
              "#fb9f3a"
             ],
             [
              0.8888888888888888,
              "#fdca26"
             ],
             [
              1,
              "#f0f921"
             ]
            ],
            "type": "histogram2d"
           }
          ],
          "histogram2dcontour": [
           {
            "colorbar": {
             "outlinewidth": 0,
             "ticks": ""
            },
            "colorscale": [
             [
              0,
              "#0d0887"
             ],
             [
              0.1111111111111111,
              "#46039f"
             ],
             [
              0.2222222222222222,
              "#7201a8"
             ],
             [
              0.3333333333333333,
              "#9c179e"
             ],
             [
              0.4444444444444444,
              "#bd3786"
             ],
             [
              0.5555555555555556,
              "#d8576b"
             ],
             [
              0.6666666666666666,
              "#ed7953"
             ],
             [
              0.7777777777777778,
              "#fb9f3a"
             ],
             [
              0.8888888888888888,
              "#fdca26"
             ],
             [
              1,
              "#f0f921"
             ]
            ],
            "type": "histogram2dcontour"
           }
          ],
          "mesh3d": [
           {
            "colorbar": {
             "outlinewidth": 0,
             "ticks": ""
            },
            "type": "mesh3d"
           }
          ],
          "parcoords": [
           {
            "line": {
             "colorbar": {
              "outlinewidth": 0,
              "ticks": ""
             }
            },
            "type": "parcoords"
           }
          ],
          "pie": [
           {
            "automargin": true,
            "type": "pie"
           }
          ],
          "scatter": [
           {
            "fillpattern": {
             "fillmode": "overlay",
             "size": 10,
             "solidity": 0.2
            },
            "type": "scatter"
           }
          ],
          "scatter3d": [
           {
            "line": {
             "colorbar": {
              "outlinewidth": 0,
              "ticks": ""
             }
            },
            "marker": {
             "colorbar": {
              "outlinewidth": 0,
              "ticks": ""
             }
            },
            "type": "scatter3d"
           }
          ],
          "scattercarpet": [
           {
            "marker": {
             "colorbar": {
              "outlinewidth": 0,
              "ticks": ""
             }
            },
            "type": "scattercarpet"
           }
          ],
          "scattergeo": [
           {
            "marker": {
             "colorbar": {
              "outlinewidth": 0,
              "ticks": ""
             }
            },
            "type": "scattergeo"
           }
          ],
          "scattergl": [
           {
            "marker": {
             "colorbar": {
              "outlinewidth": 0,
              "ticks": ""
             }
            },
            "type": "scattergl"
           }
          ],
          "scattermapbox": [
           {
            "marker": {
             "colorbar": {
              "outlinewidth": 0,
              "ticks": ""
             }
            },
            "type": "scattermapbox"
           }
          ],
          "scatterpolar": [
           {
            "marker": {
             "colorbar": {
              "outlinewidth": 0,
              "ticks": ""
             }
            },
            "type": "scatterpolar"
           }
          ],
          "scatterpolargl": [
           {
            "marker": {
             "colorbar": {
              "outlinewidth": 0,
              "ticks": ""
             }
            },
            "type": "scatterpolargl"
           }
          ],
          "scatterternary": [
           {
            "marker": {
             "colorbar": {
              "outlinewidth": 0,
              "ticks": ""
             }
            },
            "type": "scatterternary"
           }
          ],
          "surface": [
           {
            "colorbar": {
             "outlinewidth": 0,
             "ticks": ""
            },
            "colorscale": [
             [
              0,
              "#0d0887"
             ],
             [
              0.1111111111111111,
              "#46039f"
             ],
             [
              0.2222222222222222,
              "#7201a8"
             ],
             [
              0.3333333333333333,
              "#9c179e"
             ],
             [
              0.4444444444444444,
              "#bd3786"
             ],
             [
              0.5555555555555556,
              "#d8576b"
             ],
             [
              0.6666666666666666,
              "#ed7953"
             ],
             [
              0.7777777777777778,
              "#fb9f3a"
             ],
             [
              0.8888888888888888,
              "#fdca26"
             ],
             [
              1,
              "#f0f921"
             ]
            ],
            "type": "surface"
           }
          ],
          "table": [
           {
            "cells": {
             "fill": {
              "color": "#EBF0F8"
             },
             "line": {
              "color": "white"
             }
            },
            "header": {
             "fill": {
              "color": "#C8D4E3"
             },
             "line": {
              "color": "white"
             }
            },
            "type": "table"
           }
          ]
         },
         "layout": {
          "annotationdefaults": {
           "arrowcolor": "#2a3f5f",
           "arrowhead": 0,
           "arrowwidth": 1
          },
          "autotypenumbers": "strict",
          "coloraxis": {
           "colorbar": {
            "outlinewidth": 0,
            "ticks": ""
           }
          },
          "colorscale": {
           "diverging": [
            [
             0,
             "#8e0152"
            ],
            [
             0.1,
             "#c51b7d"
            ],
            [
             0.2,
             "#de77ae"
            ],
            [
             0.3,
             "#f1b6da"
            ],
            [
             0.4,
             "#fde0ef"
            ],
            [
             0.5,
             "#f7f7f7"
            ],
            [
             0.6,
             "#e6f5d0"
            ],
            [
             0.7,
             "#b8e186"
            ],
            [
             0.8,
             "#7fbc41"
            ],
            [
             0.9,
             "#4d9221"
            ],
            [
             1,
             "#276419"
            ]
           ],
           "sequential": [
            [
             0,
             "#0d0887"
            ],
            [
             0.1111111111111111,
             "#46039f"
            ],
            [
             0.2222222222222222,
             "#7201a8"
            ],
            [
             0.3333333333333333,
             "#9c179e"
            ],
            [
             0.4444444444444444,
             "#bd3786"
            ],
            [
             0.5555555555555556,
             "#d8576b"
            ],
            [
             0.6666666666666666,
             "#ed7953"
            ],
            [
             0.7777777777777778,
             "#fb9f3a"
            ],
            [
             0.8888888888888888,
             "#fdca26"
            ],
            [
             1,
             "#f0f921"
            ]
           ],
           "sequentialminus": [
            [
             0,
             "#0d0887"
            ],
            [
             0.1111111111111111,
             "#46039f"
            ],
            [
             0.2222222222222222,
             "#7201a8"
            ],
            [
             0.3333333333333333,
             "#9c179e"
            ],
            [
             0.4444444444444444,
             "#bd3786"
            ],
            [
             0.5555555555555556,
             "#d8576b"
            ],
            [
             0.6666666666666666,
             "#ed7953"
            ],
            [
             0.7777777777777778,
             "#fb9f3a"
            ],
            [
             0.8888888888888888,
             "#fdca26"
            ],
            [
             1,
             "#f0f921"
            ]
           ]
          },
          "colorway": [
           "#636efa",
           "#EF553B",
           "#00cc96",
           "#ab63fa",
           "#FFA15A",
           "#19d3f3",
           "#FF6692",
           "#B6E880",
           "#FF97FF",
           "#FECB52"
          ],
          "font": {
           "color": "#2a3f5f"
          },
          "geo": {
           "bgcolor": "white",
           "lakecolor": "white",
           "landcolor": "#E5ECF6",
           "showlakes": true,
           "showland": true,
           "subunitcolor": "white"
          },
          "hoverlabel": {
           "align": "left"
          },
          "hovermode": "closest",
          "mapbox": {
           "style": "light"
          },
          "paper_bgcolor": "white",
          "plot_bgcolor": "#E5ECF6",
          "polar": {
           "angularaxis": {
            "gridcolor": "white",
            "linecolor": "white",
            "ticks": ""
           },
           "bgcolor": "#E5ECF6",
           "radialaxis": {
            "gridcolor": "white",
            "linecolor": "white",
            "ticks": ""
           }
          },
          "scene": {
           "xaxis": {
            "backgroundcolor": "#E5ECF6",
            "gridcolor": "white",
            "gridwidth": 2,
            "linecolor": "white",
            "showbackground": true,
            "ticks": "",
            "zerolinecolor": "white"
           },
           "yaxis": {
            "backgroundcolor": "#E5ECF6",
            "gridcolor": "white",
            "gridwidth": 2,
            "linecolor": "white",
            "showbackground": true,
            "ticks": "",
            "zerolinecolor": "white"
           },
           "zaxis": {
            "backgroundcolor": "#E5ECF6",
            "gridcolor": "white",
            "gridwidth": 2,
            "linecolor": "white",
            "showbackground": true,
            "ticks": "",
            "zerolinecolor": "white"
           }
          },
          "shapedefaults": {
           "line": {
            "color": "#2a3f5f"
           }
          },
          "ternary": {
           "aaxis": {
            "gridcolor": "white",
            "linecolor": "white",
            "ticks": ""
           },
           "baxis": {
            "gridcolor": "white",
            "linecolor": "white",
            "ticks": ""
           },
           "bgcolor": "#E5ECF6",
           "caxis": {
            "gridcolor": "white",
            "linecolor": "white",
            "ticks": ""
           }
          },
          "title": {
           "x": 0.05
          },
          "xaxis": {
           "automargin": true,
           "gridcolor": "white",
           "linecolor": "white",
           "ticks": "",
           "title": {
            "standoff": 15
           },
           "zerolinecolor": "white",
           "zerolinewidth": 2
          },
          "yaxis": {
           "automargin": true,
           "gridcolor": "white",
           "linecolor": "white",
           "ticks": "",
           "title": {
            "standoff": 15
           },
           "zerolinecolor": "white",
           "zerolinewidth": 2
          }
         }
        },
        "title": {
         "text": "Connection Frequency of Charging Stations to Substation 10 by 5000 Samples",
         "x": 0.5,
         "xanchor": "center",
         "y": 0.97,
         "yanchor": "top"
        },
        "xaxis": {
         "anchor": "y",
         "domain": [
          0,
          1
         ],
         "title": {
          "text": "$\\phi^{II} \\; \\text{[m]} $"
         }
        },
        "yaxis": {
         "anchor": "x",
         "domain": [
          0,
          1
         ],
         "title": {
          "text": "sum of value"
         }
        }
       }
      },
      "text/html": [
       "<div>                            <div id=\"1a99e07d-1125-48c4-95ed-5c3e614d347b\" class=\"plotly-graph-div\" style=\"height:525px; width:100%;\"></div>            <script type=\"text/javascript\">                require([\"plotly\"], function(Plotly) {                    window.PLOTLYENV=window.PLOTLYENV || {};                                    if (document.getElementById(\"1a99e07d-1125-48c4-95ed-5c3e614d347b\")) {                    Plotly.newPlot(                        \"1a99e07d-1125-48c4-95ed-5c3e614d347b\",                        [{\"alignmentgroup\":\"True\",\"bingroup\":\"x\",\"cumulative\":{\"enabled\":false},\"histfunc\":\"sum\",\"hovertemplate\":\"variable=CS 18<br>$\\\\phi^{II} \\\\; \\\\text{[m]} $=%{x}<br>sum of value=%{y}<extra></extra>\",\"legendgroup\":\"CS 18\",\"marker\":{\"color\":\"#636efa\",\"pattern\":{\"shape\":\"\"}},\"name\":\"CS 18\",\"offsetgroup\":\"CS 18\",\"orientation\":\"v\",\"showlegend\":true,\"x\":[\"0.0\",\"83.33\",\"166.67\",\"250.0\",\"333.33\",\"416.67\",\"500.0\"],\"xaxis\":\"x\",\"y\":[1259,1121,1037,970,1022,909,912],\"yaxis\":\"y\",\"type\":\"histogram\"},{\"alignmentgroup\":\"True\",\"bingroup\":\"x\",\"cumulative\":{\"enabled\":false},\"histfunc\":\"sum\",\"hovertemplate\":\"variable=CS 48<br>$\\\\phi^{II} \\\\; \\\\text{[m]} $=%{x}<br>sum of value=%{y}<extra></extra>\",\"legendgroup\":\"CS 48\",\"marker\":{\"color\":\"#EF553B\",\"pattern\":{\"shape\":\"\"}},\"name\":\"CS 48\",\"offsetgroup\":\"CS 48\",\"orientation\":\"v\",\"showlegend\":true,\"x\":[\"0.0\",\"83.33\",\"166.67\",\"250.0\",\"333.33\",\"416.67\",\"500.0\"],\"xaxis\":\"x\",\"y\":[0,0,0,0,0,52,67],\"yaxis\":\"y\",\"type\":\"histogram\"},{\"alignmentgroup\":\"True\",\"bingroup\":\"x\",\"cumulative\":{\"enabled\":false},\"histfunc\":\"sum\",\"hovertemplate\":\"variable=CS 58<br>$\\\\phi^{II} \\\\; \\\\text{[m]} $=%{x}<br>sum of value=%{y}<extra></extra>\",\"legendgroup\":\"CS 58\",\"marker\":{\"color\":\"#00cc96\",\"pattern\":{\"shape\":\"\"}},\"name\":\"CS 58\",\"offsetgroup\":\"CS 58\",\"orientation\":\"v\",\"showlegend\":true,\"x\":[\"0.0\",\"83.33\",\"166.67\",\"250.0\",\"333.33\",\"416.67\",\"500.0\"],\"xaxis\":\"x\",\"y\":[0,0,0,72,114,326,369],\"yaxis\":\"y\",\"type\":\"histogram\"},{\"alignmentgroup\":\"True\",\"bingroup\":\"x\",\"cumulative\":{\"enabled\":false},\"histfunc\":\"sum\",\"hovertemplate\":\"variable=CS 61<br>$\\\\phi^{II} \\\\; \\\\text{[m]} $=%{x}<br>sum of value=%{y}<extra></extra>\",\"legendgroup\":\"CS 61\",\"marker\":{\"color\":\"#ab63fa\",\"pattern\":{\"shape\":\"\"}},\"name\":\"CS 61\",\"offsetgroup\":\"CS 61\",\"orientation\":\"v\",\"showlegend\":true,\"x\":[\"0.0\",\"83.33\",\"166.67\",\"250.0\",\"333.33\",\"416.67\",\"500.0\"],\"xaxis\":\"x\",\"y\":[1729,1662,1651,1440,1328,1169,1187],\"yaxis\":\"y\",\"type\":\"histogram\"},{\"alignmentgroup\":\"True\",\"bingroup\":\"x\",\"cumulative\":{\"enabled\":false},\"histfunc\":\"sum\",\"hovertemplate\":\"variable=CS 96<br>$\\\\phi^{II} \\\\; \\\\text{[m]} $=%{x}<br>sum of value=%{y}<extra></extra>\",\"legendgroup\":\"CS 96\",\"marker\":{\"color\":\"#FFA15A\",\"pattern\":{\"shape\":\"\"}},\"name\":\"CS 96\",\"offsetgroup\":\"CS 96\",\"orientation\":\"v\",\"showlegend\":true,\"x\":[\"0.0\",\"83.33\",\"166.67\",\"250.0\",\"333.33\",\"416.67\",\"500.0\"],\"xaxis\":\"x\",\"y\":[1063,1038,1031,1037,1050,982,908],\"yaxis\":\"y\",\"type\":\"histogram\"},{\"alignmentgroup\":\"True\",\"bingroup\":\"x\",\"cumulative\":{\"enabled\":false},\"histfunc\":\"sum\",\"hovertemplate\":\"variable=CS 110<br>$\\\\phi^{II} \\\\; \\\\text{[m]} $=%{x}<br>sum of value=%{y}<extra></extra>\",\"legendgroup\":\"CS 110\",\"marker\":{\"color\":\"#19d3f3\",\"pattern\":{\"shape\":\"\"}},\"name\":\"CS 110\",\"offsetgroup\":\"CS 110\",\"orientation\":\"v\",\"showlegend\":true,\"x\":[\"0.0\",\"83.33\",\"166.67\",\"250.0\",\"333.33\",\"416.67\",\"500.0\"],\"xaxis\":\"x\",\"y\":[4896,4902,4915,4907,4900,4908,3957],\"yaxis\":\"y\",\"type\":\"histogram\"},{\"alignmentgroup\":\"True\",\"bingroup\":\"x\",\"cumulative\":{\"enabled\":false},\"histfunc\":\"sum\",\"hovertemplate\":\"variable=CS 114<br>$\\\\phi^{II} \\\\; \\\\text{[m]} $=%{x}<br>sum of value=%{y}<extra></extra>\",\"legendgroup\":\"CS 114\",\"marker\":{\"color\":\"#FF6692\",\"pattern\":{\"shape\":\"\"}},\"name\":\"CS 114\",\"offsetgroup\":\"CS 114\",\"orientation\":\"v\",\"showlegend\":true,\"x\":[\"0.0\",\"83.33\",\"166.67\",\"250.0\",\"333.33\",\"416.67\",\"500.0\"],\"xaxis\":\"x\",\"y\":[0,0,0,0,0,0,831],\"yaxis\":\"y\",\"type\":\"histogram\"},{\"alignmentgroup\":\"True\",\"bingroup\":\"x\",\"cumulative\":{\"enabled\":false},\"histfunc\":\"sum\",\"hovertemplate\":\"variable=CS 115<br>$\\\\phi^{II} \\\\; \\\\text{[m]} $=%{x}<br>sum of value=%{y}<extra></extra>\",\"legendgroup\":\"CS 115\",\"marker\":{\"color\":\"#B6E880\",\"pattern\":{\"shape\":\"\"}},\"name\":\"CS 115\",\"offsetgroup\":\"CS 115\",\"orientation\":\"v\",\"showlegend\":true,\"x\":[\"0.0\",\"83.33\",\"166.67\",\"250.0\",\"333.33\",\"416.67\",\"500.0\"],\"xaxis\":\"x\",\"y\":[688,715,788,659,708,693,654],\"yaxis\":\"y\",\"type\":\"histogram\"},{\"alignmentgroup\":\"True\",\"bingroup\":\"x\",\"cumulative\":{\"enabled\":false},\"histfunc\":\"sum\",\"hovertemplate\":\"variable=CS 177<br>$\\\\phi^{II} \\\\; \\\\text{[m]} $=%{x}<br>sum of value=%{y}<extra></extra>\",\"legendgroup\":\"CS 177\",\"marker\":{\"color\":\"#FF97FF\",\"pattern\":{\"shape\":\"\"}},\"name\":\"CS 177\",\"offsetgroup\":\"CS 177\",\"orientation\":\"v\",\"showlegend\":true,\"x\":[\"0.0\",\"83.33\",\"166.67\",\"250.0\",\"333.33\",\"416.67\",\"500.0\"],\"xaxis\":\"x\",\"y\":[185,144,289,375,422,417,456],\"yaxis\":\"y\",\"type\":\"histogram\"},{\"alignmentgroup\":\"True\",\"bingroup\":\"x\",\"cumulative\":{\"enabled\":false},\"histfunc\":\"sum\",\"hovertemplate\":\"variable=CS 195<br>$\\\\phi^{II} \\\\; \\\\text{[m]} $=%{x}<br>sum of value=%{y}<extra></extra>\",\"legendgroup\":\"CS 195\",\"marker\":{\"color\":\"#FECB52\",\"pattern\":{\"shape\":\"\"}},\"name\":\"CS 195\",\"offsetgroup\":\"CS 195\",\"orientation\":\"v\",\"showlegend\":true,\"x\":[\"0.0\",\"83.33\",\"166.67\",\"250.0\",\"333.33\",\"416.67\",\"500.0\"],\"xaxis\":\"x\",\"y\":[0,26,91,266,332,331,374],\"yaxis\":\"y\",\"type\":\"histogram\"}],                        {\"template\":{\"data\":{\"histogram2dcontour\":[{\"type\":\"histogram2dcontour\",\"colorbar\":{\"outlinewidth\":0,\"ticks\":\"\"},\"colorscale\":[[0.0,\"#0d0887\"],[0.1111111111111111,\"#46039f\"],[0.2222222222222222,\"#7201a8\"],[0.3333333333333333,\"#9c179e\"],[0.4444444444444444,\"#bd3786\"],[0.5555555555555556,\"#d8576b\"],[0.6666666666666666,\"#ed7953\"],[0.7777777777777778,\"#fb9f3a\"],[0.8888888888888888,\"#fdca26\"],[1.0,\"#f0f921\"]]}],\"choropleth\":[{\"type\":\"choropleth\",\"colorbar\":{\"outlinewidth\":0,\"ticks\":\"\"}}],\"histogram2d\":[{\"type\":\"histogram2d\",\"colorbar\":{\"outlinewidth\":0,\"ticks\":\"\"},\"colorscale\":[[0.0,\"#0d0887\"],[0.1111111111111111,\"#46039f\"],[0.2222222222222222,\"#7201a8\"],[0.3333333333333333,\"#9c179e\"],[0.4444444444444444,\"#bd3786\"],[0.5555555555555556,\"#d8576b\"],[0.6666666666666666,\"#ed7953\"],[0.7777777777777778,\"#fb9f3a\"],[0.8888888888888888,\"#fdca26\"],[1.0,\"#f0f921\"]]}],\"heatmap\":[{\"type\":\"heatmap\",\"colorbar\":{\"outlinewidth\":0,\"ticks\":\"\"},\"colorscale\":[[0.0,\"#0d0887\"],[0.1111111111111111,\"#46039f\"],[0.2222222222222222,\"#7201a8\"],[0.3333333333333333,\"#9c179e\"],[0.4444444444444444,\"#bd3786\"],[0.5555555555555556,\"#d8576b\"],[0.6666666666666666,\"#ed7953\"],[0.7777777777777778,\"#fb9f3a\"],[0.8888888888888888,\"#fdca26\"],[1.0,\"#f0f921\"]]}],\"heatmapgl\":[{\"type\":\"heatmapgl\",\"colorbar\":{\"outlinewidth\":0,\"ticks\":\"\"},\"colorscale\":[[0.0,\"#0d0887\"],[0.1111111111111111,\"#46039f\"],[0.2222222222222222,\"#7201a8\"],[0.3333333333333333,\"#9c179e\"],[0.4444444444444444,\"#bd3786\"],[0.5555555555555556,\"#d8576b\"],[0.6666666666666666,\"#ed7953\"],[0.7777777777777778,\"#fb9f3a\"],[0.8888888888888888,\"#fdca26\"],[1.0,\"#f0f921\"]]}],\"contourcarpet\":[{\"type\":\"contourcarpet\",\"colorbar\":{\"outlinewidth\":0,\"ticks\":\"\"}}],\"contour\":[{\"type\":\"contour\",\"colorbar\":{\"outlinewidth\":0,\"ticks\":\"\"},\"colorscale\":[[0.0,\"#0d0887\"],[0.1111111111111111,\"#46039f\"],[0.2222222222222222,\"#7201a8\"],[0.3333333333333333,\"#9c179e\"],[0.4444444444444444,\"#bd3786\"],[0.5555555555555556,\"#d8576b\"],[0.6666666666666666,\"#ed7953\"],[0.7777777777777778,\"#fb9f3a\"],[0.8888888888888888,\"#fdca26\"],[1.0,\"#f0f921\"]]}],\"surface\":[{\"type\":\"surface\",\"colorbar\":{\"outlinewidth\":0,\"ticks\":\"\"},\"colorscale\":[[0.0,\"#0d0887\"],[0.1111111111111111,\"#46039f\"],[0.2222222222222222,\"#7201a8\"],[0.3333333333333333,\"#9c179e\"],[0.4444444444444444,\"#bd3786\"],[0.5555555555555556,\"#d8576b\"],[0.6666666666666666,\"#ed7953\"],[0.7777777777777778,\"#fb9f3a\"],[0.8888888888888888,\"#fdca26\"],[1.0,\"#f0f921\"]]}],\"mesh3d\":[{\"type\":\"mesh3d\",\"colorbar\":{\"outlinewidth\":0,\"ticks\":\"\"}}],\"scatter\":[{\"fillpattern\":{\"fillmode\":\"overlay\",\"size\":10,\"solidity\":0.2},\"type\":\"scatter\"}],\"parcoords\":[{\"type\":\"parcoords\",\"line\":{\"colorbar\":{\"outlinewidth\":0,\"ticks\":\"\"}}}],\"scatterpolargl\":[{\"type\":\"scatterpolargl\",\"marker\":{\"colorbar\":{\"outlinewidth\":0,\"ticks\":\"\"}}}],\"bar\":[{\"error_x\":{\"color\":\"#2a3f5f\"},\"error_y\":{\"color\":\"#2a3f5f\"},\"marker\":{\"line\":{\"color\":\"#E5ECF6\",\"width\":0.5},\"pattern\":{\"fillmode\":\"overlay\",\"size\":10,\"solidity\":0.2}},\"type\":\"bar\"}],\"scattergeo\":[{\"type\":\"scattergeo\",\"marker\":{\"colorbar\":{\"outlinewidth\":0,\"ticks\":\"\"}}}],\"scatterpolar\":[{\"type\":\"scatterpolar\",\"marker\":{\"colorbar\":{\"outlinewidth\":0,\"ticks\":\"\"}}}],\"histogram\":[{\"marker\":{\"pattern\":{\"fillmode\":\"overlay\",\"size\":10,\"solidity\":0.2}},\"type\":\"histogram\"}],\"scattergl\":[{\"type\":\"scattergl\",\"marker\":{\"colorbar\":{\"outlinewidth\":0,\"ticks\":\"\"}}}],\"scatter3d\":[{\"type\":\"scatter3d\",\"line\":{\"colorbar\":{\"outlinewidth\":0,\"ticks\":\"\"}},\"marker\":{\"colorbar\":{\"outlinewidth\":0,\"ticks\":\"\"}}}],\"scattermapbox\":[{\"type\":\"scattermapbox\",\"marker\":{\"colorbar\":{\"outlinewidth\":0,\"ticks\":\"\"}}}],\"scatterternary\":[{\"type\":\"scatterternary\",\"marker\":{\"colorbar\":{\"outlinewidth\":0,\"ticks\":\"\"}}}],\"scattercarpet\":[{\"type\":\"scattercarpet\",\"marker\":{\"colorbar\":{\"outlinewidth\":0,\"ticks\":\"\"}}}],\"carpet\":[{\"aaxis\":{\"endlinecolor\":\"#2a3f5f\",\"gridcolor\":\"white\",\"linecolor\":\"white\",\"minorgridcolor\":\"white\",\"startlinecolor\":\"#2a3f5f\"},\"baxis\":{\"endlinecolor\":\"#2a3f5f\",\"gridcolor\":\"white\",\"linecolor\":\"white\",\"minorgridcolor\":\"white\",\"startlinecolor\":\"#2a3f5f\"},\"type\":\"carpet\"}],\"table\":[{\"cells\":{\"fill\":{\"color\":\"#EBF0F8\"},\"line\":{\"color\":\"white\"}},\"header\":{\"fill\":{\"color\":\"#C8D4E3\"},\"line\":{\"color\":\"white\"}},\"type\":\"table\"}],\"barpolar\":[{\"marker\":{\"line\":{\"color\":\"#E5ECF6\",\"width\":0.5},\"pattern\":{\"fillmode\":\"overlay\",\"size\":10,\"solidity\":0.2}},\"type\":\"barpolar\"}],\"pie\":[{\"automargin\":true,\"type\":\"pie\"}]},\"layout\":{\"autotypenumbers\":\"strict\",\"colorway\":[\"#636efa\",\"#EF553B\",\"#00cc96\",\"#ab63fa\",\"#FFA15A\",\"#19d3f3\",\"#FF6692\",\"#B6E880\",\"#FF97FF\",\"#FECB52\"],\"font\":{\"color\":\"#2a3f5f\"},\"hovermode\":\"closest\",\"hoverlabel\":{\"align\":\"left\"},\"paper_bgcolor\":\"white\",\"plot_bgcolor\":\"#E5ECF6\",\"polar\":{\"bgcolor\":\"#E5ECF6\",\"angularaxis\":{\"gridcolor\":\"white\",\"linecolor\":\"white\",\"ticks\":\"\"},\"radialaxis\":{\"gridcolor\":\"white\",\"linecolor\":\"white\",\"ticks\":\"\"}},\"ternary\":{\"bgcolor\":\"#E5ECF6\",\"aaxis\":{\"gridcolor\":\"white\",\"linecolor\":\"white\",\"ticks\":\"\"},\"baxis\":{\"gridcolor\":\"white\",\"linecolor\":\"white\",\"ticks\":\"\"},\"caxis\":{\"gridcolor\":\"white\",\"linecolor\":\"white\",\"ticks\":\"\"}},\"coloraxis\":{\"colorbar\":{\"outlinewidth\":0,\"ticks\":\"\"}},\"colorscale\":{\"sequential\":[[0.0,\"#0d0887\"],[0.1111111111111111,\"#46039f\"],[0.2222222222222222,\"#7201a8\"],[0.3333333333333333,\"#9c179e\"],[0.4444444444444444,\"#bd3786\"],[0.5555555555555556,\"#d8576b\"],[0.6666666666666666,\"#ed7953\"],[0.7777777777777778,\"#fb9f3a\"],[0.8888888888888888,\"#fdca26\"],[1.0,\"#f0f921\"]],\"sequentialminus\":[[0.0,\"#0d0887\"],[0.1111111111111111,\"#46039f\"],[0.2222222222222222,\"#7201a8\"],[0.3333333333333333,\"#9c179e\"],[0.4444444444444444,\"#bd3786\"],[0.5555555555555556,\"#d8576b\"],[0.6666666666666666,\"#ed7953\"],[0.7777777777777778,\"#fb9f3a\"],[0.8888888888888888,\"#fdca26\"],[1.0,\"#f0f921\"]],\"diverging\":[[0,\"#8e0152\"],[0.1,\"#c51b7d\"],[0.2,\"#de77ae\"],[0.3,\"#f1b6da\"],[0.4,\"#fde0ef\"],[0.5,\"#f7f7f7\"],[0.6,\"#e6f5d0\"],[0.7,\"#b8e186\"],[0.8,\"#7fbc41\"],[0.9,\"#4d9221\"],[1,\"#276419\"]]},\"xaxis\":{\"gridcolor\":\"white\",\"linecolor\":\"white\",\"ticks\":\"\",\"title\":{\"standoff\":15},\"zerolinecolor\":\"white\",\"automargin\":true,\"zerolinewidth\":2},\"yaxis\":{\"gridcolor\":\"white\",\"linecolor\":\"white\",\"ticks\":\"\",\"title\":{\"standoff\":15},\"zerolinecolor\":\"white\",\"automargin\":true,\"zerolinewidth\":2},\"scene\":{\"xaxis\":{\"backgroundcolor\":\"#E5ECF6\",\"gridcolor\":\"white\",\"linecolor\":\"white\",\"showbackground\":true,\"ticks\":\"\",\"zerolinecolor\":\"white\",\"gridwidth\":2},\"yaxis\":{\"backgroundcolor\":\"#E5ECF6\",\"gridcolor\":\"white\",\"linecolor\":\"white\",\"showbackground\":true,\"ticks\":\"\",\"zerolinecolor\":\"white\",\"gridwidth\":2},\"zaxis\":{\"backgroundcolor\":\"#E5ECF6\",\"gridcolor\":\"white\",\"linecolor\":\"white\",\"showbackground\":true,\"ticks\":\"\",\"zerolinecolor\":\"white\",\"gridwidth\":2}},\"shapedefaults\":{\"line\":{\"color\":\"#2a3f5f\"}},\"annotationdefaults\":{\"arrowcolor\":\"#2a3f5f\",\"arrowhead\":0,\"arrowwidth\":1},\"geo\":{\"bgcolor\":\"white\",\"landcolor\":\"#E5ECF6\",\"subunitcolor\":\"white\",\"showland\":true,\"showlakes\":true,\"lakecolor\":\"white\"},\"title\":{\"x\":0.05},\"mapbox\":{\"style\":\"light\"}}},\"xaxis\":{\"anchor\":\"y\",\"domain\":[0.0,1.0],\"title\":{\"text\":\"$\\\\phi^{II} \\\\; \\\\text{[m]} $\"}},\"yaxis\":{\"anchor\":\"x\",\"domain\":[0.0,1.0],\"title\":{\"text\":\"sum of value\"}},\"legend\":{\"title\":{\"text\":\"CS connected to SS 10\"},\"tracegroupgap\":0,\"orientation\":\"v\",\"yanchor\":\"top\",\"y\":1.0,\"xanchor\":\"center\",\"x\":1.15},\"margin\":{\"t\":60},\"barmode\":\"relative\",\"title\":{\"text\":\"Connection Frequency of Charging Stations to Substation 10 by 5000 Samples\",\"y\":0.97,\"x\":0.5,\"xanchor\":\"center\",\"yanchor\":\"top\"},\"plot_bgcolor\":\"rgba(0,0,0,0.05)\"},                        {\"responsive\": true}                    ).then(function(){\n",
       "                            \n",
       "var gd = document.getElementById('1a99e07d-1125-48c4-95ed-5c3e614d347b');\n",
       "var x = new MutationObserver(function (mutations, observer) {{\n",
       "        var display = window.getComputedStyle(gd).display;\n",
       "        if (!display || display === 'none') {{\n",
       "            console.log([gd, 'removed!']);\n",
       "            Plotly.purge(gd);\n",
       "            observer.disconnect();\n",
       "        }}\n",
       "}});\n",
       "\n",
       "// Listen for the removal of the full notebook cells\n",
       "var notebookContainer = gd.closest('#notebook-container');\n",
       "if (notebookContainer) {{\n",
       "    x.observe(notebookContainer, {childList: true});\n",
       "}}\n",
       "\n",
       "// Listen for the clearing of the current output cell\n",
       "var outputEl = gd.closest('.output');\n",
       "if (outputEl) {{\n",
       "    x.observe(outputEl, {childList: true});\n",
       "}}\n",
       "\n",
       "                        })                };                });            </script>        </div>"
      ]
     },
     "metadata": {},
     "output_type": "display_data"
    }
   ],
   "source": [
    "plot_connection(\n",
    "    droped_zero_vali_df_PHI_II_SS_10,\n",
    "    plot_name = 'Connection Frequency of Charging Stations to Substation 10 by 5000 Samples',\n",
    "    legend_text = 'CS connected to SS 10'\n",
    "    )"
   ]
  },
  {
   "cell_type": "code",
   "execution_count": 198,
   "metadata": {},
   "outputs": [
    {
     "data": {
      "text/plain": [
       "Index(['0', '8', '10'], dtype='object')"
      ]
     },
     "execution_count": 198,
     "metadata": {},
     "output_type": "execute_result"
    }
   ],
   "source": [
    "copy_droped_zero_vali_df_PHI_II_CS_115 = droped_zero_vali_df_PHI_II_CS_115.copy()\n",
    "copy_droped_zero_vali_df_PHI_II_CS_115.index.astype(str)\n",
    "copy_droped_zero_vali_df_PHI_II_CS_115.columns.astype(str)"
   ]
  },
  {
   "cell_type": "code",
   "execution_count": 199,
   "metadata": {},
   "outputs": [
    {
     "data": {
      "text/plain": [
       "<bound method NumericIndex.astype of Float64Index([0.0, 83.33, 166.67, 250.0, 333.33, 416.67, 500.0], dtype='float64', name='Phi_II (meter)')>"
      ]
     },
     "execution_count": 199,
     "metadata": {},
     "output_type": "execute_result"
    }
   ],
   "source": [
    "copy_droped_zero_vali_df_PHI_II_CS_115.index.astype"
   ]
  },
  {
   "cell_type": "code",
   "execution_count": 32,
   "metadata": {},
   "outputs": [
    {
     "data": {
      "application/vnd.plotly.v1+json": {
       "config": {
        "plotlyServerURL": "https://plot.ly"
       },
       "data": [
        {
         "alignmentgroup": "True",
         "bingroup": "x",
         "cumulative": {
          "enabled": false
         },
         "histfunc": "sum",
         "hovertemplate": "variable=SS 0<br>$\\phi^{II} \\; \\text{[m]} $=%{x}<br>sum of value=%{y}<extra></extra>",
         "legendgroup": "SS 0",
         "marker": {
          "color": "#636efa",
          "pattern": {
           "shape": ""
          }
         },
         "name": "SS 0",
         "offsetgroup": "SS 0",
         "orientation": "v",
         "showlegend": true,
         "type": "histogram",
         "x": [
          "0.0",
          "83.33",
          "166.67",
          "250.0",
          "333.33",
          "416.67",
          "500.0"
         ],
         "xaxis": "x",
         "y": [
          2279,
          2247,
          2052,
          2169,
          2056,
          2056,
          1997
         ],
         "yaxis": "y"
        },
        {
         "alignmentgroup": "True",
         "bingroup": "x",
         "cumulative": {
          "enabled": false
         },
         "histfunc": "sum",
         "hovertemplate": "variable=SS 8<br>$\\phi^{II} \\; \\text{[m]} $=%{x}<br>sum of value=%{y}<extra></extra>",
         "legendgroup": "SS 8",
         "marker": {
          "color": "#EF553B",
          "pattern": {
           "shape": ""
          }
         },
         "name": "SS 8",
         "offsetgroup": "SS 8",
         "orientation": "v",
         "showlegend": true,
         "type": "histogram",
         "x": [
          "0.0",
          "83.33",
          "166.67",
          "250.0",
          "333.33",
          "416.67",
          "500.0"
         ],
         "xaxis": "x",
         "y": [
          2033,
          2038,
          2160,
          2172,
          2236,
          2251,
          2349
         ],
         "yaxis": "y"
        },
        {
         "alignmentgroup": "True",
         "bingroup": "x",
         "cumulative": {
          "enabled": false
         },
         "histfunc": "sum",
         "hovertemplate": "variable=SS 10<br>$\\phi^{II} \\; \\text{[m]} $=%{x}<br>sum of value=%{y}<extra></extra>",
         "legendgroup": "SS 10",
         "marker": {
          "color": "#00cc96",
          "pattern": {
           "shape": ""
          }
         },
         "name": "SS 10",
         "offsetgroup": "SS 10",
         "orientation": "v",
         "showlegend": true,
         "type": "histogram",
         "x": [
          "0.0",
          "83.33",
          "166.67",
          "250.0",
          "333.33",
          "416.67",
          "500.0"
         ],
         "xaxis": "x",
         "y": [
          688,
          715,
          788,
          659,
          708,
          693,
          654
         ],
         "yaxis": "y"
        }
       ],
       "layout": {
        "barmode": "group",
        "legend": {
         "orientation": "v",
         "title": {
          "text": "SS ID"
         },
         "tracegroupgap": 0,
         "x": 1.15,
         "xanchor": "center",
         "y": 1,
         "yanchor": "top"
        },
        "margin": {
         "t": 60
        },
        "plot_bgcolor": "rgba(0,0,0,0.05)",
        "template": {
         "data": {
          "bar": [
           {
            "error_x": {
             "color": "#2a3f5f"
            },
            "error_y": {
             "color": "#2a3f5f"
            },
            "marker": {
             "line": {
              "color": "#E5ECF6",
              "width": 0.5
             },
             "pattern": {
              "fillmode": "overlay",
              "size": 10,
              "solidity": 0.2
             }
            },
            "type": "bar"
           }
          ],
          "barpolar": [
           {
            "marker": {
             "line": {
              "color": "#E5ECF6",
              "width": 0.5
             },
             "pattern": {
              "fillmode": "overlay",
              "size": 10,
              "solidity": 0.2
             }
            },
            "type": "barpolar"
           }
          ],
          "carpet": [
           {
            "aaxis": {
             "endlinecolor": "#2a3f5f",
             "gridcolor": "white",
             "linecolor": "white",
             "minorgridcolor": "white",
             "startlinecolor": "#2a3f5f"
            },
            "baxis": {
             "endlinecolor": "#2a3f5f",
             "gridcolor": "white",
             "linecolor": "white",
             "minorgridcolor": "white",
             "startlinecolor": "#2a3f5f"
            },
            "type": "carpet"
           }
          ],
          "choropleth": [
           {
            "colorbar": {
             "outlinewidth": 0,
             "ticks": ""
            },
            "type": "choropleth"
           }
          ],
          "contour": [
           {
            "colorbar": {
             "outlinewidth": 0,
             "ticks": ""
            },
            "colorscale": [
             [
              0,
              "#0d0887"
             ],
             [
              0.1111111111111111,
              "#46039f"
             ],
             [
              0.2222222222222222,
              "#7201a8"
             ],
             [
              0.3333333333333333,
              "#9c179e"
             ],
             [
              0.4444444444444444,
              "#bd3786"
             ],
             [
              0.5555555555555556,
              "#d8576b"
             ],
             [
              0.6666666666666666,
              "#ed7953"
             ],
             [
              0.7777777777777778,
              "#fb9f3a"
             ],
             [
              0.8888888888888888,
              "#fdca26"
             ],
             [
              1,
              "#f0f921"
             ]
            ],
            "type": "contour"
           }
          ],
          "contourcarpet": [
           {
            "colorbar": {
             "outlinewidth": 0,
             "ticks": ""
            },
            "type": "contourcarpet"
           }
          ],
          "heatmap": [
           {
            "colorbar": {
             "outlinewidth": 0,
             "ticks": ""
            },
            "colorscale": [
             [
              0,
              "#0d0887"
             ],
             [
              0.1111111111111111,
              "#46039f"
             ],
             [
              0.2222222222222222,
              "#7201a8"
             ],
             [
              0.3333333333333333,
              "#9c179e"
             ],
             [
              0.4444444444444444,
              "#bd3786"
             ],
             [
              0.5555555555555556,
              "#d8576b"
             ],
             [
              0.6666666666666666,
              "#ed7953"
             ],
             [
              0.7777777777777778,
              "#fb9f3a"
             ],
             [
              0.8888888888888888,
              "#fdca26"
             ],
             [
              1,
              "#f0f921"
             ]
            ],
            "type": "heatmap"
           }
          ],
          "heatmapgl": [
           {
            "colorbar": {
             "outlinewidth": 0,
             "ticks": ""
            },
            "colorscale": [
             [
              0,
              "#0d0887"
             ],
             [
              0.1111111111111111,
              "#46039f"
             ],
             [
              0.2222222222222222,
              "#7201a8"
             ],
             [
              0.3333333333333333,
              "#9c179e"
             ],
             [
              0.4444444444444444,
              "#bd3786"
             ],
             [
              0.5555555555555556,
              "#d8576b"
             ],
             [
              0.6666666666666666,
              "#ed7953"
             ],
             [
              0.7777777777777778,
              "#fb9f3a"
             ],
             [
              0.8888888888888888,
              "#fdca26"
             ],
             [
              1,
              "#f0f921"
             ]
            ],
            "type": "heatmapgl"
           }
          ],
          "histogram": [
           {
            "marker": {
             "pattern": {
              "fillmode": "overlay",
              "size": 10,
              "solidity": 0.2
             }
            },
            "type": "histogram"
           }
          ],
          "histogram2d": [
           {
            "colorbar": {
             "outlinewidth": 0,
             "ticks": ""
            },
            "colorscale": [
             [
              0,
              "#0d0887"
             ],
             [
              0.1111111111111111,
              "#46039f"
             ],
             [
              0.2222222222222222,
              "#7201a8"
             ],
             [
              0.3333333333333333,
              "#9c179e"
             ],
             [
              0.4444444444444444,
              "#bd3786"
             ],
             [
              0.5555555555555556,
              "#d8576b"
             ],
             [
              0.6666666666666666,
              "#ed7953"
             ],
             [
              0.7777777777777778,
              "#fb9f3a"
             ],
             [
              0.8888888888888888,
              "#fdca26"
             ],
             [
              1,
              "#f0f921"
             ]
            ],
            "type": "histogram2d"
           }
          ],
          "histogram2dcontour": [
           {
            "colorbar": {
             "outlinewidth": 0,
             "ticks": ""
            },
            "colorscale": [
             [
              0,
              "#0d0887"
             ],
             [
              0.1111111111111111,
              "#46039f"
             ],
             [
              0.2222222222222222,
              "#7201a8"
             ],
             [
              0.3333333333333333,
              "#9c179e"
             ],
             [
              0.4444444444444444,
              "#bd3786"
             ],
             [
              0.5555555555555556,
              "#d8576b"
             ],
             [
              0.6666666666666666,
              "#ed7953"
             ],
             [
              0.7777777777777778,
              "#fb9f3a"
             ],
             [
              0.8888888888888888,
              "#fdca26"
             ],
             [
              1,
              "#f0f921"
             ]
            ],
            "type": "histogram2dcontour"
           }
          ],
          "mesh3d": [
           {
            "colorbar": {
             "outlinewidth": 0,
             "ticks": ""
            },
            "type": "mesh3d"
           }
          ],
          "parcoords": [
           {
            "line": {
             "colorbar": {
              "outlinewidth": 0,
              "ticks": ""
             }
            },
            "type": "parcoords"
           }
          ],
          "pie": [
           {
            "automargin": true,
            "type": "pie"
           }
          ],
          "scatter": [
           {
            "fillpattern": {
             "fillmode": "overlay",
             "size": 10,
             "solidity": 0.2
            },
            "type": "scatter"
           }
          ],
          "scatter3d": [
           {
            "line": {
             "colorbar": {
              "outlinewidth": 0,
              "ticks": ""
             }
            },
            "marker": {
             "colorbar": {
              "outlinewidth": 0,
              "ticks": ""
             }
            },
            "type": "scatter3d"
           }
          ],
          "scattercarpet": [
           {
            "marker": {
             "colorbar": {
              "outlinewidth": 0,
              "ticks": ""
             }
            },
            "type": "scattercarpet"
           }
          ],
          "scattergeo": [
           {
            "marker": {
             "colorbar": {
              "outlinewidth": 0,
              "ticks": ""
             }
            },
            "type": "scattergeo"
           }
          ],
          "scattergl": [
           {
            "marker": {
             "colorbar": {
              "outlinewidth": 0,
              "ticks": ""
             }
            },
            "type": "scattergl"
           }
          ],
          "scattermapbox": [
           {
            "marker": {
             "colorbar": {
              "outlinewidth": 0,
              "ticks": ""
             }
            },
            "type": "scattermapbox"
           }
          ],
          "scatterpolar": [
           {
            "marker": {
             "colorbar": {
              "outlinewidth": 0,
              "ticks": ""
             }
            },
            "type": "scatterpolar"
           }
          ],
          "scatterpolargl": [
           {
            "marker": {
             "colorbar": {
              "outlinewidth": 0,
              "ticks": ""
             }
            },
            "type": "scatterpolargl"
           }
          ],
          "scatterternary": [
           {
            "marker": {
             "colorbar": {
              "outlinewidth": 0,
              "ticks": ""
             }
            },
            "type": "scatterternary"
           }
          ],
          "surface": [
           {
            "colorbar": {
             "outlinewidth": 0,
             "ticks": ""
            },
            "colorscale": [
             [
              0,
              "#0d0887"
             ],
             [
              0.1111111111111111,
              "#46039f"
             ],
             [
              0.2222222222222222,
              "#7201a8"
             ],
             [
              0.3333333333333333,
              "#9c179e"
             ],
             [
              0.4444444444444444,
              "#bd3786"
             ],
             [
              0.5555555555555556,
              "#d8576b"
             ],
             [
              0.6666666666666666,
              "#ed7953"
             ],
             [
              0.7777777777777778,
              "#fb9f3a"
             ],
             [
              0.8888888888888888,
              "#fdca26"
             ],
             [
              1,
              "#f0f921"
             ]
            ],
            "type": "surface"
           }
          ],
          "table": [
           {
            "cells": {
             "fill": {
              "color": "#EBF0F8"
             },
             "line": {
              "color": "white"
             }
            },
            "header": {
             "fill": {
              "color": "#C8D4E3"
             },
             "line": {
              "color": "white"
             }
            },
            "type": "table"
           }
          ]
         },
         "layout": {
          "annotationdefaults": {
           "arrowcolor": "#2a3f5f",
           "arrowhead": 0,
           "arrowwidth": 1
          },
          "autotypenumbers": "strict",
          "coloraxis": {
           "colorbar": {
            "outlinewidth": 0,
            "ticks": ""
           }
          },
          "colorscale": {
           "diverging": [
            [
             0,
             "#8e0152"
            ],
            [
             0.1,
             "#c51b7d"
            ],
            [
             0.2,
             "#de77ae"
            ],
            [
             0.3,
             "#f1b6da"
            ],
            [
             0.4,
             "#fde0ef"
            ],
            [
             0.5,
             "#f7f7f7"
            ],
            [
             0.6,
             "#e6f5d0"
            ],
            [
             0.7,
             "#b8e186"
            ],
            [
             0.8,
             "#7fbc41"
            ],
            [
             0.9,
             "#4d9221"
            ],
            [
             1,
             "#276419"
            ]
           ],
           "sequential": [
            [
             0,
             "#0d0887"
            ],
            [
             0.1111111111111111,
             "#46039f"
            ],
            [
             0.2222222222222222,
             "#7201a8"
            ],
            [
             0.3333333333333333,
             "#9c179e"
            ],
            [
             0.4444444444444444,
             "#bd3786"
            ],
            [
             0.5555555555555556,
             "#d8576b"
            ],
            [
             0.6666666666666666,
             "#ed7953"
            ],
            [
             0.7777777777777778,
             "#fb9f3a"
            ],
            [
             0.8888888888888888,
             "#fdca26"
            ],
            [
             1,
             "#f0f921"
            ]
           ],
           "sequentialminus": [
            [
             0,
             "#0d0887"
            ],
            [
             0.1111111111111111,
             "#46039f"
            ],
            [
             0.2222222222222222,
             "#7201a8"
            ],
            [
             0.3333333333333333,
             "#9c179e"
            ],
            [
             0.4444444444444444,
             "#bd3786"
            ],
            [
             0.5555555555555556,
             "#d8576b"
            ],
            [
             0.6666666666666666,
             "#ed7953"
            ],
            [
             0.7777777777777778,
             "#fb9f3a"
            ],
            [
             0.8888888888888888,
             "#fdca26"
            ],
            [
             1,
             "#f0f921"
            ]
           ]
          },
          "colorway": [
           "#636efa",
           "#EF553B",
           "#00cc96",
           "#ab63fa",
           "#FFA15A",
           "#19d3f3",
           "#FF6692",
           "#B6E880",
           "#FF97FF",
           "#FECB52"
          ],
          "font": {
           "color": "#2a3f5f"
          },
          "geo": {
           "bgcolor": "white",
           "lakecolor": "white",
           "landcolor": "#E5ECF6",
           "showlakes": true,
           "showland": true,
           "subunitcolor": "white"
          },
          "hoverlabel": {
           "align": "left"
          },
          "hovermode": "closest",
          "mapbox": {
           "style": "light"
          },
          "paper_bgcolor": "white",
          "plot_bgcolor": "#E5ECF6",
          "polar": {
           "angularaxis": {
            "gridcolor": "white",
            "linecolor": "white",
            "ticks": ""
           },
           "bgcolor": "#E5ECF6",
           "radialaxis": {
            "gridcolor": "white",
            "linecolor": "white",
            "ticks": ""
           }
          },
          "scene": {
           "xaxis": {
            "backgroundcolor": "#E5ECF6",
            "gridcolor": "white",
            "gridwidth": 2,
            "linecolor": "white",
            "showbackground": true,
            "ticks": "",
            "zerolinecolor": "white"
           },
           "yaxis": {
            "backgroundcolor": "#E5ECF6",
            "gridcolor": "white",
            "gridwidth": 2,
            "linecolor": "white",
            "showbackground": true,
            "ticks": "",
            "zerolinecolor": "white"
           },
           "zaxis": {
            "backgroundcolor": "#E5ECF6",
            "gridcolor": "white",
            "gridwidth": 2,
            "linecolor": "white",
            "showbackground": true,
            "ticks": "",
            "zerolinecolor": "white"
           }
          },
          "shapedefaults": {
           "line": {
            "color": "#2a3f5f"
           }
          },
          "ternary": {
           "aaxis": {
            "gridcolor": "white",
            "linecolor": "white",
            "ticks": ""
           },
           "baxis": {
            "gridcolor": "white",
            "linecolor": "white",
            "ticks": ""
           },
           "bgcolor": "#E5ECF6",
           "caxis": {
            "gridcolor": "white",
            "linecolor": "white",
            "ticks": ""
           }
          },
          "title": {
           "x": 0.05
          },
          "xaxis": {
           "automargin": true,
           "gridcolor": "white",
           "linecolor": "white",
           "ticks": "",
           "title": {
            "standoff": 15
           },
           "zerolinecolor": "white",
           "zerolinewidth": 2
          },
          "yaxis": {
           "automargin": true,
           "gridcolor": "white",
           "linecolor": "white",
           "ticks": "",
           "title": {
            "standoff": 15
           },
           "zerolinecolor": "white",
           "zerolinewidth": 2
          }
         }
        },
        "title": {
         "text": "Connection Frequency of CS 115 Among 5000 Samples",
         "x": 0.5,
         "xanchor": "center",
         "y": 0.97,
         "yanchor": "top"
        },
        "xaxis": {
         "anchor": "y",
         "domain": [
          0,
          1
         ],
         "title": {
          "text": "$\\phi^{II} \\; \\text{[m]} $"
         }
        },
        "yaxis": {
         "anchor": "x",
         "domain": [
          0,
          1
         ],
         "title": {
          "text": "sum of value"
         }
        }
       }
      },
      "text/html": [
       "<div>                            <div id=\"3589286f-eefe-477d-ab32-c22bb36707c3\" class=\"plotly-graph-div\" style=\"height:525px; width:100%;\"></div>            <script type=\"text/javascript\">                require([\"plotly\"], function(Plotly) {                    window.PLOTLYENV=window.PLOTLYENV || {};                                    if (document.getElementById(\"3589286f-eefe-477d-ab32-c22bb36707c3\")) {                    Plotly.newPlot(                        \"3589286f-eefe-477d-ab32-c22bb36707c3\",                        [{\"alignmentgroup\":\"True\",\"bingroup\":\"x\",\"cumulative\":{\"enabled\":false},\"histfunc\":\"sum\",\"hovertemplate\":\"variable=SS 0<br>$\\\\phi^{II} \\\\; \\\\text{[m]} $=%{x}<br>sum of value=%{y}<extra></extra>\",\"legendgroup\":\"SS 0\",\"marker\":{\"color\":\"#636efa\",\"pattern\":{\"shape\":\"\"}},\"name\":\"SS 0\",\"offsetgroup\":\"SS 0\",\"orientation\":\"v\",\"showlegend\":true,\"x\":[\"0.0\",\"83.33\",\"166.67\",\"250.0\",\"333.33\",\"416.67\",\"500.0\"],\"xaxis\":\"x\",\"y\":[2279,2247,2052,2169,2056,2056,1997],\"yaxis\":\"y\",\"type\":\"histogram\"},{\"alignmentgroup\":\"True\",\"bingroup\":\"x\",\"cumulative\":{\"enabled\":false},\"histfunc\":\"sum\",\"hovertemplate\":\"variable=SS 8<br>$\\\\phi^{II} \\\\; \\\\text{[m]} $=%{x}<br>sum of value=%{y}<extra></extra>\",\"legendgroup\":\"SS 8\",\"marker\":{\"color\":\"#EF553B\",\"pattern\":{\"shape\":\"\"}},\"name\":\"SS 8\",\"offsetgroup\":\"SS 8\",\"orientation\":\"v\",\"showlegend\":true,\"x\":[\"0.0\",\"83.33\",\"166.67\",\"250.0\",\"333.33\",\"416.67\",\"500.0\"],\"xaxis\":\"x\",\"y\":[2033,2038,2160,2172,2236,2251,2349],\"yaxis\":\"y\",\"type\":\"histogram\"},{\"alignmentgroup\":\"True\",\"bingroup\":\"x\",\"cumulative\":{\"enabled\":false},\"histfunc\":\"sum\",\"hovertemplate\":\"variable=SS 10<br>$\\\\phi^{II} \\\\; \\\\text{[m]} $=%{x}<br>sum of value=%{y}<extra></extra>\",\"legendgroup\":\"SS 10\",\"marker\":{\"color\":\"#00cc96\",\"pattern\":{\"shape\":\"\"}},\"name\":\"SS 10\",\"offsetgroup\":\"SS 10\",\"orientation\":\"v\",\"showlegend\":true,\"x\":[\"0.0\",\"83.33\",\"166.67\",\"250.0\",\"333.33\",\"416.67\",\"500.0\"],\"xaxis\":\"x\",\"y\":[688,715,788,659,708,693,654],\"yaxis\":\"y\",\"type\":\"histogram\"}],                        {\"template\":{\"data\":{\"histogram2dcontour\":[{\"type\":\"histogram2dcontour\",\"colorbar\":{\"outlinewidth\":0,\"ticks\":\"\"},\"colorscale\":[[0.0,\"#0d0887\"],[0.1111111111111111,\"#46039f\"],[0.2222222222222222,\"#7201a8\"],[0.3333333333333333,\"#9c179e\"],[0.4444444444444444,\"#bd3786\"],[0.5555555555555556,\"#d8576b\"],[0.6666666666666666,\"#ed7953\"],[0.7777777777777778,\"#fb9f3a\"],[0.8888888888888888,\"#fdca26\"],[1.0,\"#f0f921\"]]}],\"choropleth\":[{\"type\":\"choropleth\",\"colorbar\":{\"outlinewidth\":0,\"ticks\":\"\"}}],\"histogram2d\":[{\"type\":\"histogram2d\",\"colorbar\":{\"outlinewidth\":0,\"ticks\":\"\"},\"colorscale\":[[0.0,\"#0d0887\"],[0.1111111111111111,\"#46039f\"],[0.2222222222222222,\"#7201a8\"],[0.3333333333333333,\"#9c179e\"],[0.4444444444444444,\"#bd3786\"],[0.5555555555555556,\"#d8576b\"],[0.6666666666666666,\"#ed7953\"],[0.7777777777777778,\"#fb9f3a\"],[0.8888888888888888,\"#fdca26\"],[1.0,\"#f0f921\"]]}],\"heatmap\":[{\"type\":\"heatmap\",\"colorbar\":{\"outlinewidth\":0,\"ticks\":\"\"},\"colorscale\":[[0.0,\"#0d0887\"],[0.1111111111111111,\"#46039f\"],[0.2222222222222222,\"#7201a8\"],[0.3333333333333333,\"#9c179e\"],[0.4444444444444444,\"#bd3786\"],[0.5555555555555556,\"#d8576b\"],[0.6666666666666666,\"#ed7953\"],[0.7777777777777778,\"#fb9f3a\"],[0.8888888888888888,\"#fdca26\"],[1.0,\"#f0f921\"]]}],\"heatmapgl\":[{\"type\":\"heatmapgl\",\"colorbar\":{\"outlinewidth\":0,\"ticks\":\"\"},\"colorscale\":[[0.0,\"#0d0887\"],[0.1111111111111111,\"#46039f\"],[0.2222222222222222,\"#7201a8\"],[0.3333333333333333,\"#9c179e\"],[0.4444444444444444,\"#bd3786\"],[0.5555555555555556,\"#d8576b\"],[0.6666666666666666,\"#ed7953\"],[0.7777777777777778,\"#fb9f3a\"],[0.8888888888888888,\"#fdca26\"],[1.0,\"#f0f921\"]]}],\"contourcarpet\":[{\"type\":\"contourcarpet\",\"colorbar\":{\"outlinewidth\":0,\"ticks\":\"\"}}],\"contour\":[{\"type\":\"contour\",\"colorbar\":{\"outlinewidth\":0,\"ticks\":\"\"},\"colorscale\":[[0.0,\"#0d0887\"],[0.1111111111111111,\"#46039f\"],[0.2222222222222222,\"#7201a8\"],[0.3333333333333333,\"#9c179e\"],[0.4444444444444444,\"#bd3786\"],[0.5555555555555556,\"#d8576b\"],[0.6666666666666666,\"#ed7953\"],[0.7777777777777778,\"#fb9f3a\"],[0.8888888888888888,\"#fdca26\"],[1.0,\"#f0f921\"]]}],\"surface\":[{\"type\":\"surface\",\"colorbar\":{\"outlinewidth\":0,\"ticks\":\"\"},\"colorscale\":[[0.0,\"#0d0887\"],[0.1111111111111111,\"#46039f\"],[0.2222222222222222,\"#7201a8\"],[0.3333333333333333,\"#9c179e\"],[0.4444444444444444,\"#bd3786\"],[0.5555555555555556,\"#d8576b\"],[0.6666666666666666,\"#ed7953\"],[0.7777777777777778,\"#fb9f3a\"],[0.8888888888888888,\"#fdca26\"],[1.0,\"#f0f921\"]]}],\"mesh3d\":[{\"type\":\"mesh3d\",\"colorbar\":{\"outlinewidth\":0,\"ticks\":\"\"}}],\"scatter\":[{\"fillpattern\":{\"fillmode\":\"overlay\",\"size\":10,\"solidity\":0.2},\"type\":\"scatter\"}],\"parcoords\":[{\"type\":\"parcoords\",\"line\":{\"colorbar\":{\"outlinewidth\":0,\"ticks\":\"\"}}}],\"scatterpolargl\":[{\"type\":\"scatterpolargl\",\"marker\":{\"colorbar\":{\"outlinewidth\":0,\"ticks\":\"\"}}}],\"bar\":[{\"error_x\":{\"color\":\"#2a3f5f\"},\"error_y\":{\"color\":\"#2a3f5f\"},\"marker\":{\"line\":{\"color\":\"#E5ECF6\",\"width\":0.5},\"pattern\":{\"fillmode\":\"overlay\",\"size\":10,\"solidity\":0.2}},\"type\":\"bar\"}],\"scattergeo\":[{\"type\":\"scattergeo\",\"marker\":{\"colorbar\":{\"outlinewidth\":0,\"ticks\":\"\"}}}],\"scatterpolar\":[{\"type\":\"scatterpolar\",\"marker\":{\"colorbar\":{\"outlinewidth\":0,\"ticks\":\"\"}}}],\"histogram\":[{\"marker\":{\"pattern\":{\"fillmode\":\"overlay\",\"size\":10,\"solidity\":0.2}},\"type\":\"histogram\"}],\"scattergl\":[{\"type\":\"scattergl\",\"marker\":{\"colorbar\":{\"outlinewidth\":0,\"ticks\":\"\"}}}],\"scatter3d\":[{\"type\":\"scatter3d\",\"line\":{\"colorbar\":{\"outlinewidth\":0,\"ticks\":\"\"}},\"marker\":{\"colorbar\":{\"outlinewidth\":0,\"ticks\":\"\"}}}],\"scattermapbox\":[{\"type\":\"scattermapbox\",\"marker\":{\"colorbar\":{\"outlinewidth\":0,\"ticks\":\"\"}}}],\"scatterternary\":[{\"type\":\"scatterternary\",\"marker\":{\"colorbar\":{\"outlinewidth\":0,\"ticks\":\"\"}}}],\"scattercarpet\":[{\"type\":\"scattercarpet\",\"marker\":{\"colorbar\":{\"outlinewidth\":0,\"ticks\":\"\"}}}],\"carpet\":[{\"aaxis\":{\"endlinecolor\":\"#2a3f5f\",\"gridcolor\":\"white\",\"linecolor\":\"white\",\"minorgridcolor\":\"white\",\"startlinecolor\":\"#2a3f5f\"},\"baxis\":{\"endlinecolor\":\"#2a3f5f\",\"gridcolor\":\"white\",\"linecolor\":\"white\",\"minorgridcolor\":\"white\",\"startlinecolor\":\"#2a3f5f\"},\"type\":\"carpet\"}],\"table\":[{\"cells\":{\"fill\":{\"color\":\"#EBF0F8\"},\"line\":{\"color\":\"white\"}},\"header\":{\"fill\":{\"color\":\"#C8D4E3\"},\"line\":{\"color\":\"white\"}},\"type\":\"table\"}],\"barpolar\":[{\"marker\":{\"line\":{\"color\":\"#E5ECF6\",\"width\":0.5},\"pattern\":{\"fillmode\":\"overlay\",\"size\":10,\"solidity\":0.2}},\"type\":\"barpolar\"}],\"pie\":[{\"automargin\":true,\"type\":\"pie\"}]},\"layout\":{\"autotypenumbers\":\"strict\",\"colorway\":[\"#636efa\",\"#EF553B\",\"#00cc96\",\"#ab63fa\",\"#FFA15A\",\"#19d3f3\",\"#FF6692\",\"#B6E880\",\"#FF97FF\",\"#FECB52\"],\"font\":{\"color\":\"#2a3f5f\"},\"hovermode\":\"closest\",\"hoverlabel\":{\"align\":\"left\"},\"paper_bgcolor\":\"white\",\"plot_bgcolor\":\"#E5ECF6\",\"polar\":{\"bgcolor\":\"#E5ECF6\",\"angularaxis\":{\"gridcolor\":\"white\",\"linecolor\":\"white\",\"ticks\":\"\"},\"radialaxis\":{\"gridcolor\":\"white\",\"linecolor\":\"white\",\"ticks\":\"\"}},\"ternary\":{\"bgcolor\":\"#E5ECF6\",\"aaxis\":{\"gridcolor\":\"white\",\"linecolor\":\"white\",\"ticks\":\"\"},\"baxis\":{\"gridcolor\":\"white\",\"linecolor\":\"white\",\"ticks\":\"\"},\"caxis\":{\"gridcolor\":\"white\",\"linecolor\":\"white\",\"ticks\":\"\"}},\"coloraxis\":{\"colorbar\":{\"outlinewidth\":0,\"ticks\":\"\"}},\"colorscale\":{\"sequential\":[[0.0,\"#0d0887\"],[0.1111111111111111,\"#46039f\"],[0.2222222222222222,\"#7201a8\"],[0.3333333333333333,\"#9c179e\"],[0.4444444444444444,\"#bd3786\"],[0.5555555555555556,\"#d8576b\"],[0.6666666666666666,\"#ed7953\"],[0.7777777777777778,\"#fb9f3a\"],[0.8888888888888888,\"#fdca26\"],[1.0,\"#f0f921\"]],\"sequentialminus\":[[0.0,\"#0d0887\"],[0.1111111111111111,\"#46039f\"],[0.2222222222222222,\"#7201a8\"],[0.3333333333333333,\"#9c179e\"],[0.4444444444444444,\"#bd3786\"],[0.5555555555555556,\"#d8576b\"],[0.6666666666666666,\"#ed7953\"],[0.7777777777777778,\"#fb9f3a\"],[0.8888888888888888,\"#fdca26\"],[1.0,\"#f0f921\"]],\"diverging\":[[0,\"#8e0152\"],[0.1,\"#c51b7d\"],[0.2,\"#de77ae\"],[0.3,\"#f1b6da\"],[0.4,\"#fde0ef\"],[0.5,\"#f7f7f7\"],[0.6,\"#e6f5d0\"],[0.7,\"#b8e186\"],[0.8,\"#7fbc41\"],[0.9,\"#4d9221\"],[1,\"#276419\"]]},\"xaxis\":{\"gridcolor\":\"white\",\"linecolor\":\"white\",\"ticks\":\"\",\"title\":{\"standoff\":15},\"zerolinecolor\":\"white\",\"automargin\":true,\"zerolinewidth\":2},\"yaxis\":{\"gridcolor\":\"white\",\"linecolor\":\"white\",\"ticks\":\"\",\"title\":{\"standoff\":15},\"zerolinecolor\":\"white\",\"automargin\":true,\"zerolinewidth\":2},\"scene\":{\"xaxis\":{\"backgroundcolor\":\"#E5ECF6\",\"gridcolor\":\"white\",\"linecolor\":\"white\",\"showbackground\":true,\"ticks\":\"\",\"zerolinecolor\":\"white\",\"gridwidth\":2},\"yaxis\":{\"backgroundcolor\":\"#E5ECF6\",\"gridcolor\":\"white\",\"linecolor\":\"white\",\"showbackground\":true,\"ticks\":\"\",\"zerolinecolor\":\"white\",\"gridwidth\":2},\"zaxis\":{\"backgroundcolor\":\"#E5ECF6\",\"gridcolor\":\"white\",\"linecolor\":\"white\",\"showbackground\":true,\"ticks\":\"\",\"zerolinecolor\":\"white\",\"gridwidth\":2}},\"shapedefaults\":{\"line\":{\"color\":\"#2a3f5f\"}},\"annotationdefaults\":{\"arrowcolor\":\"#2a3f5f\",\"arrowhead\":0,\"arrowwidth\":1},\"geo\":{\"bgcolor\":\"white\",\"landcolor\":\"#E5ECF6\",\"subunitcolor\":\"white\",\"showland\":true,\"showlakes\":true,\"lakecolor\":\"white\"},\"title\":{\"x\":0.05},\"mapbox\":{\"style\":\"light\"}}},\"xaxis\":{\"anchor\":\"y\",\"domain\":[0.0,1.0],\"title\":{\"text\":\"$\\\\phi^{II} \\\\; \\\\text{[m]} $\"}},\"yaxis\":{\"anchor\":\"x\",\"domain\":[0.0,1.0],\"title\":{\"text\":\"sum of value\"}},\"legend\":{\"title\":{\"text\":\"SS ID\"},\"tracegroupgap\":0,\"orientation\":\"v\",\"yanchor\":\"top\",\"y\":1.0,\"xanchor\":\"center\",\"x\":1.15},\"margin\":{\"t\":60},\"barmode\":\"group\",\"title\":{\"text\":\"Connection Frequency of CS 115 Among 5000 Samples\",\"y\":0.97,\"x\":0.5,\"xanchor\":\"center\",\"yanchor\":\"top\"},\"plot_bgcolor\":\"rgba(0,0,0,0.05)\"},                        {\"responsive\": true}                    ).then(function(){\n",
       "                            \n",
       "var gd = document.getElementById('3589286f-eefe-477d-ab32-c22bb36707c3');\n",
       "var x = new MutationObserver(function (mutations, observer) {{\n",
       "        var display = window.getComputedStyle(gd).display;\n",
       "        if (!display || display === 'none') {{\n",
       "            console.log([gd, 'removed!']);\n",
       "            Plotly.purge(gd);\n",
       "            observer.disconnect();\n",
       "        }}\n",
       "}});\n",
       "\n",
       "// Listen for the removal of the full notebook cells\n",
       "var notebookContainer = gd.closest('#notebook-container');\n",
       "if (notebookContainer) {{\n",
       "    x.observe(notebookContainer, {childList: true});\n",
       "}}\n",
       "\n",
       "// Listen for the clearing of the current output cell\n",
       "var outputEl = gd.closest('.output');\n",
       "if (outputEl) {{\n",
       "    x.observe(outputEl, {childList: true});\n",
       "}}\n",
       "\n",
       "                        })                };                });            </script>        </div>"
      ]
     },
     "metadata": {},
     "output_type": "display_data"
    }
   ],
   "source": [
    "plot_connection(\n",
    "    droped_zero_vali_df_PHI_II_CS_115,\n",
    "    plot_name = 'Connection Frequency of CS 115 Among 5000 Samples',\n",
    "    legend_text = 'SS ID',    \n",
    "    plot_mode = \"group\"\n",
    "    )"
   ]
  },
  {
   "cell_type": "code",
   "execution_count": 34,
   "metadata": {
    "scrolled": false
   },
   "outputs": [
    {
     "data": {
      "application/vnd.plotly.v1+json": {
       "config": {
        "plotlyServerURL": "https://plot.ly"
       },
       "data": [
        {
         "alignmentgroup": "True",
         "bingroup": "x",
         "cumulative": {
          "enabled": false
         },
         "histfunc": "sum",
         "hovertemplate": "variable=SS 0<br>$\\phi^{II} \\; \\text{[m]} $=%{x}<br>sum of value=%{y}<extra></extra>",
         "legendgroup": "SS 0",
         "marker": {
          "color": "#636efa",
          "pattern": {
           "shape": ""
          }
         },
         "name": "SS 0",
         "offsetgroup": "SS 0",
         "orientation": "v",
         "showlegend": true,
         "type": "histogram",
         "x": [
          "0.0",
          "83.33",
          "166.67",
          "250.0",
          "333.33",
          "416.67",
          "500.0"
         ],
         "xaxis": "x",
         "y": [
          1172,
          1172,
          1164,
          1435,
          1490,
          1618,
          1572
         ],
         "yaxis": "y"
        },
        {
         "alignmentgroup": "True",
         "bingroup": "x",
         "cumulative": {
          "enabled": false
         },
         "histfunc": "sum",
         "hovertemplate": "variable=SS 8<br>$\\phi^{II} \\; \\text{[m]} $=%{x}<br>sum of value=%{y}<extra></extra>",
         "legendgroup": "SS 8",
         "marker": {
          "color": "#EF553B",
          "pattern": {
           "shape": ""
          }
         },
         "name": "SS 8",
         "offsetgroup": "SS 8",
         "orientation": "v",
         "showlegend": true,
         "type": "histogram",
         "x": [
          "0.0",
          "83.33",
          "166.67",
          "250.0",
          "333.33",
          "416.67",
          "500.0"
         ],
         "xaxis": "x",
         "y": [
          3828,
          3828,
          3836,
          3493,
          3396,
          3056,
          3059
         ],
         "yaxis": "y"
        },
        {
         "alignmentgroup": "True",
         "bingroup": "x",
         "cumulative": {
          "enabled": false
         },
         "histfunc": "sum",
         "hovertemplate": "variable=SS 10<br>$\\phi^{II} \\; \\text{[m]} $=%{x}<br>sum of value=%{y}<extra></extra>",
         "legendgroup": "SS 10",
         "marker": {
          "color": "#00cc96",
          "pattern": {
           "shape": ""
          }
         },
         "name": "SS 10",
         "offsetgroup": "SS 10",
         "orientation": "v",
         "showlegend": true,
         "type": "histogram",
         "x": [
          "0.0",
          "83.33",
          "166.67",
          "250.0",
          "333.33",
          "416.67",
          "500.0"
         ],
         "xaxis": "x",
         "y": [
          0,
          0,
          0,
          72,
          114,
          326,
          369
         ],
         "yaxis": "y"
        }
       ],
       "layout": {
        "barmode": "group",
        "legend": {
         "orientation": "v",
         "title": {
          "text": "SS ID"
         },
         "tracegroupgap": 0,
         "x": 1.15,
         "xanchor": "center",
         "y": 1,
         "yanchor": "top"
        },
        "margin": {
         "t": 60
        },
        "plot_bgcolor": "rgba(0,0,0,0.05)",
        "template": {
         "data": {
          "bar": [
           {
            "error_x": {
             "color": "#2a3f5f"
            },
            "error_y": {
             "color": "#2a3f5f"
            },
            "marker": {
             "line": {
              "color": "#E5ECF6",
              "width": 0.5
             },
             "pattern": {
              "fillmode": "overlay",
              "size": 10,
              "solidity": 0.2
             }
            },
            "type": "bar"
           }
          ],
          "barpolar": [
           {
            "marker": {
             "line": {
              "color": "#E5ECF6",
              "width": 0.5
             },
             "pattern": {
              "fillmode": "overlay",
              "size": 10,
              "solidity": 0.2
             }
            },
            "type": "barpolar"
           }
          ],
          "carpet": [
           {
            "aaxis": {
             "endlinecolor": "#2a3f5f",
             "gridcolor": "white",
             "linecolor": "white",
             "minorgridcolor": "white",
             "startlinecolor": "#2a3f5f"
            },
            "baxis": {
             "endlinecolor": "#2a3f5f",
             "gridcolor": "white",
             "linecolor": "white",
             "minorgridcolor": "white",
             "startlinecolor": "#2a3f5f"
            },
            "type": "carpet"
           }
          ],
          "choropleth": [
           {
            "colorbar": {
             "outlinewidth": 0,
             "ticks": ""
            },
            "type": "choropleth"
           }
          ],
          "contour": [
           {
            "colorbar": {
             "outlinewidth": 0,
             "ticks": ""
            },
            "colorscale": [
             [
              0,
              "#0d0887"
             ],
             [
              0.1111111111111111,
              "#46039f"
             ],
             [
              0.2222222222222222,
              "#7201a8"
             ],
             [
              0.3333333333333333,
              "#9c179e"
             ],
             [
              0.4444444444444444,
              "#bd3786"
             ],
             [
              0.5555555555555556,
              "#d8576b"
             ],
             [
              0.6666666666666666,
              "#ed7953"
             ],
             [
              0.7777777777777778,
              "#fb9f3a"
             ],
             [
              0.8888888888888888,
              "#fdca26"
             ],
             [
              1,
              "#f0f921"
             ]
            ],
            "type": "contour"
           }
          ],
          "contourcarpet": [
           {
            "colorbar": {
             "outlinewidth": 0,
             "ticks": ""
            },
            "type": "contourcarpet"
           }
          ],
          "heatmap": [
           {
            "colorbar": {
             "outlinewidth": 0,
             "ticks": ""
            },
            "colorscale": [
             [
              0,
              "#0d0887"
             ],
             [
              0.1111111111111111,
              "#46039f"
             ],
             [
              0.2222222222222222,
              "#7201a8"
             ],
             [
              0.3333333333333333,
              "#9c179e"
             ],
             [
              0.4444444444444444,
              "#bd3786"
             ],
             [
              0.5555555555555556,
              "#d8576b"
             ],
             [
              0.6666666666666666,
              "#ed7953"
             ],
             [
              0.7777777777777778,
              "#fb9f3a"
             ],
             [
              0.8888888888888888,
              "#fdca26"
             ],
             [
              1,
              "#f0f921"
             ]
            ],
            "type": "heatmap"
           }
          ],
          "heatmapgl": [
           {
            "colorbar": {
             "outlinewidth": 0,
             "ticks": ""
            },
            "colorscale": [
             [
              0,
              "#0d0887"
             ],
             [
              0.1111111111111111,
              "#46039f"
             ],
             [
              0.2222222222222222,
              "#7201a8"
             ],
             [
              0.3333333333333333,
              "#9c179e"
             ],
             [
              0.4444444444444444,
              "#bd3786"
             ],
             [
              0.5555555555555556,
              "#d8576b"
             ],
             [
              0.6666666666666666,
              "#ed7953"
             ],
             [
              0.7777777777777778,
              "#fb9f3a"
             ],
             [
              0.8888888888888888,
              "#fdca26"
             ],
             [
              1,
              "#f0f921"
             ]
            ],
            "type": "heatmapgl"
           }
          ],
          "histogram": [
           {
            "marker": {
             "pattern": {
              "fillmode": "overlay",
              "size": 10,
              "solidity": 0.2
             }
            },
            "type": "histogram"
           }
          ],
          "histogram2d": [
           {
            "colorbar": {
             "outlinewidth": 0,
             "ticks": ""
            },
            "colorscale": [
             [
              0,
              "#0d0887"
             ],
             [
              0.1111111111111111,
              "#46039f"
             ],
             [
              0.2222222222222222,
              "#7201a8"
             ],
             [
              0.3333333333333333,
              "#9c179e"
             ],
             [
              0.4444444444444444,
              "#bd3786"
             ],
             [
              0.5555555555555556,
              "#d8576b"
             ],
             [
              0.6666666666666666,
              "#ed7953"
             ],
             [
              0.7777777777777778,
              "#fb9f3a"
             ],
             [
              0.8888888888888888,
              "#fdca26"
             ],
             [
              1,
              "#f0f921"
             ]
            ],
            "type": "histogram2d"
           }
          ],
          "histogram2dcontour": [
           {
            "colorbar": {
             "outlinewidth": 0,
             "ticks": ""
            },
            "colorscale": [
             [
              0,
              "#0d0887"
             ],
             [
              0.1111111111111111,
              "#46039f"
             ],
             [
              0.2222222222222222,
              "#7201a8"
             ],
             [
              0.3333333333333333,
              "#9c179e"
             ],
             [
              0.4444444444444444,
              "#bd3786"
             ],
             [
              0.5555555555555556,
              "#d8576b"
             ],
             [
              0.6666666666666666,
              "#ed7953"
             ],
             [
              0.7777777777777778,
              "#fb9f3a"
             ],
             [
              0.8888888888888888,
              "#fdca26"
             ],
             [
              1,
              "#f0f921"
             ]
            ],
            "type": "histogram2dcontour"
           }
          ],
          "mesh3d": [
           {
            "colorbar": {
             "outlinewidth": 0,
             "ticks": ""
            },
            "type": "mesh3d"
           }
          ],
          "parcoords": [
           {
            "line": {
             "colorbar": {
              "outlinewidth": 0,
              "ticks": ""
             }
            },
            "type": "parcoords"
           }
          ],
          "pie": [
           {
            "automargin": true,
            "type": "pie"
           }
          ],
          "scatter": [
           {
            "fillpattern": {
             "fillmode": "overlay",
             "size": 10,
             "solidity": 0.2
            },
            "type": "scatter"
           }
          ],
          "scatter3d": [
           {
            "line": {
             "colorbar": {
              "outlinewidth": 0,
              "ticks": ""
             }
            },
            "marker": {
             "colorbar": {
              "outlinewidth": 0,
              "ticks": ""
             }
            },
            "type": "scatter3d"
           }
          ],
          "scattercarpet": [
           {
            "marker": {
             "colorbar": {
              "outlinewidth": 0,
              "ticks": ""
             }
            },
            "type": "scattercarpet"
           }
          ],
          "scattergeo": [
           {
            "marker": {
             "colorbar": {
              "outlinewidth": 0,
              "ticks": ""
             }
            },
            "type": "scattergeo"
           }
          ],
          "scattergl": [
           {
            "marker": {
             "colorbar": {
              "outlinewidth": 0,
              "ticks": ""
             }
            },
            "type": "scattergl"
           }
          ],
          "scattermapbox": [
           {
            "marker": {
             "colorbar": {
              "outlinewidth": 0,
              "ticks": ""
             }
            },
            "type": "scattermapbox"
           }
          ],
          "scatterpolar": [
           {
            "marker": {
             "colorbar": {
              "outlinewidth": 0,
              "ticks": ""
             }
            },
            "type": "scatterpolar"
           }
          ],
          "scatterpolargl": [
           {
            "marker": {
             "colorbar": {
              "outlinewidth": 0,
              "ticks": ""
             }
            },
            "type": "scatterpolargl"
           }
          ],
          "scatterternary": [
           {
            "marker": {
             "colorbar": {
              "outlinewidth": 0,
              "ticks": ""
             }
            },
            "type": "scatterternary"
           }
          ],
          "surface": [
           {
            "colorbar": {
             "outlinewidth": 0,
             "ticks": ""
            },
            "colorscale": [
             [
              0,
              "#0d0887"
             ],
             [
              0.1111111111111111,
              "#46039f"
             ],
             [
              0.2222222222222222,
              "#7201a8"
             ],
             [
              0.3333333333333333,
              "#9c179e"
             ],
             [
              0.4444444444444444,
              "#bd3786"
             ],
             [
              0.5555555555555556,
              "#d8576b"
             ],
             [
              0.6666666666666666,
              "#ed7953"
             ],
             [
              0.7777777777777778,
              "#fb9f3a"
             ],
             [
              0.8888888888888888,
              "#fdca26"
             ],
             [
              1,
              "#f0f921"
             ]
            ],
            "type": "surface"
           }
          ],
          "table": [
           {
            "cells": {
             "fill": {
              "color": "#EBF0F8"
             },
             "line": {
              "color": "white"
             }
            },
            "header": {
             "fill": {
              "color": "#C8D4E3"
             },
             "line": {
              "color": "white"
             }
            },
            "type": "table"
           }
          ]
         },
         "layout": {
          "annotationdefaults": {
           "arrowcolor": "#2a3f5f",
           "arrowhead": 0,
           "arrowwidth": 1
          },
          "autotypenumbers": "strict",
          "coloraxis": {
           "colorbar": {
            "outlinewidth": 0,
            "ticks": ""
           }
          },
          "colorscale": {
           "diverging": [
            [
             0,
             "#8e0152"
            ],
            [
             0.1,
             "#c51b7d"
            ],
            [
             0.2,
             "#de77ae"
            ],
            [
             0.3,
             "#f1b6da"
            ],
            [
             0.4,
             "#fde0ef"
            ],
            [
             0.5,
             "#f7f7f7"
            ],
            [
             0.6,
             "#e6f5d0"
            ],
            [
             0.7,
             "#b8e186"
            ],
            [
             0.8,
             "#7fbc41"
            ],
            [
             0.9,
             "#4d9221"
            ],
            [
             1,
             "#276419"
            ]
           ],
           "sequential": [
            [
             0,
             "#0d0887"
            ],
            [
             0.1111111111111111,
             "#46039f"
            ],
            [
             0.2222222222222222,
             "#7201a8"
            ],
            [
             0.3333333333333333,
             "#9c179e"
            ],
            [
             0.4444444444444444,
             "#bd3786"
            ],
            [
             0.5555555555555556,
             "#d8576b"
            ],
            [
             0.6666666666666666,
             "#ed7953"
            ],
            [
             0.7777777777777778,
             "#fb9f3a"
            ],
            [
             0.8888888888888888,
             "#fdca26"
            ],
            [
             1,
             "#f0f921"
            ]
           ],
           "sequentialminus": [
            [
             0,
             "#0d0887"
            ],
            [
             0.1111111111111111,
             "#46039f"
            ],
            [
             0.2222222222222222,
             "#7201a8"
            ],
            [
             0.3333333333333333,
             "#9c179e"
            ],
            [
             0.4444444444444444,
             "#bd3786"
            ],
            [
             0.5555555555555556,
             "#d8576b"
            ],
            [
             0.6666666666666666,
             "#ed7953"
            ],
            [
             0.7777777777777778,
             "#fb9f3a"
            ],
            [
             0.8888888888888888,
             "#fdca26"
            ],
            [
             1,
             "#f0f921"
            ]
           ]
          },
          "colorway": [
           "#636efa",
           "#EF553B",
           "#00cc96",
           "#ab63fa",
           "#FFA15A",
           "#19d3f3",
           "#FF6692",
           "#B6E880",
           "#FF97FF",
           "#FECB52"
          ],
          "font": {
           "color": "#2a3f5f"
          },
          "geo": {
           "bgcolor": "white",
           "lakecolor": "white",
           "landcolor": "#E5ECF6",
           "showlakes": true,
           "showland": true,
           "subunitcolor": "white"
          },
          "hoverlabel": {
           "align": "left"
          },
          "hovermode": "closest",
          "mapbox": {
           "style": "light"
          },
          "paper_bgcolor": "white",
          "plot_bgcolor": "#E5ECF6",
          "polar": {
           "angularaxis": {
            "gridcolor": "white",
            "linecolor": "white",
            "ticks": ""
           },
           "bgcolor": "#E5ECF6",
           "radialaxis": {
            "gridcolor": "white",
            "linecolor": "white",
            "ticks": ""
           }
          },
          "scene": {
           "xaxis": {
            "backgroundcolor": "#E5ECF6",
            "gridcolor": "white",
            "gridwidth": 2,
            "linecolor": "white",
            "showbackground": true,
            "ticks": "",
            "zerolinecolor": "white"
           },
           "yaxis": {
            "backgroundcolor": "#E5ECF6",
            "gridcolor": "white",
            "gridwidth": 2,
            "linecolor": "white",
            "showbackground": true,
            "ticks": "",
            "zerolinecolor": "white"
           },
           "zaxis": {
            "backgroundcolor": "#E5ECF6",
            "gridcolor": "white",
            "gridwidth": 2,
            "linecolor": "white",
            "showbackground": true,
            "ticks": "",
            "zerolinecolor": "white"
           }
          },
          "shapedefaults": {
           "line": {
            "color": "#2a3f5f"
           }
          },
          "ternary": {
           "aaxis": {
            "gridcolor": "white",
            "linecolor": "white",
            "ticks": ""
           },
           "baxis": {
            "gridcolor": "white",
            "linecolor": "white",
            "ticks": ""
           },
           "bgcolor": "#E5ECF6",
           "caxis": {
            "gridcolor": "white",
            "linecolor": "white",
            "ticks": ""
           }
          },
          "title": {
           "x": 0.05
          },
          "xaxis": {
           "automargin": true,
           "gridcolor": "white",
           "linecolor": "white",
           "ticks": "",
           "title": {
            "standoff": 15
           },
           "zerolinecolor": "white",
           "zerolinewidth": 2
          },
          "yaxis": {
           "automargin": true,
           "gridcolor": "white",
           "linecolor": "white",
           "ticks": "",
           "title": {
            "standoff": 15
           },
           "zerolinecolor": "white",
           "zerolinewidth": 2
          }
         }
        },
        "title": {
         "text": "Connection Frequency of CS 58 Among 5000 Samples",
         "x": 0.5,
         "xanchor": "center",
         "y": 0.97,
         "yanchor": "top"
        },
        "xaxis": {
         "anchor": "y",
         "domain": [
          0,
          1
         ],
         "title": {
          "text": "$\\phi^{II} \\; \\text{[m]} $"
         }
        },
        "yaxis": {
         "anchor": "x",
         "domain": [
          0,
          1
         ],
         "title": {
          "text": "sum of value"
         }
        }
       }
      },
      "text/html": [
       "<div>                            <div id=\"30360038-a27c-44e0-bc43-40a75da5e094\" class=\"plotly-graph-div\" style=\"height:525px; width:100%;\"></div>            <script type=\"text/javascript\">                require([\"plotly\"], function(Plotly) {                    window.PLOTLYENV=window.PLOTLYENV || {};                                    if (document.getElementById(\"30360038-a27c-44e0-bc43-40a75da5e094\")) {                    Plotly.newPlot(                        \"30360038-a27c-44e0-bc43-40a75da5e094\",                        [{\"alignmentgroup\":\"True\",\"bingroup\":\"x\",\"cumulative\":{\"enabled\":false},\"histfunc\":\"sum\",\"hovertemplate\":\"variable=SS 0<br>$\\\\phi^{II} \\\\; \\\\text{[m]} $=%{x}<br>sum of value=%{y}<extra></extra>\",\"legendgroup\":\"SS 0\",\"marker\":{\"color\":\"#636efa\",\"pattern\":{\"shape\":\"\"}},\"name\":\"SS 0\",\"offsetgroup\":\"SS 0\",\"orientation\":\"v\",\"showlegend\":true,\"x\":[\"0.0\",\"83.33\",\"166.67\",\"250.0\",\"333.33\",\"416.67\",\"500.0\"],\"xaxis\":\"x\",\"y\":[1172,1172,1164,1435,1490,1618,1572],\"yaxis\":\"y\",\"type\":\"histogram\"},{\"alignmentgroup\":\"True\",\"bingroup\":\"x\",\"cumulative\":{\"enabled\":false},\"histfunc\":\"sum\",\"hovertemplate\":\"variable=SS 8<br>$\\\\phi^{II} \\\\; \\\\text{[m]} $=%{x}<br>sum of value=%{y}<extra></extra>\",\"legendgroup\":\"SS 8\",\"marker\":{\"color\":\"#EF553B\",\"pattern\":{\"shape\":\"\"}},\"name\":\"SS 8\",\"offsetgroup\":\"SS 8\",\"orientation\":\"v\",\"showlegend\":true,\"x\":[\"0.0\",\"83.33\",\"166.67\",\"250.0\",\"333.33\",\"416.67\",\"500.0\"],\"xaxis\":\"x\",\"y\":[3828,3828,3836,3493,3396,3056,3059],\"yaxis\":\"y\",\"type\":\"histogram\"},{\"alignmentgroup\":\"True\",\"bingroup\":\"x\",\"cumulative\":{\"enabled\":false},\"histfunc\":\"sum\",\"hovertemplate\":\"variable=SS 10<br>$\\\\phi^{II} \\\\; \\\\text{[m]} $=%{x}<br>sum of value=%{y}<extra></extra>\",\"legendgroup\":\"SS 10\",\"marker\":{\"color\":\"#00cc96\",\"pattern\":{\"shape\":\"\"}},\"name\":\"SS 10\",\"offsetgroup\":\"SS 10\",\"orientation\":\"v\",\"showlegend\":true,\"x\":[\"0.0\",\"83.33\",\"166.67\",\"250.0\",\"333.33\",\"416.67\",\"500.0\"],\"xaxis\":\"x\",\"y\":[0,0,0,72,114,326,369],\"yaxis\":\"y\",\"type\":\"histogram\"}],                        {\"template\":{\"data\":{\"histogram2dcontour\":[{\"type\":\"histogram2dcontour\",\"colorbar\":{\"outlinewidth\":0,\"ticks\":\"\"},\"colorscale\":[[0.0,\"#0d0887\"],[0.1111111111111111,\"#46039f\"],[0.2222222222222222,\"#7201a8\"],[0.3333333333333333,\"#9c179e\"],[0.4444444444444444,\"#bd3786\"],[0.5555555555555556,\"#d8576b\"],[0.6666666666666666,\"#ed7953\"],[0.7777777777777778,\"#fb9f3a\"],[0.8888888888888888,\"#fdca26\"],[1.0,\"#f0f921\"]]}],\"choropleth\":[{\"type\":\"choropleth\",\"colorbar\":{\"outlinewidth\":0,\"ticks\":\"\"}}],\"histogram2d\":[{\"type\":\"histogram2d\",\"colorbar\":{\"outlinewidth\":0,\"ticks\":\"\"},\"colorscale\":[[0.0,\"#0d0887\"],[0.1111111111111111,\"#46039f\"],[0.2222222222222222,\"#7201a8\"],[0.3333333333333333,\"#9c179e\"],[0.4444444444444444,\"#bd3786\"],[0.5555555555555556,\"#d8576b\"],[0.6666666666666666,\"#ed7953\"],[0.7777777777777778,\"#fb9f3a\"],[0.8888888888888888,\"#fdca26\"],[1.0,\"#f0f921\"]]}],\"heatmap\":[{\"type\":\"heatmap\",\"colorbar\":{\"outlinewidth\":0,\"ticks\":\"\"},\"colorscale\":[[0.0,\"#0d0887\"],[0.1111111111111111,\"#46039f\"],[0.2222222222222222,\"#7201a8\"],[0.3333333333333333,\"#9c179e\"],[0.4444444444444444,\"#bd3786\"],[0.5555555555555556,\"#d8576b\"],[0.6666666666666666,\"#ed7953\"],[0.7777777777777778,\"#fb9f3a\"],[0.8888888888888888,\"#fdca26\"],[1.0,\"#f0f921\"]]}],\"heatmapgl\":[{\"type\":\"heatmapgl\",\"colorbar\":{\"outlinewidth\":0,\"ticks\":\"\"},\"colorscale\":[[0.0,\"#0d0887\"],[0.1111111111111111,\"#46039f\"],[0.2222222222222222,\"#7201a8\"],[0.3333333333333333,\"#9c179e\"],[0.4444444444444444,\"#bd3786\"],[0.5555555555555556,\"#d8576b\"],[0.6666666666666666,\"#ed7953\"],[0.7777777777777778,\"#fb9f3a\"],[0.8888888888888888,\"#fdca26\"],[1.0,\"#f0f921\"]]}],\"contourcarpet\":[{\"type\":\"contourcarpet\",\"colorbar\":{\"outlinewidth\":0,\"ticks\":\"\"}}],\"contour\":[{\"type\":\"contour\",\"colorbar\":{\"outlinewidth\":0,\"ticks\":\"\"},\"colorscale\":[[0.0,\"#0d0887\"],[0.1111111111111111,\"#46039f\"],[0.2222222222222222,\"#7201a8\"],[0.3333333333333333,\"#9c179e\"],[0.4444444444444444,\"#bd3786\"],[0.5555555555555556,\"#d8576b\"],[0.6666666666666666,\"#ed7953\"],[0.7777777777777778,\"#fb9f3a\"],[0.8888888888888888,\"#fdca26\"],[1.0,\"#f0f921\"]]}],\"surface\":[{\"type\":\"surface\",\"colorbar\":{\"outlinewidth\":0,\"ticks\":\"\"},\"colorscale\":[[0.0,\"#0d0887\"],[0.1111111111111111,\"#46039f\"],[0.2222222222222222,\"#7201a8\"],[0.3333333333333333,\"#9c179e\"],[0.4444444444444444,\"#bd3786\"],[0.5555555555555556,\"#d8576b\"],[0.6666666666666666,\"#ed7953\"],[0.7777777777777778,\"#fb9f3a\"],[0.8888888888888888,\"#fdca26\"],[1.0,\"#f0f921\"]]}],\"mesh3d\":[{\"type\":\"mesh3d\",\"colorbar\":{\"outlinewidth\":0,\"ticks\":\"\"}}],\"scatter\":[{\"fillpattern\":{\"fillmode\":\"overlay\",\"size\":10,\"solidity\":0.2},\"type\":\"scatter\"}],\"parcoords\":[{\"type\":\"parcoords\",\"line\":{\"colorbar\":{\"outlinewidth\":0,\"ticks\":\"\"}}}],\"scatterpolargl\":[{\"type\":\"scatterpolargl\",\"marker\":{\"colorbar\":{\"outlinewidth\":0,\"ticks\":\"\"}}}],\"bar\":[{\"error_x\":{\"color\":\"#2a3f5f\"},\"error_y\":{\"color\":\"#2a3f5f\"},\"marker\":{\"line\":{\"color\":\"#E5ECF6\",\"width\":0.5},\"pattern\":{\"fillmode\":\"overlay\",\"size\":10,\"solidity\":0.2}},\"type\":\"bar\"}],\"scattergeo\":[{\"type\":\"scattergeo\",\"marker\":{\"colorbar\":{\"outlinewidth\":0,\"ticks\":\"\"}}}],\"scatterpolar\":[{\"type\":\"scatterpolar\",\"marker\":{\"colorbar\":{\"outlinewidth\":0,\"ticks\":\"\"}}}],\"histogram\":[{\"marker\":{\"pattern\":{\"fillmode\":\"overlay\",\"size\":10,\"solidity\":0.2}},\"type\":\"histogram\"}],\"scattergl\":[{\"type\":\"scattergl\",\"marker\":{\"colorbar\":{\"outlinewidth\":0,\"ticks\":\"\"}}}],\"scatter3d\":[{\"type\":\"scatter3d\",\"line\":{\"colorbar\":{\"outlinewidth\":0,\"ticks\":\"\"}},\"marker\":{\"colorbar\":{\"outlinewidth\":0,\"ticks\":\"\"}}}],\"scattermapbox\":[{\"type\":\"scattermapbox\",\"marker\":{\"colorbar\":{\"outlinewidth\":0,\"ticks\":\"\"}}}],\"scatterternary\":[{\"type\":\"scatterternary\",\"marker\":{\"colorbar\":{\"outlinewidth\":0,\"ticks\":\"\"}}}],\"scattercarpet\":[{\"type\":\"scattercarpet\",\"marker\":{\"colorbar\":{\"outlinewidth\":0,\"ticks\":\"\"}}}],\"carpet\":[{\"aaxis\":{\"endlinecolor\":\"#2a3f5f\",\"gridcolor\":\"white\",\"linecolor\":\"white\",\"minorgridcolor\":\"white\",\"startlinecolor\":\"#2a3f5f\"},\"baxis\":{\"endlinecolor\":\"#2a3f5f\",\"gridcolor\":\"white\",\"linecolor\":\"white\",\"minorgridcolor\":\"white\",\"startlinecolor\":\"#2a3f5f\"},\"type\":\"carpet\"}],\"table\":[{\"cells\":{\"fill\":{\"color\":\"#EBF0F8\"},\"line\":{\"color\":\"white\"}},\"header\":{\"fill\":{\"color\":\"#C8D4E3\"},\"line\":{\"color\":\"white\"}},\"type\":\"table\"}],\"barpolar\":[{\"marker\":{\"line\":{\"color\":\"#E5ECF6\",\"width\":0.5},\"pattern\":{\"fillmode\":\"overlay\",\"size\":10,\"solidity\":0.2}},\"type\":\"barpolar\"}],\"pie\":[{\"automargin\":true,\"type\":\"pie\"}]},\"layout\":{\"autotypenumbers\":\"strict\",\"colorway\":[\"#636efa\",\"#EF553B\",\"#00cc96\",\"#ab63fa\",\"#FFA15A\",\"#19d3f3\",\"#FF6692\",\"#B6E880\",\"#FF97FF\",\"#FECB52\"],\"font\":{\"color\":\"#2a3f5f\"},\"hovermode\":\"closest\",\"hoverlabel\":{\"align\":\"left\"},\"paper_bgcolor\":\"white\",\"plot_bgcolor\":\"#E5ECF6\",\"polar\":{\"bgcolor\":\"#E5ECF6\",\"angularaxis\":{\"gridcolor\":\"white\",\"linecolor\":\"white\",\"ticks\":\"\"},\"radialaxis\":{\"gridcolor\":\"white\",\"linecolor\":\"white\",\"ticks\":\"\"}},\"ternary\":{\"bgcolor\":\"#E5ECF6\",\"aaxis\":{\"gridcolor\":\"white\",\"linecolor\":\"white\",\"ticks\":\"\"},\"baxis\":{\"gridcolor\":\"white\",\"linecolor\":\"white\",\"ticks\":\"\"},\"caxis\":{\"gridcolor\":\"white\",\"linecolor\":\"white\",\"ticks\":\"\"}},\"coloraxis\":{\"colorbar\":{\"outlinewidth\":0,\"ticks\":\"\"}},\"colorscale\":{\"sequential\":[[0.0,\"#0d0887\"],[0.1111111111111111,\"#46039f\"],[0.2222222222222222,\"#7201a8\"],[0.3333333333333333,\"#9c179e\"],[0.4444444444444444,\"#bd3786\"],[0.5555555555555556,\"#d8576b\"],[0.6666666666666666,\"#ed7953\"],[0.7777777777777778,\"#fb9f3a\"],[0.8888888888888888,\"#fdca26\"],[1.0,\"#f0f921\"]],\"sequentialminus\":[[0.0,\"#0d0887\"],[0.1111111111111111,\"#46039f\"],[0.2222222222222222,\"#7201a8\"],[0.3333333333333333,\"#9c179e\"],[0.4444444444444444,\"#bd3786\"],[0.5555555555555556,\"#d8576b\"],[0.6666666666666666,\"#ed7953\"],[0.7777777777777778,\"#fb9f3a\"],[0.8888888888888888,\"#fdca26\"],[1.0,\"#f0f921\"]],\"diverging\":[[0,\"#8e0152\"],[0.1,\"#c51b7d\"],[0.2,\"#de77ae\"],[0.3,\"#f1b6da\"],[0.4,\"#fde0ef\"],[0.5,\"#f7f7f7\"],[0.6,\"#e6f5d0\"],[0.7,\"#b8e186\"],[0.8,\"#7fbc41\"],[0.9,\"#4d9221\"],[1,\"#276419\"]]},\"xaxis\":{\"gridcolor\":\"white\",\"linecolor\":\"white\",\"ticks\":\"\",\"title\":{\"standoff\":15},\"zerolinecolor\":\"white\",\"automargin\":true,\"zerolinewidth\":2},\"yaxis\":{\"gridcolor\":\"white\",\"linecolor\":\"white\",\"ticks\":\"\",\"title\":{\"standoff\":15},\"zerolinecolor\":\"white\",\"automargin\":true,\"zerolinewidth\":2},\"scene\":{\"xaxis\":{\"backgroundcolor\":\"#E5ECF6\",\"gridcolor\":\"white\",\"linecolor\":\"white\",\"showbackground\":true,\"ticks\":\"\",\"zerolinecolor\":\"white\",\"gridwidth\":2},\"yaxis\":{\"backgroundcolor\":\"#E5ECF6\",\"gridcolor\":\"white\",\"linecolor\":\"white\",\"showbackground\":true,\"ticks\":\"\",\"zerolinecolor\":\"white\",\"gridwidth\":2},\"zaxis\":{\"backgroundcolor\":\"#E5ECF6\",\"gridcolor\":\"white\",\"linecolor\":\"white\",\"showbackground\":true,\"ticks\":\"\",\"zerolinecolor\":\"white\",\"gridwidth\":2}},\"shapedefaults\":{\"line\":{\"color\":\"#2a3f5f\"}},\"annotationdefaults\":{\"arrowcolor\":\"#2a3f5f\",\"arrowhead\":0,\"arrowwidth\":1},\"geo\":{\"bgcolor\":\"white\",\"landcolor\":\"#E5ECF6\",\"subunitcolor\":\"white\",\"showland\":true,\"showlakes\":true,\"lakecolor\":\"white\"},\"title\":{\"x\":0.05},\"mapbox\":{\"style\":\"light\"}}},\"xaxis\":{\"anchor\":\"y\",\"domain\":[0.0,1.0],\"title\":{\"text\":\"$\\\\phi^{II} \\\\; \\\\text{[m]} $\"}},\"yaxis\":{\"anchor\":\"x\",\"domain\":[0.0,1.0],\"title\":{\"text\":\"sum of value\"}},\"legend\":{\"title\":{\"text\":\"SS ID\"},\"tracegroupgap\":0,\"orientation\":\"v\",\"yanchor\":\"top\",\"y\":1.0,\"xanchor\":\"center\",\"x\":1.15},\"margin\":{\"t\":60},\"barmode\":\"group\",\"title\":{\"text\":\"Connection Frequency of CS 58 Among 5000 Samples\",\"y\":0.97,\"x\":0.5,\"xanchor\":\"center\",\"yanchor\":\"top\"},\"plot_bgcolor\":\"rgba(0,0,0,0.05)\"},                        {\"responsive\": true}                    ).then(function(){\n",
       "                            \n",
       "var gd = document.getElementById('30360038-a27c-44e0-bc43-40a75da5e094');\n",
       "var x = new MutationObserver(function (mutations, observer) {{\n",
       "        var display = window.getComputedStyle(gd).display;\n",
       "        if (!display || display === 'none') {{\n",
       "            console.log([gd, 'removed!']);\n",
       "            Plotly.purge(gd);\n",
       "            observer.disconnect();\n",
       "        }}\n",
       "}});\n",
       "\n",
       "// Listen for the removal of the full notebook cells\n",
       "var notebookContainer = gd.closest('#notebook-container');\n",
       "if (notebookContainer) {{\n",
       "    x.observe(notebookContainer, {childList: true});\n",
       "}}\n",
       "\n",
       "// Listen for the clearing of the current output cell\n",
       "var outputEl = gd.closest('.output');\n",
       "if (outputEl) {{\n",
       "    x.observe(outputEl, {childList: true});\n",
       "}}\n",
       "\n",
       "                        })                };                });            </script>        </div>"
      ]
     },
     "metadata": {},
     "output_type": "display_data"
    }
   ],
   "source": [
    "plot_connection(\n",
    "    droped_zero_vali_df_PHI_II_CS_58,\n",
    "    plot_name = 'Connection Frequency of CS 58 Among 5000 Samples',\n",
    "    legend_text = 'SS ID',    \n",
    "    plot_mode = \"group\"    \n",
    "    )"
   ]
  },
  {
   "cell_type": "markdown",
   "metadata": {},
   "source": [
    "## Section 2: Generate Random Scenarios for CS-SS Connection"
   ]
  },
  {
   "cell_type": "code",
   "execution_count": 303,
   "metadata": {
    "scrolled": true
   },
   "outputs": [
    {
     "name": "stdout",
     "output_type": "stream",
     "text": [
      "Set up an auxilliary model and calculate distances and distance decay factors between CSs and SSs to either deal with isolated nodes or generate connection scenarios for stochastic EVCSAP\n",
      "Done! Process took 0.12 seconds.\n"
     ]
    }
   ],
   "source": [
    "###############################################################\n",
    "####    Generate stochstic cs-ss connection scenarios    ######\n",
    "cs_ss_con_sce_auxi_model = Sceg.get_auxi_model(\n",
    "    setup_dict = csap_setup_dict\n",
    "    )\n",
    "# all_connection_sces_dict, all_connect_prob_dict = Sceg._generate_cs_ss_connection_sces(\n",
    "# all_connection_sces_dict = Sceg._generate_cs_ss_connection_sces(\n",
    "#     num_scenarios = 20000,\n",
    "#     auxi_model = cs_ss_con_sce_auxi_model,\n",
    "#     save_prob_matrices = False #True\n",
    "#     )\n",
    "# Save generated connection scenarios\n",
    "# import pickle \n",
    "# with open('20k_con_sces_dropped_isl.pickle', 'wb') as f:\n",
    "#     pickle.dump(all_connection_sces_dict, f)\n",
    "# with open('20k_con_probs_dropped_isl.pickle', 'wb') as f:\n",
    "#     pickle.dump(all_connect_prob_dict, f)\n"
   ]
  },
  {
   "cell_type": "code",
   "execution_count": null,
   "metadata": {},
   "outputs": [],
   "source": [
    "# generated_scenarios = pd.read_pickle('C:\\Users\\z004ffpm\\Work_Documents\\CSallocModel\\model_evcsap\\stochastic_model\\Validation_02_Dec\\20k_con_sces_dropped_isl.pickle')\n",
    "\n",
    "# total_connection_matrixm, mpdp_connection_sce = \\\n",
    "#     Sceg._get_total_con_matrix_and_mpdp_con_sce(\n",
    "#         generated_connections = generated_scenarios\n",
    "#     )\n",
    "# Sceg._get_total_num_sces(total_connection_matrixm)"
   ]
  },
  {
   "cell_type": "markdown",
   "metadata": {},
   "source": [
    "### Visulalize some cs-ss connection scenarios "
   ]
  },
  {
   "cell_type": "code",
   "execution_count": 304,
   "metadata": {
    "scrolled": true
   },
   "outputs": [
    {
     "data": {
      "image/png": "[encoded data removed]",
      "text/plain": [
       "<Figure size 3240x2304 with 1 Axes>"
      ]
     },
     "metadata": {},
     "output_type": "display_data"
    }
   ],
   "source": [
    "mpdp_connection_dict = {'mpdp_connection': mpdp_connection_sce}\n",
    "Sceg._plot_cs_ss_connection_graph(\n",
    "        cs_ss_con_sce_auxi_model, \n",
    "        mpdp_connection_dict, 'mpdp_connection'\n",
    "        )"
   ]
  },
  {
   "cell_type": "code",
   "execution_count": 83,
   "metadata": {},
   "outputs": [
    {
     "data": {
      "image/png": "[encoded data removed]",
      "text/plain": [
       "<Figure size 3240x2304 with 1 Axes>"
      ]
     },
     "metadata": {},
     "output_type": "display_data"
    },
    {
     "data": {
      "image/png": "[encoded data removed]",
      "text/plain": [
       "<Figure size 3240x2304 with 1 Axes>"
      ]
     },
     "metadata": {},
     "output_type": "display_data"
    },
    {
     "data": {
      "image/png": "[encoded data removed]",
      "text/plain": [
       "<Figure size 3240x2304 with 1 Axes>"
      ]
     },
     "metadata": {},
     "output_type": "display_data"
    }
   ],
   "source": [
    "# sce_id = '19'\n",
    "# # Sceg.\n",
    "for sce_id in [str(i) for i in range(19,22)]:\n",
    "    Sceg._plot_cs_ss_connection_graph(\n",
    "        cs_ss_con_sce_auxi_model, \n",
    "        generated_scenarios, \n",
    "        sce_id\n",
    "        )"
   ]
  },
  {
   "cell_type": "code",
   "execution_count": 45,
   "metadata": {
    "scrolled": true
   },
   "outputs": [
    {
     "name": "stdout",
     "output_type": "stream",
     "text": [
      "0, 0/60, 0.0\n",
      "Set up an auxilliary model and calculate distances and distance decay factors between CSs and SSs to either deal with isolated nodes or generate connection scenarios for stochastic EVCSAP\n",
      "Done! Process took 0.16 seconds.\n",
      "0.0\n"
     ]
    },
    {
     "name": "stderr",
     "output_type": "stream",
     "text": [
      "generating connection scenario: 100%|██████████████████████████████████████████████| 5000/5000 [04:13<00:00, 19.73it/s]\n"
     ]
    },
    {
     "name": "stdout",
     "output_type": "stream",
     "text": [
      "1, 1/60, 0.016666666666666666\n",
      "Set up an auxilliary model and calculate distances and distance decay factors between CSs and SSs to either deal with isolated nodes or generate connection scenarios for stochastic EVCSAP\n",
      "Done! Process took 0.23 seconds.\n",
      "0.016666666666666666\n"
     ]
    },
    {
     "name": "stderr",
     "output_type": "stream",
     "text": [
      "generating connection scenario: 100%|██████████████████████████████████████████████| 5000/5000 [04:02<00:00, 20.58it/s]\n"
     ]
    },
    {
     "name": "stdout",
     "output_type": "stream",
     "text": [
      "2, 2/60, 0.03333333333333333\n",
      "Set up an auxilliary model and calculate distances and distance decay factors between CSs and SSs to either deal with isolated nodes or generate connection scenarios for stochastic EVCSAP\n",
      "Done! Process took 0.15 seconds.\n",
      "0.03333333333333333\n"
     ]
    },
    {
     "name": "stderr",
     "output_type": "stream",
     "text": [
      "generating connection scenario: 100%|██████████████████████████████████████████████| 5000/5000 [03:44<00:00, 22.22it/s]\n"
     ]
    },
    {
     "name": "stdout",
     "output_type": "stream",
     "text": [
      "3, 3/60, 0.05\n",
      "Set up an auxilliary model and calculate distances and distance decay factors between CSs and SSs to either deal with isolated nodes or generate connection scenarios for stochastic EVCSAP\n",
      "Done! Process took 0.12 seconds.\n",
      "0.05\n"
     ]
    },
    {
     "name": "stderr",
     "output_type": "stream",
     "text": [
      "generating connection scenario: 100%|██████████████████████████████████████████████| 5000/5000 [03:58<00:00, 20.94it/s]\n"
     ]
    },
    {
     "name": "stdout",
     "output_type": "stream",
     "text": [
      "4, 4/60, 0.06666666666666667\n",
      "Set up an auxilliary model and calculate distances and distance decay factors between CSs and SSs to either deal with isolated nodes or generate connection scenarios for stochastic EVCSAP\n",
      "Done! Process took 0.11 seconds.\n",
      "0.06666666666666667\n"
     ]
    },
    {
     "name": "stderr",
     "output_type": "stream",
     "text": [
      "generating connection scenario: 100%|██████████████████████████████████████████████| 5000/5000 [03:56<00:00, 21.17it/s]\n"
     ]
    },
    {
     "name": "stdout",
     "output_type": "stream",
     "text": [
      "5, 5/60, 0.08333333333333333\n",
      "Set up an auxilliary model and calculate distances and distance decay factors between CSs and SSs to either deal with isolated nodes or generate connection scenarios for stochastic EVCSAP\n",
      "Done! Process took 0.12 seconds.\n",
      "0.08333333333333333\n"
     ]
    },
    {
     "name": "stderr",
     "output_type": "stream",
     "text": [
      "generating connection scenario: 100%|██████████████████████████████████████████████| 5000/5000 [04:27<00:00, 18.72it/s]\n"
     ]
    },
    {
     "name": "stdout",
     "output_type": "stream",
     "text": [
      "6, 6/60, 0.1\n",
      "Set up an auxilliary model and calculate distances and distance decay factors between CSs and SSs to either deal with isolated nodes or generate connection scenarios for stochastic EVCSAP\n",
      "Done! Process took 0.22 seconds.\n",
      "0.1\n"
     ]
    },
    {
     "name": "stderr",
     "output_type": "stream",
     "text": [
      "generating connection scenario: 100%|██████████████████████████████████████████████| 5000/5000 [04:05<00:00, 20.36it/s]\n"
     ]
    }
   ],
   "source": [
    "str_phi_II_IJ_list = [f'{i}/60' for i in range(0,7)]\n",
    "float_phi_II_IJ_list = [i/60 for i in range(0,7)]\n",
    "\n",
    "vali_df_PHI_II_CS_115 = pd.DataFrame(index = str_phi_II_IJ_list, \n",
    "                              columns = list(va_cs_ss_con_sce_auxi_model.K))\n",
    "vali_df_PHI_II_CS_115.index.name = 'Phi_II (in hour)'\n",
    "vali_df_PHI_II_CS_115.sort_index(axis=1, inplace = True)\n",
    "\n",
    "\n",
    "vali_df_PHI_II_CS_58 = pd.DataFrame(index = str_phi_II_IJ_list, \n",
    "                              columns = list(va_cs_ss_con_sce_auxi_model.K))\n",
    "vali_df_PHI_II_CS_58.index.name = 'Phi_II (in hour)'\n",
    "vali_df_PHI_II_CS_58.sort_index(axis=1, inplace = True)\n",
    "\n",
    "\n",
    "vali_df_PHI_II_SS_10 = pd.DataFrame(index = str_phi_II_IJ_list, \n",
    "                              columns = list(va_cs_ss_con_sce_auxi_model.I))\n",
    "vali_df_PHI_II_SS_10.index.name = 'Phi_II (in hour)'\n",
    "vali_df_PHI_II_SS_10.sort_index(axis=1, inplace = True)\n",
    "\n",
    "\n",
    "phi_II_test_dict = dict()\n",
    "\n",
    "for idx, phi_II in enumerate(str_phi_II_IJ_list):\n",
    "    copy_csap_setup_dict['params_cs']['phi_II'] = float_phi_II_IJ_list[idx]\n",
    "    print(f\"{idx}, {phi_II}, {copy_csap_setup_dict['params_cs']['phi_II']}\")\n",
    "    va_cs_ss_con_sce_auxi_model = Sceg.get_auxi_model(\n",
    "        setup_dict = copy_csap_setup_dict\n",
    "    )\n",
    "    print(pyo.value(va_cs_ss_con_sce_auxi_model.phi_II))\n",
    "    all_connection_sces_dict_vali = Sceg._generate_cs_ss_connection_sces(\n",
    "        num_scenarios = 5000,\n",
    "        auxi_model = va_cs_ss_con_sce_auxi_model,\n",
    "        save_prob_matrices = False\n",
    "        )\n",
    "    \n",
    "    total_conc_matrix_vali, _ = \\\n",
    "        Sceg._get_total_con_matrix_and_mpdp_con_sce(\n",
    "            generated_connections = all_connection_sces_dict_vali\n",
    "        )\n",
    "    phi_II_test_dict[phi_II] = total_conc_matrix_vali\n",
    "    vali_df_PHI_II_SS_10.iloc[idx, ] = total_conc_matrix_vali[10]\n",
    "    vali_df_PHI_II_CS_58.iloc[idx, :] = total_conc_matrix_vali.loc[58,:]    \n",
    "    vali_df_PHI_II_CS_115.iloc[idx, :] = total_conc_matrix_vali.loc[115,:]\n",
    "with open('vali_7_phi_II_sces5k.pickle', 'wb') as f:\n",
    "    pickle.dump(phi_II_test_dict, f)"
   ]
  },
  {
   "cell_type": "code",
   "execution_count": null,
   "metadata": {},
   "outputs": [],
   "source": [
    "\n",
    "\n",
    "import plotly.express as px\n",
    "# from plotly.subplots import make_subplots\n",
    "import plotly.graph_objects as go\n",
    "\n",
    "\n",
    "def phi_II_vali():\n",
    "    \"\"\" Just backup from Jupyternotebook in case for later usage.. Can't run it in .py script alone.\"\"\"\n",
    "    str_phi_II_IJ_list = [f'{i}/60' for i in range(0,7)]\n",
    "    float_phi_II_IJ_list = [i/60 for i in range(0,7)]\n",
    "\n",
    "    vali_df_PHI_II_CS_115 = pd.DataFrame(index = str_phi_II_IJ_list, \n",
    "                                columns = list(va_cs_ss_con_sce_auxi_model.K))\n",
    "    vali_df_PHI_II_CS_115.index.name = 'Phi_II (in hour)'\n",
    "    vali_df_PHI_II_CS_115.sort_index(axis=1, inplace = True)\n",
    "\n",
    "\n",
    "    vali_df_PHI_II_CS_58 = pd.DataFrame(index = str_phi_II_IJ_list, \n",
    "                                columns = list(va_cs_ss_con_sce_auxi_model.K))\n",
    "    vali_df_PHI_II_CS_58.index.name = 'Phi_II (in hour)'\n",
    "    vali_df_PHI_II_CS_58.sort_index(axis=1, inplace = True)\n",
    "\n",
    "\n",
    "    vali_df_PHI_II_SS_10 = pd.DataFrame(index = str_phi_II_IJ_list, \n",
    "                                columns = list(va_cs_ss_con_sce_auxi_model.I))\n",
    "    vali_df_PHI_II_SS_10.index.name = 'Phi_II (in hour)'\n",
    "    vali_df_PHI_II_SS_10.sort_index(axis=1, inplace = True)\n",
    "\n",
    "    phi_II_test_dict = dict()\n",
    "\n",
    "    for idx, phi_II in enumerate(str_phi_II_IJ_list):\n",
    "        copy_csap_setup_dict['params_cs']['phi_II'] = float_phi_II_IJ_list[idx]\n",
    "        print(f\"{idx}, {phi_II}, {copy_csap_setup_dict['params_cs']['phi_II']}\")\n",
    "        va_cs_ss_con_sce_auxi_model = Sceg.get_auxi_model(\n",
    "            setup_dict = copy_csap_setup_dict\n",
    "        )\n",
    "        print(pyo.value(va_cs_ss_con_sce_auxi_model.phi_II))\n",
    "        all_connection_sces_dict_vali = Sceg._generate_cs_ss_connection_sces(\n",
    "            num_scenarios = 5000,\n",
    "            auxi_model = va_cs_ss_con_sce_auxi_model,\n",
    "            save_prob_matrices = False\n",
    "            )\n",
    "        \n",
    "        total_conc_matrix_vali, _ = \\\n",
    "            Sceg._get_total_con_matrix_and_mpdp_con_sce(\n",
    "                generated_connections = all_connection_sces_dict_vali\n",
    "            )\n",
    "        phi_II_test_dict[phi_II] = total_conc_matrix_vali\n",
    "        vali_df_PHI_II_SS_10.iloc[idx, ] = total_conc_matrix_vali[10]\n",
    "        vali_df_PHI_II_CS_58.iloc[idx, :] = total_conc_matrix_vali.loc[58,:]    \n",
    "        vali_df_PHI_II_CS_115.iloc[idx, :] = total_conc_matrix_vali.loc[115,:]\n",
    "    with open('vali_7_phi_II_sces5k.pickle', 'wb') as f:\n",
    "        pickle.dump(phi_II_test_dict, f)\n",
    "    \n",
    "droped_zero_vali_df_PHI_II_CS_115 = vali_df_PHI_II_CS_115.loc[:, (vali_df_PHI_II_CS_115>0).any(axis=0)]#.dropna(axis=1)\n",
    "droped_zero_vali_df_PHI_II_CS_58 = vali_df_PHI_II_CS_58.loc[:, (vali_df_PHI_II_CS_58>0).any(axis=0)]#.dropna(axis=1)\n",
    "droped_zero_vali_df_PHI_II_SS_10 = vali_df_PHI_II_SS_10.loc[:, (vali_df_PHI_II_SS_10>0).any(axis=0)]#.dropna(axis=1)\n",
    "\n",
    "\n",
    "\n",
    "\n",
    "\n",
    "\n",
    "\n",
    "import plotly.express as px\n",
    "# from plotly.subplots import make_subplots\n",
    "import plotly.graph_objects as go\n",
    "\n",
    "def plot_CS_SS_connection(\n",
    "    df: pd.DataFrame,\n",
    "    plot_type: str = 'histo',\n",
    "    plot_name: str = 'Name of Graph'\n",
    "    ):\n",
    "    df_copy = df.copy()\n",
    "    columns = df_copy.columns\n",
    "#     df_copy['sum'] = df_copy.sum(axis=1)\n",
    "    # wide_df['phi_II'] = [4/60, 5/60,7/60]\n",
    "    plot_labels = {\n",
    "        'x': r'$\\phi^{II} \\; \\text{[m]} $', \n",
    "        'y': 'Connections'\n",
    "#         **{str(col): f\"CS {col}\" for col in columns}, #'Number of CS-SS Connections',\n",
    "#         \n",
    "    }\n",
    "    \n",
    "    if plot_type == 'histo':\n",
    "        fig = px.histogram(\n",
    "            df_copy, x=df_copy.index.astype(str), \n",
    "            y=columns, \n",
    "#             facet_col = columns,\n",
    "#             title=plot_name, \n",
    "            text_auto = True,\n",
    "            barmode = 'group', #str (default `'relative'`) 'group', 'overlay' or 'relative'\n",
    "            orientation = 'v',\n",
    "            cumulative = False,\n",
    "            labels = plot_labels\n",
    "            # marginal = \"histogram\",\n",
    "            # marginal_y = \"violin\",\n",
    "            # opacity = 0.7,                       \n",
    "        )\n",
    "#     print(plot_labels)\n",
    "\n",
    "#         trace_cols_of_interest = ['sum']\n",
    "#         for col in cols_of_interest:\n",
    "#         fig.add_trace(\n",
    "#              go.Scatter(\n",
    "#         #          wide_df,\n",
    "#                 x=df_copy.index, \n",
    "#                 y=df_copy[columns], \n",
    "#                 mode=\"lines\",\n",
    "#                 line=go.scatter.Line(\n",
    "#         #          color=\"gray\"\n",
    "#              ),\n",
    "#                 showlegend=True,\n",
    "#                  opacity = 0.7,\n",
    "# #                  name = f'sum'\n",
    "#              )\n",
    "#         )\n",
    "\n",
    "\n",
    "    fig.update_layout(legend=dict(\n",
    "        orientation=\"v\",\n",
    "        yanchor=\"auto\",\n",
    "        y=1.00,\n",
    "        xanchor=\"auto\",\n",
    "        x=1.18\n",
    "        ),\n",
    "        plot_bgcolor = 'rgba(0,0,0,0.05)',\n",
    "      legend_title_text='Connected SS ID',\n",
    "          title={\n",
    "        'text': plot_name,\n",
    "        'y':0.97,\n",
    "        'x':0.5,\n",
    "        'xanchor': 'center',\n",
    "        'yanchor': 'top'}\n",
    "     )\n",
    "    fig.show()\n",
    "\n",
    "\n",
    "\n",
    "## --------------------------------------------------------------------------------------------------------- ##\n",
    "\n",
    "def _get_hourly_CD_cover_each_CP_atCSs(\n",
    "        model: pyo.ConcreteModel\n",
    "    ) -> tuple :\n",
    "    \"\"\"_summary_\n",
    "\n",
    "    Args:\n",
    "        model (pyo.ConcreteModel): _description_\n",
    "\n",
    "    Returns:\n",
    "        a tuple of two DataFrames: ()\n",
    "    \"\"\"\n",
    "    # Get the df of CD_corverage for each period at each charging stations\n",
    "    CD_coveraged_by_CSs_df = pd.Series({\n",
    "        key:pyo.value(item_value) \\\n",
    "            for key, item_value in model.psi.extract_values().items()\n",
    "    }).unstack()\n",
    "    CD_coveraged_by_CSs_df = CD_coveraged_by_CSs_df[CD_coveraged_by_CSs_df>0].sort_index().dropna().astype(float)\n",
    "\n",
    "    # Get the df of number of Charging points installed at each charging stations\n",
    "    num_CPs_df = pd.Series({\n",
    "        key: (pyo.value(item_value + model.n[key])) \\\n",
    "            for key, item_value in model.y.extract_values().items()\n",
    "    })#.unstack()\n",
    "    num_CPs_df = num_CPs_df[num_CPs_df>0].sort_index().astype(int)\n",
    "\n",
    "    periods_length = np.array([22,2])\n",
    "\n",
    "    # Get the df of CD_corverage for each period \"of each single CP\" at each charging stations\n",
    "    period_cover_each_CP_at_CSs = CD_coveraged_by_CSs_df.divide(num_CPs_df, axis = 0)\n",
    "    # Get the df of hourly avg. CD_corverage for each period \"of each single CP\" at each charging stations\n",
    "    hourly_period_cover_each_CP_at_CSs = period_cover_each_CP_at_CSs/periods_length \n",
    "    return hourly_period_cover_each_CP_at_CSs, num_CPs_df\n",
    "\n",
    "\n",
    "\n",
    "import plotly.express as px\n",
    "# from plotly.subplots import make_subplots\n",
    "import plotly.graph_objects as go\n",
    "\n",
    "def plot_phi_IJ_single_SP_CD_Cover(\n",
    "    df: pd.DataFrame,\n",
    "    plot_type: str = 'histo',\n",
    "    plot_name: str = 'Name of Graph'\n",
    "    ):\n",
    "    df_copy = df.copy()\n",
    "    columns = df_copy.columns\n",
    "#     df_copy['sum'] = df_copy.sum(axis=1)\n",
    "    # wide_df['phi_II'] = [4/60, 5/60,7/60]\n",
    "    plot_labels = {\n",
    "        'x': 'CS ID', \n",
    "        'y': 'Connections'\n",
    "#         **{str(col): f\"CS {col}\" for col in columns}, #'Number of CS-SS Connections',\n",
    "#         \n",
    "    }\n",
    "    \n",
    "    if plot_type == 'histo':\n",
    "        fig = px.histogram(\n",
    "            df_copy, x=df_copy.index.astype(str), \n",
    "            y=columns, \n",
    "            text_auto = True,\n",
    "            barmode = 'group', #str (default `'relative'`) 'group', 'overlay' or 'relative'\n",
    "            orientation = 'v',\n",
    "            cumulative = False,\n",
    "            labels = plot_labels\n",
    "        )\n",
    "\n",
    "\n",
    "    fig.update_layout(legend=dict(\n",
    "        orientation=\"v\",\n",
    "        yanchor=\"auto\",\n",
    "        y=1.00,\n",
    "        xanchor=\"auto\",\n",
    "        x=1.18\n",
    "        ),\n",
    "        plot_bgcolor = 'rgba(0,0,0,0.05)',\n",
    "    legend_title_text='Grid Period',\n",
    "        title={\n",
    "        'text': plot_name,\n",
    "        'y':0.97,\n",
    "        'x':0.5,\n",
    "        'xanchor': 'center',\n",
    "        'yanchor': 'top'}\n",
    "    )\n",
    "    fig.show()\n",
    "\n",
    "\n",
    "## --------------------------------------------------------------------------------------------------------- ##\n",
    "\n",
    "def plot_phi_IJ_total_hourlyCD_Cover(\n",
    "    df_1CP_CD_cov: pd.DataFrame,\n",
    "    df_Nr_CPs: pd.DataFrame,\n",
    "    plot_type: str = 'histo',\n",
    "    plot_name: str = 'Name of Graph'\n",
    "    ):\n",
    "    df_1CP_CD_cov_copy = df_1CP_CD_cov.copy()\n",
    "    columns = df_1CP_CD_cov_copy.columns\n",
    "#     df_copy['sum'] = df_copy.sum(axis=1)\n",
    "    # wide_df['phi_II'] = [4/60, 5/60,7/60]\n",
    "    plot_labels = {\n",
    "        'x': 'Grid Period', \n",
    "        'y': 'Connections'\n",
    "#         **{str(col): f\"CS {col}\" for col in columns}, #'Number of CS-SS Connections',\n",
    "#         \n",
    "    }\n",
    "    \n",
    "    if plot_type == 'histo':\n",
    "        fig = px.histogram(\n",
    "            df_1CP_CD_cov_copy, x=df_1CP_CD_cov_copy.index.astype(str), \n",
    "            y=columns, \n",
    "#             facet_col = columns,\n",
    "#             title=plot_name, \n",
    "#             text_auto = True,\n",
    "            barmode = 'relative', #str (default `'relative'`) 'group', 'overlay' or 'relative'\n",
    "            orientation = 'v',\n",
    "            cumulative = False,\n",
    "            labels = plot_labels\n",
    "            # marginal = \"histogram\",\n",
    "            # marginal_y = \"violin\",\n",
    "            # opacity = 0.7,                       \n",
    "        )\n",
    "#     print(plot_labels)\n",
    "\n",
    "#         trace_cols_of_interest = ['sum']\n",
    "#         for col in cols_of_interest:\n",
    "        fig.add_trace(\n",
    "             go.Scatter(\n",
    "        #          wide_df,\n",
    "                x=df_1CP_CD_cov.index, \n",
    "                y=df_1CP_CD_cov.sum(axis = 1), \n",
    "#                 mode=\"lines\",\n",
    "#                 line=go.scatter.Line(\n",
    "#                  color=\"gray\"\n",
    "#              ),\n",
    "                showlegend=True,\n",
    "#                  opacity = 0.7,\n",
    "                 name = f'Sum',\n",
    "             )\n",
    "        )\n",
    "\n",
    "\n",
    "    fig.update_layout(legend=dict(\n",
    "        orientation=\"v\",\n",
    "        yanchor=\"auto\",\n",
    "        y=1.00,\n",
    "        xanchor=\"auto\",\n",
    "        x=1.15\n",
    "        ),\n",
    "        plot_bgcolor = 'rgba(0,0,0,0.05)',\n",
    "      legend_title_text='CS ID (Nr. CPs)',\n",
    "          title={\n",
    "        'text': plot_name,\n",
    "        'y':0.97,\n",
    "        'x':0.5,\n",
    "        'xanchor': 'center',\n",
    "        'yanchor': 'top'}\n",
    "     )\n",
    "    fig.show()\n"
   ]
  }
 ],
 "metadata": {
  "celltoolbar": "Slideshow",
  "kernelspec": {
   "display_name": "Python 3 (ipykernel)",
   "language": "python",
   "name": "python3"
  },
  "language_info": {
   "codemirror_mode": {
    "name": "ipython",
    "version": 3
   },
   "file_extension": ".py",
   "mimetype": "text/x-python",
   "name": "python",
   "nbconvert_exporter": "python",
   "pygments_lexer": "ipython3",
   "version": "3.8.13"
  },
  "vscode": {
   "interpreter": {
    "hash": "e9c5a50180563c1bf45e454503a103a5ea768905a924f83391f10e929339525b"
   }
  }
 },
 "nbformat": 4,
 "nbformat_minor": 2
}
