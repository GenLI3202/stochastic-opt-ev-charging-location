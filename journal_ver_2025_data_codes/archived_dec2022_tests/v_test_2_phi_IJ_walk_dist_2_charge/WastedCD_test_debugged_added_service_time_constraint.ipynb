{
 "cells": [
  {
   "cell_type": "markdown",
   "metadata": {},
   "source": [
    "# EVCSAP Stochastic Programming - $\\phi^{IJ}$ validation Test\n",
    "*Author: Gen LI; Date: 14.11.22*\n"
   ]
  },
  {
   "cell_type": "code",
   "execution_count": 2,
   "metadata": {
    "slideshow": {
     "slide_type": "skip"
    }
   },
   "outputs": [
    {
     "name": "stdout",
     "output_type": "stream",
     "text": [
      "[    0.00] Initializing mpi-sppy\n"
     ]
    }
   ],
   "source": [
    "# Import local scripts\n",
    " \n",
    "# import src.c.d\n",
    "\n",
    "import os, sys\n",
    "currentdir = os.path.dirname(os.path.realpath(''))\n",
    "parentdir = os.path.dirname(currentdir)\n",
    "sys.path.append(parentdir)\n",
    "\n",
    "from csap_packages_sp import sp_data_process as Dap\n",
    "# from csap_packages_sp import sp_model_setup as Sup\n",
    "from csap_packages_sp import sp_model_setup_by_fm_data as SupSP\n",
    "from csap_packages_sp import sp_stat_compu as Stac\n",
    "from csap_packages_sp import sp_sce_generation as Sceg\n",
    "from csap_packages_sp.sp_mpd_frame_model_setup import _build_mpdp_csap_frame\n",
    "\n",
    "\n",
    "# Import Opensource packages\n",
    "import idaes\n",
    "import numpy as np\n",
    "import pandas as pd\n",
    "import geopandas as gpd\n",
    "import pyomo.environ as pyo\n",
    "from pyomo.opt import SolverFactory\n",
    "from pyproj import CRS\n",
    "from shapely.geometry import Point, MultiPoint\n",
    "import matplotlib.pyplot as plt\n",
    "from tqdm import tqdm\n",
    "from cProfile import label\n",
    "import plotly.express as px\n",
    "from pyomo.core.expr.current import evaluate_expression\n",
    "import time\n",
    "import pickle\n",
    "import seaborn\n",
    "from mpisppy.opt.ef import ExtensiveForm\n",
    "\n",
    "# seaborn.set_theme(context = 'notebook', style = 'whitegrid')\n",
    "\n",
    "# np.random.seed(121022)\n",
    "# currentdir, parentdir"
   ]
  },
  {
   "cell_type": "code",
   "execution_count": 3,
   "metadata": {},
   "outputs": [
    {
     "data": {
      "text/plain": [
       "('C:\\\\Users\\\\z004ffpm\\\\Work_Documents\\\\CSallocModel\\\\model_evcsap\\\\stochastic_model\\\\Validation_02_Dec',\n",
       " 'C:\\\\Users\\\\z004ffpm\\\\Work_Documents\\\\CSallocModel\\\\model_evcsap\\\\stochastic_model')"
      ]
     },
     "execution_count": 3,
     "metadata": {},
     "output_type": "execute_result"
    }
   ],
   "source": [
    "currentdir, parentdir"
   ]
  },
  {
   "cell_type": "markdown",
   "metadata": {
    "slideshow": {
     "slide_type": "slide"
    }
   },
   "source": [
    "## Section 1: Pre-process Geo-data to get Setup Dictionary for pyomo model"
   ]
  },
  {
   "cell_type": "code",
   "execution_count": 5,
   "metadata": {},
   "outputs": [],
   "source": [
    "mpdp_connection_sce = pd.read_pickle(r'C:\\Users\\z004ffpm\\Work_Documents\\CSallocModel\\model_evcsap\\stochastic_model\\Validation_02_Dec\\mpdp_con_sce.pickle')\n",
    "generated_scenarios = pd.read_pickle(r'C:\\Users\\z004ffpm\\Work_Documents\\CSallocModel\\model_evcsap\\stochastic_model\\Validation_02_Dec\\20k_con_sces_dropped_isl.pickle')"
   ]
  },
  {
   "cell_type": "code",
   "execution_count": 6,
   "metadata": {
    "scrolled": true,
    "slideshow": {
     "slide_type": "fragment"
    }
   },
   "outputs": [
    {
     "name": "stderr",
     "output_type": "stream",
     "text": [
      "Extracting parking info from gdf[\"tag\"]: 100%|█████████████████████████████████████| 195/195 [00:00<00:00, 6491.75it/s]\n",
      "C:\\Users\\z004ffpm\\Anaconda3\\envs\\OptPyomoSP\\lib\\site-packages\\pandas\\core\\construction.py:762: ShapelyDeprecationWarning: The array interface is deprecated and will no longer work in Shapely 2.0. Convert the '.coords' to a numpy array instead.\n",
      "  subarr = construct_1d_object_array_from_listlike(arr)\n",
      "Assigning POI statistics: 100%|█████████████████████████████████████████████████████████| 3/3 [00:00<00:00, 105.66it/s]\n",
      "Assigning SS statistics: 100%|██████████████████████████████████████████████████████████| 3/3 [00:00<00:00, 749.61it/s]\n"
     ]
    }
   ],
   "source": [
    "#########################################################\n",
    "#### Load Data from OSM, Sythetic, OCM, DE Bundesamt #### \n",
    "\n",
    "# --- Load Schutter Wald OSM Data (Resource from hdgb API by Domenico) --- # \n",
    "geojson_folder = r\"C:\\Users\\z004ffpm\\Work_Documents\\MyExtractedData\\hdgb\\77746\\geojson\"\n",
    "geojson_filename = r\"\\evcsap_77746_ss.geojson\"\n",
    "\n",
    "filepath = geojson_folder + geojson_filename\n",
    "SW_gdf = gpd.read_file(filepath)\n",
    "\n",
    "# --- Load Synthetic Substations Data for SW (Resource from Domenico) --- #\n",
    "path_synthetic_ss_SW =  r\"C:\\Users\\z004ffpm\\Work_Documents\\CSallocModel\\model_evcsap\\Data\\SW_transformers.csv\"\n",
    "df = pd.read_csv(path_synthetic_ss_SW)\n",
    "df['element'] = 'substations' # We keep the 'tag' == 'transformers', for later reference that these data are synthetic\n",
    "syn_ss_SW_gdf = gpd.GeoDataFrame(\n",
    "    df, \n",
    "    geometry=gpd.points_from_xy(df.lon, df.lat)\n",
    ")\n",
    "\n",
    "# --- Load existing old CSs from OCM --- #\n",
    "# # There's no CS data for Schutterwald on OCM, thus jump this step. (Resouce from Sisi)\n",
    "# df_ocm = pd.read_csv('./ocm.csv')\n",
    "\n",
    "# --- Load existing old CSs from \"Ladesaeulenregistered\" by DE Bundesamt --- #\n",
    "df_DE_Gov = pd.read_csv(\n",
    "    r'C:\\Users\\z004ffpm\\Work_Documents\\CSallocModel\\model_evcsap\\Ladesaeulenregister_CSV.csv', \n",
    "    encoding = \"ISO-8859-1\", # \"utf-8\", \n",
    "    header = 10, \n",
    "    sep = ';'\n",
    "    )\n",
    "# df_DE_Gov.head(3)\n",
    "oldCS_df_SW = df_DE_Gov[df_DE_Gov.Postleitzahl == 77746] # EDEKA Oberle Getränkemarkt\n",
    "\n",
    "#########################################################################################\n",
    "#### Process loaded data, define single-period and multi-period deterministic data ######\n",
    "\n",
    "# --- concat OSM and Synthetic data for SW --- #\n",
    "SW_concat_gdf = gpd.GeoDataFrame(pd.concat([SW_gdf, syn_ss_SW_gdf], axis=0, ignore_index=True))\n",
    "\n",
    "# --- Pre-process concatted data --- #\n",
    "gdfcopy = SW_concat_gdf.copy()\n",
    "\n",
    "# Calculate centroids by merging data with same id. \n",
    "gdfcopy = Dap._get_centered_gdf(gdfcopy)\n",
    "\n",
    "# # Get parking and charging_station info from `df['tag']` to define candidate locations for new CSs\n",
    "gdfcopy = Dap._detect_parking_CS_SS(gdfcopy)\n",
    "\n",
    "# --- Insert Bundesnetzagentur data to concatted DataFrame --- #\n",
    "lat_sw = float(oldCS_df_SW.loc[4012, 'Breitengrad'].replace(',', '.'))\n",
    "lon_sw = float(oldCS_df_SW.loc[4012, 'Längengrad'].replace(',', '.'))\n",
    "geo_array = np.array([lon_sw, lat_sw])\n",
    "gdfcopy.loc[len(gdfcopy)] = {\n",
    "    'osm_id': 'regisID_4012',\n",
    "    'element': 'charging_station',\n",
    "    'tag': \"{'amenity': 'charging_station', \\\n",
    "            'Source': 'Bundesnetzagentur'}\",\n",
    "    'geometry': Point(lon_sw,lat_sw),\n",
    "    'lat': lat_sw,\n",
    "    'lon': lon_sw,\n",
    "    'id_count': 1,\n",
    "    'parking_capacity': None,\n",
    "    'max_extraCPsToInstall': 2,\n",
    "    'charging_capacity': 2,\n",
    "    } # Useful Reference: https://gis.stackexchange.com/questions/345167/building-geodataframe-row-by-row\n",
    "\n",
    "\n",
    "\n",
    "\n",
    "# # Identify indicies for different nodes\n",
    "# id_candi_locs2update = gdfcopy[gdfcopy['element'] == 'charging_station'].index\n",
    "# id_candi_locs2buildNew = gdfcopy[gdfcopy['element'] == 'parking'].index\n",
    "# id_candi_locs_total = id_candi_locs2update.union(id_candi_locs2buildNew)\n",
    "\n",
    "# id_substations = gdfcopy[gdfcopy['element'] == 'substations'].index\n",
    "\n",
    "# id_cd_centers = gdfcopy.loc[(gdfcopy['element'] != 'parking') \\\n",
    "#         & (gdfcopy['element'] != 'charging_station') \\\n",
    "#             & (gdfcopy['element'] != 'substations')\n",
    "#         , :].index\n",
    "# id_CS_SS = gdfcopy.loc[(gdfcopy['element'] == 'parking') \\\n",
    "#         | (gdfcopy['element'] == 'charging_station') \\\n",
    "#             | (gdfcopy['element'] == 'substations')\n",
    "#         , :].index\n",
    "\n",
    "\n",
    "# --- Build multi-period POI statistics Dataframe  --- # \n",
    "### Define statistics by sampling from Poisson/Beta/Normal distributions. \n",
    "### These data are treated as known info to EVCSAP model \n",
    "np.random.seed(151222)\n",
    "dict_POI_Statistics = {\n",
    "    'day_normal':{\n",
    "        'amenity': {\n",
    "            'NrArrival_poissonDistr_lam': 80, # For poisson distribution, mean = lambda\n",
    "            'Arrival_SOC_betaDistr_(alpha,beta)': (22, 4),  # For beta distribution, mean = alpha/(alpha+beta)\n",
    "            'Visiting_duration_normalDistr_(loc,scale)': (0.45, 0.1)\n",
    "        },\n",
    "        'historic': {\n",
    "            'NrArrival_poissonDistr_lam': 20, # For poisson distribution, mean = lambda\n",
    "            'Arrival_SOC_betaDistr_(alpha,beta)': (25, 3),  # For beta distribution, mean = alpha/(alpha+beta)\n",
    "            'Visiting_duration_normalDistr_(loc,scale)': (0.25, 0.05)\n",
    "        },\n",
    "        'leisure': {\n",
    "            'NrArrival_poissonDistr_lam': 60, # For poisson distribution, mean = lambda\n",
    "            'Arrival_SOC_betaDistr_(alpha,beta)': (21, 4),  # For beta distribution, mean = alpha/(alpha+beta)\n",
    "            'Visiting_duration_normalDistr_(loc,scale)': (0.75, 0.1)\n",
    "        },\n",
    "        'shop': {\n",
    "            'NrArrival_poissonDistr_lam': 130, # For poisson distribution, mean = lambda\n",
    "            'Arrival_SOC_betaDistr_(alpha,beta)': (22, 2),  # For beta distribution, mean = alpha/(alpha+beta)\n",
    "            'Visiting_duration_normalDistr_(loc,scale)': (0.55, 0.1)\n",
    "        },\n",
    "        'sport': {\n",
    "            'NrArrival_poissonDistr_lam': 60, # For poisson distribution, mean = lambda\n",
    "            'Arrival_SOC_betaDistr_(alpha,beta)': (21, 4),  # For beta distribution, mean = alpha/(alpha+beta)\n",
    "            'Visiting_duration_normalDistr_(loc,scale)': (1, 0.15)\n",
    "            }\n",
    "    },\n",
    "    'day_peak':{\n",
    "        'amenity': {\n",
    "            'NrArrival_poissonDistr_lam': 30, # For poisson distribution, mean = lambda\n",
    "            'Arrival_SOC_betaDistr_(alpha,beta)': (22, 4),  # For beta distribution, mean = alpha/(alpha+beta)\n",
    "            'Visiting_duration_normalDistr_(loc,scale)': (25/60, 6/60)\n",
    "        },\n",
    "        'historic': {\n",
    "            'NrArrival_poissonDistr_lam': 7, # For poisson distribution, mean = lambda\n",
    "            'Arrival_SOC_betaDistr_(alpha,beta)': (25, 3),  # For beta distribution, mean = alpha/(alpha+beta)\n",
    "            'Visiting_duration_normalDistr_(loc,scale)': (15/60, 3/60)\n",
    "        },\n",
    "        'leisure': {\n",
    "            'NrArrival_poissonDistr_lam': 20, # For poisson distribution, mean = lambda\n",
    "            'Arrival_SOC_betaDistr_(alpha,beta)': (21, 4),  # For beta distribution, mean = alpha/(alpha+beta)\n",
    "            'Visiting_duration_normalDistr_(loc,scale)': (45/60, 6/60)\n",
    "        },\n",
    "        'shop': {\n",
    "            'NrArrival_poissonDistr_lam': 40, # For poisson distribution, mean = lambda\n",
    "            'Arrival_SOC_betaDistr_(alpha,beta)': (22, 2),  # For beta distribution, mean = alpha/(alpha+beta)\n",
    "            'Visiting_duration_normalDistr_(loc,scale)': (35/60, 6/60)\n",
    "        },\n",
    "        'sport': {\n",
    "            'NrArrival_poissonDistr_lam': 25, # For poisson distribution, mean = lambda\n",
    "            'Arrival_SOC_betaDistr_(alpha,beta)': (21, 4),  # For beta distribution, mean = alpha/(alpha+beta)\n",
    "            'Visiting_duration_normalDistr_(loc,scale)': (60/60, 9/60)\n",
    "        }\n",
    "    },\n",
    "    'night':{\n",
    "        'amenity': {\n",
    "            'NrArrival_poissonDistr_lam': 5, # For poisson distribution, mean = lambda\n",
    "            'Arrival_SOC_betaDistr_(alpha,beta)': (22, 4),  # For beta distribution, mean = alpha/(alpha+beta)\n",
    "            'Visiting_duration_normalDistr_(loc,scale)': (420/60, 45/60)\n",
    "        },\n",
    "        'historic': {\n",
    "            'NrArrival_poissonDistr_lam': 3, # For poisson distribution, mean = lambda\n",
    "            'Arrival_SOC_betaDistr_(alpha,beta)': (25, 3),  # For beta distribution, mean = alpha/(alpha+beta)\n",
    "            'Visiting_duration_normalDistr_(loc,scale)': (360/60, 45/60)\n",
    "        },\n",
    "        'leisure': {\n",
    "            'NrArrival_poissonDistr_lam': 5, # For poisson distribution, mean = lambda\n",
    "            'Arrival_SOC_betaDistr_(alpha,beta)': (21, 4),  # For beta distribution, mean = alpha/(alpha+beta)\n",
    "            'Visiting_duration_normalDistr_(loc,scale)': (420/60, 45/60)\n",
    "        },\n",
    "        'shop': {\n",
    "            'NrArrival_poissonDistr_lam': 3, # For poisson distribution, mean = lambda\n",
    "            'Arrival_SOC_betaDistr_(alpha,beta)': (22, 2),  # For beta distribution, mean = alpha/(alpha+beta)\n",
    "            'Visiting_duration_normalDistr_(loc,scale)': (330/60, 75/60)\n",
    "        },\n",
    "        'sport': {\n",
    "            'NrArrival_poissonDistr_lam': 3, # For poisson distribution, mean = lambda\n",
    "            'Arrival_SOC_betaDistr_(alpha,beta)': (21, 4),  # For beta distribution, mean = alpha/(alpha+beta)\n",
    "            'Visiting_duration_normalDistr_(loc,scale)': (420/60, 60/60)\n",
    "        }        \n",
    "    }\n",
    "}\n",
    "### Build POIs stat df\n",
    "df_SW_POI_stat_mpd = Dap._assign_mp_POI_statistics(\n",
    "    gdf = gdfcopy, dict_POI_Statistics = dict_POI_Statistics\n",
    ")\n",
    "\n",
    "\n",
    "# --- Build multi-period Substations Statistics Dataframe --- # \n",
    "### Define statistics by sampling from normal distributions. \n",
    "### These data are treated as known info to EVCSAP model \n",
    "avg_SS_full_load_cap = 400\n",
    "dict_mpd_SW_SS_Statistics = { # The only substation statistics to define is the available power load (on avg.) during different periods \n",
    "    'day_normal': (0.2*avg_SS_full_load_cap, 0), # means the available power load follows a normal distribution with (mean = 80, std = 0)\n",
    "    'day_peak': (0.12*avg_SS_full_load_cap, 0),\n",
    "    'night': (0.3*avg_SS_full_load_cap, 0)\n",
    "}\n",
    "### Build SSs stat df\n",
    "df_SW_SS_stat_mpd = Dap._assign_mp_SS_statistics(\n",
    "    gdf = gdfcopy, dict_mpd_SS_Statistics = dict_mpd_SW_SS_Statistics\n",
    ")\n",
    "\n"
   ]
  },
  {
   "cell_type": "code",
   "execution_count": 40,
   "metadata": {
    "scrolled": true
   },
   "outputs": [
    {
     "name": "stdout",
     "output_type": "stream",
     "text": [
      "Created a setup dictionary for pyomo auxi/frame/formal models and a processed regional geodataframe \n",
      "Set up an auxilliary model and calculate distances and distance decay factors between CSs and SSs to either deal with isolated nodes or generate connection scenarios for stochastic EVCSAP\n",
      "Done! Process took 0.29 seconds.\n",
      "Created a setup dictionary for pyomo auxi/frame/formal models and a processed regional geodataframe \n",
      "Created a setup dictionary for pyomo auxi/frame/formal models and a processed regional geodataframe \n"
     ]
    }
   ],
   "source": [
    "#########################################################\n",
    "####      Get Model Setup Strategy dictionary      ######\n",
    "# Define Strategy dictionary for other non-osm/ocm/synthetic... parameters\n",
    "strategy_dict = {\n",
    "    # ----- CS ----- #\n",
    "    'cost_buildNewCS': 3000, # float, annuity of updating an old opened CS\n",
    "    'cost_updateOldCS': 2500, # float, annuity of updating an old opened CS\n",
    "    'cost_installCP': 2250, # float, annuity of installing a CP\n",
    "\n",
    "    'profit_charge_fee': (0.3, 0.00), # set as normal Distrib. (mean, std), charging fee at CS euro/kWh\n",
    "    'budget_max_N_newBuildCS' : 10, # int, max amount of new CSs the investors want to open\n",
    "    'budget_max_N_updateCS' : 1, # int, max amount of old CSs investors want to update\n",
    "    'budget_max_N_totalCSs' : 9, # int, max amount of CSs (old or new) to update or open in total:\n",
    "    'budget_max_N_new_CPs' : 115, # int, max amount of new CPs investors want to install\n",
    "    'rule_Min_dist_Between_CSs' : 2/60, # float in hour, min distance allowed between two CSs\n",
    "    'config_CPpower' : 22, # float, in kW, Power rating of a CP,\n",
    "    \n",
    "    # ----- SS ----- #\n",
    "    'cost_expandSS': 500, # float, annuity of substation powerload expansion per KW.     \n",
    "        # Since domain of grid decision variables can be: [0, 100, 200,...], \n",
    "        # every expansion cost then can be in the unit of €/100kW\n",
    "    'cost_backstopTech': 5, # float, one time cost of using backstop tech per KW to prevent overload blackout\n",
    "        # This is one time cost, and domain of backstop tech usage decision variables is: [0, 100, 200,...], \n",
    "        # which means every usage of backstop tech is in the unit of (365 * €/100kW ) \n",
    "    ## ---- Stochastic scenario generation ---- ##\n",
    "    'max_dist_cs_ss_connection': 6/60, # float in hour, walking distance (5km/hour) -> 6/60 * 5000 = 500 m        \n",
    "    'CS_neighbour_dist_decay_threshold': 4/60, # float in hour, walking distance (5km/hour) \n",
    "        # # used for calculating dist_decay between CSs to adjust \"neighbours' connection reward weights\"\n",
    "        # # 'CS_neighbour_dist_decay_threshold' > 'rule_Min_dist_Between_CSs'\n",
    "    \n",
    "    # ----- CD ----- #    \n",
    "    'rule_dist_decay_threshold' : 5/60, #10/60 # float in hour, max walking dist EV drivers can tolerate to charge their EVs    \n",
    "    'config_Battery_cap': 44, # float, in kWh, battery capacities of EVs\n",
    "    'config_periods_length': {\n",
    "        'day_normal': 10, # 08:00~17:30; 19:30~20:00\n",
    "        'day_peak': 2, # 17:30~19:30\n",
    "        'night': 12 # 20:00~00:00\n",
    "    },        \n",
    "}\n",
    "\n",
    "# Get setup dictionary for auxilliary model \n",
    "csap_setup_dict_4_auxi, gdf_4_auxi = Dap._get_ModelSetupDict(\n",
    "    gdf = gdfcopy, \n",
    "    strategy_dict = strategy_dict,    \n",
    "    mpd_poi_stats_df = df_SW_POI_stat_mpd,\n",
    "    mpd_SS_stats_df = df_SW_SS_stat_mpd\n",
    ")\n",
    "\n",
    "# Set up auxilliary model \n",
    "# and get (gdf, substations_stat_df) after droping isolated nodes\n",
    "auxi_model_2_drop_islt_nodes = Sceg.get_auxi_model(\n",
    "    setup_dict = csap_setup_dict_4_auxi\n",
    "    )\n",
    "\n",
    "gdfcopy_dropped_isolated, df_SW_SS_stat_mpd_dropped_isolated = \\\n",
    "    Dap._get_dfs_with_isolated_nodes_dropped(\n",
    "        auxilliary_model = auxi_model_2_drop_islt_nodes, \n",
    "        origin_gdf = gdfcopy, \n",
    "        origin_SS_stat_df = df_SW_SS_stat_mpd\n",
    "    )\n",
    "\n",
    "# Get the formal Set-up dictionary for generating scenarios and set-up model\n",
    "csap_setup_dict, final_gdf = Dap._get_ModelSetupDict(\n",
    "    gdf = gdfcopy_dropped_isolated, \n",
    "    strategy_dict = strategy_dict,    \n",
    "    mpd_poi_stats_df = df_SW_POI_stat_mpd,\n",
    "    mpd_SS_stats_df = df_SW_SS_stat_mpd_dropped_isolated\n",
    ")\n",
    "print(\"Created a setup dictionary for pyomo auxi/frame/formal models and a processed regional geodataframe \")\n",
    "\n",
    "\n",
    "# import pickle \n",
    "# with open('csap_setup_vali_dict_23Nov.pickle', 'wb') as f:\n",
    "#     pickle.dump(csap_setup_dict, f)\n",
    "# \n",
    "# csap_setup_dict = pd.read_pickle('dict_mpsp_setup_vali_23Nov.pickle')"
   ]
  },
  {
   "cell_type": "code",
   "execution_count": 41,
   "metadata": {},
   "outputs": [
    {
     "data": {
      "application/vnd.plotly.v1+json": {
       "config": {
        "plotlyServerURL": "https://plot.ly"
       },
       "data": [
        {
         "hovertemplate": "<b>%{hovertext}</b><br><br>element=substations<br>lat=%{lat}<br>lon=%{lon}<extra></extra>",
         "hovertext": [
          0,
          1,
          2,
          4,
          5,
          6,
          8,
          10,
          12,
          13,
          71,
          72,
          73,
          74,
          92
         ],
         "lat": [
          48.45365955,
          48.46132959,
          48.45931791,
          48.45619605,
          48.45786607,
          48.45852185,
          48.45260192,
          48.45609786,
          48.46127297,
          48.45391652,
          48.4659988,
          48.4662771,
          48.4675912,
          48.4683826,
          48.4570854
         ],
         "legendgroup": "substations",
         "lon": [
          7.885020344,
          7.883377464,
          7.880600399,
          7.882370815,
          7.872546064,
          7.885400706,
          7.888302466,
          7.888334766,
          7.875138238,
          7.89574094,
          7.8799165,
          7.8780561,
          7.8777097,
          7.8817025,
          7.8867791
         ],
         "marker": {
          "color": "#636efa"
         },
         "mode": "markers",
         "name": "substations",
         "showlegend": true,
         "subplot": "mapbox",
         "type": "scattermapbox"
        },
        {
         "hovertemplate": "<b>%{hovertext}</b><br><br>element=leisure<br>lat=%{lat}<br>lon=%{lon}<extra></extra>",
         "hovertext": [
          15,
          16,
          19,
          21,
          22,
          37,
          40,
          49,
          53,
          56,
          85,
          87,
          88,
          97,
          99,
          100,
          113,
          119,
          141,
          145,
          147,
          150,
          152,
          154,
          156,
          158,
          166,
          168,
          191
         ],
         "lat": [
          48.45893988181819,
          48.4596983,
          48.460891,
          48.47273884999999,
          48.45979205,
          48.4607105,
          48.4608411,
          48.47753746363637,
          48.443863099999994,
          48.451271033333335,
          48.47175975,
          48.4568081,
          48.4590844,
          48.45973715,
          48.459128883333335,
          48.45910682857143,
          48.44553665,
          48.4596513,
          48.45978685,
          48.463056923809525,
          48.459558825,
          48.443500325,
          48.44321375,
          48.4627177,
          48.4626377,
          48.4596933,
          48.459810675,
          48.4602319,
          48.460033281818184
         ],
         "legendgroup": "leisure",
         "lon": [
          7.883931945454545,
          7.8728819526315785,
          7.8904078250000005,
          7.8804941500000005,
          7.8695055499999995,
          7.8887413,
          7.8892122,
          7.840130363636363,
          7.8773666833333325,
          7.887868338888889,
          7.8869377,
          7.8904543,
          7.870939625,
          7.87284325,
          7.87261045,
          7.872811071428571,
          7.875770975,
          7.8839918,
          7.871281625,
          7.891210342857143,
          7.88289365,
          7.87275595,
          7.87308715,
          7.890213975,
          7.889912425,
          7.88340176,
          7.86842575,
          7.86865445,
          7.8576506454545445
         ],
         "marker": {
          "color": "#EF553B"
         },
         "mode": "markers",
         "name": "leisure",
         "showlegend": true,
         "subplot": "mapbox",
         "type": "scattermapbox"
        },
        {
         "hovertemplate": "<b>%{hovertext}</b><br><br>element=sport<br>lat=%{lat}<br>lon=%{lon}<extra></extra>",
         "hovertext": [
          17,
          20,
          23,
          50,
          57,
          89,
          98,
          120,
          142,
          146,
          148,
          151,
          153,
          155,
          157,
          167,
          169,
          172
         ],
         "lat": [
          48.4596983,
          48.460891,
          48.45979205,
          48.47753746363637,
          48.451271033333335,
          48.4590844,
          48.45973715,
          48.4596513,
          48.45978685,
          48.463056923809525,
          48.459558825,
          48.443500325,
          48.44321375,
          48.4627177,
          48.4626377,
          48.459810675,
          48.4602319,
          48.46059949
         ],
         "legendgroup": "sport",
         "lon": [
          7.8728819526315785,
          7.8904078250000005,
          7.8695055499999995,
          7.840130363636363,
          7.887868338888889,
          7.870939625,
          7.87284325,
          7.8839918,
          7.871281625,
          7.891210342857143,
          7.88289365,
          7.87275595,
          7.87308715,
          7.890213975,
          7.889912425,
          7.86842575,
          7.86865445,
          7.89004127
         ],
         "marker": {
          "color": "#00cc96"
         },
         "mode": "markers",
         "name": "sport",
         "showlegend": true,
         "subplot": "mapbox",
         "type": "scattermapbox"
        },
        {
         "hovertemplate": "<b>%{hovertext}</b><br><br>element=parking<br>lat=%{lat}<br>lon=%{lon}<extra></extra>",
         "hovertext": [
          18,
          36,
          48,
          58,
          61,
          96,
          110,
          114,
          115,
          177,
          178
         ],
         "lat": [
          48.453646325,
          48.4589049,
          48.4589737,
          48.451627224999996,
          48.4538749,
          48.458776225,
          48.456877524999996,
          48.455045725,
          48.453392650000005,
          48.45284351333333,
          48.46810746923077
         ],
         "legendgroup": "parking",
         "lon": [
          7.8870210125,
          7.8715357,
          7.88342562,
          7.888430825,
          7.88910835,
          7.88722685,
          7.891818775,
          7.8951005125,
          7.886294116666666,
          7.887492966666667,
          7.881519538461538
         ],
         "marker": {
          "color": "#ab63fa"
         },
         "mode": "markers",
         "name": "parking",
         "showlegend": true,
         "subplot": "mapbox",
         "type": "scattermapbox"
        },
        {
         "hovertemplate": "<b>%{hovertext}</b><br><br>element=historic<br>lat=%{lat}<br>lon=%{lon}<extra></extra>",
         "hovertext": [
          24,
          59,
          60,
          77,
          86,
          161,
          181,
          182,
          184
         ],
         "lat": [
          48.4532307,
          48.453457,
          48.4599969,
          48.4422281,
          48.4823135,
          48.45321788333334,
          48.4539899,
          48.4536037,
          48.4696784
         ],
         "legendgroup": "historic",
         "lon": [
          7.8709048,
          7.899055,
          7.8589821,
          7.8784482,
          7.8723618,
          7.886266205555556,
          7.895958,
          7.8841413,
          7.8740305
         ],
         "marker": {
          "color": "#FFA15A"
         },
         "mode": "markers",
         "name": "historic",
         "showlegend": true,
         "subplot": "mapbox",
         "type": "scattermapbox"
        },
        {
         "hovertemplate": "<b>%{hovertext}</b><br><br>element=amenity<br>lat=%{lat}<br>lon=%{lon}<extra></extra>",
         "hovertext": [
          25,
          26,
          29,
          30,
          31,
          32,
          33,
          34,
          35,
          38,
          39,
          41,
          42,
          46,
          47,
          52,
          54,
          55,
          62,
          63,
          66,
          67,
          68,
          69,
          70,
          75,
          78,
          79,
          80,
          81,
          82,
          83,
          84,
          91,
          93,
          94,
          95,
          102,
          103,
          104,
          106,
          107,
          108,
          109,
          111,
          116,
          117,
          118,
          121,
          122,
          123,
          124,
          125,
          126,
          127,
          128,
          129,
          130,
          131,
          132,
          133,
          134,
          135,
          136,
          137,
          138,
          139,
          140,
          144,
          149,
          159,
          160,
          162,
          163,
          164,
          165,
          174,
          175,
          176,
          180,
          183,
          185,
          186,
          187,
          188,
          190,
          192,
          193,
          194
         ],
         "lat": [
          48.4532562,
          48.4741043,
          48.4519694,
          48.453556,
          48.4727793,
          48.4558757,
          48.4531166,
          48.4537873,
          48.4537872,
          48.4615562,
          48.4538906,
          48.460939,
          48.4719166,
          48.4590883,
          48.4528037,
          48.44696690869566,
          48.46073545,
          48.4612868,
          48.47394672,
          48.4558934,
          48.4638308,
          48.4639223,
          48.4657359,
          48.4658533,
          48.4659807,
          48.4683958,
          48.4546699,
          48.4438631,
          48.4518658,
          48.4538872,
          48.444235,
          48.4532027,
          48.4533636,
          48.458811,
          48.4584497,
          48.4584501,
          48.4585595,
          48.459202,
          48.4557481,
          48.4529728,
          48.4476481,
          48.4532845,
          48.4540581,
          48.4546966375,
          48.4552399,
          48.4592054,
          48.4592321,
          48.4591743,
          48.4589187,
          48.4589516,
          48.4589116,
          48.4587125,
          48.4587125,
          48.4587036,
          48.4585948,
          48.4585344,
          48.4585753,
          48.4590555,
          48.4591148,
          48.4590577,
          48.4594623,
          48.4594556,
          48.4593845,
          48.4595979,
          48.4596629,
          48.459533,
          48.4595081,
          48.4592372,
          48.45280065,
          48.4630236,
          48.452237249999996,
          48.45321788333334,
          48.4704866,
          48.4702226,
          48.4423039,
          48.4403312,
          48.4591882,
          48.4559081,
          48.4535224,
          48.4689774,
          48.4707642,
          48.4696535,
          48.4620142,
          48.4586511,
          48.4597593,
          48.4657617,
          48.4470703,
          48.4534121,
          48.4533854
         ],
         "legendgroup": "amenity",
         "lon": [
          7.8691098,
          7.8767334,
          7.887441,
          7.8891334,
          7.8777313,
          7.8888544,
          7.8854829,
          7.8822508,
          7.8822508,
          7.8997052,
          7.8839189,
          7.8889319,
          7.8871367,
          7.8826824,
          7.8862095,
          7.869827517391305,
          7.8807787000000005,
          7.888009816666667,
          7.87701786,
          7.8887423,
          7.8786145,
          7.8787078,
          7.8798519,
          7.880186,
          7.879816,
          7.8788331,
          7.8791363,
          7.8804618,
          7.8884549,
          7.888707175,
          7.8794106,
          7.8856987,
          7.8872469,
          7.8875642,
          7.8837848,
          7.8837466,
          7.8831169,
          7.8822623,
          7.848592,
          7.8548574,
          7.865723,
          7.8710743,
          7.887366416666667,
          7.8872555625,
          7.888374,
          7.8837524,
          7.8837752,
          7.8837564,
          7.8839085,
          7.8838615,
          7.8838361,
          7.8840859,
          7.8840322,
          7.8841355,
          7.884619,
          7.8846571,
          7.8847173,
          7.884569,
          7.884545,
          7.8844696,
          7.8843952,
          7.8843053,
          7.884355,
          7.8839832,
          7.8840328,
          7.8839953,
          7.884065,
          7.8838679,
          7.8861171500000005,
          7.8907739,
          7.887404533333334,
          7.886266205555556,
          7.8871192,
          7.8873895,
          7.8665738,
          7.8778478,
          7.882409,
          7.8895989,
          7.8843905,
          7.8475668,
          7.8671018,
          7.8740402,
          7.8914903,
          7.88351445,
          7.8720017,
          7.8800379,
          7.8804508,
          7.8855604,
          7.8855617
         ],
         "marker": {
          "color": "#19d3f3"
         },
         "mode": "markers",
         "name": "amenity",
         "showlegend": true,
         "subplot": "mapbox",
         "type": "scattermapbox"
        },
        {
         "hovertemplate": "<b>%{hovertext}</b><br><br>element=shop<br>lat=%{lat}<br>lon=%{lon}<extra></extra>",
         "hovertext": [
          27,
          28,
          43,
          44,
          45,
          51,
          64,
          65,
          76,
          105,
          112,
          173,
          189
         ],
         "lat": [
          48.4535139,
          48.4745347,
          48.4656371,
          48.4659715,
          48.4662276,
          48.45490518571428,
          48.4656106,
          48.4679438,
          48.4680926,
          48.4681465,
          48.4550558,
          48.45325415,
          48.4529933
         ],
         "legendgroup": "shop",
         "lon": [
          7.8846648,
          7.8741653,
          7.8819233,
          7.8830659,
          7.8829104,
          7.895252999999999,
          7.8801616,
          7.8813495,
          7.8795595,
          7.8813855,
          7.8952713,
          7.906249075,
          7.8872682
         ],
         "marker": {
          "color": "#FF6692"
         },
         "mode": "markers",
         "name": "shop",
         "showlegend": true,
         "subplot": "mapbox",
         "type": "scattermapbox"
        },
        {
         "hovertemplate": "<b>%{hovertext}</b><br><br>element=charging_station<br>lat=%{lat}<br>lon=%{lon}<extra></extra>",
         "hovertext": [
          195
         ],
         "lat": [
          48.452714
         ],
         "legendgroup": "charging_station",
         "lon": [
          7.887786
         ],
         "marker": {
          "color": "#B6E880"
         },
         "mode": "markers",
         "name": "charging_station",
         "showlegend": true,
         "subplot": "mapbox",
         "type": "scattermapbox"
        }
       ],
       "layout": {
        "legend": {
         "title": {
          "text": "element"
         },
         "tracegroupgap": 0
        },
        "mapbox": {
         "center": {
          "lat": 48.45869073985538,
          "lon": 7.8813205018008805
         },
         "domain": {
          "x": [
           0,
           1
          ],
          "y": [
           0,
           1
          ]
         },
         "style": "stamen-toner",
         "zoom": 14
        },
        "margin": {
         "t": 60
        },
        "template": {
         "data": {
          "bar": [
           {
            "error_x": {
             "color": "#2a3f5f"
            },
            "error_y": {
             "color": "#2a3f5f"
            },
            "marker": {
             "line": {
              "color": "#E5ECF6",
              "width": 0.5
             },
             "pattern": {
              "fillmode": "overlay",
              "size": 10,
              "solidity": 0.2
             }
            },
            "type": "bar"
           }
          ],
          "barpolar": [
           {
            "marker": {
             "line": {
              "color": "#E5ECF6",
              "width": 0.5
             },
             "pattern": {
              "fillmode": "overlay",
              "size": 10,
              "solidity": 0.2
             }
            },
            "type": "barpolar"
           }
          ],
          "carpet": [
           {
            "aaxis": {
             "endlinecolor": "#2a3f5f",
             "gridcolor": "white",
             "linecolor": "white",
             "minorgridcolor": "white",
             "startlinecolor": "#2a3f5f"
            },
            "baxis": {
             "endlinecolor": "#2a3f5f",
             "gridcolor": "white",
             "linecolor": "white",
             "minorgridcolor": "white",
             "startlinecolor": "#2a3f5f"
            },
            "type": "carpet"
           }
          ],
          "choropleth": [
           {
            "colorbar": {
             "outlinewidth": 0,
             "ticks": ""
            },
            "type": "choropleth"
           }
          ],
          "contour": [
           {
            "colorbar": {
             "outlinewidth": 0,
             "ticks": ""
            },
            "colorscale": [
             [
              0,
              "#0d0887"
             ],
             [
              0.1111111111111111,
              "#46039f"
             ],
             [
              0.2222222222222222,
              "#7201a8"
             ],
             [
              0.3333333333333333,
              "#9c179e"
             ],
             [
              0.4444444444444444,
              "#bd3786"
             ],
             [
              0.5555555555555556,
              "#d8576b"
             ],
             [
              0.6666666666666666,
              "#ed7953"
             ],
             [
              0.7777777777777778,
              "#fb9f3a"
             ],
             [
              0.8888888888888888,
              "#fdca26"
             ],
             [
              1,
              "#f0f921"
             ]
            ],
            "type": "contour"
           }
          ],
          "contourcarpet": [
           {
            "colorbar": {
             "outlinewidth": 0,
             "ticks": ""
            },
            "type": "contourcarpet"
           }
          ],
          "heatmap": [
           {
            "colorbar": {
             "outlinewidth": 0,
             "ticks": ""
            },
            "colorscale": [
             [
              0,
              "#0d0887"
             ],
             [
              0.1111111111111111,
              "#46039f"
             ],
             [
              0.2222222222222222,
              "#7201a8"
             ],
             [
              0.3333333333333333,
              "#9c179e"
             ],
             [
              0.4444444444444444,
              "#bd3786"
             ],
             [
              0.5555555555555556,
              "#d8576b"
             ],
             [
              0.6666666666666666,
              "#ed7953"
             ],
             [
              0.7777777777777778,
              "#fb9f3a"
             ],
             [
              0.8888888888888888,
              "#fdca26"
             ],
             [
              1,
              "#f0f921"
             ]
            ],
            "type": "heatmap"
           }
          ],
          "heatmapgl": [
           {
            "colorbar": {
             "outlinewidth": 0,
             "ticks": ""
            },
            "colorscale": [
             [
              0,
              "#0d0887"
             ],
             [
              0.1111111111111111,
              "#46039f"
             ],
             [
              0.2222222222222222,
              "#7201a8"
             ],
             [
              0.3333333333333333,
              "#9c179e"
             ],
             [
              0.4444444444444444,
              "#bd3786"
             ],
             [
              0.5555555555555556,
              "#d8576b"
             ],
             [
              0.6666666666666666,
              "#ed7953"
             ],
             [
              0.7777777777777778,
              "#fb9f3a"
             ],
             [
              0.8888888888888888,
              "#fdca26"
             ],
             [
              1,
              "#f0f921"
             ]
            ],
            "type": "heatmapgl"
           }
          ],
          "histogram": [
           {
            "marker": {
             "pattern": {
              "fillmode": "overlay",
              "size": 10,
              "solidity": 0.2
             }
            },
            "type": "histogram"
           }
          ],
          "histogram2d": [
           {
            "colorbar": {
             "outlinewidth": 0,
             "ticks": ""
            },
            "colorscale": [
             [
              0,
              "#0d0887"
             ],
             [
              0.1111111111111111,
              "#46039f"
             ],
             [
              0.2222222222222222,
              "#7201a8"
             ],
             [
              0.3333333333333333,
              "#9c179e"
             ],
             [
              0.4444444444444444,
              "#bd3786"
             ],
             [
              0.5555555555555556,
              "#d8576b"
             ],
             [
              0.6666666666666666,
              "#ed7953"
             ],
             [
              0.7777777777777778,
              "#fb9f3a"
             ],
             [
              0.8888888888888888,
              "#fdca26"
             ],
             [
              1,
              "#f0f921"
             ]
            ],
            "type": "histogram2d"
           }
          ],
          "histogram2dcontour": [
           {
            "colorbar": {
             "outlinewidth": 0,
             "ticks": ""
            },
            "colorscale": [
             [
              0,
              "#0d0887"
             ],
             [
              0.1111111111111111,
              "#46039f"
             ],
             [
              0.2222222222222222,
              "#7201a8"
             ],
             [
              0.3333333333333333,
              "#9c179e"
             ],
             [
              0.4444444444444444,
              "#bd3786"
             ],
             [
              0.5555555555555556,
              "#d8576b"
             ],
             [
              0.6666666666666666,
              "#ed7953"
             ],
             [
              0.7777777777777778,
              "#fb9f3a"
             ],
             [
              0.8888888888888888,
              "#fdca26"
             ],
             [
              1,
              "#f0f921"
             ]
            ],
            "type": "histogram2dcontour"
           }
          ],
          "mesh3d": [
           {
            "colorbar": {
             "outlinewidth": 0,
             "ticks": ""
            },
            "type": "mesh3d"
           }
          ],
          "parcoords": [
           {
            "line": {
             "colorbar": {
              "outlinewidth": 0,
              "ticks": ""
             }
            },
            "type": "parcoords"
           }
          ],
          "pie": [
           {
            "automargin": true,
            "type": "pie"
           }
          ],
          "scatter": [
           {
            "fillpattern": {
             "fillmode": "overlay",
             "size": 10,
             "solidity": 0.2
            },
            "type": "scatter"
           }
          ],
          "scatter3d": [
           {
            "line": {
             "colorbar": {
              "outlinewidth": 0,
              "ticks": ""
             }
            },
            "marker": {
             "colorbar": {
              "outlinewidth": 0,
              "ticks": ""
             }
            },
            "type": "scatter3d"
           }
          ],
          "scattercarpet": [
           {
            "marker": {
             "colorbar": {
              "outlinewidth": 0,
              "ticks": ""
             }
            },
            "type": "scattercarpet"
           }
          ],
          "scattergeo": [
           {
            "marker": {
             "colorbar": {
              "outlinewidth": 0,
              "ticks": ""
             }
            },
            "type": "scattergeo"
           }
          ],
          "scattergl": [
           {
            "marker": {
             "colorbar": {
              "outlinewidth": 0,
              "ticks": ""
             }
            },
            "type": "scattergl"
           }
          ],
          "scattermapbox": [
           {
            "marker": {
             "colorbar": {
              "outlinewidth": 0,
              "ticks": ""
             }
            },
            "type": "scattermapbox"
           }
          ],
          "scatterpolar": [
           {
            "marker": {
             "colorbar": {
              "outlinewidth": 0,
              "ticks": ""
             }
            },
            "type": "scatterpolar"
           }
          ],
          "scatterpolargl": [
           {
            "marker": {
             "colorbar": {
              "outlinewidth": 0,
              "ticks": ""
             }
            },
            "type": "scatterpolargl"
           }
          ],
          "scatterternary": [
           {
            "marker": {
             "colorbar": {
              "outlinewidth": 0,
              "ticks": ""
             }
            },
            "type": "scatterternary"
           }
          ],
          "surface": [
           {
            "colorbar": {
             "outlinewidth": 0,
             "ticks": ""
            },
            "colorscale": [
             [
              0,
              "#0d0887"
             ],
             [
              0.1111111111111111,
              "#46039f"
             ],
             [
              0.2222222222222222,
              "#7201a8"
             ],
             [
              0.3333333333333333,
              "#9c179e"
             ],
             [
              0.4444444444444444,
              "#bd3786"
             ],
             [
              0.5555555555555556,
              "#d8576b"
             ],
             [
              0.6666666666666666,
              "#ed7953"
             ],
             [
              0.7777777777777778,
              "#fb9f3a"
             ],
             [
              0.8888888888888888,
              "#fdca26"
             ],
             [
              1,
              "#f0f921"
             ]
            ],
            "type": "surface"
           }
          ],
          "table": [
           {
            "cells": {
             "fill": {
              "color": "#EBF0F8"
             },
             "line": {
              "color": "white"
             }
            },
            "header": {
             "fill": {
              "color": "#C8D4E3"
             },
             "line": {
              "color": "white"
             }
            },
            "type": "table"
           }
          ]
         },
         "layout": {
          "annotationdefaults": {
           "arrowcolor": "#2a3f5f",
           "arrowhead": 0,
           "arrowwidth": 1
          },
          "autotypenumbers": "strict",
          "coloraxis": {
           "colorbar": {
            "outlinewidth": 0,
            "ticks": ""
           }
          },
          "colorscale": {
           "diverging": [
            [
             0,
             "#8e0152"
            ],
            [
             0.1,
             "#c51b7d"
            ],
            [
             0.2,
             "#de77ae"
            ],
            [
             0.3,
             "#f1b6da"
            ],
            [
             0.4,
             "#fde0ef"
            ],
            [
             0.5,
             "#f7f7f7"
            ],
            [
             0.6,
             "#e6f5d0"
            ],
            [
             0.7,
             "#b8e186"
            ],
            [
             0.8,
             "#7fbc41"
            ],
            [
             0.9,
             "#4d9221"
            ],
            [
             1,
             "#276419"
            ]
           ],
           "sequential": [
            [
             0,
             "#0d0887"
            ],
            [
             0.1111111111111111,
             "#46039f"
            ],
            [
             0.2222222222222222,
             "#7201a8"
            ],
            [
             0.3333333333333333,
             "#9c179e"
            ],
            [
             0.4444444444444444,
             "#bd3786"
            ],
            [
             0.5555555555555556,
             "#d8576b"
            ],
            [
             0.6666666666666666,
             "#ed7953"
            ],
            [
             0.7777777777777778,
             "#fb9f3a"
            ],
            [
             0.8888888888888888,
             "#fdca26"
            ],
            [
             1,
             "#f0f921"
            ]
           ],
           "sequentialminus": [
            [
             0,
             "#0d0887"
            ],
            [
             0.1111111111111111,
             "#46039f"
            ],
            [
             0.2222222222222222,
             "#7201a8"
            ],
            [
             0.3333333333333333,
             "#9c179e"
            ],
            [
             0.4444444444444444,
             "#bd3786"
            ],
            [
             0.5555555555555556,
             "#d8576b"
            ],
            [
             0.6666666666666666,
             "#ed7953"
            ],
            [
             0.7777777777777778,
             "#fb9f3a"
            ],
            [
             0.8888888888888888,
             "#fdca26"
            ],
            [
             1,
             "#f0f921"
            ]
           ]
          },
          "colorway": [
           "#636efa",
           "#EF553B",
           "#00cc96",
           "#ab63fa",
           "#FFA15A",
           "#19d3f3",
           "#FF6692",
           "#B6E880",
           "#FF97FF",
           "#FECB52"
          ],
          "font": {
           "color": "#2a3f5f"
          },
          "geo": {
           "bgcolor": "white",
           "lakecolor": "white",
           "landcolor": "#E5ECF6",
           "showlakes": true,
           "showland": true,
           "subunitcolor": "white"
          },
          "hoverlabel": {
           "align": "left"
          },
          "hovermode": "closest",
          "mapbox": {
           "style": "light"
          },
          "paper_bgcolor": "white",
          "plot_bgcolor": "#E5ECF6",
          "polar": {
           "angularaxis": {
            "gridcolor": "white",
            "linecolor": "white",
            "ticks": ""
           },
           "bgcolor": "#E5ECF6",
           "radialaxis": {
            "gridcolor": "white",
            "linecolor": "white",
            "ticks": ""
           }
          },
          "scene": {
           "xaxis": {
            "backgroundcolor": "#E5ECF6",
            "gridcolor": "white",
            "gridwidth": 2,
            "linecolor": "white",
            "showbackground": true,
            "ticks": "",
            "zerolinecolor": "white"
           },
           "yaxis": {
            "backgroundcolor": "#E5ECF6",
            "gridcolor": "white",
            "gridwidth": 2,
            "linecolor": "white",
            "showbackground": true,
            "ticks": "",
            "zerolinecolor": "white"
           },
           "zaxis": {
            "backgroundcolor": "#E5ECF6",
            "gridcolor": "white",
            "gridwidth": 2,
            "linecolor": "white",
            "showbackground": true,
            "ticks": "",
            "zerolinecolor": "white"
           }
          },
          "shapedefaults": {
           "line": {
            "color": "#2a3f5f"
           }
          },
          "ternary": {
           "aaxis": {
            "gridcolor": "white",
            "linecolor": "white",
            "ticks": ""
           },
           "baxis": {
            "gridcolor": "white",
            "linecolor": "white",
            "ticks": ""
           },
           "bgcolor": "#E5ECF6",
           "caxis": {
            "gridcolor": "white",
            "linecolor": "white",
            "ticks": ""
           }
          },
          "title": {
           "x": 0.05
          },
          "xaxis": {
           "automargin": true,
           "gridcolor": "white",
           "linecolor": "white",
           "ticks": "",
           "title": {
            "standoff": 15
           },
           "zerolinecolor": "white",
           "zerolinewidth": 2
          },
          "yaxis": {
           "automargin": true,
           "gridcolor": "white",
           "linecolor": "white",
           "ticks": "",
           "title": {
            "standoff": 15
           },
           "zerolinecolor": "white",
           "zerolinewidth": 2
          }
         }
        }
       }
      },
      "text/html": [
       "<div>                            <div id=\"2af9eb67-12d9-4d06-93e8-c0f5328101ea\" class=\"plotly-graph-div\" style=\"height:525px; width:100%;\"></div>            <script type=\"text/javascript\">                require([\"plotly\"], function(Plotly) {                    window.PLOTLYENV=window.PLOTLYENV || {};                                    if (document.getElementById(\"2af9eb67-12d9-4d06-93e8-c0f5328101ea\")) {                    Plotly.newPlot(                        \"2af9eb67-12d9-4d06-93e8-c0f5328101ea\",                        [{\"hovertemplate\":\"<b>%{hovertext}</b><br><br>element=substations<br>lat=%{lat}<br>lon=%{lon}<extra></extra>\",\"hovertext\":[0.0,1.0,2.0,4.0,5.0,6.0,8.0,10.0,12.0,13.0,71.0,72.0,73.0,74.0,92.0],\"lat\":[48.45365955,48.46132959,48.45931791,48.45619605,48.45786607,48.45852185,48.45260192,48.45609786,48.46127297,48.45391652,48.4659988,48.4662771,48.4675912,48.4683826,48.4570854],\"legendgroup\":\"substations\",\"lon\":[7.885020344,7.883377464,7.880600399,7.882370815,7.872546064,7.885400706,7.888302466,7.888334766,7.875138238,7.89574094,7.8799165,7.8780561,7.8777097,7.8817025,7.8867791],\"marker\":{\"color\":\"#636efa\"},\"mode\":\"markers\",\"name\":\"substations\",\"showlegend\":true,\"subplot\":\"mapbox\",\"type\":\"scattermapbox\"},{\"hovertemplate\":\"<b>%{hovertext}</b><br><br>element=leisure<br>lat=%{lat}<br>lon=%{lon}<extra></extra>\",\"hovertext\":[15.0,16.0,19.0,21.0,22.0,37.0,40.0,49.0,53.0,56.0,85.0,87.0,88.0,97.0,99.0,100.0,113.0,119.0,141.0,145.0,147.0,150.0,152.0,154.0,156.0,158.0,166.0,168.0,191.0],\"lat\":[48.45893988181819,48.4596983,48.460891,48.47273884999999,48.45979205,48.4607105,48.4608411,48.47753746363637,48.443863099999994,48.451271033333335,48.47175975,48.4568081,48.4590844,48.45973715,48.459128883333335,48.45910682857143,48.44553665,48.4596513,48.45978685,48.463056923809525,48.459558825,48.443500325,48.44321375,48.4627177,48.4626377,48.4596933,48.459810675,48.4602319,48.460033281818184],\"legendgroup\":\"leisure\",\"lon\":[7.883931945454545,7.8728819526315785,7.8904078250000005,7.8804941500000005,7.8695055499999995,7.8887413,7.8892122,7.840130363636363,7.8773666833333325,7.887868338888889,7.8869377,7.8904543,7.870939625,7.87284325,7.87261045,7.872811071428571,7.875770975,7.8839918,7.871281625,7.891210342857143,7.88289365,7.87275595,7.87308715,7.890213975,7.889912425,7.88340176,7.86842575,7.86865445,7.8576506454545445],\"marker\":{\"color\":\"#EF553B\"},\"mode\":\"markers\",\"name\":\"leisure\",\"showlegend\":true,\"subplot\":\"mapbox\",\"type\":\"scattermapbox\"},{\"hovertemplate\":\"<b>%{hovertext}</b><br><br>element=sport<br>lat=%{lat}<br>lon=%{lon}<extra></extra>\",\"hovertext\":[17.0,20.0,23.0,50.0,57.0,89.0,98.0,120.0,142.0,146.0,148.0,151.0,153.0,155.0,157.0,167.0,169.0,172.0],\"lat\":[48.4596983,48.460891,48.45979205,48.47753746363637,48.451271033333335,48.4590844,48.45973715,48.4596513,48.45978685,48.463056923809525,48.459558825,48.443500325,48.44321375,48.4627177,48.4626377,48.459810675,48.4602319,48.46059949],\"legendgroup\":\"sport\",\"lon\":[7.8728819526315785,7.8904078250000005,7.8695055499999995,7.840130363636363,7.887868338888889,7.870939625,7.87284325,7.8839918,7.871281625,7.891210342857143,7.88289365,7.87275595,7.87308715,7.890213975,7.889912425,7.86842575,7.86865445,7.89004127],\"marker\":{\"color\":\"#00cc96\"},\"mode\":\"markers\",\"name\":\"sport\",\"showlegend\":true,\"subplot\":\"mapbox\",\"type\":\"scattermapbox\"},{\"hovertemplate\":\"<b>%{hovertext}</b><br><br>element=parking<br>lat=%{lat}<br>lon=%{lon}<extra></extra>\",\"hovertext\":[18.0,36.0,48.0,58.0,61.0,96.0,110.0,114.0,115.0,177.0,178.0],\"lat\":[48.453646325,48.4589049,48.4589737,48.451627224999996,48.4538749,48.458776225,48.456877524999996,48.455045725,48.453392650000005,48.45284351333333,48.46810746923077],\"legendgroup\":\"parking\",\"lon\":[7.8870210125,7.8715357,7.88342562,7.888430825,7.88910835,7.88722685,7.891818775,7.8951005125,7.886294116666666,7.887492966666667,7.881519538461538],\"marker\":{\"color\":\"#ab63fa\"},\"mode\":\"markers\",\"name\":\"parking\",\"showlegend\":true,\"subplot\":\"mapbox\",\"type\":\"scattermapbox\"},{\"hovertemplate\":\"<b>%{hovertext}</b><br><br>element=historic<br>lat=%{lat}<br>lon=%{lon}<extra></extra>\",\"hovertext\":[24.0,59.0,60.0,77.0,86.0,161.0,181.0,182.0,184.0],\"lat\":[48.4532307,48.453457,48.4599969,48.4422281,48.4823135,48.45321788333334,48.4539899,48.4536037,48.4696784],\"legendgroup\":\"historic\",\"lon\":[7.8709048,7.899055,7.8589821,7.8784482,7.8723618,7.886266205555556,7.895958,7.8841413,7.8740305],\"marker\":{\"color\":\"#FFA15A\"},\"mode\":\"markers\",\"name\":\"historic\",\"showlegend\":true,\"subplot\":\"mapbox\",\"type\":\"scattermapbox\"},{\"hovertemplate\":\"<b>%{hovertext}</b><br><br>element=amenity<br>lat=%{lat}<br>lon=%{lon}<extra></extra>\",\"hovertext\":[25.0,26.0,29.0,30.0,31.0,32.0,33.0,34.0,35.0,38.0,39.0,41.0,42.0,46.0,47.0,52.0,54.0,55.0,62.0,63.0,66.0,67.0,68.0,69.0,70.0,75.0,78.0,79.0,80.0,81.0,82.0,83.0,84.0,91.0,93.0,94.0,95.0,102.0,103.0,104.0,106.0,107.0,108.0,109.0,111.0,116.0,117.0,118.0,121.0,122.0,123.0,124.0,125.0,126.0,127.0,128.0,129.0,130.0,131.0,132.0,133.0,134.0,135.0,136.0,137.0,138.0,139.0,140.0,144.0,149.0,159.0,160.0,162.0,163.0,164.0,165.0,174.0,175.0,176.0,180.0,183.0,185.0,186.0,187.0,188.0,190.0,192.0,193.0,194.0],\"lat\":[48.4532562,48.4741043,48.4519694,48.453556,48.4727793,48.4558757,48.4531166,48.4537873,48.4537872,48.4615562,48.4538906,48.460939,48.4719166,48.4590883,48.4528037,48.44696690869566,48.46073545,48.4612868,48.47394672,48.4558934,48.4638308,48.4639223,48.4657359,48.4658533,48.4659807,48.4683958,48.4546699,48.4438631,48.4518658,48.4538872,48.444235,48.4532027,48.4533636,48.458811,48.4584497,48.4584501,48.4585595,48.459202,48.4557481,48.4529728,48.4476481,48.4532845,48.4540581,48.4546966375,48.4552399,48.4592054,48.4592321,48.4591743,48.4589187,48.4589516,48.4589116,48.4587125,48.4587125,48.4587036,48.4585948,48.4585344,48.4585753,48.4590555,48.4591148,48.4590577,48.4594623,48.4594556,48.4593845,48.4595979,48.4596629,48.459533,48.4595081,48.4592372,48.45280065,48.4630236,48.452237249999996,48.45321788333334,48.4704866,48.4702226,48.4423039,48.4403312,48.4591882,48.4559081,48.4535224,48.4689774,48.4707642,48.4696535,48.4620142,48.4586511,48.4597593,48.4657617,48.4470703,48.4534121,48.4533854],\"legendgroup\":\"amenity\",\"lon\":[7.8691098,7.8767334,7.887441,7.8891334,7.8777313,7.8888544,7.8854829,7.8822508,7.8822508,7.8997052,7.8839189,7.8889319,7.8871367,7.8826824,7.8862095,7.869827517391305,7.8807787000000005,7.888009816666667,7.87701786,7.8887423,7.8786145,7.8787078,7.8798519,7.880186,7.879816,7.8788331,7.8791363,7.8804618,7.8884549,7.888707175,7.8794106,7.8856987,7.8872469,7.8875642,7.8837848,7.8837466,7.8831169,7.8822623,7.848592,7.8548574,7.865723,7.8710743,7.887366416666667,7.8872555625,7.888374,7.8837524,7.8837752,7.8837564,7.8839085,7.8838615,7.8838361,7.8840859,7.8840322,7.8841355,7.884619,7.8846571,7.8847173,7.884569,7.884545,7.8844696,7.8843952,7.8843053,7.884355,7.8839832,7.8840328,7.8839953,7.884065,7.8838679,7.8861171500000005,7.8907739,7.887404533333334,7.886266205555556,7.8871192,7.8873895,7.8665738,7.8778478,7.882409,7.8895989,7.8843905,7.8475668,7.8671018,7.8740402,7.8914903,7.88351445,7.8720017,7.8800379,7.8804508,7.8855604,7.8855617],\"marker\":{\"color\":\"#19d3f3\"},\"mode\":\"markers\",\"name\":\"amenity\",\"showlegend\":true,\"subplot\":\"mapbox\",\"type\":\"scattermapbox\"},{\"hovertemplate\":\"<b>%{hovertext}</b><br><br>element=shop<br>lat=%{lat}<br>lon=%{lon}<extra></extra>\",\"hovertext\":[27.0,28.0,43.0,44.0,45.0,51.0,64.0,65.0,76.0,105.0,112.0,173.0,189.0],\"lat\":[48.4535139,48.4745347,48.4656371,48.4659715,48.4662276,48.45490518571428,48.4656106,48.4679438,48.4680926,48.4681465,48.4550558,48.45325415,48.4529933],\"legendgroup\":\"shop\",\"lon\":[7.8846648,7.8741653,7.8819233,7.8830659,7.8829104,7.895252999999999,7.8801616,7.8813495,7.8795595,7.8813855,7.8952713,7.906249075,7.8872682],\"marker\":{\"color\":\"#FF6692\"},\"mode\":\"markers\",\"name\":\"shop\",\"showlegend\":true,\"subplot\":\"mapbox\",\"type\":\"scattermapbox\"},{\"hovertemplate\":\"<b>%{hovertext}</b><br><br>element=charging_station<br>lat=%{lat}<br>lon=%{lon}<extra></extra>\",\"hovertext\":[195.0],\"lat\":[48.452714],\"legendgroup\":\"charging_station\",\"lon\":[7.887786],\"marker\":{\"color\":\"#B6E880\"},\"mode\":\"markers\",\"name\":\"charging_station\",\"showlegend\":true,\"subplot\":\"mapbox\",\"type\":\"scattermapbox\"}],                        {\"template\":{\"data\":{\"histogram2dcontour\":[{\"type\":\"histogram2dcontour\",\"colorbar\":{\"outlinewidth\":0,\"ticks\":\"\"},\"colorscale\":[[0.0,\"#0d0887\"],[0.1111111111111111,\"#46039f\"],[0.2222222222222222,\"#7201a8\"],[0.3333333333333333,\"#9c179e\"],[0.4444444444444444,\"#bd3786\"],[0.5555555555555556,\"#d8576b\"],[0.6666666666666666,\"#ed7953\"],[0.7777777777777778,\"#fb9f3a\"],[0.8888888888888888,\"#fdca26\"],[1.0,\"#f0f921\"]]}],\"choropleth\":[{\"type\":\"choropleth\",\"colorbar\":{\"outlinewidth\":0,\"ticks\":\"\"}}],\"histogram2d\":[{\"type\":\"histogram2d\",\"colorbar\":{\"outlinewidth\":0,\"ticks\":\"\"},\"colorscale\":[[0.0,\"#0d0887\"],[0.1111111111111111,\"#46039f\"],[0.2222222222222222,\"#7201a8\"],[0.3333333333333333,\"#9c179e\"],[0.4444444444444444,\"#bd3786\"],[0.5555555555555556,\"#d8576b\"],[0.6666666666666666,\"#ed7953\"],[0.7777777777777778,\"#fb9f3a\"],[0.8888888888888888,\"#fdca26\"],[1.0,\"#f0f921\"]]}],\"heatmap\":[{\"type\":\"heatmap\",\"colorbar\":{\"outlinewidth\":0,\"ticks\":\"\"},\"colorscale\":[[0.0,\"#0d0887\"],[0.1111111111111111,\"#46039f\"],[0.2222222222222222,\"#7201a8\"],[0.3333333333333333,\"#9c179e\"],[0.4444444444444444,\"#bd3786\"],[0.5555555555555556,\"#d8576b\"],[0.6666666666666666,\"#ed7953\"],[0.7777777777777778,\"#fb9f3a\"],[0.8888888888888888,\"#fdca26\"],[1.0,\"#f0f921\"]]}],\"heatmapgl\":[{\"type\":\"heatmapgl\",\"colorbar\":{\"outlinewidth\":0,\"ticks\":\"\"},\"colorscale\":[[0.0,\"#0d0887\"],[0.1111111111111111,\"#46039f\"],[0.2222222222222222,\"#7201a8\"],[0.3333333333333333,\"#9c179e\"],[0.4444444444444444,\"#bd3786\"],[0.5555555555555556,\"#d8576b\"],[0.6666666666666666,\"#ed7953\"],[0.7777777777777778,\"#fb9f3a\"],[0.8888888888888888,\"#fdca26\"],[1.0,\"#f0f921\"]]}],\"contourcarpet\":[{\"type\":\"contourcarpet\",\"colorbar\":{\"outlinewidth\":0,\"ticks\":\"\"}}],\"contour\":[{\"type\":\"contour\",\"colorbar\":{\"outlinewidth\":0,\"ticks\":\"\"},\"colorscale\":[[0.0,\"#0d0887\"],[0.1111111111111111,\"#46039f\"],[0.2222222222222222,\"#7201a8\"],[0.3333333333333333,\"#9c179e\"],[0.4444444444444444,\"#bd3786\"],[0.5555555555555556,\"#d8576b\"],[0.6666666666666666,\"#ed7953\"],[0.7777777777777778,\"#fb9f3a\"],[0.8888888888888888,\"#fdca26\"],[1.0,\"#f0f921\"]]}],\"surface\":[{\"type\":\"surface\",\"colorbar\":{\"outlinewidth\":0,\"ticks\":\"\"},\"colorscale\":[[0.0,\"#0d0887\"],[0.1111111111111111,\"#46039f\"],[0.2222222222222222,\"#7201a8\"],[0.3333333333333333,\"#9c179e\"],[0.4444444444444444,\"#bd3786\"],[0.5555555555555556,\"#d8576b\"],[0.6666666666666666,\"#ed7953\"],[0.7777777777777778,\"#fb9f3a\"],[0.8888888888888888,\"#fdca26\"],[1.0,\"#f0f921\"]]}],\"mesh3d\":[{\"type\":\"mesh3d\",\"colorbar\":{\"outlinewidth\":0,\"ticks\":\"\"}}],\"scatter\":[{\"fillpattern\":{\"fillmode\":\"overlay\",\"size\":10,\"solidity\":0.2},\"type\":\"scatter\"}],\"parcoords\":[{\"type\":\"parcoords\",\"line\":{\"colorbar\":{\"outlinewidth\":0,\"ticks\":\"\"}}}],\"scatterpolargl\":[{\"type\":\"scatterpolargl\",\"marker\":{\"colorbar\":{\"outlinewidth\":0,\"ticks\":\"\"}}}],\"bar\":[{\"error_x\":{\"color\":\"#2a3f5f\"},\"error_y\":{\"color\":\"#2a3f5f\"},\"marker\":{\"line\":{\"color\":\"#E5ECF6\",\"width\":0.5},\"pattern\":{\"fillmode\":\"overlay\",\"size\":10,\"solidity\":0.2}},\"type\":\"bar\"}],\"scattergeo\":[{\"type\":\"scattergeo\",\"marker\":{\"colorbar\":{\"outlinewidth\":0,\"ticks\":\"\"}}}],\"scatterpolar\":[{\"type\":\"scatterpolar\",\"marker\":{\"colorbar\":{\"outlinewidth\":0,\"ticks\":\"\"}}}],\"histogram\":[{\"marker\":{\"pattern\":{\"fillmode\":\"overlay\",\"size\":10,\"solidity\":0.2}},\"type\":\"histogram\"}],\"scattergl\":[{\"type\":\"scattergl\",\"marker\":{\"colorbar\":{\"outlinewidth\":0,\"ticks\":\"\"}}}],\"scatter3d\":[{\"type\":\"scatter3d\",\"line\":{\"colorbar\":{\"outlinewidth\":0,\"ticks\":\"\"}},\"marker\":{\"colorbar\":{\"outlinewidth\":0,\"ticks\":\"\"}}}],\"scattermapbox\":[{\"type\":\"scattermapbox\",\"marker\":{\"colorbar\":{\"outlinewidth\":0,\"ticks\":\"\"}}}],\"scatterternary\":[{\"type\":\"scatterternary\",\"marker\":{\"colorbar\":{\"outlinewidth\":0,\"ticks\":\"\"}}}],\"scattercarpet\":[{\"type\":\"scattercarpet\",\"marker\":{\"colorbar\":{\"outlinewidth\":0,\"ticks\":\"\"}}}],\"carpet\":[{\"aaxis\":{\"endlinecolor\":\"#2a3f5f\",\"gridcolor\":\"white\",\"linecolor\":\"white\",\"minorgridcolor\":\"white\",\"startlinecolor\":\"#2a3f5f\"},\"baxis\":{\"endlinecolor\":\"#2a3f5f\",\"gridcolor\":\"white\",\"linecolor\":\"white\",\"minorgridcolor\":\"white\",\"startlinecolor\":\"#2a3f5f\"},\"type\":\"carpet\"}],\"table\":[{\"cells\":{\"fill\":{\"color\":\"#EBF0F8\"},\"line\":{\"color\":\"white\"}},\"header\":{\"fill\":{\"color\":\"#C8D4E3\"},\"line\":{\"color\":\"white\"}},\"type\":\"table\"}],\"barpolar\":[{\"marker\":{\"line\":{\"color\":\"#E5ECF6\",\"width\":0.5},\"pattern\":{\"fillmode\":\"overlay\",\"size\":10,\"solidity\":0.2}},\"type\":\"barpolar\"}],\"pie\":[{\"automargin\":true,\"type\":\"pie\"}]},\"layout\":{\"autotypenumbers\":\"strict\",\"colorway\":[\"#636efa\",\"#EF553B\",\"#00cc96\",\"#ab63fa\",\"#FFA15A\",\"#19d3f3\",\"#FF6692\",\"#B6E880\",\"#FF97FF\",\"#FECB52\"],\"font\":{\"color\":\"#2a3f5f\"},\"hovermode\":\"closest\",\"hoverlabel\":{\"align\":\"left\"},\"paper_bgcolor\":\"white\",\"plot_bgcolor\":\"#E5ECF6\",\"polar\":{\"bgcolor\":\"#E5ECF6\",\"angularaxis\":{\"gridcolor\":\"white\",\"linecolor\":\"white\",\"ticks\":\"\"},\"radialaxis\":{\"gridcolor\":\"white\",\"linecolor\":\"white\",\"ticks\":\"\"}},\"ternary\":{\"bgcolor\":\"#E5ECF6\",\"aaxis\":{\"gridcolor\":\"white\",\"linecolor\":\"white\",\"ticks\":\"\"},\"baxis\":{\"gridcolor\":\"white\",\"linecolor\":\"white\",\"ticks\":\"\"},\"caxis\":{\"gridcolor\":\"white\",\"linecolor\":\"white\",\"ticks\":\"\"}},\"coloraxis\":{\"colorbar\":{\"outlinewidth\":0,\"ticks\":\"\"}},\"colorscale\":{\"sequential\":[[0.0,\"#0d0887\"],[0.1111111111111111,\"#46039f\"],[0.2222222222222222,\"#7201a8\"],[0.3333333333333333,\"#9c179e\"],[0.4444444444444444,\"#bd3786\"],[0.5555555555555556,\"#d8576b\"],[0.6666666666666666,\"#ed7953\"],[0.7777777777777778,\"#fb9f3a\"],[0.8888888888888888,\"#fdca26\"],[1.0,\"#f0f921\"]],\"sequentialminus\":[[0.0,\"#0d0887\"],[0.1111111111111111,\"#46039f\"],[0.2222222222222222,\"#7201a8\"],[0.3333333333333333,\"#9c179e\"],[0.4444444444444444,\"#bd3786\"],[0.5555555555555556,\"#d8576b\"],[0.6666666666666666,\"#ed7953\"],[0.7777777777777778,\"#fb9f3a\"],[0.8888888888888888,\"#fdca26\"],[1.0,\"#f0f921\"]],\"diverging\":[[0,\"#8e0152\"],[0.1,\"#c51b7d\"],[0.2,\"#de77ae\"],[0.3,\"#f1b6da\"],[0.4,\"#fde0ef\"],[0.5,\"#f7f7f7\"],[0.6,\"#e6f5d0\"],[0.7,\"#b8e186\"],[0.8,\"#7fbc41\"],[0.9,\"#4d9221\"],[1,\"#276419\"]]},\"xaxis\":{\"gridcolor\":\"white\",\"linecolor\":\"white\",\"ticks\":\"\",\"title\":{\"standoff\":15},\"zerolinecolor\":\"white\",\"automargin\":true,\"zerolinewidth\":2},\"yaxis\":{\"gridcolor\":\"white\",\"linecolor\":\"white\",\"ticks\":\"\",\"title\":{\"standoff\":15},\"zerolinecolor\":\"white\",\"automargin\":true,\"zerolinewidth\":2},\"scene\":{\"xaxis\":{\"backgroundcolor\":\"#E5ECF6\",\"gridcolor\":\"white\",\"linecolor\":\"white\",\"showbackground\":true,\"ticks\":\"\",\"zerolinecolor\":\"white\",\"gridwidth\":2},\"yaxis\":{\"backgroundcolor\":\"#E5ECF6\",\"gridcolor\":\"white\",\"linecolor\":\"white\",\"showbackground\":true,\"ticks\":\"\",\"zerolinecolor\":\"white\",\"gridwidth\":2},\"zaxis\":{\"backgroundcolor\":\"#E5ECF6\",\"gridcolor\":\"white\",\"linecolor\":\"white\",\"showbackground\":true,\"ticks\":\"\",\"zerolinecolor\":\"white\",\"gridwidth\":2}},\"shapedefaults\":{\"line\":{\"color\":\"#2a3f5f\"}},\"annotationdefaults\":{\"arrowcolor\":\"#2a3f5f\",\"arrowhead\":0,\"arrowwidth\":1},\"geo\":{\"bgcolor\":\"white\",\"landcolor\":\"#E5ECF6\",\"subunitcolor\":\"white\",\"showland\":true,\"showlakes\":true,\"lakecolor\":\"white\"},\"title\":{\"x\":0.05},\"mapbox\":{\"style\":\"light\"}}},\"mapbox\":{\"domain\":{\"x\":[0.0,1.0],\"y\":[0.0,1.0]},\"center\":{\"lat\":48.45869073985538,\"lon\":7.8813205018008805},\"zoom\":14,\"style\":\"stamen-toner\"},\"legend\":{\"title\":{\"text\":\"element\"},\"tracegroupgap\":0},\"margin\":{\"t\":60}},                        {\"responsive\": true}                    ).then(function(){\n",
       "                            \n",
       "var gd = document.getElementById('2af9eb67-12d9-4d06-93e8-c0f5328101ea');\n",
       "var x = new MutationObserver(function (mutations, observer) {{\n",
       "        var display = window.getComputedStyle(gd).display;\n",
       "        if (!display || display === 'none') {{\n",
       "            console.log([gd, 'removed!']);\n",
       "            Plotly.purge(gd);\n",
       "            observer.disconnect();\n",
       "        }}\n",
       "}});\n",
       "\n",
       "// Listen for the removal of the full notebook cells\n",
       "var notebookContainer = gd.closest('#notebook-container');\n",
       "if (notebookContainer) {{\n",
       "    x.observe(notebookContainer, {childList: true});\n",
       "}}\n",
       "\n",
       "// Listen for the clearing of the current output cell\n",
       "var outputEl = gd.closest('.output');\n",
       "if (outputEl) {{\n",
       "    x.observe(outputEl, {childList: true});\n",
       "}}\n",
       "\n",
       "                        })                };                });            </script>        </div>"
      ]
     },
     "metadata": {},
     "output_type": "display_data"
    }
   ],
   "source": [
    "save_fig = False\n",
    "Dap.geo_visualizer(final_gdf, save_fig) "
   ]
  },
  {
   "cell_type": "code",
   "execution_count": 42,
   "metadata": {},
   "outputs": [],
   "source": [
    "# with open('0412__convergence_another_test_setup_dict.pickle', 'wb') as f:\n",
    "#     pickle.dump(csap_setup_dict, f)"
   ]
  },
  {
   "cell_type": "markdown",
   "metadata": {},
   "source": [
    "## Section 2: Generate Random Scenarios for CS-SS Connection"
   ]
  },
  {
   "cell_type": "code",
   "execution_count": 43,
   "metadata": {},
   "outputs": [],
   "source": [
    "# copy_csap_setup_dict = csap_setup_dict.copy() \n",
    "# csap_setup_dict = pd.read_pickle(r'C:\\Users\\z004ffpm\\Work_Documents\\CSallocModel\\model_evcsap\\stochastic_model\\Validation_02_Dec\\v_test_2_phi_IJ_walk_dist_2_charge\\0412_wastedESC_test_setup_dict.pickle')\n",
    "# mpdp_connection_sce = pd.read_pickle(r'C:\\Users\\z004ffpm\\Work_Documents\\CSallocModel\\model_evcsap\\stochastic_model\\Validation_02_Dec\\mpdp_con_sce.pickle')\n",
    "# generated_scenarios = pd.read_pickle(r'C:\\Users\\z004ffpm\\Work_Documents\\CSallocModel\\model_evcsap\\stochastic_model\\Validation_02_Dec\\20k_con_sces_dropped_isl.pickle')"
   ]
  },
  {
   "cell_type": "code",
   "execution_count": 44,
   "metadata": {
    "scrolled": true
   },
   "outputs": [
    {
     "name": "stdout",
     "output_type": "stream",
     "text": [
      "Set up an auxilliary model and calculate distances and distance decay factors between CSs and SSs to either deal with isolated nodes or generate connection scenarios for stochastic EVCSAP\n",
      "Done! Process took 0.12 seconds.\n"
     ]
    }
   ],
   "source": [
    "###############################################################\n",
    "####    Generate stochstic cs-ss connection scenarios    ######\n",
    "cs_ss_con_sce_auxi_model = Sceg.get_auxi_model(\n",
    "    setup_dict = csap_setup_dict\n",
    "    )\n",
    "# all_connection_sces_dict, all_connect_prob_dict = Sceg._generate_cs_ss_connection_sces(\n",
    "# all_connection_sces_dict = Sceg._generate_cs_ss_connection_sces(\n",
    "#     num_scenarios = 20000,\n",
    "#     auxi_model = cs_ss_con_sce_auxi_model,\n",
    "#     save_prob_matrices = False #True\n",
    "#     )\n",
    "# Save generated connection scenarios\n",
    "# import pickle \n",
    "# with open('20k_con_sces_dropped_isl.pickle', 'wb') as f:\n",
    "#     pickle.dump(all_connection_sces_dict, f)\n",
    "# with open('20k_con_probs_dropped_isl.pickle', 'wb') as f:\n",
    "#     pickle.dump(all_connect_prob_dict, f)\n"
   ]
  },
  {
   "cell_type": "code",
   "execution_count": 45,
   "metadata": {},
   "outputs": [],
   "source": [
    "# generated_scenarios = pd.read_pickle('20k_con_sces_dropped_isl.pickle')\n",
    "\n",
    "# total_connection_matrixm, mpdp_connection_sce = \\\n",
    "#     Sceg._get_total_con_matrix_and_mpdp_con_sce(\n",
    "#         generated_connections = generated_scenarios\n",
    "#     )\n",
    "# Sceg._get_total_num_sces(total_connection_matrixm)"
   ]
  },
  {
   "cell_type": "code",
   "execution_count": 172,
   "metadata": {
    "scrolled": true
   },
   "outputs": [
    {
     "data": {
      "image/png": "[encoded data removed]",
      "text/plain": [
       "<Figure size 3240x2304 with 1 Axes>"
      ]
     },
     "metadata": {},
     "output_type": "display_data"
    }
   ],
   "source": [
    "mpdp_connection_dict = {'mpdp_connection': mpdp_connection_sce}\n",
    "Sceg._plot_cs_ss_connection_graph(\n",
    "        cs_ss_con_sce_auxi_model, \n",
    "        mpdp_connection_dict, 'mpdp_connection'\n",
    "        )"
   ]
  },
  {
   "cell_type": "markdown",
   "metadata": {
    "slideshow": {
     "slide_type": "slide"
    }
   },
   "source": [
    "## Section 3: Setup and Solve Multi-Period Stochastic model\n",
    "### Setup Frame Model"
   ]
  },
  {
   "cell_type": "code",
   "execution_count": 54,
   "metadata": {},
   "outputs": [
    {
     "data": {
      "text/plain": [
       "{'I_update': Int64Index([195], dtype='int64', name='id'),\n",
       " 'I_newBuild': Int64Index([18, 36, 48, 58, 61, 96, 110, 114, 115, 177, 178], dtype='int64', name='id'),\n",
       " 'J': Int64Index([ 15,  16,  17,  19,  20,  21,  22,  23,  24,  25,\n",
       "             ...\n",
       "             185, 186, 187, 188, 189, 190, 191, 192, 193, 194],\n",
       "            dtype='int64', name='id', length=158),\n",
       " 'K': Int64Index([0, 1, 2, 4, 5, 6, 8, 10, 12, 13, 71, 72, 73, 74, 92], dtype='int64', name='id'),\n",
       " 'T': ['day_normal', 'day_peak', 'night']}"
      ]
     },
     "execution_count": 54,
     "metadata": {},
     "output_type": "execute_result"
    }
   ],
   "source": [
    "csap_setup_dict.get('model_sets') # keys() #get('params_cs')"
   ]
  },
  {
   "cell_type": "code",
   "execution_count": 47,
   "metadata": {},
   "outputs": [
    {
     "name": "stdout",
     "output_type": "stream",
     "text": [
      "Built an empty concrete pyomo model named mpdp_frame_model_4_sp. \n",
      "Defining sets   ...\n",
      "Parameters_setup 1: Feeding basic parameters to mpdp_frame_model_4_sp ...\n",
      "Parameters_setup 2: Feeding CS parameters  to 'mpdp_frame_model_4_sp' ...\n",
      "Parameters_setup 3: Feeding SS parameters to 'mpdp_frame_model_4_sp' ... \n",
      "Parameters_setup 4: Feeding CD parameters to mpdp_frame_model_4_sp ... \n",
      " ... \n",
      "   Calculating walking distances between candidate locations and CD centers: model.d ...\n",
      "     Done! Process took 0.65 seconds.\n",
      "All CD parameters fed! \n",
      "\n",
      "Feeding cs-ss connection scenario to model ... \n",
      "Feeding decision variables ... \n",
      "Defining Expression of Exogenous (Charging) Energy Supply Capability of CSs ...\n",
      " Done! Process took 31.76 seconds.\n",
      "Feeding objective to mpdp_frame_model_4_sp ...\n",
      "\n",
      "          There are two objectives 'obj_total_cost' and 'obj_cost_no_grid' in frame model.\n",
      "          Before resolution, use method:\n",
      "    `model.objective_name.deactive()` to deactive one of them and solve the model with the remained active objective function.\n",
      "Feeding constraints to mpdp_frame_model_4_sp ...\n",
      "  Linearizing constraints of CD coverage lower bound ... \n",
      "All constraints fed! Process took 1.19 seconds.\n",
      "Successfully built model mpdp_frame_model_4_sp! Please use solver to solve it. \n",
      "\n",
      "HINT: to check all properties of mpdp_frame_model_4_sp, please use \n",
      "    'mpdp_frame_model_4_sp.display()'\n",
      "HINT: to check the properties of parameters of mpdp_frame_model_4_sp, please use:\n",
      "    'mpdp_frame_model_4_sp.param_name.display()'\n",
      "\n",
      "Done, model set-up took 34.37 seconds in total.\n"
     ]
    }
   ],
   "source": [
    "model_name = 'mpdp_frame_model_4_sp' # assign name to pyomo model, default name set in the setup function is 'CSAP'\n",
    "csap_is_solved = False\n",
    "linearize_csap = True\n",
    "# sce_id = '1'\n",
    "# connection_sce = all_connection_sces_dict[sce_id].stack().to_dict()\n",
    "\n",
    "mpdp_frame_model_4_sp = _build_mpdp_csap_frame(    \n",
    "    setup_dict = csap_setup_dict, \n",
    "    cs_ss_connect_sce = mpdp_connection_sce.stack().to_dict(),\n",
    "    m_name = model_name, \n",
    "    linearized = linearize_csap\n",
    ")"
   ]
  },
  {
   "cell_type": "markdown",
   "metadata": {},
   "source": [
    "### Solve Frame Model"
   ]
  },
  {
   "cell_type": "code",
   "execution_count": 48,
   "metadata": {
    "scrolled": true
   },
   "outputs": [],
   "source": [
    "# def CS_service_time_Cap_rule(model, i, t):             \n",
    "#     service_time_required = sum(\n",
    "#         model.z[i,j,t] * model.tau[i,j] * model.calA[j,t] * (model.calT[j,t]+2*model.d[i,j]) \\\n",
    "#             for j in model.J\n",
    "#     )\n",
    "#     return service_time_required <= model.DeltaT[t]*(model.y[i]+model.n[i])\n",
    "# model.CS_service_time_Cap = pyo.Constraint(\n",
    "#     model.I, model.T,\n",
    "#     rule = CS_service_time_Cap_rule,\n",
    "#     doc = \"total length of parking time by covered CDs does not exceed total service time of CPs at CS i.\"\n",
    "# )"
   ]
  },
  {
   "cell_type": "code",
   "execution_count": 49,
   "metadata": {},
   "outputs": [],
   "source": [
    "# mpdp_frame_model_4_sp.CS_service_time_Cap = pyo.Constraint(\n",
    "#     mpdp_frame_model_4_sp.I, mpdp_frame_model_4_sp.T,\n",
    "#     rule = CS_service_time_Cap_rule,\n",
    "#     doc = \"description of service time rule to be completed\"\n",
    "# )"
   ]
  },
  {
   "cell_type": "code",
   "execution_count": 14,
   "metadata": {
    "collapsed": true
   },
   "outputs": [
    {
     "name": "stdout",
     "output_type": "stream",
     "text": [
      "CS_service_time_Cap : Size=36\n",
      "    Key                 : Lower : Body  : Upper\n",
      "     (18, 'day_normal') :  None :   0.0 :   0.0\n",
      "       (18, 'day_peak') :  None :   0.0 :   0.0\n",
      "          (18, 'night') :  None :   0.0 :   0.0\n",
      "     (36, 'day_normal') :  None :   0.0 :   0.0\n",
      "       (36, 'day_peak') :  None :   0.0 :   0.0\n",
      "          (36, 'night') :  None :   0.0 :   0.0\n",
      "     (48, 'day_normal') :  None :   0.0 :   0.0\n",
      "       (48, 'day_peak') :  None :   0.0 :   0.0\n",
      "          (48, 'night') :  None :   0.0 :   0.0\n",
      "     (58, 'day_normal') :  None :   0.0 :   0.0\n",
      "       (58, 'day_peak') :  None :   0.0 :   0.0\n",
      "          (58, 'night') :  None :   0.0 :   0.0\n",
      "     (61, 'day_normal') :  None :   0.0 :   0.0\n",
      "       (61, 'day_peak') :  None :   0.0 :   0.0\n",
      "          (61, 'night') :  None :   0.0 :   0.0\n",
      "     (96, 'day_normal') :  None :   0.0 :   0.0\n",
      "       (96, 'day_peak') :  None :   0.0 :   0.0\n",
      "          (96, 'night') :  None :   0.0 :   0.0\n",
      "    (110, 'day_normal') :  None :   0.0 :   0.0\n",
      "      (110, 'day_peak') :  None :   0.0 :   0.0\n",
      "         (110, 'night') :  None :   0.0 :   0.0\n",
      "    (114, 'day_normal') :  None :   0.0 :   0.0\n",
      "      (114, 'day_peak') :  None :   0.0 :   0.0\n",
      "         (114, 'night') :  None :   0.0 :   0.0\n",
      "    (115, 'day_normal') :  None :   0.0 :   0.0\n",
      "      (115, 'day_peak') :  None :   0.0 :   0.0\n",
      "         (115, 'night') :  None :   0.0 :   0.0\n",
      "    (177, 'day_normal') :  None :   0.0 :   0.0\n",
      "      (177, 'day_peak') :  None :   0.0 :   0.0\n",
      "         (177, 'night') :  None :   0.0 :   0.0\n",
      "    (178, 'day_normal') :  None :   0.0 :   0.0\n",
      "      (178, 'day_peak') :  None :   0.0 :   0.0\n",
      "         (178, 'night') :  None :   0.0 :   0.0\n",
      "    (195, 'day_normal') :  None : -24.0 :   0.0\n",
      "      (195, 'day_peak') :  None :  -4.0 :   0.0\n",
      "         (195, 'night') :  None : -20.0 :   0.0\n"
     ]
    }
   ],
   "source": [
    "mpdp_frame_model_4_sp.CS_service_time_Cap.display()"
   ]
  },
  {
   "cell_type": "code",
   "execution_count": 50,
   "metadata": {},
   "outputs": [
    {
     "name": "stdout",
     "output_type": "stream",
     "text": [
      "results_NO_service_time_cap\n",
      " \n",
      "Problem: \n",
      "- Name: tmpj8w9o080\n",
      "  Lower bound: -706381.1710131776\n",
      "  Upper bound: -706381.1710131776\n",
      "  Number of objectives: 1\n",
      "  Number of constraints: 3450\n",
      "  Number of variables: 6842\n",
      "  Number of nonzeros: 13921\n",
      "  Sense: minimize\n",
      "Solver: \n",
      "- Status: ok\n",
      "  User time: 0.09\n",
      "  Termination condition: optimal\n",
      "  Termination message: MIP - Integer optimal solution\\x3a Objective = -7.0638117101e+05\n",
      "  Statistics: \n",
      "    Branch and bound: \n",
      "      Number of bounded subproblems: 0\n",
      "      Number of created subproblems: 0\n",
      "  Error rc: 0\n",
      "  Time: 0.2548031806945801\n",
      "Solution: \n",
      "- number of solutions: 0\n",
      "  number of solutions displayed: 0\n",
      "\n",
      "Decision to build new CSs, \n",
      "(loc_id, Nr_CP): \n",
      "[(36, 2.0), (48, 10.0), (58, 8.0), (61, 8.0), (96, 8.0), (110, 8.0), (114, 13.0), (115, 12.0), (178, 26.0)]\n",
      "\n",
      "Decision to update old CSs, \n",
      "(loc_id, Nr_CP, Nr_total_CPs): \n",
      "[]\n",
      "Decision to expand SSs, \n",
      "(loc_id, size_expansion): \n",
      "[(6, 150.0), (8, 250.0), (74, 100.0)]\n",
      "\n",
      "Decision to use expensive backstop tech at SSs, \n",
      "((loc_id, period), amount_backstop usage): \n",
      "[]\n",
      "\n",
      "results_with_service_time_cap\n",
      " \n",
      "Problem: \n",
      "- Name: tmpuoaj5rtq\n",
      "  Lower bound: -706381.1710131774\n",
      "  Upper bound: -706381.1710131774\n",
      "  Number of objectives: 1\n",
      "  Number of constraints: 3486\n",
      "  Number of variables: 6842\n",
      "  Number of nonzeros: 14704\n",
      "  Sense: minimize\n",
      "Solver: \n",
      "- Status: ok\n",
      "  User time: 0.08\n",
      "  Termination condition: optimal\n",
      "  Termination message: MIP - Integer optimal solution\\x3a Objective = -7.0638117101e+05\n",
      "  Statistics: \n",
      "    Branch and bound: \n",
      "      Number of bounded subproblems: 0\n",
      "      Number of created subproblems: 0\n",
      "  Error rc: 0\n",
      "  Time: 0.20325946807861328\n",
      "Solution: \n",
      "- number of solutions: 0\n",
      "  number of solutions displayed: 0\n",
      "\n",
      "Decision to build new CSs, \n",
      "(loc_id, Nr_CP): \n",
      "[(36, 2.0), (48, 10.0), (58, 8.0), (61, 8.0), (96, 8.0), (110, 8.0), (114, 13.0), (115, 12.0), (178, 26.0)]\n",
      "\n",
      "Decision to update old CSs, \n",
      "(loc_id, Nr_CP, Nr_total_CPs): \n",
      "[]\n",
      "Decision to expand SSs, \n",
      "(loc_id, size_expansion): \n",
      "[(6, 150.0), (8, 250.0), (74, 100.0)]\n",
      "\n",
      "Decision to use expensive backstop tech at SSs, \n",
      "((loc_id, period), amount_backstop usage): \n",
      "[]\n",
      "\n"
     ]
    }
   ],
   "source": [
    "# Objective with grid and \n",
    "# loose grid load constraints based on (efficient) energy CPs requested\n",
    "# mpdp_frame_model_4_sp.CS_service_time_Cap = pyo.Constraint(\n",
    "#     mpdp_frame_model_4_sp.I, mpdp_frame_model_4_sp.T,\n",
    "#     rule = CS_service_time_Cap_rule,\n",
    "#     doc = \"description of service time rule to be completed\"\n",
    "# )\n",
    "mpdp_frame_model_4_sp.obj_cost_no_grid.deactivate()\n",
    "mpdp_frame_model_4_sp.obj_total_cost.activate()\n",
    "mpdp_frame_model_4_sp.cons_grid_load_efficientCD.activate()\n",
    "mpdp_frame_model_4_sp.cons_grid_load_NrCPs.deactivate()\n",
    "# csap_LP.cons_CDcoverageLB.activate()\n",
    "\n",
    "Solver = SolverFactory(\n",
    "#     'glpk'\n",
    "#     'ipopt'\n",
    "    'cplex'\n",
    "#     'gams'\n",
    "#     'cplex_direct'\n",
    "#     'bonmin'\n",
    "    # 'couenne'\n",
    "    , tee = True, \n",
    ")\n",
    "\n",
    "\n",
    "# mpdp_frame_model_4_sp.n[195].value = 2\n",
    "mpdp_frame_model_4_sp.CS_service_time_Cap.deactivate()\n",
    "results_NO_service_time_cap = Solver.solve(mpdp_frame_model_4_sp)\n",
    "csap_is_solved = True\n",
    "print(\"results_NO_service_time_cap\\n\", results_NO_service_time_cap)\n",
    "print_decision = True\n",
    "if print_decision:\n",
    "    Stac._print_decision(mpdp_frame_model_4_sp)\n",
    "\n",
    "# mpdp_frame_model_4_sp.n[195].value = 2\n",
    "mpdp_frame_model_4_sp.CS_service_time_Cap.activate()\n",
    "results_with_service_time_cap = Solver.solve(mpdp_frame_model_4_sp)\n",
    "csap_is_solved = True\n",
    "print(\"results_with_service_time_cap\\n\", results_with_service_time_cap)\n",
    "print_decision = True\n",
    "if print_decision:\n",
    "    Stac._print_decision(mpdp_frame_model_4_sp)\n",
    "#     _print_decision(mpdp_frame_model_4_sp)\n",
    "\n",
    "\n",
    "#     _print_decision(mpdp_frame_model_4_sp)\n",
    "\n",
    "\n",
    "# Dap._plot_model_graph(\n",
    "#     model = mpdp_frame_model_4_sp, \n",
    "#     cd_period = 'peak',\n",
    "#     model_is_solved = csap_is_solved\n",
    "# )\n"
   ]
  },
  {
   "cell_type": "code",
   "execution_count": 17,
   "metadata": {},
   "outputs": [
    {
     "name": "stdout",
     "output_type": "stream",
     "text": [
      "T : Set of time periods.\n",
      "    Size=1, Index=None, Ordered=Insertion\n",
      "    Key  : Dimen : Domain : Size : Members\n",
      "    None :     1 :    Any :    3 : {'day_normal', 'day_peak', 'night'}\n"
     ]
    }
   ],
   "source": [
    "mpdp_frame_model_4_sp.T.display()"
   ]
  },
  {
   "cell_type": "code",
   "execution_count": 18,
   "metadata": {
    "collapsed": true
   },
   "outputs": [
    {
     "data": {
      "image/png": "[encoded data removed]",
      "text/plain": [
       "<Figure size 1008x720 with 1 Axes>"
      ]
     },
     "metadata": {},
     "output_type": "display_data"
    }
   ],
   "source": [
    "Dap._plot_model_graph(\n",
    "    model = mpdp_frame_model_4_sp, \n",
    "    cd_period = 'day_peak',\n",
    "    model_is_solved = csap_is_solved\n",
    ")"
   ]
  },
  {
   "cell_type": "markdown",
   "metadata": {},
   "source": [
    "### Method to Solution Results and Frame_Model_Data in One Dictionary"
   ]
  },
  {
   "cell_type": "code",
   "execution_count": 32,
   "metadata": {},
   "outputs": [
    {
     "data": {
      "text/plain": [
       "0.08333333333333333"
      ]
     },
     "execution_count": 32,
     "metadata": {},
     "output_type": "execute_result"
    }
   ],
   "source": [
    "pyo.value(mpdp_frame_model_4_sp.phi_IJ)"
   ]
  },
  {
   "cell_type": "code",
   "execution_count": 33,
   "metadata": {},
   "outputs": [],
   "source": [
    "\n",
    "def _get_hourly_CD_cover_each_CP_atCSs(\n",
    "        model: pyo.ConcreteModel\n",
    "    ) -> tuple :\n",
    "    \"\"\"_summary_\n",
    "\n",
    "    Args:\n",
    "        model (pyo.ConcreteModel): _description_\n",
    "\n",
    "    Returns:\n",
    "        a tuple of two DataFrames: ()\n",
    "    \"\"\"\n",
    "    # Get the df of CD_corverage for each period at each charging stations\n",
    "    CD_coveraged_by_CSs_df = pd.Series({\n",
    "        key:pyo.value(item_value) \\\n",
    "            for key, item_value in model.psi.extract_values().items()\n",
    "    }).unstack()\n",
    "    CD_coveraged_by_CSs_df = CD_coveraged_by_CSs_df[CD_coveraged_by_CSs_df>0].sort_index().dropna().astype(float)\n",
    "    CD_coveraged_by_CSs_df.loc['region_total', :] = CD_coveraged_by_CSs_df.sum()\n",
    "\n",
    "    # Get the df of number of Charging points installed at each charging stations\n",
    "    num_CPs_df = pd.Series({\n",
    "        key: (pyo.value(item_value + model.n[key])) \\\n",
    "            for key, item_value in model.y.extract_values().items()\n",
    "    })#.unstack()\n",
    "    num_CPs_df = num_CPs_df[num_CPs_df>0].sort_index().astype(int)\n",
    "    num_CPs_df.loc['region_total'] = num_CPs_df.sum()\n",
    "\n",
    "    periods_length = np.array(model.DeltaT.extract_values().values())\n",
    "\n",
    "    # Get the df of CD_corverage for each period \"of each single CP\" at each charging stations\n",
    "    period_cover_each_CP_at_CSs = CD_coveraged_by_CSs_df.divide(num_CPs_df, axis = 0)\n",
    "    period_cover_each_CP_at_CSs.rename(index={'region_total':'region_average'}, inplace = True)\n",
    "    # Get the df of hourly avg. CD_corverage for each period \"of each single CP\" at each charging stations\n",
    "    hourly_period_cover_each_CP_at_CSs = period_cover_each_CP_at_CSs/periods_length \n",
    "    return hourly_period_cover_each_CP_at_CSs, num_CPs_df\n",
    "    # #plot_connection_histo(hourly_CD_cover_each_CP_at_CSs.T) # .plot.pie(subplots = True)\n",
    "    \n",
    "\n",
    "def _get_total_regional_CD(\n",
    "        model: pyo.ConcreteModel,\n",
    "        ) -> dict:    \n",
    "    Battery_cap = pyo.value(model.B_cap)\n",
    "    CP_powerRating = pyo.value(model.pi)\n",
    "    avg_dist_cd_2_CSs_dict = {}\n",
    "    for j in model.J:\n",
    "        dists_list = []\n",
    "        for i in model.I:\n",
    "            dist_j2i = evaluate_expression(model.d[i,j])\n",
    "            if dist_j2i > 1e-10 and dist_j2i < pyo.value(model.phi_IJ):\n",
    "                dists_list.append(dist_j2i)\n",
    "        avg_dist_j2allCSs = np.array(dists_list).mean() if len(dists_list) > 0 else 0\n",
    "        avg_dist_cd_2_CSs_dict[j] = avg_dist_j2allCSs\n",
    "\n",
    "    total_regional_CD_dict = {}\n",
    "    for t in model.T:\n",
    "        total_regional_CD_t = evaluate_expression(sum(model.calA[j,t] * min(\n",
    "            ( 1 - pyo.value(model.delta[j,t]) ) * Battery_cap,\n",
    "            CP_powerRating * (pyo.value(model.calT[j,t])+2*avg_dist_cd_2_CSs_dict[j])\n",
    "        ) for j in model.J))\n",
    "        total_regional_CD_dict[t] = total_regional_CD_t\n",
    "    return total_regional_CD_dict"
   ]
  },
  {
   "cell_type": "code",
   "execution_count": 34,
   "metadata": {
    "scrolled": true
   },
   "outputs": [],
   "source": [
    "test_result_dict = Stac._get_data_from_solved_mpdp(\n",
    "# test_result_dict = _get_data_from_solved_mpdp(\n",
    "    solver_results = results_with_service_time_cap, #results_NO_service_time_cap,\n",
    "    solved_model = mpdp_frame_model_4_sp,    \n",
    "    )\n",
    "hourly_CD_cover_each_CP_at_CSs, Nr_CPs = _get_hourly_CD_cover_each_CP_atCSs(mpdp_frame_model_4_sp)\n",
    "#         Stac._get_hourly_CD_cover_each_CP_atCSs(mpdp_frame_model_4_sp)\n",
    "wastedESC_dict = Stac._get_total_wastedESC_by_parking(mpdp_frame_model_4_sp)\n",
    "daily_regional_CD_dict = _get_total_regional_CD(mpdp_frame_model_4_sp)\n",
    "#     Stac._get_total_regional_CD(mpdp_frame_model_4_sp)"
   ]
  },
  {
   "cell_type": "code",
   "execution_count": 35,
   "metadata": {},
   "outputs": [
    {
     "data": {
      "text/plain": [
       "36               2\n",
       "48              10\n",
       "58               8\n",
       "61               8\n",
       "96               8\n",
       "110              8\n",
       "114             13\n",
       "115             12\n",
       "178             26\n",
       "195              2\n",
       "region_total    97\n",
       "dtype: int64"
      ]
     },
     "execution_count": 35,
     "metadata": {},
     "output_type": "execute_result"
    }
   ],
   "source": [
    "Nr_CPs"
   ]
  },
  {
   "cell_type": "markdown",
   "metadata": {},
   "source": [
    "# Extremly weird wastedESC at 195, which can be >22 kWh/hour?"
   ]
  },
  {
   "cell_type": "code",
   "execution_count": 36,
   "metadata": {},
   "outputs": [],
   "source": [
    "psi_dict = {key:pyo.value(val) for key, val in mpdp_frame_model_4_sp.psi.extract_values().items()}\n",
    "psi_df = pd.Series(psi_dict).unstack()\n",
    "psi_df['Nr_CPs'] = Nr_CPs"
   ]
  },
  {
   "cell_type": "code",
   "execution_count": 37,
   "metadata": {},
   "outputs": [],
   "source": [
    "w_dict = {key:pyo.value(val) for key, val in mpdp_frame_model_4_sp.w.extract_values().items()}\n",
    "w_df = pd.Series(w_dict).unstack()\n",
    "w_df['TESC_normal'] = Nr_CPs*22*22\n",
    "w_df['TESC_peak'] = Nr_CPs*22*2\n",
    "w_df['Nr_CPs'] = Nr_CPs"
   ]
  },
  {
   "cell_type": "code",
   "execution_count": 38,
   "metadata": {},
   "outputs": [
    {
     "data": {
      "text/html": [
       "<div>\n",
       "<style scoped>\n",
       "    .dataframe tbody tr th:only-of-type {\n",
       "        vertical-align: middle;\n",
       "    }\n",
       "\n",
       "    .dataframe tbody tr th {\n",
       "        vertical-align: top;\n",
       "    }\n",
       "\n",
       "    .dataframe thead th {\n",
       "        text-align: right;\n",
       "    }\n",
       "</style>\n",
       "<table border=\"1\" class=\"dataframe\">\n",
       "  <thead>\n",
       "    <tr style=\"text-align: right;\">\n",
       "      <th></th>\n",
       "      <th>day_normal</th>\n",
       "      <th>day_peak</th>\n",
       "      <th>night</th>\n",
       "      <th>TESC_normal</th>\n",
       "      <th>TESC_peak</th>\n",
       "      <th>Nr_CPs</th>\n",
       "    </tr>\n",
       "  </thead>\n",
       "  <tbody>\n",
       "    <tr>\n",
       "      <th>18</th>\n",
       "      <td>0.000000</td>\n",
       "      <td>0.000000</td>\n",
       "      <td>0.000000</td>\n",
       "      <td>NaN</td>\n",
       "      <td>NaN</td>\n",
       "      <td>NaN</td>\n",
       "    </tr>\n",
       "    <tr>\n",
       "      <th>36</th>\n",
       "      <td>235.446272</td>\n",
       "      <td>28.917061</td>\n",
       "      <td>17.257909</td>\n",
       "      <td>968.0</td>\n",
       "      <td>88.0</td>\n",
       "      <td>2.0</td>\n",
       "    </tr>\n",
       "    <tr>\n",
       "      <th>48</th>\n",
       "      <td>1453.561409</td>\n",
       "      <td>282.362912</td>\n",
       "      <td>89.545677</td>\n",
       "      <td>4840.0</td>\n",
       "      <td>440.0</td>\n",
       "      <td>10.0</td>\n",
       "    </tr>\n",
       "    <tr>\n",
       "      <th>58</th>\n",
       "      <td>961.795600</td>\n",
       "      <td>190.192628</td>\n",
       "      <td>90.418363</td>\n",
       "      <td>3872.0</td>\n",
       "      <td>352.0</td>\n",
       "      <td>8.0</td>\n",
       "    </tr>\n",
       "    <tr>\n",
       "      <th>61</th>\n",
       "      <td>1058.717397</td>\n",
       "      <td>163.438619</td>\n",
       "      <td>83.679417</td>\n",
       "      <td>3872.0</td>\n",
       "      <td>352.0</td>\n",
       "      <td>8.0</td>\n",
       "    </tr>\n",
       "    <tr>\n",
       "      <th>96</th>\n",
       "      <td>1080.272744</td>\n",
       "      <td>209.149990</td>\n",
       "      <td>72.584721</td>\n",
       "      <td>3872.0</td>\n",
       "      <td>352.0</td>\n",
       "      <td>8.0</td>\n",
       "    </tr>\n",
       "    <tr>\n",
       "      <th>110</th>\n",
       "      <td>993.264768</td>\n",
       "      <td>109.781780</td>\n",
       "      <td>96.131991</td>\n",
       "      <td>3872.0</td>\n",
       "      <td>352.0</td>\n",
       "      <td>8.0</td>\n",
       "    </tr>\n",
       "    <tr>\n",
       "      <th>114</th>\n",
       "      <td>703.842267</td>\n",
       "      <td>93.859748</td>\n",
       "      <td>80.461675</td>\n",
       "      <td>6292.0</td>\n",
       "      <td>572.0</td>\n",
       "      <td>13.0</td>\n",
       "    </tr>\n",
       "    <tr>\n",
       "      <th>115</th>\n",
       "      <td>1539.817187</td>\n",
       "      <td>261.289553</td>\n",
       "      <td>128.816649</td>\n",
       "      <td>5808.0</td>\n",
       "      <td>528.0</td>\n",
       "      <td>12.0</td>\n",
       "    </tr>\n",
       "    <tr>\n",
       "      <th>177</th>\n",
       "      <td>0.000000</td>\n",
       "      <td>0.000000</td>\n",
       "      <td>0.000000</td>\n",
       "      <td>NaN</td>\n",
       "      <td>NaN</td>\n",
       "      <td>NaN</td>\n",
       "    </tr>\n",
       "    <tr>\n",
       "      <th>178</th>\n",
       "      <td>1990.656537</td>\n",
       "      <td>333.340108</td>\n",
       "      <td>214.971492</td>\n",
       "      <td>12584.0</td>\n",
       "      <td>1144.0</td>\n",
       "      <td>26.0</td>\n",
       "    </tr>\n",
       "    <tr>\n",
       "      <th>195</th>\n",
       "      <td>254.664998</td>\n",
       "      <td>44.326171</td>\n",
       "      <td>21.552598</td>\n",
       "      <td>968.0</td>\n",
       "      <td>88.0</td>\n",
       "      <td>2.0</td>\n",
       "    </tr>\n",
       "  </tbody>\n",
       "</table>\n",
       "</div>"
      ],
      "text/plain": [
       "      day_normal    day_peak       night  TESC_normal  TESC_peak  Nr_CPs\n",
       "18      0.000000    0.000000    0.000000          NaN        NaN     NaN\n",
       "36    235.446272   28.917061   17.257909        968.0       88.0     2.0\n",
       "48   1453.561409  282.362912   89.545677       4840.0      440.0    10.0\n",
       "58    961.795600  190.192628   90.418363       3872.0      352.0     8.0\n",
       "61   1058.717397  163.438619   83.679417       3872.0      352.0     8.0\n",
       "96   1080.272744  209.149990   72.584721       3872.0      352.0     8.0\n",
       "110   993.264768  109.781780   96.131991       3872.0      352.0     8.0\n",
       "114   703.842267   93.859748   80.461675       6292.0      572.0    13.0\n",
       "115  1539.817187  261.289553  128.816649       5808.0      528.0    12.0\n",
       "177     0.000000    0.000000    0.000000          NaN        NaN     NaN\n",
       "178  1990.656537  333.340108  214.971492      12584.0     1144.0    26.0\n",
       "195   254.664998   44.326171   21.552598        968.0       88.0     2.0"
      ]
     },
     "execution_count": 38,
     "metadata": {},
     "output_type": "execute_result"
    }
   ],
   "source": [
    "w_df"
   ]
  },
  {
   "cell_type": "code",
   "execution_count": 39,
   "metadata": {},
   "outputs": [
    {
     "data": {
      "text/html": [
       "<div>\n",
       "<style scoped>\n",
       "    .dataframe tbody tr th:only-of-type {\n",
       "        vertical-align: middle;\n",
       "    }\n",
       "\n",
       "    .dataframe tbody tr th {\n",
       "        vertical-align: top;\n",
       "    }\n",
       "\n",
       "    .dataframe thead th {\n",
       "        text-align: right;\n",
       "    }\n",
       "</style>\n",
       "<table border=\"1\" class=\"dataframe\">\n",
       "  <thead>\n",
       "    <tr style=\"text-align: right;\">\n",
       "      <th></th>\n",
       "      <th>day_normal</th>\n",
       "      <th>day_peak</th>\n",
       "      <th>night</th>\n",
       "      <th>Nr_CPs</th>\n",
       "    </tr>\n",
       "  </thead>\n",
       "  <tbody>\n",
       "    <tr>\n",
       "      <th>18</th>\n",
       "      <td>0.000000</td>\n",
       "      <td>0.000000</td>\n",
       "      <td>0.000000</td>\n",
       "      <td>NaN</td>\n",
       "    </tr>\n",
       "    <tr>\n",
       "      <th>36</th>\n",
       "      <td>235.446272</td>\n",
       "      <td>28.917061</td>\n",
       "      <td>17.257909</td>\n",
       "      <td>2.0</td>\n",
       "    </tr>\n",
       "    <tr>\n",
       "      <th>48</th>\n",
       "      <td>1453.561409</td>\n",
       "      <td>186.850010</td>\n",
       "      <td>89.545677</td>\n",
       "      <td>10.0</td>\n",
       "    </tr>\n",
       "    <tr>\n",
       "      <th>58</th>\n",
       "      <td>961.795600</td>\n",
       "      <td>151.727862</td>\n",
       "      <td>90.418363</td>\n",
       "      <td>8.0</td>\n",
       "    </tr>\n",
       "    <tr>\n",
       "      <th>61</th>\n",
       "      <td>1058.717397</td>\n",
       "      <td>157.863343</td>\n",
       "      <td>83.679417</td>\n",
       "      <td>8.0</td>\n",
       "    </tr>\n",
       "    <tr>\n",
       "      <th>96</th>\n",
       "      <td>1080.272744</td>\n",
       "      <td>209.149990</td>\n",
       "      <td>72.584721</td>\n",
       "      <td>8.0</td>\n",
       "    </tr>\n",
       "    <tr>\n",
       "      <th>110</th>\n",
       "      <td>960.000000</td>\n",
       "      <td>96.000000</td>\n",
       "      <td>96.131991</td>\n",
       "      <td>8.0</td>\n",
       "    </tr>\n",
       "    <tr>\n",
       "      <th>114</th>\n",
       "      <td>703.842267</td>\n",
       "      <td>93.859748</td>\n",
       "      <td>27.483479</td>\n",
       "      <td>13.0</td>\n",
       "    </tr>\n",
       "    <tr>\n",
       "      <th>115</th>\n",
       "      <td>1539.817187</td>\n",
       "      <td>246.723516</td>\n",
       "      <td>128.816649</td>\n",
       "      <td>12.0</td>\n",
       "    </tr>\n",
       "    <tr>\n",
       "      <th>177</th>\n",
       "      <td>0.000000</td>\n",
       "      <td>0.000000</td>\n",
       "      <td>0.000000</td>\n",
       "      <td>NaN</td>\n",
       "    </tr>\n",
       "    <tr>\n",
       "      <th>178</th>\n",
       "      <td>1990.656537</td>\n",
       "      <td>296.000000</td>\n",
       "      <td>146.147669</td>\n",
       "      <td>26.0</td>\n",
       "    </tr>\n",
       "    <tr>\n",
       "      <th>195</th>\n",
       "      <td>254.664998</td>\n",
       "      <td>39.685279</td>\n",
       "      <td>21.552598</td>\n",
       "      <td>2.0</td>\n",
       "    </tr>\n",
       "  </tbody>\n",
       "</table>\n",
       "</div>"
      ],
      "text/plain": [
       "      day_normal    day_peak       night  Nr_CPs\n",
       "18      0.000000    0.000000    0.000000     NaN\n",
       "36    235.446272   28.917061   17.257909     2.0\n",
       "48   1453.561409  186.850010   89.545677    10.0\n",
       "58    961.795600  151.727862   90.418363     8.0\n",
       "61   1058.717397  157.863343   83.679417     8.0\n",
       "96   1080.272744  209.149990   72.584721     8.0\n",
       "110   960.000000   96.000000   96.131991     8.0\n",
       "114   703.842267   93.859748   27.483479    13.0\n",
       "115  1539.817187  246.723516  128.816649    12.0\n",
       "177     0.000000    0.000000    0.000000     NaN\n",
       "178  1990.656537  296.000000  146.147669    26.0\n",
       "195   254.664998   39.685279   21.552598     2.0"
      ]
     },
     "execution_count": 39,
     "metadata": {},
     "output_type": "execute_result"
    }
   ],
   "source": [
    "psi_df"
   ]
  },
  {
   "cell_type": "code",
   "execution_count": 25,
   "metadata": {},
   "outputs": [
    {
     "data": {
      "text/html": [
       "<div>\n",
       "<style scoped>\n",
       "    .dataframe tbody tr th:only-of-type {\n",
       "        vertical-align: middle;\n",
       "    }\n",
       "\n",
       "    .dataframe tbody tr th {\n",
       "        vertical-align: top;\n",
       "    }\n",
       "\n",
       "    .dataframe thead th {\n",
       "        text-align: right;\n",
       "    }\n",
       "</style>\n",
       "<table border=\"1\" class=\"dataframe\">\n",
       "  <thead>\n",
       "    <tr style=\"text-align: right;\">\n",
       "      <th></th>\n",
       "      <th>normal</th>\n",
       "      <th>peak</th>\n",
       "    </tr>\n",
       "  </thead>\n",
       "  <tbody>\n",
       "    <tr>\n",
       "      <th>18</th>\n",
       "      <td>0.000000</td>\n",
       "      <td>0.000000</td>\n",
       "    </tr>\n",
       "    <tr>\n",
       "      <th>36</th>\n",
       "      <td>600.952363</td>\n",
       "      <td>52.883742</td>\n",
       "    </tr>\n",
       "    <tr>\n",
       "      <th>48</th>\n",
       "      <td>1873.510659</td>\n",
       "      <td>177.739495</td>\n",
       "    </tr>\n",
       "    <tr>\n",
       "      <th>58</th>\n",
       "      <td>2002.268637</td>\n",
       "      <td>198.541493</td>\n",
       "    </tr>\n",
       "    <tr>\n",
       "      <th>61</th>\n",
       "      <td>1637.181442</td>\n",
       "      <td>187.315986</td>\n",
       "    </tr>\n",
       "    <tr>\n",
       "      <th>96</th>\n",
       "      <td>841.141806</td>\n",
       "      <td>150.751490</td>\n",
       "    </tr>\n",
       "    <tr>\n",
       "      <th>110</th>\n",
       "      <td>1344.308118</td>\n",
       "      <td>113.308019</td>\n",
       "    </tr>\n",
       "    <tr>\n",
       "      <th>114</th>\n",
       "      <td>0.000000</td>\n",
       "      <td>0.000000</td>\n",
       "    </tr>\n",
       "    <tr>\n",
       "      <th>115</th>\n",
       "      <td>2615.480140</td>\n",
       "      <td>286.388322</td>\n",
       "    </tr>\n",
       "    <tr>\n",
       "      <th>177</th>\n",
       "      <td>0.000000</td>\n",
       "      <td>0.000000</td>\n",
       "    </tr>\n",
       "    <tr>\n",
       "      <th>178</th>\n",
       "      <td>7735.116157</td>\n",
       "      <td>770.948315</td>\n",
       "    </tr>\n",
       "    <tr>\n",
       "      <th>195</th>\n",
       "      <td>916.117468</td>\n",
       "      <td>94.077747</td>\n",
       "    </tr>\n",
       "    <tr>\n",
       "      <th>region_total</th>\n",
       "      <td>19566.076788</td>\n",
       "      <td>2031.954608</td>\n",
       "    </tr>\n",
       "  </tbody>\n",
       "</table>\n",
       "</div>"
      ],
      "text/plain": [
       "                    normal         peak\n",
       "18                0.000000     0.000000\n",
       "36              600.952363    52.883742\n",
       "48             1873.510659   177.739495\n",
       "58             2002.268637   198.541493\n",
       "61             1637.181442   187.315986\n",
       "96              841.141806   150.751490\n",
       "110            1344.308118   113.308019\n",
       "114               0.000000     0.000000\n",
       "115            2615.480140   286.388322\n",
       "177               0.000000     0.000000\n",
       "178            7735.116157   770.948315\n",
       "195             916.117468    94.077747\n",
       "region_total  19566.076788  2031.954608"
      ]
     },
     "execution_count": 25,
     "metadata": {},
     "output_type": "execute_result"
    }
   ],
   "source": [
    "wastedESC_dict"
   ]
  },
  {
   "cell_type": "code",
   "execution_count": 36,
   "metadata": {},
   "outputs": [
    {
     "data": {
      "text/plain": [
       "(18                  0.000000\n",
       " 36                959.069748\n",
       " 48               4840.000000\n",
       " 58               3872.000000\n",
       " 61               3872.000000\n",
       " 96               3118.617939\n",
       " 110              2771.540438\n",
       " 114                 0.000000\n",
       " 115              5808.000000\n",
       " 177                 0.000000\n",
       " 178             11104.075093\n",
       " 195              1936.000000\n",
       " region_total             NaN\n",
       " Name: normal, dtype: float64,\n",
       " 18                0.000000\n",
       " 36               85.804117\n",
       " 48              440.000000\n",
       " 58              352.000000\n",
       " 61              352.000000\n",
       " 96              338.902176\n",
       " 110             209.308019\n",
       " 114               0.000000\n",
       " 115             528.000000\n",
       " 177               0.000000\n",
       " 178             981.886494\n",
       " 195             176.000000\n",
       " region_total           NaN\n",
       " Name: peak, dtype: float64)"
      ]
     },
     "execution_count": 36,
     "metadata": {},
     "output_type": "execute_result"
    }
   ],
   "source": [
    "psi_df['normal'] + wastedESC_dict['normal'],psi_df['peak'] + wastedESC_dict['peak'] "
   ]
  },
  {
   "cell_type": "code",
   "execution_count": 27,
   "metadata": {
    "scrolled": false
   },
   "outputs": [
    {
     "data": {
      "text/html": [
       "<div>\n",
       "<style scoped>\n",
       "    .dataframe tbody tr th:only-of-type {\n",
       "        vertical-align: middle;\n",
       "    }\n",
       "\n",
       "    .dataframe tbody tr th {\n",
       "        vertical-align: top;\n",
       "    }\n",
       "\n",
       "    .dataframe thead th {\n",
       "        text-align: right;\n",
       "    }\n",
       "</style>\n",
       "<table border=\"1\" class=\"dataframe\">\n",
       "  <thead>\n",
       "    <tr style=\"text-align: right;\">\n",
       "      <th></th>\n",
       "      <th>normal</th>\n",
       "      <th>peak</th>\n",
       "      <th>TESC_normal</th>\n",
       "      <th>TESC_peak</th>\n",
       "      <th>Nr_CPs</th>\n",
       "      <th>normal</th>\n",
       "      <th>peak</th>\n",
       "      <th>Nr_CPs</th>\n",
       "      <th>normal</th>\n",
       "      <th>peak</th>\n",
       "    </tr>\n",
       "  </thead>\n",
       "  <tbody>\n",
       "    <tr>\n",
       "      <th>18</th>\n",
       "      <td>0.000000</td>\n",
       "      <td>0.000000</td>\n",
       "      <td>NaN</td>\n",
       "      <td>NaN</td>\n",
       "      <td>NaN</td>\n",
       "      <td>0.000000</td>\n",
       "      <td>0.000000</td>\n",
       "      <td>NaN</td>\n",
       "      <td>0.000000</td>\n",
       "      <td>0.000000</td>\n",
       "    </tr>\n",
       "    <tr>\n",
       "      <th>36</th>\n",
       "      <td>358.117384</td>\n",
       "      <td>32.920375</td>\n",
       "      <td>968.0</td>\n",
       "      <td>88.0</td>\n",
       "      <td>2.0</td>\n",
       "      <td>358.117384</td>\n",
       "      <td>32.920375</td>\n",
       "      <td>2.0</td>\n",
       "      <td>600.952363</td>\n",
       "      <td>52.883742</td>\n",
       "    </tr>\n",
       "    <tr>\n",
       "      <th>48</th>\n",
       "      <td>2966.489341</td>\n",
       "      <td>262.260505</td>\n",
       "      <td>4840.0</td>\n",
       "      <td>440.0</td>\n",
       "      <td>10.0</td>\n",
       "      <td>2966.489341</td>\n",
       "      <td>262.260505</td>\n",
       "      <td>10.0</td>\n",
       "      <td>1873.510659</td>\n",
       "      <td>177.739495</td>\n",
       "    </tr>\n",
       "    <tr>\n",
       "      <th>58</th>\n",
       "      <td>1869.731363</td>\n",
       "      <td>153.458507</td>\n",
       "      <td>3872.0</td>\n",
       "      <td>352.0</td>\n",
       "      <td>8.0</td>\n",
       "      <td>1869.731363</td>\n",
       "      <td>153.458507</td>\n",
       "      <td>8.0</td>\n",
       "      <td>2002.268637</td>\n",
       "      <td>198.541493</td>\n",
       "    </tr>\n",
       "    <tr>\n",
       "      <th>61</th>\n",
       "      <td>2234.818558</td>\n",
       "      <td>164.684014</td>\n",
       "      <td>3872.0</td>\n",
       "      <td>352.0</td>\n",
       "      <td>8.0</td>\n",
       "      <td>2234.818558</td>\n",
       "      <td>164.684014</td>\n",
       "      <td>8.0</td>\n",
       "      <td>1637.181442</td>\n",
       "      <td>187.315986</td>\n",
       "    </tr>\n",
       "    <tr>\n",
       "      <th>96</th>\n",
       "      <td>2277.476133</td>\n",
       "      <td>188.150685</td>\n",
       "      <td>3872.0</td>\n",
       "      <td>352.0</td>\n",
       "      <td>8.0</td>\n",
       "      <td>2277.476133</td>\n",
       "      <td>188.150685</td>\n",
       "      <td>8.0</td>\n",
       "      <td>841.141806</td>\n",
       "      <td>150.751490</td>\n",
       "    </tr>\n",
       "    <tr>\n",
       "      <th>110</th>\n",
       "      <td>1495.443689</td>\n",
       "      <td>114.889426</td>\n",
       "      <td>2904.0</td>\n",
       "      <td>264.0</td>\n",
       "      <td>6.0</td>\n",
       "      <td>1427.232320</td>\n",
       "      <td>96.000000</td>\n",
       "      <td>6.0</td>\n",
       "      <td>1344.308118</td>\n",
       "      <td>113.308019</td>\n",
       "    </tr>\n",
       "    <tr>\n",
       "      <th>114</th>\n",
       "      <td>0.000000</td>\n",
       "      <td>0.000000</td>\n",
       "      <td>NaN</td>\n",
       "      <td>NaN</td>\n",
       "      <td>NaN</td>\n",
       "      <td>0.000000</td>\n",
       "      <td>0.000000</td>\n",
       "      <td>NaN</td>\n",
       "      <td>0.000000</td>\n",
       "      <td>0.000000</td>\n",
       "    </tr>\n",
       "    <tr>\n",
       "      <th>115</th>\n",
       "      <td>3192.519860</td>\n",
       "      <td>241.611678</td>\n",
       "      <td>5808.0</td>\n",
       "      <td>528.0</td>\n",
       "      <td>12.0</td>\n",
       "      <td>3192.519860</td>\n",
       "      <td>241.611678</td>\n",
       "      <td>12.0</td>\n",
       "      <td>2615.480140</td>\n",
       "      <td>286.388322</td>\n",
       "    </tr>\n",
       "    <tr>\n",
       "      <th>177</th>\n",
       "      <td>0.000000</td>\n",
       "      <td>0.000000</td>\n",
       "      <td>NaN</td>\n",
       "      <td>NaN</td>\n",
       "      <td>NaN</td>\n",
       "      <td>0.000000</td>\n",
       "      <td>0.000000</td>\n",
       "      <td>NaN</td>\n",
       "      <td>0.000000</td>\n",
       "      <td>0.000000</td>\n",
       "    </tr>\n",
       "    <tr>\n",
       "      <th>178</th>\n",
       "      <td>3377.431309</td>\n",
       "      <td>210.938179</td>\n",
       "      <td>10648.0</td>\n",
       "      <td>968.0</td>\n",
       "      <td>22.0</td>\n",
       "      <td>3368.958936</td>\n",
       "      <td>210.938179</td>\n",
       "      <td>22.0</td>\n",
       "      <td>7735.116157</td>\n",
       "      <td>770.948315</td>\n",
       "    </tr>\n",
       "    <tr>\n",
       "      <th>195</th>\n",
       "      <td>1019.882532</td>\n",
       "      <td>81.922253</td>\n",
       "      <td>1936.0</td>\n",
       "      <td>176.0</td>\n",
       "      <td>4.0</td>\n",
       "      <td>1019.882532</td>\n",
       "      <td>81.922253</td>\n",
       "      <td>4.0</td>\n",
       "      <td>916.117468</td>\n",
       "      <td>94.077747</td>\n",
       "    </tr>\n",
       "    <tr>\n",
       "      <th>region_total</th>\n",
       "      <td>NaN</td>\n",
       "      <td>NaN</td>\n",
       "      <td>NaN</td>\n",
       "      <td>NaN</td>\n",
       "      <td>NaN</td>\n",
       "      <td>NaN</td>\n",
       "      <td>NaN</td>\n",
       "      <td>NaN</td>\n",
       "      <td>19566.076788</td>\n",
       "      <td>2031.954608</td>\n",
       "    </tr>\n",
       "  </tbody>\n",
       "</table>\n",
       "</div>"
      ],
      "text/plain": [
       "                   normal        peak  TESC_normal  TESC_peak  Nr_CPs  \\\n",
       "18               0.000000    0.000000          NaN        NaN     NaN   \n",
       "36             358.117384   32.920375        968.0       88.0     2.0   \n",
       "48            2966.489341  262.260505       4840.0      440.0    10.0   \n",
       "58            1869.731363  153.458507       3872.0      352.0     8.0   \n",
       "61            2234.818558  164.684014       3872.0      352.0     8.0   \n",
       "96            2277.476133  188.150685       3872.0      352.0     8.0   \n",
       "110           1495.443689  114.889426       2904.0      264.0     6.0   \n",
       "114              0.000000    0.000000          NaN        NaN     NaN   \n",
       "115           3192.519860  241.611678       5808.0      528.0    12.0   \n",
       "177              0.000000    0.000000          NaN        NaN     NaN   \n",
       "178           3377.431309  210.938179      10648.0      968.0    22.0   \n",
       "195           1019.882532   81.922253       1936.0      176.0     4.0   \n",
       "region_total          NaN         NaN          NaN        NaN     NaN   \n",
       "\n",
       "                   normal        peak  Nr_CPs        normal         peak  \n",
       "18               0.000000    0.000000     NaN      0.000000     0.000000  \n",
       "36             358.117384   32.920375     2.0    600.952363    52.883742  \n",
       "48            2966.489341  262.260505    10.0   1873.510659   177.739495  \n",
       "58            1869.731363  153.458507     8.0   2002.268637   198.541493  \n",
       "61            2234.818558  164.684014     8.0   1637.181442   187.315986  \n",
       "96            2277.476133  188.150685     8.0    841.141806   150.751490  \n",
       "110           1427.232320   96.000000     6.0   1344.308118   113.308019  \n",
       "114              0.000000    0.000000     NaN      0.000000     0.000000  \n",
       "115           3192.519860  241.611678    12.0   2615.480140   286.388322  \n",
       "177              0.000000    0.000000     NaN      0.000000     0.000000  \n",
       "178           3368.958936  210.938179    22.0   7735.116157   770.948315  \n",
       "195           1019.882532   81.922253     4.0    916.117468    94.077747  \n",
       "region_total          NaN         NaN     NaN  19566.076788  2031.954608  "
      ]
     },
     "execution_count": 27,
     "metadata": {},
     "output_type": "execute_result"
    }
   ],
   "source": [
    "pd.concat([w_df, psi_df, wastedESC_dict], axis = 1)#.divide(Nr_CPs, axis = 0)"
   ]
  },
  {
   "cell_type": "code",
   "execution_count": 71,
   "metadata": {},
   "outputs": [],
   "source": [
    "def CS_service_time_Cap_rule(model, i, t):             \n",
    "    service_time_required = pyo.value(sum(\n",
    "        model.z[i,j,t] * model.tau[i,j] * model.calA[j,t] * (model.calT[j,t]+2*model.d[i,j]) \\\n",
    "            for j in model.J\n",
    "    ))\n",
    "    return service_time_required <= pyo.value(model.DeltaT[t]*(model.y[i]+model.n[i]))"
   ]
  },
  {
   "cell_type": "code",
   "execution_count": 129,
   "metadata": {},
   "outputs": [
    {
     "name": "stdout",
     "output_type": "stream",
     "text": [
      "4.0\n",
      "EESC 195: 1019.8825324427957\n",
      "served energy 195: 1013.6708649270415\n",
      "47,normal: 0.3019142044171018\n",
      "tau: 0.9739076822428792\n",
      "NumArrivals: 75.0\n",
      "Visiting Dur: 0.40302303741695916\n",
      "SOC: 0.8973280843579863\n",
      "CD: 4.517564288248604\n",
      "WastedESC: 4.348942534924499\n",
      "Satisfied Num Arrivals: 22.052742229504684\n",
      "\n",
      "84,normal: 0.9544172978467607\n",
      "tau: 0.9928528001746368\n",
      "NumArrivals: 73.0\n",
      "Visiting Dur: 0.5625360258181614\n",
      "SOC: 0.8983543684899269\n",
      "CD: 4.472407786443217\n",
      "WastedESC: 7.903384781556335\n",
      "Satisfied Num Arrivals: 69.17449972926546\n",
      "\n",
      "159,normal: 0.9444803463862593\n",
      "tau: 0.9977503590233757\n",
      "NumArrivals: 79.0\n",
      "Visiting Dur: 0.4144218279534039\n",
      "SOC: 0.828190039446082\n",
      "CD: 7.55963826437239\n",
      "WastedESC: 1.5576419506024948\n",
      "Satisfied Num Arrivals: 74.44609277109559\n",
      "\n",
      "189,normal: 0.10094559348071072\n",
      "tau: 0.9988892969767141\n",
      "NumArrivals: 147.0\n",
      "Visiting Dur: 0.6305946965441804\n",
      "SOC: 0.935779414832843\n",
      "CD: 2.8257057473549083\n",
      "WastedESC: 11.04737757661706\n",
      "Satisfied Num Arrivals: 14.822520517012114\n",
      "\n",
      "EESC 195: 81.92225338596175\n",
      "served energy 195: 79.80431923260355\n",
      "84,peak: 0.03357137125063922\n",
      "tau: 0.9928528001746368\n",
      "NumArrivals: 28.0\n",
      "Visiting Dur: 0.463795944396561\n",
      "SOC: 0.9447479999636965\n",
      "CD: 2.4310880015973533\n",
      "WastedESC: 7.77242277512699\n",
      "Satisfied Num Arrivals: 0.9332800386531847\n",
      "\n",
      "144,peak: 0.05542277766101611\n",
      "tau: 0.9677981458157938\n",
      "NumArrivals: 24.0\n",
      "Visiting Dur: 0.5327518455962138\n",
      "SOC: 0.8604460595441138\n",
      "CD: 6.140373380058993\n",
      "WastedESC: 5.58016722305771\n",
      "Satisfied Num Arrivals: 1.2873134749510173\n",
      "\n",
      "160,peak: 0.1618703039185148\n",
      "tau: 0.9660242954143753\n",
      "NumArrivals: 28.0\n",
      "Visiting Dur: 0.6521213700160767\n",
      "SOC: 0.8013973201464305\n",
      "CD: 8.738517913557057\n",
      "WastedESC: 5.60815222679663\n",
      "Satisfied Num Arrivals: 4.378378096159034\n",
      "\n",
      "161,peak: 0.2167544042003998\n",
      "tau: 0.9660242954143753\n",
      "NumArrivals: 9.0\n",
      "Visiting Dur: 0.3377470638230487\n",
      "SOC: 0.8378030785811464\n",
      "CD: 7.136664542429557\n",
      "WastedESC: 0.29377086167751454\n",
      "Satisfied Num Arrivals: 1.8845101853608852\n",
      "\n",
      "189,peak: 0.21481118057168674\n",
      "tau: 0.9988892969767141\n",
      "NumArrivals: 27.0\n",
      "Visiting Dur: 0.5850749333830096\n",
      "SOC: 0.9296966054755635\n",
      "CD: 3.093349359075204\n",
      "WastedESC: 9.778299175351009\n",
      "Satisfied Num Arrivals: 5.793459906887734\n",
      "\n"
     ]
    }
   ],
   "source": [
    "# i = 115\n",
    "i_list = [195] # mpdp_frame_model_4_sp.T\n",
    "print(pyo.value(mpdp_frame_model_4_sp.y[i]+mpdp_frame_model_4_sp.n[i]))\n",
    "for i in i_list:\n",
    "    for t in mpdp_frame_model_4_sp.T:\n",
    "        print(f'EESC {i}: {pyo.value(mpdp_frame_model_4_sp.w[i,t])}')\n",
    "        print(f\"served energy {i}: {pyo.value(mpdp_frame_model_4_sp.psi[i,t])}\")\n",
    "        for j in mpdp_frame_model_4_sp.J:\n",
    "            char_frac = pyo.value(mpdp_frame_model_4_sp.z[i,j,t])\n",
    "            if char_frac > 1e-5:\n",
    "                print(f'{j},{t}: {char_frac}')\n",
    "                print(f\"tau: {pyo.value(mpdp_frame_model_4_sp.tau[i,j])}\")\n",
    "                print(f\"NumArrivals: {mpdp_frame_model_4_sp.calA[j, t]}\")\n",
    "                char_val = pyo.value(mpdp_frame_model_4_sp.z[i,j,t] * \\\n",
    "                                mpdp_frame_model_4_sp.calA[j, t] * mpdp_frame_model_4_sp.tau[i,j])\n",
    "                dur = pyo.value(mpdp_frame_model_4_sp.calT[j,t]+ 2*mpdp_frame_model_4_sp.d[i,j])\n",
    "                print(f\"Visiting Dur: {dur}\")\n",
    "                print(f\"SOC: {pyo.value(mpdp_frame_model_4_sp.delta[j,t])}\")\n",
    "                print(f\"CD: {pyo.value(mpdp_frame_model_4_sp.calD[i,j,t])}\")\n",
    "                print(f\"WastedESC: {pyo.value(mpdp_frame_model_4_sp.pi * dur - mpdp_frame_model_4_sp.calD[i, j,t])}\")\n",
    "                print(f\"Satisfied Num Arrivals: {char_val}\\n\")\n",
    "#         print(f'service_time_rule: {CS_service_time_Cap_rule(mpdp_frame_model_4_sp, i, t)}')"
   ]
  },
  {
   "cell_type": "code",
   "execution_count": 61,
   "metadata": {},
   "outputs": [
    {
     "data": {
      "text/html": [
       "<div>\n",
       "<style scoped>\n",
       "    .dataframe tbody tr th:only-of-type {\n",
       "        vertical-align: middle;\n",
       "    }\n",
       "\n",
       "    .dataframe tbody tr th {\n",
       "        vertical-align: top;\n",
       "    }\n",
       "\n",
       "    .dataframe thead th {\n",
       "        text-align: right;\n",
       "    }\n",
       "</style>\n",
       "<table border=\"1\" class=\"dataframe\">\n",
       "  <thead>\n",
       "    <tr style=\"text-align: right;\">\n",
       "      <th></th>\n",
       "      <th>normal</th>\n",
       "      <th>peak</th>\n",
       "    </tr>\n",
       "  </thead>\n",
       "  <tbody>\n",
       "    <tr>\n",
       "      <th>36</th>\n",
       "      <td>7.986727</td>\n",
       "      <td>5.714913</td>\n",
       "    </tr>\n",
       "    <tr>\n",
       "      <th>48</th>\n",
       "      <td>14.027979</td>\n",
       "      <td>12.456360</td>\n",
       "    </tr>\n",
       "    <tr>\n",
       "      <th>58</th>\n",
       "      <td>9.462292</td>\n",
       "      <td>8.661968</td>\n",
       "    </tr>\n",
       "    <tr>\n",
       "      <th>61</th>\n",
       "      <td>11.801558</td>\n",
       "      <td>9.248745</td>\n",
       "    </tr>\n",
       "    <tr>\n",
       "      <th>96</th>\n",
       "      <td>9.760525</td>\n",
       "      <td>9.179550</td>\n",
       "    </tr>\n",
       "    <tr>\n",
       "      <th>110</th>\n",
       "      <td>8.786773</td>\n",
       "      <td>8.720717</td>\n",
       "    </tr>\n",
       "    <tr>\n",
       "      <th>114</th>\n",
       "      <td>4.938573</td>\n",
       "      <td>9.907458</td>\n",
       "    </tr>\n",
       "    <tr>\n",
       "      <th>115</th>\n",
       "      <td>11.378732</td>\n",
       "      <td>11.546170</td>\n",
       "    </tr>\n",
       "    <tr>\n",
       "      <th>178</th>\n",
       "      <td>7.105194</td>\n",
       "      <td>6.433422</td>\n",
       "    </tr>\n",
       "    <tr>\n",
       "      <th>195</th>\n",
       "      <td>10.663542</td>\n",
       "      <td>8.080131</td>\n",
       "    </tr>\n",
       "    <tr>\n",
       "      <th>region_average</th>\n",
       "      <td>9.313673</td>\n",
       "      <td>8.953524</td>\n",
       "    </tr>\n",
       "  </tbody>\n",
       "</table>\n",
       "</div>"
      ],
      "text/plain": [
       "                   normal       peak\n",
       "36               7.986727   5.714913\n",
       "48              14.027979  12.456360\n",
       "58               9.462292   8.661968\n",
       "61              11.801558   9.248745\n",
       "96               9.760525   9.179550\n",
       "110              8.786773   8.720717\n",
       "114              4.938573   9.907458\n",
       "115             11.378732  11.546170\n",
       "178              7.105194   6.433422\n",
       "195             10.663542   8.080131\n",
       "region_average   9.313673   8.953524"
      ]
     },
     "execution_count": 61,
     "metadata": {},
     "output_type": "execute_result"
    }
   ],
   "source": [
    "hourly_CD_cover_each_CP_at_CSs"
   ]
  },
  {
   "cell_type": "code",
   "execution_count": 32,
   "metadata": {},
   "outputs": [
    {
     "data": {
      "text/plain": [
       "7.55963826437239"
      ]
     },
     "execution_count": 32,
     "metadata": {},
     "output_type": "execute_result"
    }
   ],
   "source": [
    "# pyo.value(mpdp_frame_model_4_sp.calT[159, 'normal'])\n",
    "pyo.value(mpdp_frame_model_4_sp.pi * (mpdp_frame_model_4_sp.calT[159, 'normal']+2*mpdp_frame_model_4_sp.d[195,159]))\n",
    "pyo.value((1-mpdp_frame_model_4_sp.delta[159,'normal'])*44)"
   ]
  },
  {
   "cell_type": "code",
   "execution_count": 33,
   "metadata": {},
   "outputs": [
    {
     "name": "stdout",
     "output_type": "stream",
     "text": [
      "{Member of calD} : CD of a single arrival at CS i ∈ I raised by a visiting to POI j ∈ J during t ∈ T.\n",
      "    Size=3792, Index=calD_index\n",
      "    Key                  : Expression\n",
      "    (195, 159, 'normal') : 7.55963826437239\n"
     ]
    }
   ],
   "source": [
    "mpdp_frame_model_4_sp.calD[195,159,'normal'].pprint()"
   ]
  },
  {
   "cell_type": "code",
   "execution_count": 86,
   "metadata": {},
   "outputs": [
    {
     "data": {
      "text/plain": [
       "(8.547914001004461, 0.4241127012028958)"
      ]
     },
     "execution_count": 86,
     "metadata": {},
     "output_type": "execute_result"
    }
   ],
   "source": [
    "pyo.value(mpdp_frame_model_4_sp.calD[195, 84, 'normal']), pyo.value(mpdp_frame_model_4_sp.calD[195, 189, 'normal'])"
   ]
  },
  {
   "cell_type": "code",
   "execution_count": 108,
   "metadata": {},
   "outputs": [
    {
     "data": {
      "text/plain": [
       "(14.07865535794443, 11.285716274915167)"
      ]
     },
     "execution_count": 108,
     "metadata": {},
     "output_type": "execute_result"
    }
   ],
   "source": [
    "(pyo.value(mpdp_frame_model_4_sp.calT[84, 'normal'])*22, pyo.value(mpdp_frame_model_4_sp.calT[189, 'normal'])*22)"
   ]
  },
  {
   "cell_type": "code",
   "execution_count": 105,
   "metadata": {},
   "outputs": [
    {
     "data": {
      "text/plain": [
       "(99.0, 116.0)"
      ]
     },
     "execution_count": 105,
     "metadata": {},
     "output_type": "execute_result"
    }
   ],
   "source": [
    "pyo.value(mpdp_frame_model_4_sp.calA[84, 'normal']), pyo.value(mpdp_frame_model_4_sp.calA[189, 'normal'])"
   ]
  },
  {
   "cell_type": "code",
   "execution_count": 130,
   "metadata": {},
   "outputs": [],
   "source": [
    "import plotly.express as px\n",
    "# from plotly.subplots import make_subplots\n",
    "import plotly.graph_objects as go\n",
    "\n",
    "def plot_phi_IJ_total_hourlyCD_Cover(\n",
    "    df_1CP_CD_cov: pd.DataFrame,\n",
    "    df_Nr_CPs: pd.DataFrame,\n",
    "    plot_type: str = 'histo',\n",
    "    plot_name: str = 'Name of Graph'\n",
    "    ):\n",
    "    df_1CP_CD_cov_copy = df_1CP_CD_cov.copy()\n",
    "    columns = df_1CP_CD_cov_copy.columns\n",
    "#     df_copy['sum'] = df_copy.sum(axis=1)\n",
    "    # wide_df['phi_II'] = [4/60, 5/60,7/60]\n",
    "    plot_labels = {\n",
    "        'x': 'Grid Period', \n",
    "        'y': 'Connections'\n",
    "#         **{str(col): f\"CS {col}\" for col in columns}, #'Number of CS-SS Connections',\n",
    "#         \n",
    "    }\n",
    "    \n",
    "    if plot_type == 'histo':\n",
    "        fig = px.histogram(\n",
    "            df_1CP_CD_cov_copy, x=df_1CP_CD_cov_copy.index.astype(str), \n",
    "            y=columns, \n",
    "#             facet_col = columns,\n",
    "#             title=plot_name, \n",
    "#             text_auto = True,\n",
    "            barmode = 'relative', #str (default `'relative'`) 'group', 'overlay' or 'relative'\n",
    "            orientation = 'v',\n",
    "            cumulative = False,\n",
    "            labels = plot_labels\n",
    "            # marginal = \"histogram\",\n",
    "            # marginal_y = \"violin\",\n",
    "            # opacity = 0.7,                       \n",
    "        )\n",
    "#     print(plot_labels)\n",
    "\n",
    "#         trace_cols_of_interest = ['sum']\n",
    "#         for col in cols_of_interest:\n",
    "        fig.add_trace(\n",
    "             go.Scatter(\n",
    "        #          wide_df,\n",
    "                x=df_1CP_CD_cov.index, \n",
    "                y=df_1CP_CD_cov.sum(axis = 1), \n",
    "#                 mode=\"lines\",\n",
    "#                 line=go.scatter.Line(\n",
    "#                  color=\"gray\"\n",
    "#              ),\n",
    "                showlegend=True,\n",
    "#                  opacity = 0.7,\n",
    "                 name = f'Sum',\n",
    "             )\n",
    "        )\n",
    "\n",
    "\n",
    "    fig.update_layout(legend=dict(\n",
    "        orientation=\"v\",\n",
    "        yanchor=\"auto\",\n",
    "        y=1.00,\n",
    "        xanchor=\"auto\",\n",
    "        x=1.15\n",
    "        ),\n",
    "        plot_bgcolor = 'rgba(0,0,0,0.05)',\n",
    "      legend_title_text='CS ID (Nr. CPs)',\n",
    "          title={\n",
    "        'text': plot_name,\n",
    "        'y':0.97,\n",
    "        'x':0.5,\n",
    "        'xanchor': 'center',\n",
    "        'yanchor': 'top'}\n",
    "     )\n",
    "    fig.show()\n"
   ]
  },
  {
   "cell_type": "markdown",
   "metadata": {},
   "source": [
    "### Test for phi_IJ in [0,8] (TODO by 05.Dec)"
   ]
  },
  {
   "cell_type": "code",
   "execution_count": 21,
   "metadata": {
    "scrolled": true
   },
   "outputs": [
    {
     "name": "stdout",
     "output_type": "stream",
     "text": [
      "---------------------------\n",
      "Built an empty concrete pyomo model named mpdp_frame_model_4_sp. \n",
      "Defining sets   ...\n",
      " ...\n",
      "Parameters_setup 1: Feeding basic parameters to mpdp_frame_model_4_sp ...\n",
      " ...\n",
      "Parameters_setup 2: Feeding parameters   CS to 'mpdp_frame_model_4_sp' ... \n",
      " ... \n",
      " Except for Efficient Charging Energy Capacity of CSs (which need \n",
      "              CD parameters and Decision Variables), all CS parameters fed! \n",
      "\n",
      "Parameters_setup 3: Feeding SS parameters to 'mpdp_frame_model_4_sp' ... \n",
      " ... \n",
      "Parameters_setup 4: Feeding CD parameters to mpdp_frame_model_4_sp ... \n",
      " ... \n",
      "     Feeding POI Statistics ...\n",
      "   Calculating walking distances between candidate locations and CD centers: model.d ...\n",
      "     Done! Process took 1.77 seconds.\n",
      "   Calculating dist_decay_factor: model.tau ...\n",
      "     Done! Process took 0.12 seconds.\n",
      "    Calculating charging demand of a single arrival CS i ∈ I raised by a visiting to POI j ∈ J during T ... \n",
      "    Done! Process took 0.27 seconds.\n",
      "All CD parameters fed! \n",
      "\n",
      "Feeding cs-ss connection scenario to model ...\n",
      "... \n",
      "Feeding decision variables ... \n",
      " ...\n",
      "All decision variables fed! Process took 0.01 seconds.\n",
      "\n",
      "Calculating efficient CD covered at POI j's by its nearby CS i's \n",
      " ...\n",
      " Done! Process took 35.86 seconds.\n",
      "Calculating efficient charging capacity of for opened CSs at I ... \n",
      " ...\n",
      " Done! Process took 0.01 seconds.\n",
      "All CS parameters fed!\n",
      "\n",
      "Feeding objective to mpdp_frame_model_4_sp ...\n",
      "\n",
      "          There are two objectives 'obj_total_cost' and 'obj_cost_no_grid' in the model.\n",
      "          Before resolution, use method:\n",
      "`model.objective_name.deactive()` to deactive \n",
      "          one of them and solve the model with the remained active objective\n",
      " Objective function fed! Process took 0.06 seconds.\n",
      "\n",
      "Feeding constraints to mpdp_frame_model_4_sp ...\n",
      "...\n",
      "  Setting CD coverage lower bound ...\n",
      "... \n",
      "  Done! Process took 0.19 seconds\n",
      "  Setting CD coverage lower bound ...\n",
      "... \n",
      "All constraints fed! Process took 0.35 seconds.\n",
      "Successfully built model mpdp_frame_model_4_sp! Please use solver to solve it \n",
      "\n",
      "HINT: to check all properties of mpdp_frame_model_4_sp, please use 'mpdp_frame_model_4_sp.display()'\n",
      "HINT: to check the properties of parameters of mpdp_frame_model_4_sp, please use:                    \n",
      "          'mpdp_frame_model_4_sp.param_name.display()'\n",
      "\n",
      "Done, model set-up took 38.64 seconds in total.\n",
      "Storing test results ... \n"
     ]
    },
    {
     "ename": "NameError",
     "evalue": "name 'num_sces' is not defined",
     "output_type": "error",
     "traceback": [
      "\u001b[1;31m---------------------------------------------------------------------------\u001b[0m",
      "\u001b[1;31mNameError\u001b[0m                                 Traceback (most recent call last)",
      "Input \u001b[1;32mIn [21]\u001b[0m, in \u001b[0;36m<cell line: 5>\u001b[1;34m()\u001b[0m\n\u001b[0;32m     32\u001b[0m model_data \u001b[38;5;241m=\u001b[39m SupSP\u001b[38;5;241m.\u001b[39m_get_data_from_frame_model(frame_model \u001b[38;5;241m=\u001b[39m mpdp_frame_model_4_sp)\n\u001b[0;32m     33\u001b[0m \u001b[38;5;66;03m## Store CSAP decisions\u001b[39;00m\n\u001b[0;32m     35\u001b[0m test_result_dict[idx] \u001b[38;5;241m=\u001b[39m {\n\u001b[1;32m---> 36\u001b[0m     \u001b[38;5;124m'\u001b[39m\u001b[38;5;124mnum_scenarios\u001b[39m\u001b[38;5;124m'\u001b[39m: \u001b[43mnum_sces\u001b[49m,\n\u001b[0;32m     37\u001b[0m     \u001b[38;5;124m'\u001b[39m\u001b[38;5;124mids_scenarios\u001b[39m\u001b[38;5;124m'\u001b[39m: selected_sces_names,\n\u001b[0;32m     38\u001b[0m     \u001b[38;5;124m'\u001b[39m\u001b[38;5;124mobjective_value\u001b[39m\u001b[38;5;124m'\u001b[39m : current_obj_val,\n\u001b[0;32m     39\u001b[0m     \u001b[38;5;124m'\u001b[39m\u001b[38;5;124mprob_description\u001b[39m\u001b[38;5;124m'\u001b[39m: {key: results_prob_descrip[key] \u001b[38;5;28;01mfor\u001b[39;00m key \u001b[38;5;129;01min\u001b[39;00m useful_description_info_list },\n\u001b[0;32m     40\u001b[0m     \u001b[38;5;124m'\u001b[39m\u001b[38;5;124msolver_info\u001b[39m\u001b[38;5;124m'\u001b[39m : {key: results_solver_info[key] \u001b[38;5;28;01mfor\u001b[39;00m key \u001b[38;5;129;01min\u001b[39;00m useful_solver_info_list},\n\u001b[0;32m     41\u001b[0m     \u001b[38;5;124m'\u001b[39m\u001b[38;5;124mgap\u001b[39m\u001b[38;5;124m'\u001b[39m : results[\u001b[38;5;124m'\u001b[39m\u001b[38;5;124mSolution\u001b[39m\u001b[38;5;124m'\u001b[39m][\u001b[38;5;241m0\u001b[39m][\u001b[38;5;124m'\u001b[39m\u001b[38;5;124mGap\u001b[39m\u001b[38;5;124m'\u001b[39m], \n\u001b[0;32m     42\u001b[0m     \u001b[38;5;124m'\u001b[39m\u001b[38;5;124mone_subsceModel_data\u001b[39m\u001b[38;5;124m'\u001b[39m : model_data\n\u001b[0;32m     43\u001b[0m     \u001b[38;5;66;03m# 'mpsp_csap_decisions': mpsp_decisions \u001b[39;00m\n\u001b[0;32m     44\u001b[0m }\n\u001b[0;32m     45\u001b[0m \u001b[38;5;28mprint\u001b[39m(\u001b[38;5;124m'\u001b[39m\u001b[38;5;124mDone\u001b[39m\u001b[38;5;130;01m\\n\u001b[39;00m\u001b[38;5;124m---------------------------------------\u001b[39m\u001b[38;5;130;01m\\n\u001b[39;00m\u001b[38;5;124m'\u001b[39m)\n\u001b[0;32m     49\u001b[0m \u001b[38;5;28mprint\u001b[39m(\u001b[38;5;124mf\u001b[39m\u001b[38;5;124m\"\u001b[39m\u001b[38;5;124mResults of phi_IJ = \u001b[39m\u001b[38;5;132;01m{\u001b[39;00mphi_IJ\u001b[38;5;132;01m}\u001b[39;00m\u001b[38;5;124m is: \u001b[39m\u001b[38;5;132;01m{\u001b[39;00mresults_solver_info[\u001b[38;5;124m'\u001b[39m\u001b[38;5;124mTermination message\u001b[39m\u001b[38;5;124m'\u001b[39m]\u001b[38;5;132;01m}\u001b[39;00m\u001b[38;5;124m\"\u001b[39m)\n",
      "\u001b[1;31mNameError\u001b[0m: name 'num_sces' is not defined"
     ]
    }
   ],
   "source": [
    "str_phi_IJ_list = [f'{i}/60' for i in range(1,2)]\n",
    "float_phi_IJ_list = [i/60 for i in range(1,2)]\n",
    "test_result_dict = dict()\n",
    "\n",
    "for idx, phi_IJ in enumerate(str_phi_IJ_list):\n",
    "    print('---------------------------')\n",
    "\n",
    "    copy_csap_setup_dict['params_cd']['phi_IJ'] = float_phi_IJ_list[idx]\n",
    "    model_name = 'mpdp_frame_model_4_sp' # assign name to pyomo model, default name set in the setup function is 'CSAP'\n",
    "    csap_is_solved = False\n",
    "    linearize_csap = True\n",
    "\n",
    "    mpdp_frame_model_4_sp = _build_mpdp_csap_frame(    \n",
    "        setup_dict = csap_setup_dict, \n",
    "        cs_ss_connect_sce = mpdp_connection_sce.stack().to_dict(),\n",
    "        m_name = model_name, \n",
    "        linearized = linearize_csap\n",
    "    )\n",
    "    mpdp_frame_model_4_sp.obj_cost_no_grid.deactivate()\n",
    "    mpdp_frame_model_4_sp.obj_total_cost.activate()\n",
    "    mpdp_frame_model_4_sp.cons_grid_load_efficientCD.activate()\n",
    "    mpdp_frame_model_4_sp.cons_grid_load_NrCPs.deactivate()\n",
    "    \n",
    "    test_results = Solver.solve(mpdp_frame_model_4_sp)\n",
    "    csap_is_solved = True    \n",
    "        ## Store results in the dict\n",
    "    print(\"Storing test results ... \")\n",
    "    results_prob_descrip = test_results['Problem'][0]\n",
    "    results_solver_info = test_results['Solver'][0]\n",
    "#     current_obj_val = test_results['Solution'][0]['Objective']['__default_objective__']['Value']\n",
    "\n",
    "    model_data = SupSP._get_data_from_frame_model(frame_model = mpdp_frame_model_4_sp)\n",
    "    ## Store CSAP decisions\n",
    "\n",
    "    test_result_dict[idx] = {\n",
    "        'num_scenarios': num_sces,\n",
    "        'ids_scenarios': selected_sces_names,\n",
    "        'objective_value' : current_obj_val,\n",
    "        'prob_description': {key: results_prob_descrip[key] for key in useful_description_info_list },\n",
    "        'solver_info' : {key: results_solver_info[key] for key in useful_solver_info_list},\n",
    "        'gap' : results['Solution'][0]['Gap'], \n",
    "        'one_subsceModel_data' : model_data\n",
    "        # 'mpsp_csap_decisions': mpsp_decisions \n",
    "    }\n",
    "    print('Done\\n---------------------------------------\\n')\n",
    "    \n",
    "    \n",
    "    \n",
    "    print(f\"Results of phi_IJ = {phi_IJ} is: {results_solver_info['Termination message']}\")\n",
    "    # print(f\"Results for \\n\", test_results)\n",
    "    print_decision = True\n",
    "    if print_decision:\n",
    "        Stac._print_decision(mpdp_frame_model_4_sp)\n",
    "        \n",
    "    print('---------------------------')    \n",
    "    \n",
    "    hourly_CD_cover_each_CP_at_CSs, Nr_CPs = \\\n",
    "        _get_hourly_CD_cover_each_CP_atCSs(mpdp_frame_model_4_sp)    "
   ]
  },
  {
   "cell_type": "code",
   "execution_count": 51,
   "metadata": {
    "collapsed": true
   },
   "outputs": [
    {
     "name": "stdout",
     "output_type": "stream",
     "text": [
      "---------------------------\n",
      "Results of c_eta = 1.35 is: MIP - Integer optimal, tolerance (0.0001/1e-06)\\x3a Objective = -1.7304342244e+06\n",
      "Decision to build new CSs, \n",
      "(loc_id, Nr_CP): \n",
      "[(48, 10.0), (58, 8.0), (61, 8.0), (96, 8.0), (110, 8.0), (114, 7.0), (115, 12.0), (178, 26.0)]\n",
      "\n",
      "Decision to update old CSs, \n",
      "(loc_id, Nr_CP, Nr_total_CPs): \n",
      "[(195, 2.0, 4.0)]\n",
      "Decision to expand SSs, \n",
      "(loc_id, size_expansion): \n",
      "[]\n",
      "\n",
      "Decision to use expensive backstop tech at SSs, \n",
      "((loc_id, period), amount_backstop usage): \n",
      "[((6, 'peak'), 119.0), ((8, 'peak'), 185.0), ((10, 'peak'), 46.0), ((13, 'peak'), 24.0), ((74, 'peak'), 118.0)]\n",
      "\n",
      "---------------------------\n",
      "---------------------------\n",
      "Results of c_eta = 1.4200000000000002 is: MIP - Integer optimal, tolerance (0.0001/1e-06)\\x3a Objective = -1.7268672244e+06\n",
      "Decision to build new CSs, \n",
      "(loc_id, Nr_CP): \n",
      "[(48, 10.0), (58, 8.0), (61, 8.0), (96, 8.0), (110, 8.0), (114, 7.0), (115, 12.0), (178, 26.0)]\n",
      "\n",
      "Decision to update old CSs, \n",
      "(loc_id, Nr_CP, Nr_total_CPs): \n",
      "[(195, 2.0, 4.0)]\n",
      "Decision to expand SSs, \n",
      "(loc_id, size_expansion): \n",
      "[(6, 119.0), (8, 185.0), (10, 46.0), (13, 24.0), (74, 118.0)]\n",
      "\n",
      "Decision to use expensive backstop tech at SSs, \n",
      "((loc_id, period), amount_backstop usage): \n",
      "[]\n",
      "\n",
      "---------------------------\n",
      "---------------------------\n",
      "Results of c_eta = 1.4900000000000002 is: MIP - Integer optimal, tolerance (0.0001/1e-06)\\x3a Objective = -1.7268672244e+06\n",
      "Decision to build new CSs, \n",
      "(loc_id, Nr_CP): \n",
      "[(48, 10.0), (58, 8.0), (61, 8.0), (96, 8.0), (110, 8.0), (114, 7.0), (115, 12.0), (178, 26.0)]\n",
      "\n",
      "Decision to update old CSs, \n",
      "(loc_id, Nr_CP, Nr_total_CPs): \n",
      "[(195, 2.0, 4.0)]\n",
      "Decision to expand SSs, \n",
      "(loc_id, size_expansion): \n",
      "[(6, 119.0), (8, 185.0), (10, 46.0), (13, 24.0), (74, 118.0)]\n",
      "\n",
      "Decision to use expensive backstop tech at SSs, \n",
      "((loc_id, period), amount_backstop usage): \n",
      "[]\n",
      "\n",
      "---------------------------\n"
     ]
    }
   ],
   "source": [
    "\n",
    "Solver = SolverFactory(\n",
    "#     'glpk'\n",
    "#     'ipopt'\n",
    "    'cplex'\n",
    "#     'gams'\n",
    "#     'cplex_direct'\n",
    "#     'bonmin'\n",
    "    # 'couenne'\n",
    "    , tee = True, \n",
    ")\n",
    "\n",
    "for eta_value in np.arange(1.35, 1.55, 0.07):\n",
    "    print('---------------------------')\n",
    "    mpdp_test_m.c_eta = eta_value\n",
    "    test_results = Solver.solve(mpdp_test_m)\n",
    "    csap_is_solved = True\n",
    "    opt_val_message = test_results['Solver'][0]['Termination message']\n",
    "    print(f\"Results of c_eta = {eta_value} is: {opt_val_message}\")\n",
    "    # print(f\"Results for \\n\", test_results)\n",
    "    print_decision = True\n",
    "    if print_decision:\n",
    "        Stac._print_decision(mpdp_test_m)\n",
    "    print('---------------------------')\n",
    "    \n",
    "# Dap._plot_model_graph(\n",
    "#     model = mpdp_test_m, \n",
    "#     cd_period = 'normal',\n",
    "#     model_is_solved = csap_is_solved\n",
    "# )\n"
   ]
  },
  {
   "cell_type": "code",
   "execution_count": 31,
   "metadata": {
    "collapsed": true
   },
   "outputs": [
    {
     "data": {
      "text/plain": [
       "{1: {'num_scenarios': 1,\n",
       "  'ids_scenarios': array(['3353'], dtype='<U5'),\n",
       "  'objective_value': -1767717.1501209545,\n",
       "  'prob_description': {'Lower bound': -1767717.1501209545,\n",
       "   'Upper bound': -1767717.1501209545,\n",
       "   'Number of constraints': 3167,\n",
       "   'Number of variables': 6706},\n",
       "  'solver_info': {'User time': 0.28,\n",
       "   'Termination message': 'MIP - Integer optimal solution\\\\x3a Objective = -1.7677171501e+06',\n",
       "   'Statistics': {'Branch and bound': {'Number of bounded subproblems': 0, 'Number of created subproblems': 0}},\n",
       "   'Time': 0.568152904510498},\n",
       "  'gap': 0.0,\n",
       "  'mpsp_csap_decisions': {}},\n",
       " 2: {'num_scenarios': 21,\n",
       "  'ids_scenarios': array(['5112', '7865', '4334', '3618', '7218', '5238', '9605', '2601',\n",
       "         '8508', '2205', '2983', '2732', '4271', '2466', '5217', '1640',\n",
       "         '5009', '5256', '7952', '13', '4904'], dtype='<U5'),\n",
       "  'objective_value': -1199581.2114090582,\n",
       "  'prob_description': {'Lower bound': -1199617.8776,\n",
       "   'Upper bound': -1199581.2114090582,\n",
       "   'Number of constraints': 199787,\n",
       "   'Number of variables': 140806},\n",
       "  'solver_info': {'User time': 2.13,\n",
       "   'Termination message': 'MIP - Integer optimal, tolerance (0.0001/1e-06)\\\\x3a Objective = -1.1995812114e+06',\n",
       "   'Statistics': {'Branch and bound': {'Number of bounded subproblems': 0, 'Number of created subproblems': 0}},\n",
       "   'Time': 3.938516616821289},\n",
       "  'gap': 36.6662,\n",
       "  'mpsp_csap_decisions': {}},\n",
       " 3: {'num_scenarios': 61,\n",
       "  'ids_scenarios': array(['4990', '8286', '9665', '7022', '8461', '188', '9453', '999',\n",
       "         '9404', '5500', '6349', '8633', '7054', '2129', '7196', '1411',\n",
       "         '2400', '8697', '718', '2787', '7325', '1825', '1529', '8103',\n",
       "         '9390', '8214', '8462', '6135', '6452', '6785', '4144', '7909',\n",
       "         '5021', '4197', '5799', '5932', '806', '7761', '2040', '8359',\n",
       "         '3947', '2003', '2777', '8499', '2994', '2634', '7078', '1583',\n",
       "         '9239', '8634', '489', '6433', '8578', '9509', '4240', '4465',\n",
       "         '320', '7079', '3716', '2886', '6012'], dtype='<U5'),\n",
       "  'objective_value': -1245666.6282306365,\n",
       "  'prob_description': {'Lower bound': -1245790.7093,\n",
       "   'Upper bound': -1245666.6282306365,\n",
       "   'Number of constraints': 593027,\n",
       "   'Number of variables': 409006},\n",
       "  'solver_info': {'User time': 4.11,\n",
       "   'Termination message': 'MIP - Integer optimal, tolerance (0.0001/1e-06)\\\\x3a Objective = -1.2456666282e+06',\n",
       "   'Statistics': {'Branch and bound': {'Number of bounded subproblems': 1181, 'Number of created subproblems': 1181}},\n",
       "   'Time': 10.716965913772583},\n",
       "  'gap': 124.081,\n",
       "  'mpsp_csap_decisions': {}},\n",
       " 4: {'num_scenarios': 121,\n",
       "  'ids_scenarios': array(['4195', '7395', '8935', '2319', '3310', '3194', '2809', '425',\n",
       "         '2182', '8231', '5227', '4226', '137', '7508', '2378', '2727',\n",
       "         '6370', '69', '5653', '1567', '5181', '6692', '1960', '8916',\n",
       "         '2818', '5529', '2135', '9277', '9248', '257', '2870', '293',\n",
       "         '7470', '7217', '7592', '1641', '3030', '583', '3002', '2347',\n",
       "         '6297', '8597', '7507', '585', '6221', '3916', '1672', '7602',\n",
       "         '1188', '3677', '5584', '5238', '8325', '7074', '6412', '326',\n",
       "         '5733', '2494', '5433', '9266', '8536', '94', '826', '545', '277',\n",
       "         '5493', '3886', '7606', '4958', '387', '1732', '9936', '565',\n",
       "         '4500', '2123', '9942', '495', '8369', '1102', '2823', '8770',\n",
       "         '4639', '6292', '869', '6853', '7176', '2037', '4175', '6125',\n",
       "         '650', '919', '5985', '3078', '5116', '3997', '1777', '1776',\n",
       "         '5048', '6176', '5931', '7529', '2736', '4451', '5276', '9221',\n",
       "         '4073', '930', '598', '8860', '8210', '694', '64', '5575', '1946',\n",
       "         '693', '2540', '4591', '7496', '8845', '7209', '4212'], dtype='<U5'),\n",
       "  'objective_value': -1251302.9021930927,\n",
       "  'prob_description': {'Lower bound': -1251425.5617,\n",
       "   'Upper bound': -1251302.9021930927,\n",
       "   'Number of constraints': 1182887,\n",
       "   'Number of variables': 811306},\n",
       "  'solver_info': {'User time': 9.17,\n",
       "   'Termination message': 'MIP - Integer optimal, tolerance (0.0001/1e-06)\\\\x3a Objective = -1.2513029022e+06',\n",
       "   'Statistics': {'Branch and bound': {'Number of bounded subproblems': 911, 'Number of created subproblems': 911}},\n",
       "   'Time': 19.954993963241577},\n",
       "  'gap': 122.66,\n",
       "  'mpsp_csap_decisions': {}},\n",
       " 5: {'num_scenarios': 201,\n",
       "  'ids_scenarios': array(['1863', '7766', '9959', '2885', '5094', '9604', '8224', '4142',\n",
       "         '1747', '2661', '4360', '8333', '1023', '3913', '6108', '4264',\n",
       "         '6837', '4767', '3471', '8432', '1453', '5297', '5200', '8185',\n",
       "         '6859', '7436', '9814', '8107', '8750', '1751', '5012', '5105',\n",
       "         '8222', '91', '5441', '6900', '1339', '1795', '6149', '4614',\n",
       "         '917', '6484', '5963', '5590', '6527', '7443', '5157', '1589',\n",
       "         '5070', '6520', '669', '369', '7604', '4966', '8264', '7782',\n",
       "         '6848', '5812', '3581', '3130', '371', '687', '3207', '7865',\n",
       "         '9374', '2752', '5481', '2815', '5546', '3509', '977', '7612',\n",
       "         '6243', '5026', '6528', '7472', '9757', '2911', '8497', '3477',\n",
       "         '3078', '6264', '1044', '3247', '720', '6005', '1407', '3416',\n",
       "         '4508', '8018', '378', '1411', '9967', '9167', '9894', '7902',\n",
       "         '2074', '9971', '3066', '1836', '6403', '6597', '1696', '9952',\n",
       "         '933', '8845', '1268', '3223', '1239', '3439', '7574', '9408',\n",
       "         '1287', '6493', '8465', '7372', '6897', '1237', '3465', '3076',\n",
       "         '5073', '8580', '5471', '3673', '188', '8643', '4401', '6060',\n",
       "         '4100', '7530', '985', '5687', '6271', '6148', '1198', '6605',\n",
       "         '4330', '928', '8765', '1685', '9045', '656', '17', '4764', '3028',\n",
       "         '8237', '1264', '3290', '2030', '2186', '4090', '9243', '7129',\n",
       "         '8143', '358', '3978', '4777', '8572', '3685', '1770', '4225',\n",
       "         '8296', '5380', '7871', '2296', '4909', '813', '5810', '5159',\n",
       "         '9096', '4352', '2602', '8139', '5750', '8911', '6189', '7581',\n",
       "         '3593', '6097', '4607', '5063', '6526', '6575', '8635', '5390',\n",
       "         '8005', '9928', '7862', '1010', '5480', '4224', '1720', '1322',\n",
       "         '3855', '3289', '3485', '3411', '5354', '1063', '1373', '7377'],\n",
       "        dtype='<U5'),\n",
       "  'objective_value': -1240365.1051532414,\n",
       "  'prob_description': {'Lower bound': -1240488.5199,\n",
       "   'Upper bound': -1240365.1051532414,\n",
       "   'Number of constraints': 1969367,\n",
       "   'Number of variables': 1347706},\n",
       "  'solver_info': {'User time': 23.59,\n",
       "   'Termination message': 'MIP - Integer optimal, tolerance (0.0001/1e-06)\\\\x3a Objective = -1.2403651052e+06',\n",
       "   'Statistics': {'Branch and bound': {'Number of bounded subproblems': 3141, 'Number of created subproblems': 3141}},\n",
       "   'Time': 52.99582052230835},\n",
       "  'gap': 123.415,\n",
       "  'mpsp_csap_decisions': {}},\n",
       " 6: {'num_scenarios': 301,\n",
       "  'ids_scenarios': array(['3873', '9967', '7491', '6524', '1037', '1861', '6569', '3060',\n",
       "         '4056', '6005', '4216', '4832', '6619', '2995', '4801', '1781',\n",
       "         '3573', '7144', '3448', '8683', '5125', '8672', '6409', '5516',\n",
       "         '7525', '9170', '2719', '522', '4736', '4581', '8884', '173',\n",
       "         '9761', '687', '6468', '8041', '7213', '9509', '7558', '825',\n",
       "         '7796', '4201', '809', '4258', '8717', '9505', '9889', '892',\n",
       "         '1512', '5477', '2475', '8444', '4936', '4437', '9001', '4009',\n",
       "         '3463', '7131', '9437', '5498', '3801', '6851', '7051', '7923',\n",
       "         '2060', '7121', '2007', '5403', '5559', '7959', '8631', '2693',\n",
       "         '1657', '3814', '2499', '5071', '8731', '4637', '7671', '1266',\n",
       "         '1471', '8645', '1199', '1862', '879', '7897', '8512', '8327',\n",
       "         '5485', '873', '9544', '6089', '5605', '8312', '9100', '3053',\n",
       "         '2699', '9708', '1844', '9749', '1810', '1762', '9081', '76',\n",
       "         '8264', '8143', '8114', '7450', '3055', '5402', '9396', '1604',\n",
       "         '2488', '3143', '7870', '2951', '5169', '1735', '8055', '723',\n",
       "         '5930', '7726', '259', '2307', '9598', '9282', '9448', '895',\n",
       "         '9053', '6553', '1751', '4154', '7216', '1008', '2533', '6270',\n",
       "         '4546', '8549', '2422', '2531', '1479', '2029', '717', '2335',\n",
       "         '9662', '3521', '1831', '5171', '1472', '7289', '1419', '7171',\n",
       "         '8141', '5263', '2655', '9824', '9262', '3607', '897', '3728',\n",
       "         '3866', '5937', '3950', '1954', '6410', '7592', '4003', '5436',\n",
       "         '2218', '5050', '8445', '5226', '3914', '4985', '8127', '3237',\n",
       "         '8102', '7101', '3411', '2692', '6927', '3428', '4992', '5295',\n",
       "         '2013', '7781', '7856', '6019', '2764', '9745', '5850', '6427',\n",
       "         '4862', '4710', '5443', '3791', '6029', '410', '8517', '115',\n",
       "         '3872', '5278', '5606', '2315', '2619', '2601', '4309', '3710',\n",
       "         '6991', '6039', '3618', '2392', '8153', '195', '8013', '5608',\n",
       "         '6228', '7005', '7952', '4105', '3086', '1591', '9135', '8105',\n",
       "         '5224', '3040', '7390', '2628', '1073', '7604', '8515', '4728',\n",
       "         '833', '8766', '8123', '6034', '4426', '1057', '8930', '9586',\n",
       "         '1974', '8783', '4346', '4331', '4568', '1674', '3612', '5709',\n",
       "         '7149', '9373', '8002', '5858', '4802', '8941', '5840', '6923',\n",
       "         '4103', '7682', '1375', '725', '2123', '6101', '4780', '3624',\n",
       "         '1202', '8216', '127', '7557', '2308', '5705', '9153', '612',\n",
       "         '3221', '3832', '6481', '5750', '8477', '5651', '9886', '182',\n",
       "         '5776', '2664', '958', '1500', '2402', '6914', '6207', '2400',\n",
       "         '836', '3945', '2253', '2222', '8125', '6994', '4982', '1563',\n",
       "         '1780', '6168', '6032', '5737', '4684'], dtype='<U5'),\n",
       "  'objective_value': -1230682.7070313315,\n",
       "  'prob_description': {'Lower bound': -1230805.7508,\n",
       "   'Upper bound': -1230682.7070313315,\n",
       "   'Number of constraints': 2952467,\n",
       "   'Number of variables': 2018206},\n",
       "  'solver_info': {'User time': 69.24,\n",
       "   'Termination message': 'MIP - Integer optimal, tolerance (0.0001/1e-06)\\\\x3a Objective = -1.2306827070e+06',\n",
       "   'Statistics': {'Branch and bound': {'Number of bounded subproblems': 13680, 'Number of created subproblems': 13680}},\n",
       "   'Time': 146.16060876846313},\n",
       "  'gap': 123.044,\n",
       "  'mpsp_csap_decisions': {}}}"
      ]
     },
     "execution_count": 31,
     "metadata": {},
     "output_type": "execute_result"
    }
   ],
   "source": [
    "# with open('dict_mpsp_convergency_test_24Nov_abs5test.pickle', 'wb') as f:\n",
    "#     pickle.dump(dict_mpsp_c_test_abs5, f)        \n",
    "\n",
    "dict_mpsp_c_test_abs5"
   ]
  },
  {
   "cell_type": "code",
   "execution_count": null,
   "metadata": {},
   "outputs": [],
   "source": [
    "        ## Store results in the dict\n",
    "        print(\"Storing test results ... \")\n",
    "        results_prob_descrip = results['Problem'][0]\n",
    "        results_solver_info = results['Solver'][0]\n",
    "        current_obj_val = results['Solution'][0]['Objective']['__default_objective__']['Value']\n",
    "        \n",
    "        if SP == True:\n",
    "            csap_subsces = csap_ef.scenarios()\n",
    "            subsce_name, subscemodel = next(csap_subsce)\n",
    "            SP_one_subscemodel_data = SupSP._get_data_from_frame_model(frame_model = subscemodel)\n",
    "        else:\n",
    "            model_data = SupSP._get_data_from_frame_model(frame_model = model)\n",
    "        ## Store CSAP decisions\n",
    "\n",
    "        test_result_dict[test_id] = {\n",
    "            'num_scenarios': num_sces,\n",
    "            'ids_scenarios': selected_sces_names,\n",
    "            'objective_value' : current_obj_val,\n",
    "            'prob_description': {key: results_prob_descrip[key] for key in useful_description_info_list },\n",
    "            'solver_info' : {key: results_solver_info[key] for key in useful_solver_info_list},\n",
    "            'gap' : results['Solution'][0]['Gap'], \n",
    "            'one_subsceModel_data' : SP_one_subscemodel_data\n",
    "            # 'mpsp_csap_decisions': mpsp_decisions \n",
    "        }\n",
    "        print('Done\\n---------------------------------------\\n')"
   ]
  },
  {
   "cell_type": "code",
   "execution_count": 3,
   "metadata": {},
   "outputs": [],
   "source": [
    "# copy_csap_setup_dict = csap_setup_dict.copy() \n",
    "mpdp_connection_sce = pd.read_pickle(r'C:\\Users\\z004ffpm\\Work_Documents\\CSallocModel\\model_evcsap\\stochastic_model\\Validation_02_Dec\\mpdp_con_sce.pickle')\n",
    "generated_scenarios = pd.read_pickle(r'C:\\Users\\z004ffpm\\Work_Documents\\CSallocModel\\model_evcsap\\stochastic_model\\Validation_02_Dec\\20k_con_sces_dropped_isl.pickle')\n",
    "SAA_convergence_test_results = pd.read_pickle(r'C:\\Users\\z004ffpm\\Work_Documents\\CSallocModel\\model_evcsap\\stochastic_model\\Validation_02_Dec\\v_test_2_phi_IJ_walk_dist_2_charge\\sces500_convergency_test_0412_test.pickle')"
   ]
  },
  {
   "cell_type": "code",
   "execution_count": 2,
   "metadata": {},
   "outputs": [],
   "source": [
    "all_connection_sces_dict = generated_scenarios"
   ]
  },
  {
   "cell_type": "code",
   "execution_count": 56,
   "metadata": {},
   "outputs": [],
   "source": [
    "with open('0412_sces500_convergence_another_test_frame_model_data.pickle', 'wb') as f:\n",
    "    pickle.dump(frame_model_data, f)\n",
    "# frame_model_data"
   ]
  },
  {
   "cell_type": "code",
   "execution_count": null,
   "metadata": {
    "scrolled": true
   },
   "outputs": [
    {
     "name": "stdout",
     "output_type": "stream",
     "text": [
      "num_threads: 2\n",
      "---------------------------------------\n",
      "Initializing solver options and scenarios ...\n",
      "Building Stochastic Model with 12 Scenarios. \n",
      "            You will see 12 times the same model set-up message. \n",
      "\n",
      "[70291.09] Initializing SPBase\n",
      "Done! set up EVCSAP_MPS_MILP took 1.22 seconds.\n",
      "\n",
      "Done! set up EVCSAP_MPS_MILP took 1.1 seconds.\n",
      "\n",
      "Done! set up EVCSAP_MPS_MILP took 1.34 seconds.\n",
      "\n",
      "Done! set up EVCSAP_MPS_MILP took 1.04 seconds.\n",
      "\n",
      "Done! set up EVCSAP_MPS_MILP took 0.87 seconds.\n",
      "\n",
      "Done! set up EVCSAP_MPS_MILP took 0.98 seconds.\n",
      "\n",
      "Done! set up EVCSAP_MPS_MILP took 1.26 seconds.\n",
      "\n",
      "Done! set up EVCSAP_MPS_MILP took 1.27 seconds.\n",
      "\n",
      "Done! set up EVCSAP_MPS_MILP took 0.99 seconds.\n",
      "\n",
      "Done! set up EVCSAP_MPS_MILP took 1.26 seconds.\n",
      "\n",
      "Done! set up EVCSAP_MPS_MILP took 0.91 seconds.\n",
      "\n",
      "Done! set up EVCSAP_MPS_MILP took 1.73 seconds.\n",
      "\n",
      "Succeed! SP Model set-up took 15.6 seconds in total.\n",
      "\n",
      "Solving MPS-MILP\n",
      "  Done! It took 17.64 seconds to solve the extensive form of SP. \n",
      "\n",
      "Storing test results in dict ... \n",
      "Done\n",
      "---------------------------------------\n",
      "\n",
      "---------------------------------------\n",
      "Initializing solver options and scenarios ...\n",
      "Building Stochastic Model with 13 Scenarios. \n",
      "            You will see 13 times the same model set-up message. \n",
      "\n",
      "[70325.87] Initializing SPBase\n"
     ]
    }
   ],
   "source": [
    "useful_description_info_list = ['Lower bound', 'Upper bound', 'Number of constraints', 'Number of variables']\n",
    "useful_solver_info_list = ['User time', 'Termination message', 'Statistics', 'Time' ]\n",
    "num_threads = 2\n",
    "print(f\"num_threads: {num_threads}\")\n",
    "solver_options = {\"solver\": \"cplex\",\n",
    "           \"threads\": num_threads\n",
    "          }\n",
    "SAA_convergence_test_dict = dict()\n",
    "num_sces = 1\n",
    "# test_id = 1\n",
    "last_obj_val = -1e+20\n",
    "obj_diff_criteria = 100\n",
    "all_scenario_names = list(all_connection_sces_dict.keys())\n",
    "\n",
    "num_sces_list_1 = np.array([1,2,3,4,5, 7,10,20, 35, 70, 150, 220, 300, 400, 550])\n",
    "num_sces_list_2 = np.array([6, 8, 9, 15, 25, 50, 100])\n",
    "num_sces_list_3 = np.array([12, 13, 14, 16, 17, 18, 19, 22, 27,30])\n",
    "\n",
    "# for num_threads in (2,8):\n",
    "# while num_sces <= 10:\n",
    "for num_sces in num_sces_list_3:\n",
    "    test_id = f\"{num_sces}_sces_test\"\n",
    "    try:\n",
    "        print('---------------------------------------\\nInitializing solver options and scenarios ...')\n",
    "\n",
    "        # Sampling (selecting) `num_sces` connection scenarios for SP\n",
    "        selected_sces_names = np.random.choice(all_scenario_names, size = num_sces, replace = False)\n",
    "        selected_connection_sces_dict = dict((key, all_connection_sces_dict[key]) for key in selected_sces_names)\n",
    "\n",
    "        tic = time.perf_counter()\n",
    "        print(f\"\"\"Building Stochastic Model with {len(selected_connection_sces_dict)} Scenarios. \n",
    "            You will see {len(selected_connection_sces_dict)} times the same model set-up message. \\n\"\"\")\n",
    "        csap_ef = ExtensiveForm(options = solver_options, \n",
    "            all_scenario_names = selected_sces_names, \n",
    "            scenario_creator = Sceg.csap_scenario_creator,\n",
    "            scenario_creator_kwargs= {\n",
    "                \"mpdp_frame_data\": frame_model_data,\n",
    "                \"all_sces_dict\": selected_connection_sces_dict,\n",
    "            }\n",
    "           )\n",
    "        toc = time.perf_counter()\n",
    "        print(f\"Succeed! SP Model set-up took {round(toc - tic,2)} seconds in total.\\n\")    \n",
    "\n",
    "        print('Solving MPS-MILP')        \n",
    "        tic = time.perf_counter()\n",
    "        results = csap_ef.solve_extensive_form()\n",
    "        current_obj_val = results['Solution'][0]['Objective']['__default_objective__']['Value']        \n",
    "        toc = time.perf_counter()\n",
    "        print(f\"  Done! It took {round(toc - tic, 2)} seconds to solve the extensive form of SP. \\n\")\n",
    "\n",
    "        ## Store results in the dict\n",
    "        print(\"Storing test results in dict ... \")\n",
    "        SAA_convergence_test_dict[test_id] = Stac._get_data_from_solved_MPSP(\n",
    "            ef_solver_results = results,\n",
    "            solved_MPSP_extensive_form = csap_ef,    \n",
    "            num_scenarios = num_sces,\n",
    "            ids_scenarios = selected_sces_names,\n",
    "            )\n",
    "        print('Done\\n---------------------------------------\\n')\n",
    "\n",
    "        if np.abs(current_obj_val - last_obj_val) <= obj_diff_criteria:\n",
    "            # add early stop # \n",
    "            print(\"Converged by obj_diff_criteria\")\n",
    "            SAA_convergence_test_dict['Stop'] = f'diff_obj_less_than_{obj_diff_criteria}'\n",
    "            break\n",
    "        last_obj_val = current_obj_val\n",
    "#         num_sces += test_id*3\n",
    "#         test_id += 1\n",
    "    except Exception as e:\n",
    "        print(f\"Got error with {test_id}\")\n",
    "        print(e)\n",
    "        SAA_convergence_test_dict['Stop'] = str(e)\n",
    "        with open('dict_mpsp_convergency_test_got_exception_.pickle', 'wb') as f:\n",
    "            pickle.dump(SAA_convergence_test_dict, f)\n",
    "        print('Saved test results as .pickle file under Exception and Stopped')\n",
    "        break\n",
    "\n",
    "SAA_convergence_test_dict['Stop'] = f'Solved all scenarios'\n",
    "with open('dict_mpsp_convergency_test_0412_list3.pickle', 'wb') as f:\n",
    "    pickle.dump(SAA_convergence_test_dict, f)        \n",
    "print('Savevd Results as .pickle file, Convergence Test Done')"
   ]
  },
  {
   "cell_type": "markdown",
   "metadata": {},
   "source": [
    "### Convegence Test Obj Value Analysis"
   ]
  },
  {
   "cell_type": "code",
   "execution_count": 196,
   "metadata": {},
   "outputs": [],
   "source": [
    "conc_SAA_convergence_500test_results = {**SAA_convergence_test_dict, **SAA_convergence_500test_results}"
   ]
  },
  {
   "cell_type": "code",
   "execution_count": 283,
   "metadata": {},
   "outputs": [
    {
     "data": {
      "text/plain": [
       "Number of Samples\n",
       "1      {'num_scenarios': 1, 'ids_scenarios': ['2263']...\n",
       "2      {'num_scenarios': 2, 'ids_scenarios': ['8679',...\n",
       "3      {'num_scenarios': 3, 'ids_scenarios': ['7256',...\n",
       "4      {'num_scenarios': 4, 'ids_scenarios': ['16957'...\n",
       "5      {'num_scenarios': 5, 'ids_scenarios': ['13949'...\n",
       "6      {'num_scenarios': 6, 'ids_scenarios': ['10704'...\n",
       "7      {'num_scenarios': 7, 'ids_scenarios': ['6462',...\n",
       "8      {'num_scenarios': 8, 'ids_scenarios': ['8549',...\n",
       "9      {'num_scenarios': 9, 'ids_scenarios': ['9696',...\n",
       "10     {'num_scenarios': 10, 'ids_scenarios': ['18149...\n",
       "15     {'num_scenarios': 15, 'ids_scenarios': ['18766...\n",
       "20     {'num_scenarios': 20, 'ids_scenarios': ['17573...\n",
       "25     {'num_scenarios': 25, 'ids_scenarios': ['10350...\n",
       "35     {'num_scenarios': 35, 'ids_scenarios': ['7341'...\n",
       "50     {'num_scenarios': 50, 'ids_scenarios': ['1805'...\n",
       "70     {'num_scenarios': 70, 'ids_scenarios': ['4554'...\n",
       "100    {'num_scenarios': 100, 'ids_scenarios': ['1794...\n",
       "150    {'num_scenarios': 150, 'ids_scenarios': ['8843...\n",
       "220    {'num_scenarios': 220, 'ids_scenarios': ['1378...\n",
       "300    {'num_scenarios': 300, 'ids_scenarios': ['4563...\n",
       "400    {'num_scenarios': 400, 'ids_scenarios': ['1723...\n",
       "550    {'num_scenarios': 550, 'ids_scenarios': ['1916...\n",
       "dtype: object"
      ]
     },
     "execution_count": 283,
     "metadata": {},
     "output_type": "execute_result"
    }
   ],
   "source": [
    "conc_SAA_convergence_500test_df"
   ]
  },
  {
   "cell_type": "code",
   "execution_count": 282,
   "metadata": {},
   "outputs": [
    {
     "data": {
      "text/plain": [
       "x[36]      1.0\n",
       "x[48]      1.0\n",
       "x[58]      1.0\n",
       "x[61]      1.0\n",
       "x[96]      1.0\n",
       "x[110]     1.0\n",
       "x[114]     1.0\n",
       "x[115]     1.0\n",
       "x[178]     1.0\n",
       "y[36]      2.0\n",
       "y[48]     10.0\n",
       "y[58]      8.0\n",
       "y[61]      8.0\n",
       "y[96]      8.0\n",
       "y[110]     8.0\n",
       "y[114]     8.0\n",
       "y[115]    12.0\n",
       "y[178]    26.0\n",
       "h[4]       2.0\n",
       "h[8]       5.0\n",
       "h[10]      1.0\n",
       "h[13]      1.0\n",
       "h[71]      3.0\n",
       "h[92]      1.0\n",
       "dtype: float64"
      ]
     },
     "execution_count": 282,
     "metadata": {},
     "output_type": "execute_result"
    }
   ],
   "source": [
    "pd.Series(conc_SAA_convergence_500test_df[1]['mpsp_csap_decisions'])"
   ]
  },
  {
   "cell_type": "code",
   "execution_count": 236,
   "metadata": {},
   "outputs": [
    {
     "data": {
      "text/plain": [
       "Int64Index([100,  10, 150,  15,   1,  20, 220,  25,   2, 300,  35,   3, 400,\n",
       "              4,  50, 550,   5,   6,  70,   7,   8,   9],\n",
       "           dtype='int64')"
      ]
     },
     "execution_count": 236,
     "metadata": {},
     "output_type": "execute_result"
    }
   ],
   "source": [
    "conc_SAA_convergence_500test_df.index"
   ]
  },
  {
   "cell_type": "code",
   "execution_count": 235,
   "metadata": {},
   "outputs": [],
   "source": [
    "conc_SAA_convergence_500test_df.rename(index = {\n",
    "    ori_name: int(ori_name) for ori_name in conc_SAA_convergence_500test_df.index\n",
    "    }, inplace = True\n",
    "  )"
   ]
  },
  {
   "cell_type": "code",
   "execution_count": 274,
   "metadata": {},
   "outputs": [],
   "source": [
    "# conc_SAA_convergence_500test_df\n",
    "with open('PDseries_mpsp_convergency_500Sample_0412.pickle', 'wb') as f:\n",
    "    pickle.dump(conc_SAA_convergence_500test_df, f)        "
   ]
  },
  {
   "cell_type": "code",
   "execution_count": 248,
   "metadata": {},
   "outputs": [],
   "source": [
    "conc_SAA_convergence_500test_df.sort_index(inplace = True)"
   ]
  },
  {
   "cell_type": "code",
   "execution_count": 252,
   "metadata": {},
   "outputs": [
    {
     "data": {
      "text/plain": [
       "1      {'num_scenarios': 1, 'ids_scenarios': ['2263']...\n",
       "2      {'num_scenarios': 2, 'ids_scenarios': ['8679',...\n",
       "3      {'num_scenarios': 3, 'ids_scenarios': ['7256',...\n",
       "4      {'num_scenarios': 4, 'ids_scenarios': ['16957'...\n",
       "5      {'num_scenarios': 5, 'ids_scenarios': ['13949'...\n",
       "6      {'num_scenarios': 6, 'ids_scenarios': ['10704'...\n",
       "7      {'num_scenarios': 7, 'ids_scenarios': ['6462',...\n",
       "8      {'num_scenarios': 8, 'ids_scenarios': ['8549',...\n",
       "9      {'num_scenarios': 9, 'ids_scenarios': ['9696',...\n",
       "10     {'num_scenarios': 10, 'ids_scenarios': ['18149...\n",
       "15     {'num_scenarios': 15, 'ids_scenarios': ['18766...\n",
       "20     {'num_scenarios': 20, 'ids_scenarios': ['17573...\n",
       "25     {'num_scenarios': 25, 'ids_scenarios': ['10350...\n",
       "35     {'num_scenarios': 35, 'ids_scenarios': ['7341'...\n",
       "50     {'num_scenarios': 50, 'ids_scenarios': ['1805'...\n",
       "70     {'num_scenarios': 70, 'ids_scenarios': ['4554'...\n",
       "100    {'num_scenarios': 100, 'ids_scenarios': ['1794...\n",
       "150    {'num_scenarios': 150, 'ids_scenarios': ['8843...\n",
       "220    {'num_scenarios': 220, 'ids_scenarios': ['1378...\n",
       "300    {'num_scenarios': 300, 'ids_scenarios': ['4563...\n",
       "400    {'num_scenarios': 400, 'ids_scenarios': ['1723...\n",
       "550    {'num_scenarios': 550, 'ids_scenarios': ['1916...\n",
       "dtype: object"
      ]
     },
     "execution_count": 252,
     "metadata": {},
     "output_type": "execute_result"
    }
   ],
   "source": [
    "conc_SAA_convergence_500test_df"
   ]
  },
  {
   "cell_type": "code",
   "execution_count": 250,
   "metadata": {},
   "outputs": [],
   "source": [
    "num_sces = conc_SAA_convergence_500test_df.index\n",
    "test_vals = np.array([conc_SAA_convergence_500test_df[idx]['objective_value'] for idx in conc_SAA_convergence_500test_df.index])"
   ]
  },
  {
   "cell_type": "code",
   "execution_count": 278,
   "metadata": {},
   "outputs": [
    {
     "data": {
      "text/plain": [
       "<matplotlib.axes._subplots.AxesSubplot at 0x1a7b8793c10>"
      ]
     },
     "execution_count": 278,
     "metadata": {},
     "output_type": "execute_result"
    },
    {
     "data": {
      "image/png": "[encoded data removed]",
      "text/plain": [
       "<Figure size 432x288 with 1 Axes>"
      ]
     },
     "metadata": {
      "needs_background": "light"
     },
     "output_type": "display_data"
    }
   ],
   "source": [
    "# converge_Series = \n",
    "pd.Series(data = test_vals*-1, index = num_sces).plot.line(\n",
    "#         title = , \n",
    "    )"
   ]
  },
  {
   "cell_type": "code",
   "execution_count": 277,
   "metadata": {},
   "outputs": [],
   "source": [
    "converge_Series.T.to_excel('converge_test_500samples.xlsx')"
   ]
  },
  {
   "cell_type": "code",
   "execution_count": 271,
   "metadata": {},
   "outputs": [],
   "source": [
    "converge_Series.index.names = ['Number of Samples']"
   ]
  },
  {
   "cell_type": "code",
   "execution_count": 276,
   "metadata": {},
   "outputs": [
    {
     "data": {
      "application/vnd.plotly.v1+json": {
       "config": {
        "plotlyServerURL": "https://plot.ly"
       },
       "data": [
        {
         "hovertemplate": "Number of Samples=%{x}<br>Objective Value [Euro]=%{y}<extra></extra>",
         "legendgroup": "",
         "line": {
          "color": "#636efa",
          "dash": "solid"
         },
         "marker": {
          "symbol": "circle"
         },
         "mode": "lines",
         "name": "",
         "orientation": "v",
         "showlegend": false,
         "type": "scatter",
         "x": [
          1,
          2,
          3,
          4,
          5,
          6,
          7,
          8,
          9,
          10,
          15,
          20,
          25,
          35,
          50,
          70,
          100,
          150,
          220,
          300,
          400,
          550
         ],
         "xaxis": "x",
         "y": [
          1691095.8551122453,
          1493207.685891039,
          1426059.272821159,
          1326300.1128922359,
          1135385.7652729368,
          1299028.2283126712,
          1310878.8255920687,
          1261351.841919859,
          1196046.3598462725,
          1309618.9868935249,
          1138060.9289659138,
          1197088.0265129423,
          1167405.7830231437,
          1153340.910079541,
          1169766.3984253043,
          1198840.310487316,
          1159557.0717805107,
          1173804.6737252618,
          1161190.299240218,
          1158558.9786244172,
          1157128.088714683,
          1158151.662876577
         ],
         "yaxis": "y"
        }
       ],
       "layout": {
        "legend": {
         "tracegroupgap": 0
        },
        "template": {
         "data": {
          "bar": [
           {
            "error_x": {
             "color": "#2a3f5f"
            },
            "error_y": {
             "color": "#2a3f5f"
            },
            "marker": {
             "line": {
              "color": "#E5ECF6",
              "width": 0.5
             },
             "pattern": {
              "fillmode": "overlay",
              "size": 10,
              "solidity": 0.2
             }
            },
            "type": "bar"
           }
          ],
          "barpolar": [
           {
            "marker": {
             "line": {
              "color": "#E5ECF6",
              "width": 0.5
             },
             "pattern": {
              "fillmode": "overlay",
              "size": 10,
              "solidity": 0.2
             }
            },
            "type": "barpolar"
           }
          ],
          "carpet": [
           {
            "aaxis": {
             "endlinecolor": "#2a3f5f",
             "gridcolor": "white",
             "linecolor": "white",
             "minorgridcolor": "white",
             "startlinecolor": "#2a3f5f"
            },
            "baxis": {
             "endlinecolor": "#2a3f5f",
             "gridcolor": "white",
             "linecolor": "white",
             "minorgridcolor": "white",
             "startlinecolor": "#2a3f5f"
            },
            "type": "carpet"
           }
          ],
          "choropleth": [
           {
            "colorbar": {
             "outlinewidth": 0,
             "ticks": ""
            },
            "type": "choropleth"
           }
          ],
          "contour": [
           {
            "colorbar": {
             "outlinewidth": 0,
             "ticks": ""
            },
            "colorscale": [
             [
              0,
              "#0d0887"
             ],
             [
              0.1111111111111111,
              "#46039f"
             ],
             [
              0.2222222222222222,
              "#7201a8"
             ],
             [
              0.3333333333333333,
              "#9c179e"
             ],
             [
              0.4444444444444444,
              "#bd3786"
             ],
             [
              0.5555555555555556,
              "#d8576b"
             ],
             [
              0.6666666666666666,
              "#ed7953"
             ],
             [
              0.7777777777777778,
              "#fb9f3a"
             ],
             [
              0.8888888888888888,
              "#fdca26"
             ],
             [
              1,
              "#f0f921"
             ]
            ],
            "type": "contour"
           }
          ],
          "contourcarpet": [
           {
            "colorbar": {
             "outlinewidth": 0,
             "ticks": ""
            },
            "type": "contourcarpet"
           }
          ],
          "heatmap": [
           {
            "colorbar": {
             "outlinewidth": 0,
             "ticks": ""
            },
            "colorscale": [
             [
              0,
              "#0d0887"
             ],
             [
              0.1111111111111111,
              "#46039f"
             ],
             [
              0.2222222222222222,
              "#7201a8"
             ],
             [
              0.3333333333333333,
              "#9c179e"
             ],
             [
              0.4444444444444444,
              "#bd3786"
             ],
             [
              0.5555555555555556,
              "#d8576b"
             ],
             [
              0.6666666666666666,
              "#ed7953"
             ],
             [
              0.7777777777777778,
              "#fb9f3a"
             ],
             [
              0.8888888888888888,
              "#fdca26"
             ],
             [
              1,
              "#f0f921"
             ]
            ],
            "type": "heatmap"
           }
          ],
          "heatmapgl": [
           {
            "colorbar": {
             "outlinewidth": 0,
             "ticks": ""
            },
            "colorscale": [
             [
              0,
              "#0d0887"
             ],
             [
              0.1111111111111111,
              "#46039f"
             ],
             [
              0.2222222222222222,
              "#7201a8"
             ],
             [
              0.3333333333333333,
              "#9c179e"
             ],
             [
              0.4444444444444444,
              "#bd3786"
             ],
             [
              0.5555555555555556,
              "#d8576b"
             ],
             [
              0.6666666666666666,
              "#ed7953"
             ],
             [
              0.7777777777777778,
              "#fb9f3a"
             ],
             [
              0.8888888888888888,
              "#fdca26"
             ],
             [
              1,
              "#f0f921"
             ]
            ],
            "type": "heatmapgl"
           }
          ],
          "histogram": [
           {
            "marker": {
             "pattern": {
              "fillmode": "overlay",
              "size": 10,
              "solidity": 0.2
             }
            },
            "type": "histogram"
           }
          ],
          "histogram2d": [
           {
            "colorbar": {
             "outlinewidth": 0,
             "ticks": ""
            },
            "colorscale": [
             [
              0,
              "#0d0887"
             ],
             [
              0.1111111111111111,
              "#46039f"
             ],
             [
              0.2222222222222222,
              "#7201a8"
             ],
             [
              0.3333333333333333,
              "#9c179e"
             ],
             [
              0.4444444444444444,
              "#bd3786"
             ],
             [
              0.5555555555555556,
              "#d8576b"
             ],
             [
              0.6666666666666666,
              "#ed7953"
             ],
             [
              0.7777777777777778,
              "#fb9f3a"
             ],
             [
              0.8888888888888888,
              "#fdca26"
             ],
             [
              1,
              "#f0f921"
             ]
            ],
            "type": "histogram2d"
           }
          ],
          "histogram2dcontour": [
           {
            "colorbar": {
             "outlinewidth": 0,
             "ticks": ""
            },
            "colorscale": [
             [
              0,
              "#0d0887"
             ],
             [
              0.1111111111111111,
              "#46039f"
             ],
             [
              0.2222222222222222,
              "#7201a8"
             ],
             [
              0.3333333333333333,
              "#9c179e"
             ],
             [
              0.4444444444444444,
              "#bd3786"
             ],
             [
              0.5555555555555556,
              "#d8576b"
             ],
             [
              0.6666666666666666,
              "#ed7953"
             ],
             [
              0.7777777777777778,
              "#fb9f3a"
             ],
             [
              0.8888888888888888,
              "#fdca26"
             ],
             [
              1,
              "#f0f921"
             ]
            ],
            "type": "histogram2dcontour"
           }
          ],
          "mesh3d": [
           {
            "colorbar": {
             "outlinewidth": 0,
             "ticks": ""
            },
            "type": "mesh3d"
           }
          ],
          "parcoords": [
           {
            "line": {
             "colorbar": {
              "outlinewidth": 0,
              "ticks": ""
             }
            },
            "type": "parcoords"
           }
          ],
          "pie": [
           {
            "automargin": true,
            "type": "pie"
           }
          ],
          "scatter": [
           {
            "fillpattern": {
             "fillmode": "overlay",
             "size": 10,
             "solidity": 0.2
            },
            "type": "scatter"
           }
          ],
          "scatter3d": [
           {
            "line": {
             "colorbar": {
              "outlinewidth": 0,
              "ticks": ""
             }
            },
            "marker": {
             "colorbar": {
              "outlinewidth": 0,
              "ticks": ""
             }
            },
            "type": "scatter3d"
           }
          ],
          "scattercarpet": [
           {
            "marker": {
             "colorbar": {
              "outlinewidth": 0,
              "ticks": ""
             }
            },
            "type": "scattercarpet"
           }
          ],
          "scattergeo": [
           {
            "marker": {
             "colorbar": {
              "outlinewidth": 0,
              "ticks": ""
             }
            },
            "type": "scattergeo"
           }
          ],
          "scattergl": [
           {
            "marker": {
             "colorbar": {
              "outlinewidth": 0,
              "ticks": ""
             }
            },
            "type": "scattergl"
           }
          ],
          "scattermapbox": [
           {
            "marker": {
             "colorbar": {
              "outlinewidth": 0,
              "ticks": ""
             }
            },
            "type": "scattermapbox"
           }
          ],
          "scatterpolar": [
           {
            "marker": {
             "colorbar": {
              "outlinewidth": 0,
              "ticks": ""
             }
            },
            "type": "scatterpolar"
           }
          ],
          "scatterpolargl": [
           {
            "marker": {
             "colorbar": {
              "outlinewidth": 0,
              "ticks": ""
             }
            },
            "type": "scatterpolargl"
           }
          ],
          "scatterternary": [
           {
            "marker": {
             "colorbar": {
              "outlinewidth": 0,
              "ticks": ""
             }
            },
            "type": "scatterternary"
           }
          ],
          "surface": [
           {
            "colorbar": {
             "outlinewidth": 0,
             "ticks": ""
            },
            "colorscale": [
             [
              0,
              "#0d0887"
             ],
             [
              0.1111111111111111,
              "#46039f"
             ],
             [
              0.2222222222222222,
              "#7201a8"
             ],
             [
              0.3333333333333333,
              "#9c179e"
             ],
             [
              0.4444444444444444,
              "#bd3786"
             ],
             [
              0.5555555555555556,
              "#d8576b"
             ],
             [
              0.6666666666666666,
              "#ed7953"
             ],
             [
              0.7777777777777778,
              "#fb9f3a"
             ],
             [
              0.8888888888888888,
              "#fdca26"
             ],
             [
              1,
              "#f0f921"
             ]
            ],
            "type": "surface"
           }
          ],
          "table": [
           {
            "cells": {
             "fill": {
              "color": "#EBF0F8"
             },
             "line": {
              "color": "white"
             }
            },
            "header": {
             "fill": {
              "color": "#C8D4E3"
             },
             "line": {
              "color": "white"
             }
            },
            "type": "table"
           }
          ]
         },
         "layout": {
          "annotationdefaults": {
           "arrowcolor": "#2a3f5f",
           "arrowhead": 0,
           "arrowwidth": 1
          },
          "autotypenumbers": "strict",
          "coloraxis": {
           "colorbar": {
            "outlinewidth": 0,
            "ticks": ""
           }
          },
          "colorscale": {
           "diverging": [
            [
             0,
             "#8e0152"
            ],
            [
             0.1,
             "#c51b7d"
            ],
            [
             0.2,
             "#de77ae"
            ],
            [
             0.3,
             "#f1b6da"
            ],
            [
             0.4,
             "#fde0ef"
            ],
            [
             0.5,
             "#f7f7f7"
            ],
            [
             0.6,
             "#e6f5d0"
            ],
            [
             0.7,
             "#b8e186"
            ],
            [
             0.8,
             "#7fbc41"
            ],
            [
             0.9,
             "#4d9221"
            ],
            [
             1,
             "#276419"
            ]
           ],
           "sequential": [
            [
             0,
             "#0d0887"
            ],
            [
             0.1111111111111111,
             "#46039f"
            ],
            [
             0.2222222222222222,
             "#7201a8"
            ],
            [
             0.3333333333333333,
             "#9c179e"
            ],
            [
             0.4444444444444444,
             "#bd3786"
            ],
            [
             0.5555555555555556,
             "#d8576b"
            ],
            [
             0.6666666666666666,
             "#ed7953"
            ],
            [
             0.7777777777777778,
             "#fb9f3a"
            ],
            [
             0.8888888888888888,
             "#fdca26"
            ],
            [
             1,
             "#f0f921"
            ]
           ],
           "sequentialminus": [
            [
             0,
             "#0d0887"
            ],
            [
             0.1111111111111111,
             "#46039f"
            ],
            [
             0.2222222222222222,
             "#7201a8"
            ],
            [
             0.3333333333333333,
             "#9c179e"
            ],
            [
             0.4444444444444444,
             "#bd3786"
            ],
            [
             0.5555555555555556,
             "#d8576b"
            ],
            [
             0.6666666666666666,
             "#ed7953"
            ],
            [
             0.7777777777777778,
             "#fb9f3a"
            ],
            [
             0.8888888888888888,
             "#fdca26"
            ],
            [
             1,
             "#f0f921"
            ]
           ]
          },
          "colorway": [
           "#636efa",
           "#EF553B",
           "#00cc96",
           "#ab63fa",
           "#FFA15A",
           "#19d3f3",
           "#FF6692",
           "#B6E880",
           "#FF97FF",
           "#FECB52"
          ],
          "font": {
           "color": "#2a3f5f"
          },
          "geo": {
           "bgcolor": "white",
           "lakecolor": "white",
           "landcolor": "#E5ECF6",
           "showlakes": true,
           "showland": true,
           "subunitcolor": "white"
          },
          "hoverlabel": {
           "align": "left"
          },
          "hovermode": "closest",
          "mapbox": {
           "style": "light"
          },
          "paper_bgcolor": "white",
          "plot_bgcolor": "#E5ECF6",
          "polar": {
           "angularaxis": {
            "gridcolor": "white",
            "linecolor": "white",
            "ticks": ""
           },
           "bgcolor": "#E5ECF6",
           "radialaxis": {
            "gridcolor": "white",
            "linecolor": "white",
            "ticks": ""
           }
          },
          "scene": {
           "xaxis": {
            "backgroundcolor": "#E5ECF6",
            "gridcolor": "white",
            "gridwidth": 2,
            "linecolor": "white",
            "showbackground": true,
            "ticks": "",
            "zerolinecolor": "white"
           },
           "yaxis": {
            "backgroundcolor": "#E5ECF6",
            "gridcolor": "white",
            "gridwidth": 2,
            "linecolor": "white",
            "showbackground": true,
            "ticks": "",
            "zerolinecolor": "white"
           },
           "zaxis": {
            "backgroundcolor": "#E5ECF6",
            "gridcolor": "white",
            "gridwidth": 2,
            "linecolor": "white",
            "showbackground": true,
            "ticks": "",
            "zerolinecolor": "white"
           }
          },
          "shapedefaults": {
           "line": {
            "color": "#2a3f5f"
           }
          },
          "ternary": {
           "aaxis": {
            "gridcolor": "white",
            "linecolor": "white",
            "ticks": ""
           },
           "baxis": {
            "gridcolor": "white",
            "linecolor": "white",
            "ticks": ""
           },
           "bgcolor": "#E5ECF6",
           "caxis": {
            "gridcolor": "white",
            "linecolor": "white",
            "ticks": ""
           }
          },
          "title": {
           "x": 0.05
          },
          "xaxis": {
           "automargin": true,
           "gridcolor": "white",
           "linecolor": "white",
           "ticks": "",
           "title": {
            "standoff": 15
           },
           "zerolinecolor": "white",
           "zerolinewidth": 2
          },
          "yaxis": {
           "automargin": true,
           "gridcolor": "white",
           "linecolor": "white",
           "ticks": "",
           "title": {
            "standoff": 15
           },
           "zerolinecolor": "white",
           "zerolinewidth": 2
          }
         }
        },
        "title": {
         "text": "Convergence of SAA"
        },
        "xaxis": {
         "anchor": "y",
         "domain": [
          0,
          1
         ],
         "title": {
          "text": "Number of Samples"
         }
        },
        "yaxis": {
         "anchor": "x",
         "domain": [
          0,
          1
         ],
         "title": {
          "text": "Objective Value [Euro]"
         }
        }
       }
      },
      "text/html": [
       "<div>                            <div id=\"74fdf180-711d-4e56-b843-85b34a43e0b2\" class=\"plotly-graph-div\" style=\"height:525px; width:100%;\"></div>            <script type=\"text/javascript\">                require([\"plotly\"], function(Plotly) {                    window.PLOTLYENV=window.PLOTLYENV || {};                                    if (document.getElementById(\"74fdf180-711d-4e56-b843-85b34a43e0b2\")) {                    Plotly.newPlot(                        \"74fdf180-711d-4e56-b843-85b34a43e0b2\",                        [{\"hovertemplate\":\"Number of Samples=%{x}<br>Objective Value [Euro]=%{y}<extra></extra>\",\"legendgroup\":\"\",\"line\":{\"color\":\"#636efa\",\"dash\":\"solid\"},\"marker\":{\"symbol\":\"circle\"},\"mode\":\"lines\",\"name\":\"\",\"orientation\":\"v\",\"showlegend\":false,\"x\":[1,2,3,4,5,6,7,8,9,10,15,20,25,35,50,70,100,150,220,300,400,550],\"xaxis\":\"x\",\"y\":[1691095.8551122453,1493207.685891039,1426059.272821159,1326300.1128922359,1135385.7652729368,1299028.2283126712,1310878.8255920687,1261351.841919859,1196046.3598462725,1309618.9868935249,1138060.9289659138,1197088.0265129423,1167405.7830231437,1153340.910079541,1169766.3984253043,1198840.310487316,1159557.0717805107,1173804.6737252618,1161190.299240218,1158558.9786244172,1157128.088714683,1158151.662876577],\"yaxis\":\"y\",\"type\":\"scatter\"}],                        {\"template\":{\"data\":{\"histogram2dcontour\":[{\"type\":\"histogram2dcontour\",\"colorbar\":{\"outlinewidth\":0,\"ticks\":\"\"},\"colorscale\":[[0.0,\"#0d0887\"],[0.1111111111111111,\"#46039f\"],[0.2222222222222222,\"#7201a8\"],[0.3333333333333333,\"#9c179e\"],[0.4444444444444444,\"#bd3786\"],[0.5555555555555556,\"#d8576b\"],[0.6666666666666666,\"#ed7953\"],[0.7777777777777778,\"#fb9f3a\"],[0.8888888888888888,\"#fdca26\"],[1.0,\"#f0f921\"]]}],\"choropleth\":[{\"type\":\"choropleth\",\"colorbar\":{\"outlinewidth\":0,\"ticks\":\"\"}}],\"histogram2d\":[{\"type\":\"histogram2d\",\"colorbar\":{\"outlinewidth\":0,\"ticks\":\"\"},\"colorscale\":[[0.0,\"#0d0887\"],[0.1111111111111111,\"#46039f\"],[0.2222222222222222,\"#7201a8\"],[0.3333333333333333,\"#9c179e\"],[0.4444444444444444,\"#bd3786\"],[0.5555555555555556,\"#d8576b\"],[0.6666666666666666,\"#ed7953\"],[0.7777777777777778,\"#fb9f3a\"],[0.8888888888888888,\"#fdca26\"],[1.0,\"#f0f921\"]]}],\"heatmap\":[{\"type\":\"heatmap\",\"colorbar\":{\"outlinewidth\":0,\"ticks\":\"\"},\"colorscale\":[[0.0,\"#0d0887\"],[0.1111111111111111,\"#46039f\"],[0.2222222222222222,\"#7201a8\"],[0.3333333333333333,\"#9c179e\"],[0.4444444444444444,\"#bd3786\"],[0.5555555555555556,\"#d8576b\"],[0.6666666666666666,\"#ed7953\"],[0.7777777777777778,\"#fb9f3a\"],[0.8888888888888888,\"#fdca26\"],[1.0,\"#f0f921\"]]}],\"heatmapgl\":[{\"type\":\"heatmapgl\",\"colorbar\":{\"outlinewidth\":0,\"ticks\":\"\"},\"colorscale\":[[0.0,\"#0d0887\"],[0.1111111111111111,\"#46039f\"],[0.2222222222222222,\"#7201a8\"],[0.3333333333333333,\"#9c179e\"],[0.4444444444444444,\"#bd3786\"],[0.5555555555555556,\"#d8576b\"],[0.6666666666666666,\"#ed7953\"],[0.7777777777777778,\"#fb9f3a\"],[0.8888888888888888,\"#fdca26\"],[1.0,\"#f0f921\"]]}],\"contourcarpet\":[{\"type\":\"contourcarpet\",\"colorbar\":{\"outlinewidth\":0,\"ticks\":\"\"}}],\"contour\":[{\"type\":\"contour\",\"colorbar\":{\"outlinewidth\":0,\"ticks\":\"\"},\"colorscale\":[[0.0,\"#0d0887\"],[0.1111111111111111,\"#46039f\"],[0.2222222222222222,\"#7201a8\"],[0.3333333333333333,\"#9c179e\"],[0.4444444444444444,\"#bd3786\"],[0.5555555555555556,\"#d8576b\"],[0.6666666666666666,\"#ed7953\"],[0.7777777777777778,\"#fb9f3a\"],[0.8888888888888888,\"#fdca26\"],[1.0,\"#f0f921\"]]}],\"surface\":[{\"type\":\"surface\",\"colorbar\":{\"outlinewidth\":0,\"ticks\":\"\"},\"colorscale\":[[0.0,\"#0d0887\"],[0.1111111111111111,\"#46039f\"],[0.2222222222222222,\"#7201a8\"],[0.3333333333333333,\"#9c179e\"],[0.4444444444444444,\"#bd3786\"],[0.5555555555555556,\"#d8576b\"],[0.6666666666666666,\"#ed7953\"],[0.7777777777777778,\"#fb9f3a\"],[0.8888888888888888,\"#fdca26\"],[1.0,\"#f0f921\"]]}],\"mesh3d\":[{\"type\":\"mesh3d\",\"colorbar\":{\"outlinewidth\":0,\"ticks\":\"\"}}],\"scatter\":[{\"fillpattern\":{\"fillmode\":\"overlay\",\"size\":10,\"solidity\":0.2},\"type\":\"scatter\"}],\"parcoords\":[{\"type\":\"parcoords\",\"line\":{\"colorbar\":{\"outlinewidth\":0,\"ticks\":\"\"}}}],\"scatterpolargl\":[{\"type\":\"scatterpolargl\",\"marker\":{\"colorbar\":{\"outlinewidth\":0,\"ticks\":\"\"}}}],\"bar\":[{\"error_x\":{\"color\":\"#2a3f5f\"},\"error_y\":{\"color\":\"#2a3f5f\"},\"marker\":{\"line\":{\"color\":\"#E5ECF6\",\"width\":0.5},\"pattern\":{\"fillmode\":\"overlay\",\"size\":10,\"solidity\":0.2}},\"type\":\"bar\"}],\"scattergeo\":[{\"type\":\"scattergeo\",\"marker\":{\"colorbar\":{\"outlinewidth\":0,\"ticks\":\"\"}}}],\"scatterpolar\":[{\"type\":\"scatterpolar\",\"marker\":{\"colorbar\":{\"outlinewidth\":0,\"ticks\":\"\"}}}],\"histogram\":[{\"marker\":{\"pattern\":{\"fillmode\":\"overlay\",\"size\":10,\"solidity\":0.2}},\"type\":\"histogram\"}],\"scattergl\":[{\"type\":\"scattergl\",\"marker\":{\"colorbar\":{\"outlinewidth\":0,\"ticks\":\"\"}}}],\"scatter3d\":[{\"type\":\"scatter3d\",\"line\":{\"colorbar\":{\"outlinewidth\":0,\"ticks\":\"\"}},\"marker\":{\"colorbar\":{\"outlinewidth\":0,\"ticks\":\"\"}}}],\"scattermapbox\":[{\"type\":\"scattermapbox\",\"marker\":{\"colorbar\":{\"outlinewidth\":0,\"ticks\":\"\"}}}],\"scatterternary\":[{\"type\":\"scatterternary\",\"marker\":{\"colorbar\":{\"outlinewidth\":0,\"ticks\":\"\"}}}],\"scattercarpet\":[{\"type\":\"scattercarpet\",\"marker\":{\"colorbar\":{\"outlinewidth\":0,\"ticks\":\"\"}}}],\"carpet\":[{\"aaxis\":{\"endlinecolor\":\"#2a3f5f\",\"gridcolor\":\"white\",\"linecolor\":\"white\",\"minorgridcolor\":\"white\",\"startlinecolor\":\"#2a3f5f\"},\"baxis\":{\"endlinecolor\":\"#2a3f5f\",\"gridcolor\":\"white\",\"linecolor\":\"white\",\"minorgridcolor\":\"white\",\"startlinecolor\":\"#2a3f5f\"},\"type\":\"carpet\"}],\"table\":[{\"cells\":{\"fill\":{\"color\":\"#EBF0F8\"},\"line\":{\"color\":\"white\"}},\"header\":{\"fill\":{\"color\":\"#C8D4E3\"},\"line\":{\"color\":\"white\"}},\"type\":\"table\"}],\"barpolar\":[{\"marker\":{\"line\":{\"color\":\"#E5ECF6\",\"width\":0.5},\"pattern\":{\"fillmode\":\"overlay\",\"size\":10,\"solidity\":0.2}},\"type\":\"barpolar\"}],\"pie\":[{\"automargin\":true,\"type\":\"pie\"}]},\"layout\":{\"autotypenumbers\":\"strict\",\"colorway\":[\"#636efa\",\"#EF553B\",\"#00cc96\",\"#ab63fa\",\"#FFA15A\",\"#19d3f3\",\"#FF6692\",\"#B6E880\",\"#FF97FF\",\"#FECB52\"],\"font\":{\"color\":\"#2a3f5f\"},\"hovermode\":\"closest\",\"hoverlabel\":{\"align\":\"left\"},\"paper_bgcolor\":\"white\",\"plot_bgcolor\":\"#E5ECF6\",\"polar\":{\"bgcolor\":\"#E5ECF6\",\"angularaxis\":{\"gridcolor\":\"white\",\"linecolor\":\"white\",\"ticks\":\"\"},\"radialaxis\":{\"gridcolor\":\"white\",\"linecolor\":\"white\",\"ticks\":\"\"}},\"ternary\":{\"bgcolor\":\"#E5ECF6\",\"aaxis\":{\"gridcolor\":\"white\",\"linecolor\":\"white\",\"ticks\":\"\"},\"baxis\":{\"gridcolor\":\"white\",\"linecolor\":\"white\",\"ticks\":\"\"},\"caxis\":{\"gridcolor\":\"white\",\"linecolor\":\"white\",\"ticks\":\"\"}},\"coloraxis\":{\"colorbar\":{\"outlinewidth\":0,\"ticks\":\"\"}},\"colorscale\":{\"sequential\":[[0.0,\"#0d0887\"],[0.1111111111111111,\"#46039f\"],[0.2222222222222222,\"#7201a8\"],[0.3333333333333333,\"#9c179e\"],[0.4444444444444444,\"#bd3786\"],[0.5555555555555556,\"#d8576b\"],[0.6666666666666666,\"#ed7953\"],[0.7777777777777778,\"#fb9f3a\"],[0.8888888888888888,\"#fdca26\"],[1.0,\"#f0f921\"]],\"sequentialminus\":[[0.0,\"#0d0887\"],[0.1111111111111111,\"#46039f\"],[0.2222222222222222,\"#7201a8\"],[0.3333333333333333,\"#9c179e\"],[0.4444444444444444,\"#bd3786\"],[0.5555555555555556,\"#d8576b\"],[0.6666666666666666,\"#ed7953\"],[0.7777777777777778,\"#fb9f3a\"],[0.8888888888888888,\"#fdca26\"],[1.0,\"#f0f921\"]],\"diverging\":[[0,\"#8e0152\"],[0.1,\"#c51b7d\"],[0.2,\"#de77ae\"],[0.3,\"#f1b6da\"],[0.4,\"#fde0ef\"],[0.5,\"#f7f7f7\"],[0.6,\"#e6f5d0\"],[0.7,\"#b8e186\"],[0.8,\"#7fbc41\"],[0.9,\"#4d9221\"],[1,\"#276419\"]]},\"xaxis\":{\"gridcolor\":\"white\",\"linecolor\":\"white\",\"ticks\":\"\",\"title\":{\"standoff\":15},\"zerolinecolor\":\"white\",\"automargin\":true,\"zerolinewidth\":2},\"yaxis\":{\"gridcolor\":\"white\",\"linecolor\":\"white\",\"ticks\":\"\",\"title\":{\"standoff\":15},\"zerolinecolor\":\"white\",\"automargin\":true,\"zerolinewidth\":2},\"scene\":{\"xaxis\":{\"backgroundcolor\":\"#E5ECF6\",\"gridcolor\":\"white\",\"linecolor\":\"white\",\"showbackground\":true,\"ticks\":\"\",\"zerolinecolor\":\"white\",\"gridwidth\":2},\"yaxis\":{\"backgroundcolor\":\"#E5ECF6\",\"gridcolor\":\"white\",\"linecolor\":\"white\",\"showbackground\":true,\"ticks\":\"\",\"zerolinecolor\":\"white\",\"gridwidth\":2},\"zaxis\":{\"backgroundcolor\":\"#E5ECF6\",\"gridcolor\":\"white\",\"linecolor\":\"white\",\"showbackground\":true,\"ticks\":\"\",\"zerolinecolor\":\"white\",\"gridwidth\":2}},\"shapedefaults\":{\"line\":{\"color\":\"#2a3f5f\"}},\"annotationdefaults\":{\"arrowcolor\":\"#2a3f5f\",\"arrowhead\":0,\"arrowwidth\":1},\"geo\":{\"bgcolor\":\"white\",\"landcolor\":\"#E5ECF6\",\"subunitcolor\":\"white\",\"showland\":true,\"showlakes\":true,\"lakecolor\":\"white\"},\"title\":{\"x\":0.05},\"mapbox\":{\"style\":\"light\"}}},\"xaxis\":{\"anchor\":\"y\",\"domain\":[0.0,1.0],\"title\":{\"text\":\"Number of Samples\"}},\"yaxis\":{\"anchor\":\"x\",\"domain\":[0.0,1.0],\"title\":{\"text\":\"Objective Value [Euro]\"}},\"legend\":{\"tracegroupgap\":0},\"title\":{\"text\":\"Convergence of SAA\"}},                        {\"responsive\": true}                    ).then(function(){\n",
       "                            \n",
       "var gd = document.getElementById('74fdf180-711d-4e56-b843-85b34a43e0b2');\n",
       "var x = new MutationObserver(function (mutations, observer) {{\n",
       "        var display = window.getComputedStyle(gd).display;\n",
       "        if (!display || display === 'none') {{\n",
       "            console.log([gd, 'removed!']);\n",
       "            Plotly.purge(gd);\n",
       "            observer.disconnect();\n",
       "        }}\n",
       "}});\n",
       "\n",
       "// Listen for the removal of the full notebook cells\n",
       "var notebookContainer = gd.closest('#notebook-container');\n",
       "if (notebookContainer) {{\n",
       "    x.observe(notebookContainer, {childList: true});\n",
       "}}\n",
       "\n",
       "// Listen for the clearing of the current output cell\n",
       "var outputEl = gd.closest('.output');\n",
       "if (outputEl) {{\n",
       "    x.observe(outputEl, {childList: true});\n",
       "}}\n",
       "\n",
       "                        })                };                });            </script>        </div>"
      ]
     },
     "metadata": {},
     "output_type": "display_data"
    }
   ],
   "source": [
    "plot_labels = {\n",
    "        'x': 'Number of Samples', \n",
    "        'y': 'Objective Value [Euro]'\n",
    "#         **{str(col): f\"CS {col}\" for col in columns}, #'Number of CS-SS Connections',\n",
    "#         \n",
    "    }\n",
    "fig = px.line(converge_Series, \n",
    "          x=converge_Series.index, \n",
    "          y=converge_Series, \n",
    "          title='Convergence of SAA',\n",
    "          labels = plot_labels\n",
    "\n",
    "     )\n",
    "\n",
    "fig.show()"
   ]
  },
  {
   "cell_type": "code",
   "execution_count": 53,
   "metadata": {
    "collapsed": true
   },
   "outputs": [
    {
     "name": "stdout",
     "output_type": "stream",
     "text": [
      "ERROR: evaluating object as numeric value: '2'.calA[137,peak]\n",
      "        (object: <class 'pyomo.core.base.param._ParamData'>)\n",
      "ERROR: evaluating object as numeric value: '2'.w_cs2poi[178,94,peak]\n",
      "        (object: <class 'pyomo.core.base.expression._GeneralExpressionData'>)\n"
     ]
    },
    {
     "ename": "KeyboardInterrupt",
     "evalue": "",
     "output_type": "error",
     "traceback": [
      "\u001b[1;31m---------------------------------------------------------------------------\u001b[0m",
      "\u001b[1;31mKeyboardInterrupt\u001b[0m                         Traceback (most recent call last)",
      "Input \u001b[1;32mIn [53]\u001b[0m, in \u001b[0;36m<cell line: 1>\u001b[1;34m()\u001b[0m\n\u001b[1;32m----> 1\u001b[0m \u001b[43mcsap_ef\u001b[49m\u001b[38;5;241;43m.\u001b[39;49m\u001b[43mwrite_tree_solution\u001b[49m\u001b[43m(\u001b[49m\u001b[38;5;124;43m'\u001b[39;49m\u001b[38;5;124;43mefsol\u001b[39;49m\u001b[38;5;124;43m'\u001b[39;49m\u001b[43m)\u001b[49m\n",
      "File \u001b[1;32m~\\Anaconda3\\envs\\OptPyomoSP\\lib\\site-packages\\mpisppy\\spbase.py:640\u001b[0m, in \u001b[0;36mSPBase.write_tree_solution\u001b[1;34m(self, directory_name, scenario_tree_solution_writer)\u001b[0m\n\u001b[0;32m    638\u001b[0m \u001b[38;5;28mself\u001b[39m\u001b[38;5;241m.\u001b[39mmpicomm\u001b[38;5;241m.\u001b[39mBarrier()\n\u001b[0;32m    639\u001b[0m \u001b[38;5;28;01mfor\u001b[39;00m scenario_name, scenario \u001b[38;5;129;01min\u001b[39;00m \u001b[38;5;28mself\u001b[39m\u001b[38;5;241m.\u001b[39mlocal_scenarios\u001b[38;5;241m.\u001b[39mitems():\n\u001b[1;32m--> 640\u001b[0m     \u001b[43mscenario_tree_solution_writer\u001b[49m\u001b[43m(\u001b[49m\u001b[43mdirectory_name\u001b[49m\u001b[43m,\u001b[49m\u001b[43m \u001b[49m\u001b[43mscenario_name\u001b[49m\u001b[43m,\u001b[49m\u001b[43m \u001b[49m\u001b[43mscenario\u001b[49m\u001b[43m,\u001b[49m\u001b[43m \u001b[49m\u001b[38;5;28;43mself\u001b[39;49m\u001b[38;5;241;43m.\u001b[39;49m\u001b[43mbundling\u001b[49m\u001b[43m)\u001b[49m\n",
      "File \u001b[1;32m~\\Anaconda3\\envs\\OptPyomoSP\\lib\\site-packages\\mpisppy\\utils\\sputils.py:68\u001b[0m, in \u001b[0;36mscenario_tree_solution_writer\u001b[1;34m(directory_name, scenario_name, scenario, bundling)\u001b[0m\n\u001b[0;32m     66\u001b[0m     \u001b[38;5;28;01massert\u001b[39;00m dot_index \u001b[38;5;241m>\u001b[39m\u001b[38;5;241m=\u001b[39m \u001b[38;5;241m0\u001b[39m\n\u001b[0;32m     67\u001b[0m     var_name \u001b[38;5;241m=\u001b[39m var_name[(dot_index\u001b[38;5;241m+\u001b[39m\u001b[38;5;241m1\u001b[39m):]\n\u001b[1;32m---> 68\u001b[0m f\u001b[38;5;241m.\u001b[39mwrite(\u001b[38;5;124mf\u001b[39m\u001b[38;5;124m\"\u001b[39m\u001b[38;5;132;01m{\u001b[39;00mvar_name\u001b[38;5;132;01m}\u001b[39;00m\u001b[38;5;124m,\u001b[39m\u001b[38;5;132;01m{\u001b[39;00mpyo\u001b[38;5;241m.\u001b[39mvalue(var)\u001b[38;5;132;01m}\u001b[39;00m\u001b[38;5;130;01m\\n\u001b[39;00m\u001b[38;5;124m\"\u001b[39m)\n",
      "File \u001b[1;32mpyomo\\core\\expr\\numvalue.pyx:156\u001b[0m, in \u001b[0;36mpyomo.core.expr.numvalue.value\u001b[1;34m()\u001b[0m\n",
      "File \u001b[1;32mpyomo\\core\\expr\\numvalue.pyx:141\u001b[0m, in \u001b[0;36mpyomo.core.expr.numvalue.value\u001b[1;34m()\u001b[0m\n",
      "File \u001b[1;32m~\\Anaconda3\\envs\\OptPyomoSP\\lib\\site-packages\\pyomo\\core\\base\\expression.py:56\u001b[0m, in \u001b[0;36m_ExpressionData.__call__\u001b[1;34m(self, exception)\u001b[0m\n\u001b[0;32m     54\u001b[0m \u001b[38;5;28;01mif\u001b[39;00m \u001b[38;5;28mself\u001b[39m\u001b[38;5;241m.\u001b[39mexpr \u001b[38;5;129;01mis\u001b[39;00m \u001b[38;5;28;01mNone\u001b[39;00m:\n\u001b[0;32m     55\u001b[0m     \u001b[38;5;28;01mreturn\u001b[39;00m \u001b[38;5;28;01mNone\u001b[39;00m\n\u001b[1;32m---> 56\u001b[0m \u001b[38;5;28;01mreturn\u001b[39;00m \u001b[38;5;28;43mself\u001b[39;49m\u001b[38;5;241;43m.\u001b[39;49m\u001b[43mexpr\u001b[49m\u001b[43m(\u001b[49m\u001b[43mexception\u001b[49m\u001b[38;5;241;43m=\u001b[39;49m\u001b[43mexception\u001b[49m\u001b[43m)\u001b[49m\n",
      "File \u001b[1;32mpyomo\\core\\expr\\numeric_expr.pyx:210\u001b[0m, in \u001b[0;36mpyomo.core.expr.numeric_expr.ExpressionBase.__call__\u001b[1;34m()\u001b[0m\n",
      "File \u001b[1;32m~\\Anaconda3\\envs\\OptPyomoSP\\lib\\site-packages\\pyomo\\core\\expr\\visitor.py:1206\u001b[0m, in \u001b[0;36mevaluate_expression\u001b[1;34m(exp, exception, constant)\u001b[0m\n\u001b[0;32m   1203\u001b[0m         clear_active \u001b[38;5;241m=\u001b[39m \u001b[38;5;28;01mTrue\u001b[39;00m\n\u001b[0;32m   1205\u001b[0m \u001b[38;5;28;01mtry\u001b[39;00m:\n\u001b[1;32m-> 1206\u001b[0m     \u001b[38;5;28;01mreturn\u001b[39;00m \u001b[43mvisitor\u001b[49m\u001b[38;5;241;43m.\u001b[39;49m\u001b[43mdfs_postorder_stack\u001b[49m\u001b[43m(\u001b[49m\u001b[43mexp\u001b[49m\u001b[43m)\u001b[49m\n\u001b[0;32m   1207\u001b[0m \u001b[38;5;28;01mexcept\u001b[39;00m ( TemplateExpressionError, \u001b[38;5;167;01mValueError\u001b[39;00m, \u001b[38;5;167;01mTypeError\u001b[39;00m,\n\u001b[0;32m   1208\u001b[0m          NonConstantExpressionError, FixedExpressionError ):\n\u001b[0;32m   1209\u001b[0m     \u001b[38;5;66;03m# Errors that we want to be able to suppress:\u001b[39;00m\n\u001b[1;32m   (...)\u001b[0m\n\u001b[0;32m   1217\u001b[0m     \u001b[38;5;66;03m#   TypeError: This can be raised in Python3 when evaluating a\u001b[39;00m\n\u001b[0;32m   1218\u001b[0m     \u001b[38;5;66;03m#      operation returns a complex number (e.g., sqrt(-1))\u001b[39;00m\n\u001b[0;32m   1219\u001b[0m     \u001b[38;5;28;01mif\u001b[39;00m exception:\n",
      "File \u001b[1;32m~\\Anaconda3\\envs\\OptPyomoSP\\lib\\site-packages\\pyomo\\core\\expr\\visitor.py:880\u001b[0m, in \u001b[0;36mExpressionValueVisitor.dfs_postorder_stack\u001b[1;34m(self, node)\u001b[0m\n\u001b[0;32m    878\u001b[0m _sub \u001b[38;5;241m=\u001b[39m _argList[_idx]\n\u001b[0;32m    879\u001b[0m _idx \u001b[38;5;241m+\u001b[39m\u001b[38;5;241m=\u001b[39m \u001b[38;5;241m1\u001b[39m\n\u001b[1;32m--> 880\u001b[0m flag, value \u001b[38;5;241m=\u001b[39m \u001b[38;5;28;43mself\u001b[39;49m\u001b[38;5;241;43m.\u001b[39;49m\u001b[43mvisiting_potential_leaf\u001b[49m\u001b[43m(\u001b[49m\u001b[43m_sub\u001b[49m\u001b[43m)\u001b[49m\n\u001b[0;32m    881\u001b[0m \u001b[38;5;28;01mif\u001b[39;00m flag:\n\u001b[0;32m    882\u001b[0m     _result\u001b[38;5;241m.\u001b[39mappend( value )\n",
      "File \u001b[1;32m~\\Anaconda3\\envs\\OptPyomoSP\\lib\\site-packages\\pyomo\\core\\expr\\visitor.py:1108\u001b[0m, in \u001b[0;36m_EvaluationVisitor.visiting_potential_leaf\u001b[1;34m(self, node)\u001b[0m\n\u001b[0;32m   1105\u001b[0m     \u001b[38;5;28;01mreturn\u001b[39;00m \u001b[38;5;28;01mFalse\u001b[39;00m, \u001b[38;5;28;01mNone\u001b[39;00m\n\u001b[0;32m   1107\u001b[0m \u001b[38;5;28;01mif\u001b[39;00m node\u001b[38;5;241m.\u001b[39mis_numeric_type():\n\u001b[1;32m-> 1108\u001b[0m     \u001b[38;5;28;01mreturn\u001b[39;00m \u001b[38;5;28;01mTrue\u001b[39;00m, \u001b[43mvalue\u001b[49m\u001b[43m(\u001b[49m\u001b[43mnode\u001b[49m\u001b[43m,\u001b[49m\u001b[43m \u001b[49m\u001b[43mexception\u001b[49m\u001b[38;5;241;43m=\u001b[39;49m\u001b[38;5;28;43mself\u001b[39;49m\u001b[38;5;241;43m.\u001b[39;49m\u001b[43mexception\u001b[49m\u001b[43m)\u001b[49m\n\u001b[0;32m   1109\u001b[0m \u001b[38;5;28;01melif\u001b[39;00m node\u001b[38;5;241m.\u001b[39mis_logical_type():\n\u001b[0;32m   1110\u001b[0m     \u001b[38;5;28;01mreturn\u001b[39;00m \u001b[38;5;28;01mTrue\u001b[39;00m, value(node, exception\u001b[38;5;241m=\u001b[39m\u001b[38;5;28mself\u001b[39m\u001b[38;5;241m.\u001b[39mexception)\n",
      "File \u001b[1;32mpyomo\\core\\expr\\numvalue.pyx:156\u001b[0m, in \u001b[0;36mpyomo.core.expr.numvalue.value\u001b[1;34m()\u001b[0m\n",
      "File \u001b[1;32mpyomo\\core\\expr\\numvalue.pyx:141\u001b[0m, in \u001b[0;36mpyomo.core.expr.numvalue.value\u001b[1;34m()\u001b[0m\n",
      "File \u001b[1;32m~\\Anaconda3\\envs\\OptPyomoSP\\lib\\site-packages\\pyomo\\core\\base\\param.py:193\u001b[0m, in \u001b[0;36m_ParamData.__call__\u001b[1;34m(self, exception)\u001b[0m\n\u001b[0;32m    190\u001b[0m         \u001b[38;5;28mself\u001b[39m\u001b[38;5;241m.\u001b[39m_value \u001b[38;5;241m=\u001b[39m old_value\n\u001b[0;32m    191\u001b[0m         \u001b[38;5;28;01mraise\u001b[39;00m\n\u001b[1;32m--> 193\u001b[0m \u001b[38;5;28;01mdef\u001b[39;00m \u001b[38;5;21m__call__\u001b[39m(\u001b[38;5;28mself\u001b[39m, exception\u001b[38;5;241m=\u001b[39m\u001b[38;5;28;01mTrue\u001b[39;00m):\n\u001b[0;32m    194\u001b[0m     \u001b[38;5;124;03m\"\"\"\u001b[39;00m\n\u001b[0;32m    195\u001b[0m \u001b[38;5;124;03m    Return the value of this object.\u001b[39;00m\n\u001b[0;32m    196\u001b[0m \u001b[38;5;124;03m    \"\"\"\u001b[39;00m\n\u001b[0;32m    197\u001b[0m     \u001b[38;5;28;01mif\u001b[39;00m \u001b[38;5;28mself\u001b[39m\u001b[38;5;241m.\u001b[39m_value \u001b[38;5;129;01mis\u001b[39;00m Param\u001b[38;5;241m.\u001b[39mNoValue:\n",
      "\u001b[1;31mKeyboardInterrupt\u001b[0m: "
     ]
    }
   ],
   "source": [
    "# Save solutions of all subscenario models to excel sheet. This can be very slow\n",
    "csap_ef.write_tree_solution('efsol.xlsx')"
   ]
  }
 ],
 "metadata": {
  "celltoolbar": "Slideshow",
  "kernelspec": {
   "display_name": "Python 3 (ipykernel)",
   "language": "python",
   "name": "python3"
  },
  "language_info": {
   "codemirror_mode": {
    "name": "ipython",
    "version": 3
   },
   "file_extension": ".py",
   "mimetype": "text/x-python",
   "name": "python",
   "nbconvert_exporter": "python",
   "pygments_lexer": "ipython3",
   "version": "3.8.13"
  },
  "vscode": {
   "interpreter": {
    "hash": "e9c5a50180563c1bf45e454503a103a5ea768905a924f83391f10e929339525b"
   }
  }
 },
 "nbformat": 4,
 "nbformat_minor": 2
}
